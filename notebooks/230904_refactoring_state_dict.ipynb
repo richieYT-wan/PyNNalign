{
 "cells": [
  {
   "cell_type": "code",
   "execution_count": 8,
   "id": "c55f2ab5-fbf6-4562-8854-560fc73d85fa",
   "metadata": {},
   "outputs": [
    {
     "name": "stdout",
     "output_type": "stream",
     "text": [
      "The autoreload extension is already loaded. To reload it, use:\n",
      "  %reload_ext autoreload\n"
     ]
    },
    {
     "data": {
      "image/png": "[encoded data removed]",
      "text/plain": [
       "<Figure size 1.8x1.8 with 1 Axes>"
      ]
     },
     "metadata": {},
     "output_type": "display_data"
    }
   ],
   "source": [
    "%load_ext autoreload\n",
    "%autoreload 2\n",
    "\n",
    "import pandas as pd\n",
    "import numpy as np\n",
    "import sklearn\n",
    "import matplotlib.pyplot as plt\n",
    "import matplotlib as mpl\n",
    "import seaborn as sns\n",
    "f,a = plt.subplots(1,1,figsize=(1e-2, 1e-2))\n",
    "mpl.rcParams['figure.dpi'] = 180\n",
    "sns.set_style('darkgrid')\n",
    "import os,sys\n",
    "module_path = os.path.abspath(os.path.join('..'))\n",
    "if module_path not in sys.path:\n",
    "    sys.path.append(module_path)\n",
    "import warnings\n",
    "warnings.filterwarnings(\"ignore\")\n",
    "\n",
    "from tqdm.auto import tqdm\n",
    "from datetime import datetime as dt\n",
    "from src.utils import mkdirs, convert_path, pkl_dump, pkl_load, display_side, add_median_labels, get_palette\n",
    "from src.data_processing import BL62_VALUES, BL62FREQ_VALUES, HLAS, AA_KEYS\n",
    "from src.metrics import get_nested_feature_importance, plot_feature_importance\n",
    "from src.models import *\n",
    "from src.datasets import NNAlignDataset, get_NNAlign_dataloader\n",
    "from src.torch_utils import save_checkpoint, load_checkpoint\n",
    "import torch\n",
    "from torch import nn\n",
    "from torch.nn import functional as F\n",
    "from torch import optim\n",
    "mpl.rcParams['figure.dpi'] = 180"
   ]
  },
  {
   "cell_type": "code",
   "execution_count": 36,
   "id": "f5913820-0225-4a35-ab51-9e7fc06f9e24",
   "metadata": {},
   "outputs": [
    {
     "name": "stdout",
     "output_type": "stream",
     "text": [
      "Index(['Unnamed: 0.2', 'Unnamed: 0.1', 'Unnamed: 0', 'HLA', 'agg_label',\n",
      "       'fold', 'Peptide', 'wild_type', 'icore_mut', 'core_mut', 'len',\n",
      "       'EL_rank_mut', 'EL_rank_wt', 'trueHLA_EL_rank', 'icore_mut_start',\n",
      "       'len_icore_mut', 'icore_wt_aligned', 'icore_dissimilarity_score',\n",
      "       'icore_len_mut', 'icore_len_wt', 'icore_anchor',\n",
      "       'icore_mutation_position', 'icore_anchor_mutation', 'icore_mut_score',\n",
      "       'icore_blsm_mut_score', 'aliphatic_index', 'boman', 'hydrophobicity',\n",
      "       'isoelectric_point', 'VHSE1', 'VHSE3', 'VHSE7', 'VHSE8', 'seq_id',\n",
      "       'core_wt_aligned', 'EL_rank_wt_aligned', 'ratio_rank',\n",
      "       'foreignness_score', 'fullpep_vs_icore_rank', 'icore_improves_0_1',\n",
      "       'mixed_input_0_1', 'mixed_rank_0_1', 'icore_improves_binder_0_1',\n",
      "       'mixed_input_binder_0_1', 'mixed_rank_binder_0_1',\n",
      "       'icore_improves_0_25', 'mixed_input_0_25', 'mixed_rank_0_25',\n",
      "       'icore_improves_binder_0_25', 'mixed_input_binder_0_25',\n",
      "       'mixed_rank_binder_0_25', 'icore_improves_0_5', 'mixed_input_0_5',\n",
      "       'mixed_rank_0_5', 'icore_improves_binder_0_5', 'mixed_input_binder_0_5',\n",
      "       'mixed_rank_binder_0_5', 'icore_improves_0_75', 'mixed_input_0_75',\n",
      "       'mixed_rank_0_75', 'icore_improves_binder_0_75',\n",
      "       'mixed_input_binder_0_75', 'mixed_rank_binder_0_75', 'icore_improves_1',\n",
      "       'mixed_input_1', 'mixed_rank_1', 'icore_improves_binder_1',\n",
      "       'mixed_input_binder_1', 'mixed_rank_binder_1', 'expanded_input'],\n",
      "      dtype='object')\n"
     ]
    },
    {
     "data": {
      "text/plain": [
       "NNAlignEF(\n",
       "  (nnalign_model): NNAlign(\n",
       "    (nnalign): NNAlignSinglePass(\n",
       "      (in_layer): Linear(in_features=100, out_features=50, bias=True)\n",
       "      (out_layer): Linear(in_features=50, out_features=1, bias=True)\n",
       "      (dropout): Dropout(p=0.0, inplace=False)\n",
       "      (act): SELU()\n",
       "    )\n",
       "    (standardizer): StandardizerSequence()\n",
       "  )\n",
       "  (ef_standardizer): StandardizerFeatures()\n",
       "  (ef_inlayer): Linear(in_features=6, out_features=5, bias=True)\n",
       "  (ef_outlayer): Linear(in_features=5, out_features=1, bias=True)\n",
       "  (ef_act): SELU()\n",
       "  (ef_dropout): Dropout(p=0.0, inplace=False)\n",
       ")"
      ]
     },
     "execution_count": 36,
     "metadata": {},
     "output_type": "execute_result"
    }
   ],
   "source": [
    "from src.models import * \n",
    "std = StandardizerSequence()\n",
    "nnmodel = NNAlignEF(50, 5, n_extrafeatures=5)\n",
    "df = pd.read_csv('../data/aligned_icore/230418_cedar_aligned.csv')\n",
    "print(df.columns)\n",
    "nnmodel"
   ]
  },
  {
   "cell_type": "code",
   "execution_count": 37,
   "id": "ce5781fa-7f08-4c76-9132-8615d0dd4762",
   "metadata": {},
   "outputs": [
    {
     "name": "stdout",
     "output_type": "stream",
     "text": [
      "\n",
      "Before fitting std\n",
      "\n",
      "nnalign tensor([-0.0398, -0.0830,  0.0809], grad_fn=<SliceBackward0>) tensor([0., 0., 0.])\n",
      "extraF tensor([0., 0., 0.]) tensor([-0.0381, -0.3159, -0.2422], grad_fn=<SliceBackward0>)\n",
      "\\After fitting std/Saving\n",
      "\n",
      "nnalign tensor([-0.0398, -0.0830,  0.0809], grad_fn=<SliceBackward0>) tensor([ 0.5296, -1.7889, -1.3327])\n",
      "extraF tensor([ 6.6918,  0.1848, -0.2361]) tensor([-0.0381, -0.3159, -0.2422], grad_fn=<SliceBackward0>)\n"
     ]
    }
   ],
   "source": [
    "loader, dataset = get_NNAlign_dataloader(df, max_len=12, window_size=5, encoding='BL50LO', feature_cols = ['isoelectric_point', 'VHSE1', 'VHSE3', 'VHSE7', 'VHSE8'], return_dataset=True)\n",
    "\n",
    "torch.manual_seed(0)\n",
    "nnmodel = NNAlignEF(50, 5, n_extrafeatures=5)\n",
    "print('\\nBefore fitting std\\n')\n",
    "print('nnalign', nnmodel.nnalign_model.nnalign.in_layer.weight[0][:3], nnmodel.nnalign_model.standardizer.mu[:3])\n",
    "print('extraF', nnmodel.ef_standardizer.mu[:3], nnmodel.ef_inlayer.weight[0][:3])\n",
    "x_tensor, x_mask, x_features = dataset.x_tensor[:100], dataset.x_mask[:100], dataset.x_features[:100]\n",
    "nnmodel.fit_standardizer(x_tensor, x_mask, x_features)\n",
    "print('\\After fitting std/Saving\\n')\n",
    "print('nnalign', nnmodel.nnalign_model.nnalign.in_layer.weight[0][:3], nnmodel.nnalign_model.standardizer.mu[:3])\n",
    "print('extraF', nnmodel.ef_standardizer.mu[:3], nnmodel.ef_inlayer.weight[0][:3])\n",
    "save_checkpoint(nnmodel, './test_refactor_statedict.pt')\n",
    "\n",
    "torch.manual_seed(13)\n",
    "nnmodel = NNAlignEF(50, 5, n_extrafeatures=5)\n",
    "print('\\nNew model before load\\n')\n",
    "print('nnalign', nnmodel.nnalign_model.nnalign.in_layer.weight[0][:3], nnmodel.nnalign_model.standardizer.mu[:3])\n",
    "print('extraF', nnmodel.ef_standardizer.mu[:3], nnmodel.ef_inlayer.weight[0][:3])\n",
    "nnmodel = t"
   ]
  },
  {
   "cell_type": "code",
   "execution_count": null,
   "id": "032a5201-8560-4df0-a0f5-8e76985852fc",
   "metadata": {},
   "outputs": [],
   "source": []
  }
 ],
 "metadata": {
  "kernelspec": {
   "display_name": "Python [conda env:pynn] *",
   "language": "python",
   "name": "conda-env-pynn-py"
  },
  "language_info": {
   "codemirror_mode": {
    "name": "ipython",
    "version": 3
   },
   "file_extension": ".py",
   "mimetype": "text/x-python",
   "name": "python",
   "nbconvert_exporter": "python",
   "pygments_lexer": "ipython3",
   "version": "3.11.4"
  }
 },
 "nbformat": 4,
 "nbformat_minor": 5
}
