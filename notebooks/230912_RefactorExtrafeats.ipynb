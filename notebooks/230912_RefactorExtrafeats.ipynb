{
 "cells": [
  {
   "cell_type": "code",
   "execution_count": 1,
   "id": "0983bb49-c752-4c87-9727-b40e315b297b",
   "metadata": {},
   "outputs": [
    {
     "data": {
      "image/png": "[encoded data removed]",
      "text/plain": [
       "<Figure size 1x1 with 1 Axes>"
      ]
     },
     "metadata": {},
     "output_type": "display_data"
    }
   ],
   "source": [
    "%load_ext autoreload\n",
    "%autoreload 2\n",
    "\n",
    "import pandas as pd\n",
    "import numpy as np\n",
    "import sklearn\n",
    "import matplotlib.pyplot as plt\n",
    "import matplotlib as mpl\n",
    "import seaborn as sns\n",
    "f,a = plt.subplots(1,1,figsize=(1e-2, 1e-2))\n",
    "mpl.rcParams['figure.dpi'] = 180\n",
    "sns.set_style('darkgrid')\n",
    "import os,sys\n",
    "module_path = os.path.abspath(os.path.join('..'))\n",
    "if module_path not in sys.path:\n",
    "    sys.path.append(module_path)\n",
    "import warnings\n",
    "warnings.filterwarnings(\"ignore\")\n",
    "\n",
    "from tqdm.auto import tqdm\n",
    "from datetime import datetime as dt\n",
    "from src.utils import mkdirs, convert_path, pkl_dump, pkl_load, display_side, add_median_labels, get_palette\n",
    "from src.data_processing import BL62_VALUES, BL62FREQ_VALUES, HLAS, AA_KEYS\n",
    "from src.metrics import get_nested_feature_importance, plot_feature_importance\n",
    "from src.models import *\n",
    "from src.datasets import NNAlignDataset, get_NNAlign_dataloader\n",
    "from src.torch_utils import save_checkpoint, load_checkpoint\n",
    "import torch\n",
    "from torch import nn\n",
    "from torch.nn import functional as F\n",
    "from torch import optim\n",
    "mpl.rcParams['figure.dpi'] = 180"
   ]
  },
  {
   "cell_type": "code",
   "execution_count": 3,
   "id": "b703a009-04e5-4fb8-90d6-841b91052889",
   "metadata": {
    "scrolled": true
   },
   "outputs": [
    {
     "data": {
      "text/html": [
       "<div>\n",
       "<style scoped>\n",
       "    .dataframe tbody tr th:only-of-type {\n",
       "        vertical-align: middle;\n",
       "    }\n",
       "\n",
       "    .dataframe tbody tr th {\n",
       "        vertical-align: top;\n",
       "    }\n",
       "\n",
       "    .dataframe thead th {\n",
       "        text-align: right;\n",
       "    }\n",
       "</style>\n",
       "<table border=\"1\" class=\"dataframe\">\n",
       "  <thead>\n",
       "    <tr style=\"text-align: right;\">\n",
       "      <th></th>\n",
       "      <th>Unnamed: 0.2</th>\n",
       "      <th>Unnamed: 0.1</th>\n",
       "      <th>Unnamed: 0</th>\n",
       "      <th>HLA</th>\n",
       "      <th>agg_label</th>\n",
       "      <th>fold</th>\n",
       "      <th>Peptide</th>\n",
       "      <th>wild_type</th>\n",
       "      <th>icore_mut</th>\n",
       "      <th>core_mut</th>\n",
       "      <th>...</th>\n",
       "      <th>icore_improves_binder_0_75</th>\n",
       "      <th>mixed_input_binder_0_75</th>\n",
       "      <th>mixed_rank_binder_0_75</th>\n",
       "      <th>icore_improves_1</th>\n",
       "      <th>mixed_input_1</th>\n",
       "      <th>mixed_rank_1</th>\n",
       "      <th>icore_improves_binder_1</th>\n",
       "      <th>mixed_input_binder_1</th>\n",
       "      <th>mixed_rank_binder_1</th>\n",
       "      <th>expanded_input</th>\n",
       "    </tr>\n",
       "  </thead>\n",
       "  <tbody>\n",
       "    <tr>\n",
       "      <th>0</th>\n",
       "      <td>0</td>\n",
       "      <td>0</td>\n",
       "      <td>0</td>\n",
       "      <td>HLA-B0702</td>\n",
       "      <td>0</td>\n",
       "      <td>6</td>\n",
       "      <td>AAAAAAQQIQV</td>\n",
       "      <td>AAAAAAQQLQV</td>\n",
       "      <td>AAAAAAQQI</td>\n",
       "      <td>AAAAAAQQI</td>\n",
       "      <td>...</td>\n",
       "      <td>False</td>\n",
       "      <td>AAAAAAQQIQV</td>\n",
       "      <td>26.7692</td>\n",
       "      <td>True</td>\n",
       "      <td>AAAAAAQQI</td>\n",
       "      <td>3.9712</td>\n",
       "      <td>False</td>\n",
       "      <td>AAAAAAQQIQV</td>\n",
       "      <td>26.7692</td>\n",
       "      <td>AAAAAAQQI</td>\n",
       "    </tr>\n",
       "    <tr>\n",
       "      <th>1</th>\n",
       "      <td>1</td>\n",
       "      <td>1</td>\n",
       "      <td>1</td>\n",
       "      <td>HLA-B0702</td>\n",
       "      <td>0</td>\n",
       "      <td>6</td>\n",
       "      <td>AAAAQQIQV</td>\n",
       "      <td>AAAAQQLQV</td>\n",
       "      <td>AAAAQQIQV</td>\n",
       "      <td>AAAAQQIQV</td>\n",
       "      <td>...</td>\n",
       "      <td>False</td>\n",
       "      <td>AAAAQQIQV</td>\n",
       "      <td>4.9092</td>\n",
       "      <td>False</td>\n",
       "      <td>AAAAQQIQV</td>\n",
       "      <td>4.9092</td>\n",
       "      <td>False</td>\n",
       "      <td>AAAAQQIQV</td>\n",
       "      <td>4.9092</td>\n",
       "      <td>AAAAQQIQV</td>\n",
       "    </tr>\n",
       "    <tr>\n",
       "      <th>2</th>\n",
       "      <td>2</td>\n",
       "      <td>2</td>\n",
       "      <td>2</td>\n",
       "      <td>HLA-A0201</td>\n",
       "      <td>0</td>\n",
       "      <td>6</td>\n",
       "      <td>AAAAQQIQV</td>\n",
       "      <td>AAAAQQLQV</td>\n",
       "      <td>AAAAQQIQV</td>\n",
       "      <td>AAAAQQIQV</td>\n",
       "      <td>...</td>\n",
       "      <td>False</td>\n",
       "      <td>AAAAQQIQV</td>\n",
       "      <td>1.9555</td>\n",
       "      <td>False</td>\n",
       "      <td>AAAAQQIQV</td>\n",
       "      <td>1.9555</td>\n",
       "      <td>False</td>\n",
       "      <td>AAAAQQIQV</td>\n",
       "      <td>1.9555</td>\n",
       "      <td>AAAAQQIQV</td>\n",
       "    </tr>\n",
       "    <tr>\n",
       "      <th>3</th>\n",
       "      <td>3</td>\n",
       "      <td>3</td>\n",
       "      <td>3</td>\n",
       "      <td>HLA-A1101</td>\n",
       "      <td>0</td>\n",
       "      <td>9</td>\n",
       "      <td>AAHFTVLLY</td>\n",
       "      <td>AAHFTALLY</td>\n",
       "      <td>AAHFTVLLY</td>\n",
       "      <td>AAHFTVLLY</td>\n",
       "      <td>...</td>\n",
       "      <td>False</td>\n",
       "      <td>AAHFTVLLY</td>\n",
       "      <td>0.4196</td>\n",
       "      <td>False</td>\n",
       "      <td>AAHFTVLLY</td>\n",
       "      <td>0.4196</td>\n",
       "      <td>False</td>\n",
       "      <td>AAHFTVLLY</td>\n",
       "      <td>0.4196</td>\n",
       "      <td>AAHFTVLLY</td>\n",
       "    </tr>\n",
       "    <tr>\n",
       "      <th>4</th>\n",
       "      <td>4</td>\n",
       "      <td>4</td>\n",
       "      <td>4</td>\n",
       "      <td>HLA-C1203</td>\n",
       "      <td>0</td>\n",
       "      <td>6</td>\n",
       "      <td>AAIAASRSV</td>\n",
       "      <td>AAIAASRSA</td>\n",
       "      <td>AAIAASRSV</td>\n",
       "      <td>AAIAASRSV</td>\n",
       "      <td>...</td>\n",
       "      <td>False</td>\n",
       "      <td>AAIAASRSV</td>\n",
       "      <td>0.0591</td>\n",
       "      <td>False</td>\n",
       "      <td>AAIAASRSV</td>\n",
       "      <td>0.0591</td>\n",
       "      <td>False</td>\n",
       "      <td>AAIAASRSV</td>\n",
       "      <td>0.0591</td>\n",
       "      <td>AAIAASRSV</td>\n",
       "    </tr>\n",
       "  </tbody>\n",
       "</table>\n",
       "<p>5 rows × 70 columns</p>\n",
       "</div>"
      ],
      "text/plain": [
       "   Unnamed: 0.2  Unnamed: 0.1  Unnamed: 0        HLA  agg_label  fold  \\\n",
       "0             0             0           0  HLA-B0702          0     6   \n",
       "1             1             1           1  HLA-B0702          0     6   \n",
       "2             2             2           2  HLA-A0201          0     6   \n",
       "3             3             3           3  HLA-A1101          0     9   \n",
       "4             4             4           4  HLA-C1203          0     6   \n",
       "\n",
       "       Peptide    wild_type  icore_mut   core_mut  ...  \\\n",
       "0  AAAAAAQQIQV  AAAAAAQQLQV  AAAAAAQQI  AAAAAAQQI  ...   \n",
       "1    AAAAQQIQV    AAAAQQLQV  AAAAQQIQV  AAAAQQIQV  ...   \n",
       "2    AAAAQQIQV    AAAAQQLQV  AAAAQQIQV  AAAAQQIQV  ...   \n",
       "3    AAHFTVLLY    AAHFTALLY  AAHFTVLLY  AAHFTVLLY  ...   \n",
       "4    AAIAASRSV    AAIAASRSA  AAIAASRSV  AAIAASRSV  ...   \n",
       "\n",
       "   icore_improves_binder_0_75  mixed_input_binder_0_75  \\\n",
       "0                       False              AAAAAAQQIQV   \n",
       "1                       False                AAAAQQIQV   \n",
       "2                       False                AAAAQQIQV   \n",
       "3                       False                AAHFTVLLY   \n",
       "4                       False                AAIAASRSV   \n",
       "\n",
       "   mixed_rank_binder_0_75  icore_improves_1  mixed_input_1  mixed_rank_1  \\\n",
       "0                 26.7692              True      AAAAAAQQI        3.9712   \n",
       "1                  4.9092             False      AAAAQQIQV        4.9092   \n",
       "2                  1.9555             False      AAAAQQIQV        1.9555   \n",
       "3                  0.4196             False      AAHFTVLLY        0.4196   \n",
       "4                  0.0591             False      AAIAASRSV        0.0591   \n",
       "\n",
       "  icore_improves_binder_1  mixed_input_binder_1  mixed_rank_binder_1  \\\n",
       "0                   False           AAAAAAQQIQV              26.7692   \n",
       "1                   False             AAAAQQIQV               4.9092   \n",
       "2                   False             AAAAQQIQV               1.9555   \n",
       "3                   False             AAHFTVLLY               0.4196   \n",
       "4                   False             AAIAASRSV               0.0591   \n",
       "\n",
       "   expanded_input  \n",
       "0       AAAAAAQQI  \n",
       "1       AAAAQQIQV  \n",
       "2       AAAAQQIQV  \n",
       "3       AAHFTVLLY  \n",
       "4       AAIAASRSV  \n",
       "\n",
       "[5 rows x 70 columns]"
      ]
     },
     "execution_count": 3,
     "metadata": {},
     "output_type": "execute_result"
    }
   ],
   "source": [
    "from src.models import * \n",
    "std = StandardizerSequence()\n",
    "nnmodel = NNAlignEF(50, 5, n_extrafeatures=5)\n",
    "df = pd.read_csv('../data/aligned_icore/230418_cedar_aligned.csv')\n",
    "df.head()"
   ]
  },
  {
   "cell_type": "code",
   "execution_count": 7,
   "id": "b6594038-0062-48bc-bc0e-d5587ae8c17b",
   "metadata": {},
   "outputs": [],
   "source": [
    "loader, dataset = get_NNAlign_dataloader(df, max_len=12, window_size=5, seq_col='Peptide', target_col='agg_label', return_dataset=True, feature_cols = ['EL_rank_mut','EL_rank_wt_aligned','trueHLA_EL_rank'])"
   ]
  },
  {
   "cell_type": "code",
   "execution_count": 11,
   "id": "c7d1ce85-f286-4ee6-a4e6-319299d90f72",
   "metadata": {},
   "outputs": [],
   "source": [
    "x_feats = dataset.x_features\n",
    "x_tensor = dataset.x_tensor"
   ]
  },
  {
   "cell_type": "code",
   "execution_count": 14,
   "id": "b471eae7-ca49-4335-abc2-1743dd4f6213",
   "metadata": {},
   "outputs": [],
   "source": [
    "x_repeat = x_feats.unsqueeze(1).repeat(1, x_tensor.shape[1], 1)\n",
    "\n",
    "# Concatenate x_tensor and x_feats along dimension 2\n",
    "concatenated_tensor = torch.cat((x_tensor, x_repeat), dim=2)\n"
   ]
  },
  {
   "cell_type": "code",
   "execution_count": 24,
   "id": "49dec572-d3b3-43ac-ac20-021aec72cb7b",
   "metadata": {},
   "outputs": [
    {
     "data": {
      "text/plain": [
       "torch.Size([3033, 240])"
      ]
     },
     "execution_count": 24,
     "metadata": {},
     "output_type": "execute_result"
    }
   ],
   "source": [
    "from src.data_processing import encode_batch\n",
    "x_test = encode_batch(df['Peptide'], 12, 'BL50LO', -15)\n",
    "x_test.flatten(start_dim=1).shape"
   ]
  },
  {
   "cell_type": "markdown",
   "id": "a6866d83-e4af-4f3b-9a4a-82fbf07da547",
   "metadata": {},
   "source": [
    "## test with pseudoseqs"
   ]
  },
  {
   "cell_type": "markdown",
   "id": "ff180719-5da7-4c40-81a2-798ffb19e9a7",
   "metadata": {},
   "source": [
    "### quick fix with pseudo seqs with Xs"
   ]
  },
  {
   "cell_type": "code",
   "execution_count": 69,
   "id": "0a0275fd-b291-41bb-8f99-90ee3606fc23",
   "metadata": {},
   "outputs": [],
   "source": [
    "from src.data_processing import AA_KEYS, BL50_VALUES\n",
    "# Easy fix for the X's\n",
    "sequence = 'XXYHWTSGGQTGHGWALGSNYYDIRTETVHGVHT'\n",
    "size = len(sequence)\n",
    "blosum_matrix = BL50_VALUES\n",
    "tmp = np.zeros([size, len(AA_KEYS)], dtype=np.float32)\n",
    "for idx in range(size):\n",
    "    # Here, the way Morten takes cares of Xs is to leave it blank, i.e. as zeros\n",
    "    # So only use blosum matrix to encode if sequence[idx] != 'X'\n",
    "    if sequence[idx]!='X':\n",
    "        tmp[idx, :] = blosum_matrix[sequence[idx]]\n",
    "    "
   ]
  },
  {
   "cell_type": "markdown",
   "id": "38d0e891-96e8-471a-af0d-0b64e0a1f5cd",
   "metadata": {},
   "source": [
    "### try repeat"
   ]
  },
  {
   "cell_type": "code",
   "execution_count": 70,
   "id": "cc3044ba-19fe-4bd1-bcb3-64cdfc8411d4",
   "metadata": {},
   "outputs": [
    {
     "data": {
      "text/html": [
       "<div>\n",
       "<style scoped>\n",
       "    .dataframe tbody tr th:only-of-type {\n",
       "        vertical-align: middle;\n",
       "    }\n",
       "\n",
       "    .dataframe tbody tr th {\n",
       "        vertical-align: top;\n",
       "    }\n",
       "\n",
       "    .dataframe thead th {\n",
       "        text-align: right;\n",
       "    }\n",
       "</style>\n",
       "<table border=\"1\" class=\"dataframe\">\n",
       "  <thead>\n",
       "    <tr style=\"text-align: right;\">\n",
       "      <th></th>\n",
       "      <th>hla</th>\n",
       "      <th>seq</th>\n",
       "      <th>flag</th>\n",
       "    </tr>\n",
       "  </thead>\n",
       "  <tbody>\n",
       "    <tr>\n",
       "      <th>0</th>\n",
       "      <td>DRB1_0101</td>\n",
       "      <td>QEFFIASGAAVDAIMWLFLECYDLQRATYHVGFT</td>\n",
       "      <td>False</td>\n",
       "    </tr>\n",
       "    <tr>\n",
       "      <th>1</th>\n",
       "      <td>DRB1_0102</td>\n",
       "      <td>QEFFIASGAAVDAIMWLFLECYDLQRATYHAVFT</td>\n",
       "      <td>False</td>\n",
       "    </tr>\n",
       "    <tr>\n",
       "      <th>2</th>\n",
       "      <td>DRB1_0103</td>\n",
       "      <td>QEFFIASGAAVDAIMWLFLECYDIDEATYHVGFT</td>\n",
       "      <td>False</td>\n",
       "    </tr>\n",
       "    <tr>\n",
       "      <th>3</th>\n",
       "      <td>DRB1_0104</td>\n",
       "      <td>QEFFIASGAAVDAIMWLFLECYDLQRANYHVVFT</td>\n",
       "      <td>False</td>\n",
       "    </tr>\n",
       "    <tr>\n",
       "      <th>4</th>\n",
       "      <td>DRB1_0105</td>\n",
       "      <td>QEFFIASGAAVDAIMWLFLECYDLQRATYHVGFT</td>\n",
       "      <td>False</td>\n",
       "    </tr>\n",
       "  </tbody>\n",
       "</table>\n",
       "</div>"
      ],
      "text/plain": [
       "         hla                                 seq   flag\n",
       "0  DRB1_0101  QEFFIASGAAVDAIMWLFLECYDLQRATYHVGFT  False\n",
       "1  DRB1_0102  QEFFIASGAAVDAIMWLFLECYDLQRATYHAVFT  False\n",
       "2  DRB1_0103  QEFFIASGAAVDAIMWLFLECYDIDEATYHVGFT  False\n",
       "3  DRB1_0104  QEFFIASGAAVDAIMWLFLECYDLQRANYHVVFT  False\n",
       "4  DRB1_0105  QEFFIASGAAVDAIMWLFLECYDLQRATYHVGFT  False"
      ]
     },
     "execution_count": 70,
     "metadata": {},
     "output_type": "execute_result"
    }
   ],
   "source": [
    "from src.data_processing import AA_KEYS\n",
    "ps = pd.read_csv('../data/pseudoseqs/pseudosequence.2016.all.X.dat', sep='\\t', header=None, names=['hla', 'seq'])\n",
    "ps['flag'] = ps['seq'].apply(lambda x: any([c not in AA_KEYS for c in x]))\n",
    "ps.query('flag')\n",
    "ps.head()"
   ]
  },
  {
   "cell_type": "code",
   "execution_count": 71,
   "id": "02ba385b-f2b4-4e89-801d-32b8024fdbeb",
   "metadata": {},
   "outputs": [
    {
     "data": {
      "text/plain": [
       "'XXYHWTSGGQTGHGWALGSNYYDIRTETVHGVHT'"
      ]
     },
     "execution_count": 71,
     "metadata": {},
     "output_type": "execute_result"
    }
   ],
   "source": [
    "ps.query('flag')['seq'].iloc[0]"
   ]
  },
  {
   "cell_type": "code",
   "execution_count": 72,
   "id": "bdd33b0c-5dd9-42d8-8da8-d8c35648ce6d",
   "metadata": {
    "scrolled": true
   },
   "outputs": [
    {
     "data": {
      "text/plain": [
       "torch.Size([3033, 8, 780])"
      ]
     },
     "execution_count": 72,
     "metadata": {},
     "output_type": "execute_result"
    }
   ],
   "source": [
    "# This would be the x_pseudoseq in the dataset class\n",
    "x_ps = encode_batch(ps.query('not flag')['seq'], max_len=34, encoding='BL50LO', pad_scale=None)\n",
    "# here take len(x_tensor) just for a check\n",
    "x_ps_repeat = x_ps.flatten(start_dim=1).unsqueeze(1).repeat(1, x_tensor.shape[1], 1)[:len(x_tensor)]\n",
    "torch.cat([x_tensor, x_ps_repeat], dim=2).shape"
   ]
  }
 ],
 "metadata": {
  "kernelspec": {
   "display_name": "Python [conda env:pynn] *",
   "language": "python",
   "name": "conda-env-pynn-py"
  },
  "language_info": {
   "codemirror_mode": {
    "name": "ipython",
    "version": 3
   },
   "file_extension": ".py",
   "mimetype": "text/x-python",
   "name": "python",
   "nbconvert_exporter": "python",
   "pygments_lexer": "ipython3",
   "version": "3.11.5"
  }
 },
 "nbformat": 4,
 "nbformat_minor": 5
}
