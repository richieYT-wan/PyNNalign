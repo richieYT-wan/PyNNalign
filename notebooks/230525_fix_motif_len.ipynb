{
 "cells": [
  {
   "cell_type": "code",
   "execution_count": 27,
   "id": "ef0bad2d-b466-41e6-8a33-fbfbf7ba6a92",
   "metadata": {},
   "outputs": [
    {
     "name": "stdout",
     "output_type": "stream",
     "text": [
      "The autoreload extension is already loaded. To reload it, use:\n",
      "  %reload_ext autoreload\n"
     ]
    },
    {
     "data": {
      "image/png": "[encoded data removed]",
      "text/plain": [
       "<Figure size 1.8x1.8 with 1 Axes>"
      ]
     },
     "metadata": {},
     "output_type": "display_data"
    }
   ],
   "source": [
    "%load_ext autoreload\n",
    "%autoreload 2\n",
    "\n",
    "import pandas as pd\n",
    "import dataframe_image as dfi\n",
    "import numpy as np\n",
    "import sklearn\n",
    "import matplotlib.pyplot as plt\n",
    "import matplotlib as mpl\n",
    "import seaborn as sns\n",
    "f,a = plt.subplots(1,1,figsize=(1e-2, 1e-2))\n",
    "mpl.rcParams['figure.dpi'] = 180\n",
    "sns.set_style('darkgrid')\n",
    "import os,sys\n",
    "module_path = os.path.abspath(os.path.join('..'))\n",
    "if module_path not in sys.path:\n",
    "    sys.path.append(module_path)\n",
    "import warnings\n",
    "warnings.filterwarnings(\"ignore\")\n",
    "\n",
    "from tqdm.auto import tqdm\n",
    "from datetime import datetime as dt\n",
    "from src.utils import mkdirs, convert_path, pkl_dump, pkl_load, display_side, add_median_labels, get_palette\n",
    "from src.data_processing import BL62_VALUES, BL62FREQ_VALUES, HLAS, AA_KEYS\n",
    "from src.metrics import get_nested_feature_importance, plot_feature_importance\n",
    "from src.utils import pkl_load, pkl_dump, get_palette\n",
    "from src.bootstrap import bootstrap_eval, get_pval, plot_pval\n",
    "from src.bootstrap import get_pval, plot_pval\n",
    "from src.datasets import NNAlignDataset, get_NNAlign_dataloader\n",
    "import torch\n",
    "from torch import nn\n",
    "from torch.nnq import functional as F\n",
    "mpl.rcParams['figure.dpi'] = 180"
   ]
  },
  {
   "cell_type": "markdown",
   "id": "2ae6b5df-db4a-4aaf-b2b1-5a17926ffde0",
   "metadata": {
    "jp-MarkdownHeadingCollapsed": true,
    "tags": []
   },
   "source": [
    "## check dataset / mask behaviour"
   ]
  },
  {
   "cell_type": "code",
   "execution_count": 4,
   "id": "4c978933-70cd-405d-afa8-09545a6ed9f6",
   "metadata": {},
   "outputs": [],
   "source": [
    "cedar_aligned = pd.read_csv('../data/aligned_icore/230418_cedar_aligned.csv')\n",
    "prime_aligned = pd.read_csv('../data/aligned_icore/230418_prime_aligned.csv')\n",
    "viral = pd.read_csv('../data/other/viral.csv').rename(columns={'sequence':'Peptide'})\n",
    "drb = pd.read_csv('../data/NetMHCIIpan_train/drb1_0301.csv')"
   ]
  },
  {
   "cell_type": "code",
   "execution_count": 65,
   "id": "8f9942ef-32eb-401e-b672-3c66d66ab8be",
   "metadata": {},
   "outputs": [],
   "source": [
    "from src.datasets import get_NNAlign_dataloader, NNAlignDataset\n",
    "drb_loader, drb_dataset = get_NNAlign_dataloader(drb, max_len=20, window_size=9, encoding='BL50LO', seq_col='Sequence', target_col='target', pad_scale=-15, return_dataset=True)\n",
    "x_tensor, y = drb_dataset[:10]\n",
    "x_mask = drb_dataset.mask[:10]"
   ]
  },
  {
   "cell_type": "code",
   "execution_count": 66,
   "id": "b6fe851d-40e5-402a-8b85-a1a3f7d63469",
   "metadata": {},
   "outputs": [
    {
     "data": {
      "text/html": [
       "<div>\n",
       "<style scoped>\n",
       "    .dataframe tbody tr th:only-of-type {\n",
       "        vertical-align: middle;\n",
       "    }\n",
       "\n",
       "    .dataframe tbody tr th {\n",
       "        vertical-align: top;\n",
       "    }\n",
       "\n",
       "    .dataframe thead th {\n",
       "        text-align: right;\n",
       "    }\n",
       "</style>\n",
       "<table border=\"1\" class=\"dataframe\">\n",
       "  <thead>\n",
       "    <tr style=\"text-align: right;\">\n",
       "      <th></th>\n",
       "      <th>Sequence</th>\n",
       "      <th>target</th>\n",
       "      <th>HLA</th>\n",
       "      <th>to_prune</th>\n",
       "      <th>len</th>\n",
       "      <th>fold</th>\n",
       "    </tr>\n",
       "  </thead>\n",
       "  <tbody>\n",
       "    <tr>\n",
       "      <th>1</th>\n",
       "      <td>AASSLTVDVTPPTAKAPT</td>\n",
       "      <td>1</td>\n",
       "      <td>Abelin__MAPTAC_DRB1_0301</td>\n",
       "      <td>False</td>\n",
       "      <td>18</td>\n",
       "      <td>0</td>\n",
       "    </tr>\n",
       "    <tr>\n",
       "      <th>2</th>\n",
       "      <td>ADKARKKLLADQAEARRS</td>\n",
       "      <td>1</td>\n",
       "      <td>Abelin__MAPTAC_DRB1_0301</td>\n",
       "      <td>False</td>\n",
       "      <td>18</td>\n",
       "      <td>0</td>\n",
       "    </tr>\n",
       "    <tr>\n",
       "      <th>3</th>\n",
       "      <td>ADKARKKLLADQAEARRSKT</td>\n",
       "      <td>1</td>\n",
       "      <td>Abelin__MAPTAC_DRB1_0301</td>\n",
       "      <td>False</td>\n",
       "      <td>20</td>\n",
       "      <td>0</td>\n",
       "    </tr>\n",
       "    <tr>\n",
       "      <th>4</th>\n",
       "      <td>AENLEQLIDQKLKDYEDLR</td>\n",
       "      <td>1</td>\n",
       "      <td>Abelin__MAPTAC_DRB1_0301</td>\n",
       "      <td>False</td>\n",
       "      <td>19</td>\n",
       "      <td>0</td>\n",
       "    </tr>\n",
       "    <tr>\n",
       "      <th>5</th>\n",
       "      <td>AENVLVADKRLIRQNKPE</td>\n",
       "      <td>1</td>\n",
       "      <td>Abelin__MAPTAC_DRB1_0301</td>\n",
       "      <td>False</td>\n",
       "      <td>18</td>\n",
       "      <td>0</td>\n",
       "    </tr>\n",
       "    <tr>\n",
       "      <th>6</th>\n",
       "      <td>AENVLVADKRLIRQNKPEN</td>\n",
       "      <td>1</td>\n",
       "      <td>Abelin__MAPTAC_DRB1_0301</td>\n",
       "      <td>False</td>\n",
       "      <td>19</td>\n",
       "      <td>0</td>\n",
       "    </tr>\n",
       "    <tr>\n",
       "      <th>7</th>\n",
       "      <td>AEQDPNVQVDHLNLLKQFE</td>\n",
       "      <td>1</td>\n",
       "      <td>Abelin__MAPTAC_DRB1_0301</td>\n",
       "      <td>False</td>\n",
       "      <td>19</td>\n",
       "      <td>0</td>\n",
       "    </tr>\n",
       "    <tr>\n",
       "      <th>8</th>\n",
       "      <td>AEQDPNVQVDHLNLLKQFEH</td>\n",
       "      <td>1</td>\n",
       "      <td>Abelin__MAPTAC_DRB1_0301</td>\n",
       "      <td>False</td>\n",
       "      <td>20</td>\n",
       "      <td>0</td>\n",
       "    </tr>\n",
       "    <tr>\n",
       "      <th>9</th>\n",
       "      <td>AGIQVVGDDLTVTNPK</td>\n",
       "      <td>1</td>\n",
       "      <td>Abelin__MAPTAC_DRB1_0301</td>\n",
       "      <td>False</td>\n",
       "      <td>16</td>\n",
       "      <td>0</td>\n",
       "    </tr>\n",
       "    <tr>\n",
       "      <th>10</th>\n",
       "      <td>AIEIDIPVVSHTT</td>\n",
       "      <td>1</td>\n",
       "      <td>Abelin__MAPTAC_DRB1_0301</td>\n",
       "      <td>False</td>\n",
       "      <td>13</td>\n",
       "      <td>0</td>\n",
       "    </tr>\n",
       "  </tbody>\n",
       "</table>\n",
       "</div>"
      ],
      "text/plain": [
       "                Sequence  target                       HLA  to_prune  len  \\\n",
       "1     AASSLTVDVTPPTAKAPT       1  Abelin__MAPTAC_DRB1_0301     False   18   \n",
       "2     ADKARKKLLADQAEARRS       1  Abelin__MAPTAC_DRB1_0301     False   18   \n",
       "3   ADKARKKLLADQAEARRSKT       1  Abelin__MAPTAC_DRB1_0301     False   20   \n",
       "4    AENLEQLIDQKLKDYEDLR       1  Abelin__MAPTAC_DRB1_0301     False   19   \n",
       "5     AENVLVADKRLIRQNKPE       1  Abelin__MAPTAC_DRB1_0301     False   18   \n",
       "6    AENVLVADKRLIRQNKPEN       1  Abelin__MAPTAC_DRB1_0301     False   19   \n",
       "7    AEQDPNVQVDHLNLLKQFE       1  Abelin__MAPTAC_DRB1_0301     False   19   \n",
       "8   AEQDPNVQVDHLNLLKQFEH       1  Abelin__MAPTAC_DRB1_0301     False   20   \n",
       "9       AGIQVVGDDLTVTNPK       1  Abelin__MAPTAC_DRB1_0301     False   16   \n",
       "10         AIEIDIPVVSHTT       1  Abelin__MAPTAC_DRB1_0301     False   13   \n",
       "\n",
       "    fold  \n",
       "1      0  \n",
       "2      0  \n",
       "3      0  \n",
       "4      0  \n",
       "5      0  \n",
       "6      0  \n",
       "7      0  \n",
       "8      0  \n",
       "9      0  \n",
       "10     0  "
      ]
     },
     "metadata": {},
     "output_type": "display_data"
    },
    {
     "data": {
      "text/plain": [
       "(tensor([ 9,  9, 11, 10,  9, 10, 10, 11,  7,  4]), None)"
      ]
     },
     "execution_count": 66,
     "metadata": {},
     "output_type": "execute_result"
    }
   ],
   "source": [
    "# Make sure that the mask makes sense\n",
    "x_mask, display(drb_dataset.df.iloc[:10])"
   ]
  },
  {
   "cell_type": "code",
   "execution_count": 49,
   "id": "8228e1ce-cfd4-4dc8-a979-ff07dd4794b4",
   "metadata": {},
   "outputs": [
    {
     "data": {
      "text/plain": [
       "(tensor([[-2., -2.,  2.,  8., -4.,  0.,  2., -1., -1., -4., -4., -1., -4., -5.,\n",
       "          -1.,  0., -1., -5., -3., -4.],\n",
       "         [-1., -4., -3., -4., -2., -3., -4., -4., -4.,  5.,  2., -3.,  2.,  0.,\n",
       "          -3., -3., -1., -3., -1.,  4.],\n",
       "         [-1., -3., -2., -1., -4., -1., -1., -2., -2., -3., -4., -1., -3., -4.,\n",
       "          10., -1., -1., -4., -3., -3.],\n",
       "         [ 0., -3., -3., -4., -1., -3., -3., -4., -4.,  4.,  1., -3.,  1., -1.,\n",
       "          -3., -2.,  0., -3., -1.,  5.],\n",
       "         [ 0., -3., -3., -4., -1., -3., -3., -4., -4.,  4.,  1., -3.,  1., -1.,\n",
       "          -3., -2.,  0., -3., -1.,  5.],\n",
       "         [ 1., -1.,  1.,  0., -1.,  0., -1.,  0., -1., -3., -3.,  0., -2., -3.,\n",
       "          -1.,  5.,  2., -4., -2., -2.],\n",
       "         [-2.,  0.,  1., -1., -3.,  1.,  0., -2., 10., -4., -3.,  0., -1., -1.,\n",
       "          -2., -1., -2., -3.,  2., -4.],\n",
       "         [ 0., -1.,  0., -1., -1., -1., -1., -2., -2., -1., -1., -1., -1., -2.,\n",
       "          -1.,  2.,  5., -3., -2.,  0.],\n",
       "         [ 0., -1.,  0., -1., -1., -1., -1., -2., -2., -1., -1., -1., -1., -2.,\n",
       "          -1.,  2.,  5., -3., -2.,  0.]]),\n",
       " tensor([[ -1.,  -4.,  -3.,  -4.,  -2.,  -3.,  -4.,  -4.,  -4.,   5.,   2.,  -3.,\n",
       "            2.,   0.,  -3.,  -3.,  -1.,  -3.,  -1.,   4.],\n",
       "         [ -1.,  -3.,  -2.,  -1.,  -4.,  -1.,  -1.,  -2.,  -2.,  -3.,  -4.,  -1.,\n",
       "           -3.,  -4.,  10.,  -1.,  -1.,  -4.,  -3.,  -3.],\n",
       "         [  0.,  -3.,  -3.,  -4.,  -1.,  -3.,  -3.,  -4.,  -4.,   4.,   1.,  -3.,\n",
       "            1.,  -1.,  -3.,  -2.,   0.,  -3.,  -1.,   5.],\n",
       "         [  0.,  -3.,  -3.,  -4.,  -1.,  -3.,  -3.,  -4.,  -4.,   4.,   1.,  -3.,\n",
       "            1.,  -1.,  -3.,  -2.,   0.,  -3.,  -1.,   5.],\n",
       "         [  1.,  -1.,   1.,   0.,  -1.,   0.,  -1.,   0.,  -1.,  -3.,  -3.,   0.,\n",
       "           -2.,  -3.,  -1.,   5.,   2.,  -4.,  -2.,  -2.],\n",
       "         [ -2.,   0.,   1.,  -1.,  -3.,   1.,   0.,  -2.,  10.,  -4.,  -3.,   0.,\n",
       "           -1.,  -1.,  -2.,  -1.,  -2.,  -3.,   2.,  -4.],\n",
       "         [  0.,  -1.,   0.,  -1.,  -1.,  -1.,  -1.,  -2.,  -2.,  -1.,  -1.,  -1.,\n",
       "           -1.,  -2.,  -1.,   2.,   5.,  -3.,  -2.,   0.],\n",
       "         [  0.,  -1.,   0.,  -1.,  -1.,  -1.,  -1.,  -2.,  -2.,  -1.,  -1.,  -1.,\n",
       "           -1.,  -2.,  -1.,   2.,   5.,  -3.,  -2.,   0.],\n",
       "         [-15., -15., -15., -15., -15., -15., -15., -15., -15., -15., -15., -15.,\n",
       "          -15., -15., -15., -15., -15., -15., -15., -15.]]))"
      ]
     },
     "execution_count": 49,
     "metadata": {},
     "output_type": "execute_result"
    }
   ],
   "source": [
    "# some checks here : Checking that for the last sample reshaped to kmers, after the max idx (4), it starts being padded (i.e. for idx 5, -15 values appear)\n",
    "x_tensor[-1].view(20-9+1, 9, 20)[4], x_tensor[-1].view(20-9+1, 9, 20)[5]"
   ]
  },
  {
   "cell_type": "code",
   "execution_count": 67,
   "id": "c0a2cafd-3996-496d-b93f-bc1b38310b7d",
   "metadata": {},
   "outputs": [
    {
     "name": "stdout",
     "output_type": "stream",
     "text": [
      "torch.Size([10, 12, 1])\n"
     ]
    }
   ],
   "source": [
    "# Manually create the layers so it's more flexible\n",
    "window_size=9\n",
    "matrix_dim=20\n",
    "n_hidden=10\n",
    "max_len =20\n",
    "\n",
    "layers = nn.Sequential(nn.Linear(window_size*matrix_dim, n_hidden), nn.ReLU(), nn.Linear(n_hidden,1))\n",
    "\n",
    "z = layers(x_tensor)\n",
    "# z = output of nnalign, before the index selection, of shape (N, max_len-window_size+1, 1)\n",
    "\n",
    "print(z.shape)\n",
    "# Need the mask can be a 0, 1 mask based on the shape and just set values where it's not allowed to 0\n",
    "\n",
    "# here, the old index selection process:\n",
    "max_idx = z.argmax(dim=1).unsqueeze(1)"
   ]
  },
  {
   "cell_type": "code",
   "execution_count": 68,
   "id": "ed0d21c4-e7ae-4de4-b68a-48b0d018e4cb",
   "metadata": {},
   "outputs": [
    {
     "data": {
      "text/plain": [
       "torch.Size([10])"
      ]
     },
     "execution_count": 68,
     "metadata": {},
     "output_type": "execute_result"
    }
   ],
   "source": [
    "x_mask.shape"
   ]
  },
  {
   "cell_type": "code",
   "execution_count": null,
   "id": "f5adb52c-4e0b-4d65-951e-23279bea28d7",
   "metadata": {},
   "outputs": [],
   "source": [
    "range_tensor = torch.arange(max_len - window_size + 1).unsqueeze(0).repeat(len(x_tensor), 1)\n",
    "\n",
    "# Create a mask tensor by comparing the range_tensor with x_idx\n",
    "x_mask = (range_tensor <= x_mask.unsqueeze(1)).type(torch.float32).unsqueeze(-1)\n",
    "x_mask.shape\n",
    "# put this in dataloader."
   ]
  },
  {
   "cell_type": "markdown",
   "id": "7023bc30-717e-4ec6-bb9e-0724750ea448",
   "metadata": {},
   "source": [
    "## Change forward pass behaviour to use mask and set values to 0"
   ]
  },
  {
   "cell_type": "code",
   "execution_count": 104,
   "id": "14b709bf-8d53-4992-911b-4f25847953d5",
   "metadata": {},
   "outputs": [],
   "source": [
    "# Reload now that it has been saved\n",
    "max_len=20\n",
    "window_size=9\n",
    "\n",
    "drb_loader, drb_dataset = get_NNAlign_dataloader(drb, max_len, window_size, encoding='BL50LO', seq_col='Sequence', target_col='target', pad_scale=-15, return_dataset=True)\n",
    "x_tensor, y = drb_dataset[:10]\n",
    "x_mask = drb_dataset.x_mask[:10]"
   ]
  },
  {
   "cell_type": "code",
   "execution_count": null,
   "id": "ddf0bccd-a352-4402-b165-aa1f13518167",
   "metadata": {
    "collapsed": true,
    "jupyter": {
     "outputs_hidden": true
    },
    "tags": []
   },
   "outputs": [
    {
     "data": {
      "text/plain": [
       "tensor([[[1.],\n",
       "         [1.],\n",
       "         [1.],\n",
       "         [1.],\n",
       "         [1.],\n",
       "         [1.],\n",
       "         [1.],\n",
       "         [1.],\n",
       "         [1.],\n",
       "         [1.],\n",
       "         [nan],\n",
       "         [nan]],\n",
       "\n",
       "        [[1.],\n",
       "         [1.],\n",
       "         [1.],\n",
       "         [1.],\n",
       "         [1.],\n",
       "         [1.],\n",
       "         [1.],\n",
       "         [1.],\n",
       "         [1.],\n",
       "         [1.],\n",
       "         [nan],\n",
       "         [nan]],\n",
       "\n",
       "        [[1.],\n",
       "         [1.],\n",
       "         [1.],\n",
       "         [1.],\n",
       "         [1.],\n",
       "         [1.],\n",
       "         [1.],\n",
       "         [1.],\n",
       "         [1.],\n",
       "         [1.],\n",
       "         [1.],\n",
       "         [1.]],\n",
       "\n",
       "        [[1.],\n",
       "         [1.],\n",
       "         [1.],\n",
       "         [1.],\n",
       "         [1.],\n",
       "         [1.],\n",
       "         [1.],\n",
       "         [1.],\n",
       "         [1.],\n",
       "         [1.],\n",
       "         [1.],\n",
       "         [nan]],\n",
       "\n",
       "        [[1.],\n",
       "         [1.],\n",
       "         [1.],\n",
       "         [1.],\n",
       "         [1.],\n",
       "         [1.],\n",
       "         [1.],\n",
       "         [1.],\n",
       "         [1.],\n",
       "         [1.],\n",
       "         [nan],\n",
       "         [nan]],\n",
       "\n",
       "        [[1.],\n",
       "         [1.],\n",
       "         [1.],\n",
       "         [1.],\n",
       "         [1.],\n",
       "         [1.],\n",
       "         [1.],\n",
       "         [1.],\n",
       "         [1.],\n",
       "         [1.],\n",
       "         [1.],\n",
       "         [nan]],\n",
       "\n",
       "        [[1.],\n",
       "         [1.],\n",
       "         [1.],\n",
       "         [1.],\n",
       "         [1.],\n",
       "         [1.],\n",
       "         [1.],\n",
       "         [1.],\n",
       "         [1.],\n",
       "         [1.],\n",
       "         [1.],\n",
       "         [nan]],\n",
       "\n",
       "        [[1.],\n",
       "         [1.],\n",
       "         [1.],\n",
       "         [1.],\n",
       "         [1.],\n",
       "         [1.],\n",
       "         [1.],\n",
       "         [1.],\n",
       "         [1.],\n",
       "         [1.],\n",
       "         [1.],\n",
       "         [1.]],\n",
       "\n",
       "        [[1.],\n",
       "         [1.],\n",
       "         [1.],\n",
       "         [1.],\n",
       "         [1.],\n",
       "         [1.],\n",
       "         [1.],\n",
       "         [1.],\n",
       "         [nan],\n",
       "         [nan],\n",
       "         [nan],\n",
       "         [nan]],\n",
       "\n",
       "        [[1.],\n",
       "         [1.],\n",
       "         [1.],\n",
       "         [1.],\n",
       "         [1.],\n",
       "         [nan],\n",
       "         [nan],\n",
       "         [nan],\n",
       "         [nan],\n",
       "         [nan],\n",
       "         [nan],\n",
       "         [nan]]])"
      ]
     },
     "execution_count": 93,
     "metadata": {},
     "output_type": "execute_result"
    }
   ],
   "source": [
    "# idx_tensor = torch.from_numpy(drb_dataset.df.iloc[:10].len.values - window_size)\n",
    "# range_tensor = torch.arange(max_len-window_size+1).unsqueeze(0).repeat(len(idx_tensor),1)\n",
    "# x_mask = (range_tensor <= idx_tensor.unsqueeze(1)).float().unsqueeze(-1)\n",
    "# x_mask[x_mask==0] = np.nan # CAN'T USE NAN\n",
    "# x_mask"
   ]
  },
  {
   "cell_type": "code",
   "execution_count": 105,
   "id": "2dd42be9-45f7-4a74-aec3-1d1d0de42498",
   "metadata": {
    "collapsed": true,
    "jupyter": {
     "outputs_hidden": true
    },
    "tags": []
   },
   "outputs": [
    {
     "name": "stdout",
     "output_type": "stream",
     "text": [
      "tensor([[[-0.7512],\n",
      "         [-0.1905],\n",
      "         [-0.2990],\n",
      "         [-0.0378],\n",
      "         [-0.7739],\n",
      "         [-0.6918],\n",
      "         [-0.9964],\n",
      "         [-0.6508],\n",
      "         [-0.4351],\n",
      "         [-0.5287],\n",
      "         [-0.0000],\n",
      "         [-0.0000]],\n",
      "\n",
      "        [[-0.4063],\n",
      "         [ 0.0475],\n",
      "         [ 0.0547],\n",
      "         [-0.4891],\n",
      "         [-0.5838],\n",
      "         [-0.1157],\n",
      "         [-0.1502],\n",
      "         [ 0.1070],\n",
      "         [-0.7162],\n",
      "         [-0.8585],\n",
      "         [-0.0000],\n",
      "         [-0.0000]],\n",
      "\n",
      "        [[-0.4063],\n",
      "         [ 0.0475],\n",
      "         [ 0.0547],\n",
      "         [-0.4891],\n",
      "         [-0.5838],\n",
      "         [-0.1157],\n",
      "         [-0.1502],\n",
      "         [ 0.1070],\n",
      "         [-0.7162],\n",
      "         [-0.8585],\n",
      "         [-0.1079],\n",
      "         [-0.5655]],\n",
      "\n",
      "        [[-0.4419],\n",
      "         [-0.8502],\n",
      "         [ 0.0087],\n",
      "         [-1.0176],\n",
      "         [ 0.0956],\n",
      "         [-0.2731],\n",
      "         [-0.8548],\n",
      "         [-0.7071],\n",
      "         [-0.5249],\n",
      "         [-0.6030],\n",
      "         [ 0.1683],\n",
      "         [-0.0000]],\n",
      "\n",
      "        [[-0.7915],\n",
      "         [-0.9149],\n",
      "         [ 0.0254],\n",
      "         [-0.1803],\n",
      "         [-0.3467],\n",
      "         [-1.1773],\n",
      "         [-0.8716],\n",
      "         [-0.2527],\n",
      "         [-0.2525],\n",
      "         [-0.1532],\n",
      "         [-0.0000],\n",
      "         [-0.0000]],\n",
      "\n",
      "        [[-0.7915],\n",
      "         [-0.9149],\n",
      "         [ 0.0254],\n",
      "         [-0.1803],\n",
      "         [-0.3467],\n",
      "         [-1.1773],\n",
      "         [-0.8716],\n",
      "         [-0.2527],\n",
      "         [-0.2525],\n",
      "         [-0.1532],\n",
      "         [-1.0719],\n",
      "         [-0.0000]],\n",
      "\n",
      "        [[-0.7636],\n",
      "         [-0.2941],\n",
      "         [-0.8289],\n",
      "         [-0.7300],\n",
      "         [-0.6893],\n",
      "         [ 0.1877],\n",
      "         [-0.3003],\n",
      "         [ 0.0778],\n",
      "         [-1.1044],\n",
      "         [-0.2265],\n",
      "         [ 0.3571],\n",
      "         [-0.0000]],\n",
      "\n",
      "        [[-0.7636],\n",
      "         [-0.2941],\n",
      "         [-0.8289],\n",
      "         [-0.7300],\n",
      "         [-0.6893],\n",
      "         [ 0.1877],\n",
      "         [-0.3003],\n",
      "         [ 0.0778],\n",
      "         [-1.1044],\n",
      "         [-0.2265],\n",
      "         [ 0.3571],\n",
      "         [-0.6820]],\n",
      "\n",
      "        [[-0.8892],\n",
      "         [-0.5263],\n",
      "         [-0.7522],\n",
      "         [-0.7126],\n",
      "         [-0.2861],\n",
      "         [-0.9496],\n",
      "         [-0.4353],\n",
      "         [-0.8842],\n",
      "         [-0.0000],\n",
      "         [-0.0000],\n",
      "         [-0.0000],\n",
      "         [-0.0000]],\n",
      "\n",
      "        [[-0.2729],\n",
      "         [-1.3743],\n",
      "         [-0.3526],\n",
      "         [-1.1678],\n",
      "         [-0.1128],\n",
      "         [-0.0000],\n",
      "         [-0.0000],\n",
      "         [-0.0000],\n",
      "         [-0.0000],\n",
      "         [-0.0000],\n",
      "         [-0.0000],\n",
      "         [-0.0000]]], grad_fn=<MulBackward0>)\n"
     ]
    }
   ],
   "source": [
    "# Layers before kmers selection\n",
    "z = layers(x_tensor)\n",
    "# Set pad to 0 so we don't choose it in the argmax\n",
    "z = torch.mul(z, x_mask)\n",
    "print(z)\n",
    "# If all predicted scores are negatives, then 0 won't work\n",
    "# Need to change the mask value from 0 to something big like -100 \n",
    "# AH but ^^^ won't work because it's a multiplicatino so neg * neg = pos -> argmax\n",
    "# Need to instead "
   ]
  },
  {
   "cell_type": "code",
   "execution_count": 188,
   "id": "0f26aa32-1410-41f3-9b4f-24d08f566f9e",
   "metadata": {
    "tags": []
   },
   "outputs": [
    {
     "name": "stdout",
     "output_type": "stream",
     "text": [
      "torch.Size([10, 12, 1])\n",
      "torch.Size([10, 1])\n"
     ]
    }
   ],
   "source": [
    "# NEVERMIND THIS IS STUPID. JUST DO A SIGMOID TO SET TO 0,1 (ONLY FOR selection)\n",
    "max_len=20\n",
    "window_size=9\n",
    "matrix_dim=20\n",
    "n_hidden=10\n",
    "# Set pad to something ridiculous to bugcheck\n",
    "pad_scale = -300\n",
    "\n",
    "layers = nn.Sequential(nn.Linear(window_size*matrix_dim, n_hidden), nn.ReLU(), nn.Linear(n_hidden,1))\n",
    "drb_loader, drb_dataset = get_NNAlign_dataloader(drb, max_len, window_size, encoding='BL50LO', seq_col='Sequence', target_col='target', pad_scale=pad_scale, return_dataset=True)\n",
    "x_tensor, x_mask, y = drb_dataset[:10]\n",
    "x_mask = drb_dataset.x_mask[:10]\n",
    "\n",
    "z = layers(x_tensor)\n",
    "print(z.shape)\n",
    "with torch.no_grad():\n",
    "    xd = torch.mul(F.sigmoid(z), x_mask)\n",
    "    max_idx = xd.argmax(dim=1).unsqueeze(1)\n",
    "z = torch.gather(z, 1, max_idx).squeeze(1)\n",
    "print(z.shape)"
   ]
  },
  {
   "cell_type": "code",
   "execution_count": 189,
   "id": "cb99a900-f5fe-4af1-97c0-6301e7c0debc",
   "metadata": {},
   "outputs": [
    {
     "name": "stdout",
     "output_type": "stream",
     "text": [
      "torch.Size([10, 12, 180]) torch.Size([10, 12, 1])\n",
      "tensor([ 3,  4, 11,  2,  8,  8,  1,  1,  6,  4])\n",
      "tensor([ 9,  9, 11, 10,  9, 10, 10, 11,  7,  4])\n"
     ]
    }
   ],
   "source": [
    "print(x_tensor.shape, x_mask.shape)\n",
    "print(max_idx.flatten())\n",
    "print(idx_tensor)"
   ]
  },
  {
   "cell_type": "markdown",
   "id": "278aee37-1307-4f15-bd0b-5c93adbb2a24",
   "metadata": {},
   "source": [
    "# Need to also fix the behaviour for standardizer.fit\n",
    "\n",
    "Otherwise, the pad values will affect the computation of the mean/std"
   ]
  },
  {
   "cell_type": "code",
   "execution_count": 190,
   "id": "2d6a1e59-0801-4aa8-9cd7-f4e2b1f9b15f",
   "metadata": {},
   "outputs": [
    {
     "data": {
      "text/plain": [
       "tensor([ -0.2333,  -1.2583,  -0.7167,  -0.5750,  -2.3250,  -0.2000,  -0.4500,\n",
       "         -2.0000,  -1.3583,  -0.9417,  -1.1500,  -0.5417,  -0.7250,  -2.4917,\n",
       "         -1.4333,  -0.5833,  -0.4583,  -3.0833,  -1.6667,  -0.7083,  -0.6250,\n",
       "         -1.0250,  -0.5500,  -0.4750,  -2.4083,  -0.1250,  -0.4000,  -2.1167,\n",
       "         -1.2583,  -1.0417,  -1.1833,  -0.4000,  -0.7667,  -2.4917,  -1.4833,\n",
       "         -0.6000,  -0.3583,  -3.1000,  -1.6500,  -0.8333,  -3.1333,  -3.4917,\n",
       "         -3.0500,  -3.1000,  -4.8583,  -2.5500,  -3.0250,  -4.6667,  -3.7250,\n",
       "         -3.4583,  -3.5417,  -2.8917,  -3.1417,  -4.9250,  -4.0083,  -3.0917,\n",
       "         -2.8333,  -5.5167,  -4.0917,  -3.2833,  -5.5667,  -6.1000,  -5.7083,\n",
       "         -5.7250,  -7.3250,  -5.2417,  -5.6667,  -7.1667,  -6.2917,  -5.8583,\n",
       "         -5.9083,  -5.5500,  -5.5833,  -7.2750,  -6.4500,  -5.6667,  -5.3500,\n",
       "         -7.9583,  -6.5083,  -5.6917,  -8.1333,  -8.2000,  -8.1500,  -8.2667,\n",
       "         -9.8833,  -7.5833,  -8.0000,  -9.6583,  -8.6333,  -8.5833,  -8.5583,\n",
       "         -7.6333,  -8.1833,  -9.8417,  -8.9000,  -8.1583,  -7.8917, -10.4167,\n",
       "         -9.0000,  -8.4083, -13.1000, -13.1083, -13.0417, -13.1583, -14.8833,\n",
       "        -12.4167, -12.9250, -14.5500, -13.5250, -13.7083, -13.7333, -12.5167,\n",
       "        -13.2750, -14.9333, -13.7000, -13.0667, -12.8833, -15.3667, -13.9917,\n",
       "        -13.5250, -18.1167, -18.1333, -18.1417, -18.1250, -19.8500, -17.4583,\n",
       "        -17.8417, -19.5167, -18.4750, -18.8250, -18.6833, -17.6083, -18.2917,\n",
       "        -19.7000, -18.6750, -18.0167, -17.8750, -20.2583, -18.8917, -18.6500,\n",
       "        -30.7083, -30.4250, -30.4500, -30.4000, -32.3083, -29.8000, -30.1000,\n",
       "        -31.9917, -30.7750, -31.4667, -31.2333, -29.9750, -30.8250, -32.1417,\n",
       "        -31.1667, -30.4667, -30.3583, -32.6417, -31.3167, -31.3000, -50.6000,\n",
       "        -50.2750, -50.3917, -50.5500, -52.1000, -49.8333, -50.1000, -51.8250,\n",
       "        -50.5750, -51.4333, -51.2083, -49.8833, -50.7833, -51.9417, -51.0250,\n",
       "        -50.3667, -50.2583, -52.4250, -51.1667, -51.2417])"
      ]
     },
     "execution_count": 190,
     "metadata": {},
     "output_type": "execute_result"
    }
   ],
   "source": [
    "from src.models import Standardizer\n",
    "std = Standardizer()\n",
    "std.fit(x_tensor)\n",
    "std.mu.shape, std.sigma.shape\n",
    "std.mu"
   ]
  },
  {
   "cell_type": "code",
   "execution_count": 195,
   "id": "14f8ba26-1c2b-48f3-98f0-f8251189740d",
   "metadata": {},
   "outputs": [],
   "source": [
    "import torch\n",
    "N=10\n",
    "K=9\n",
    "# Assuming you have tensors `x_values` and `x_mask`\n",
    "# Apply the mask to the data\n",
    "masked_values = x_tensor * x_mask\n",
    "# Calculate the mean along the second dimension (M) while considering the mask\n",
    "mu = torch.sum(masked_values, dim=1) / torch.sum(x_mask, dim=1)\n",
    "\n",
    "# Calculate the standard deviation along the second dimension (M) while considering the mask\n",
    "sigma = torch.sqrt(torch.sum((masked_values - mu.unsqueeze(1))**2, dim=1) / torch.sum(x_mask, dim=1))\n"
   ]
  },
  {
   "cell_type": "code",
   "execution_count": 201,
   "id": "7d0eb696-a0bc-4c93-a8fb-8611cce1025f",
   "metadata": {},
   "outputs": [
    {
     "data": {
      "text/plain": [
       "torch.Size([180])"
      ]
     },
     "execution_count": 201,
     "metadata": {},
     "output_type": "execute_result"
    }
   ],
   "source": [
    "mu.mean(dim=0).shape"
   ]
  },
  {
   "cell_type": "code",
   "execution_count": 162,
   "id": "bd6e0cd8-a27c-4655-8d50-9387c488d3c8",
   "metadata": {},
   "outputs": [
    {
     "data": {
      "text/plain": [
       "(torch.Size([10, 12, 180]), torch.Size([10, 12, 1]), torch.Size([10, 12, 180]))"
      ]
     },
     "execution_count": 162,
     "metadata": {},
     "output_type": "execute_result"
    }
   ],
   "source": [
    "x_tensor.shape, x_mask.shape, masked_values.shape"
   ]
  },
  {
   "cell_type": "code",
   "execution_count": 207,
   "id": "28c9f58d-0180-427a-b5e0-bdd0de81e883",
   "metadata": {},
   "outputs": [
    {
     "data": {
      "text/plain": [
       "tensor([[2.3426, 1.1883, 1.9204,  ..., 1.5453, 1.1524, 2.3891],\n",
       "        [3.0450, 3.3118, 1.7889,  ..., 1.6733, 0.9940, 1.8407],\n",
       "        [2.8711, 3.0946, 1.7951,  ..., 0.9129, 0.5951, 1.6499],\n",
       "        ...,\n",
       "        [1.8409, 1.4977, 2.8419,  ..., 1.4434, 1.9791, 2.7221],\n",
       "        [1.9665, 2.1920, 1.8708,  ..., 2.5357, 1.5811, 2.8709],\n",
       "        [2.5298, 3.2100, 2.2361,  ..., 3.8074, 1.9494, 3.0027]])"
      ]
     },
     "execution_count": 207,
     "metadata": {},
     "output_type": "execute_result"
    }
   ],
   "source": [
    "sigma"
   ]
  },
  {
   "cell_type": "code",
   "execution_count": 206,
   "id": "7ed27947-e290-4d85-b9dd-737d7b17e853",
   "metadata": {
    "collapsed": true,
    "jupyter": {
     "outputs_hidden": true
    },
    "tags": []
   },
   "outputs": [
    {
     "data": {
      "text/plain": [
       "tensor([2.3406, 2.4169, 2.4086, 3.7264, 1.5145, 2.3778, 2.4838, 2.0979, 2.1879,\n",
       "        2.9909, 2.7881, 2.3801, 2.0905, 2.1719, 1.8929, 1.5481, 0.7993, 1.7830,\n",
       "        1.1958, 2.9044, 1.5985, 2.5046, 2.6202, 3.9878, 1.5647, 2.4439, 2.6151,\n",
       "        2.1531, 2.2632, 3.1892, 3.0274, 2.4758, 2.2677, 2.2516, 2.2184, 1.6217,\n",
       "        0.8113, 1.8353, 1.2025, 3.0472, 1.5244, 2.5862, 2.6926, 3.7969, 1.6155,\n",
       "        2.4992, 2.3123, 2.0440, 2.2614, 3.1448, 3.1797, 2.5062, 2.3114, 2.3492,\n",
       "        2.5845, 1.6511, 0.8061, 1.8333, 1.2176, 3.0148, 1.5838, 2.6453, 2.4218,\n",
       "        3.8930, 1.6098, 2.5149, 2.2535, 2.0439, 2.3002, 3.1263, 3.1898, 2.4805,\n",
       "        2.3339, 2.3356, 2.6177, 1.6356, 0.9321, 1.8204, 1.2087, 3.0361, 1.5949,\n",
       "        2.6951, 2.5313, 3.7704, 1.5586, 2.4666, 2.2784, 2.0458, 2.3219, 3.0703,\n",
       "        3.1797, 2.5421, 2.2904, 2.3817, 2.6302, 1.5600, 0.9185, 1.8522, 1.3950,\n",
       "        2.9983, 1.5710, 2.6732, 2.5572, 3.5970, 1.4608, 2.5465, 2.2745, 1.9976,\n",
       "        2.3033, 3.0026, 2.9692, 2.7580, 2.1208, 2.2778, 2.0783, 1.6162, 1.0087,\n",
       "        1.8332, 1.3549, 2.9519, 1.6813, 2.6669, 2.4764, 3.5425, 1.5142, 2.4611,\n",
       "        2.1668, 1.9054, 2.3725, 2.8733, 3.0006, 2.6362, 2.1114, 2.4320, 2.3105,\n",
       "        1.6117, 1.0359, 1.8974, 1.4394, 2.7725, 1.4256, 2.6805, 2.4532, 3.5395,\n",
       "        1.4439, 2.4270, 2.2587, 1.6982, 2.3176, 2.7620, 2.9440, 2.5600, 2.0648,\n",
       "        2.5063, 2.6246, 1.6056, 1.1500, 1.9205, 1.4938, 2.5955, 1.3753, 2.6911,\n",
       "        2.3540, 2.9036, 1.4184, 2.2413, 2.2198, 1.6247, 2.3434, 2.5721, 2.7921,\n",
       "        2.5619, 1.9088, 2.3891, 2.5342, 1.6504, 1.4186, 1.8497, 1.4930, 2.3881])"
      ]
     },
     "execution_count": 206,
     "metadata": {},
     "output_type": "execute_result"
    }
   ],
   "source": [
    "sigma.mean(0)"
   ]
  },
  {
   "cell_type": "code",
   "execution_count": 208,
   "id": "3d712529-e45e-43ac-8ec9-a1eda82b1f94",
   "metadata": {},
   "outputs": [],
   "source": [
    "# fixed I guess?.."
   ]
  },
  {
   "cell_type": "markdown",
   "id": "41f24658-6011-492d-a078-3ed98b7e7992",
   "metadata": {
    "tags": []
   },
   "source": [
    "# Reading DRB1_0301 results"
   ]
  },
  {
   "cell_type": "code",
   "execution_count": 232,
   "id": "7df0f867-f9fb-4714-b943-0ff592e717f4",
   "metadata": {
    "tags": []
   },
   "outputs": [],
   "source": [
    "# Done with motif length 9\n",
    "from sklearn.metrics import roc_auc_score, roc_curve\n",
    "def get_motif(row):\n",
    "    return row['Sequence'][int(row['core_start_index']):int(row['core_start_index'])+9]\n",
    "\n",
    "PATH = '../output/230525_FixedPadding_MHCII_DRB1_0301_kcvs/'\n",
    "dirs = list(filter(lambda x: 'Fixed' in x, os.listdir(PATH)))\n",
    "preds = []\n",
    "for dnms in dirs:\n",
    "    preds.append(pd.read_csv(f\"{PATH}{dnms}/{list(filter(lambda x: 'valid_pred' in x, os.listdir(f'{PATH}{dnms}')))[0]}\"))\n",
    "preds = pd.concat(preds)\n",
    "preds['motif'] = preds.apply(get_motif, axis=1)\n"
   ]
  },
  {
   "cell_type": "code",
   "execution_count": 233,
   "id": "d83e894f-993f-4258-99bc-61bcdccc3378",
   "metadata": {
    "tags": []
   },
   "outputs": [
    {
     "data": {
      "text/html": [
       "<div>\n",
       "<style scoped>\n",
       "    .dataframe tbody tr th:only-of-type {\n",
       "        vertical-align: middle;\n",
       "    }\n",
       "\n",
       "    .dataframe tbody tr th {\n",
       "        vertical-align: top;\n",
       "    }\n",
       "\n",
       "    .dataframe thead th {\n",
       "        text-align: right;\n",
       "    }\n",
       "</style>\n",
       "<table border=\"1\" class=\"dataframe\">\n",
       "  <thead>\n",
       "    <tr style=\"text-align: right;\">\n",
       "      <th></th>\n",
       "      <th></th>\n",
       "      <th>count</th>\n",
       "    </tr>\n",
       "    <tr>\n",
       "      <th>motif_len</th>\n",
       "      <th>target</th>\n",
       "      <th></th>\n",
       "    </tr>\n",
       "  </thead>\n",
       "  <tbody>\n",
       "    <tr>\n",
       "      <th rowspan=\"2\" valign=\"top\">9</th>\n",
       "      <th>0</th>\n",
       "      <td>20927</td>\n",
       "    </tr>\n",
       "    <tr>\n",
       "      <th>1</th>\n",
       "      <td>2323</td>\n",
       "    </tr>\n",
       "  </tbody>\n",
       "</table>\n",
       "</div>"
      ],
      "text/plain": [
       "                  count\n",
       "motif_len target       \n",
       "9         0       20927\n",
       "          1        2323"
      ]
     },
     "execution_count": 233,
     "metadata": {},
     "output_type": "execute_result"
    }
   ],
   "source": [
    "preds['motif_len'] = preds['motif'].apply(len)\n",
    "preds.groupby(['motif_len', 'target']).agg(count=('Sequence','count'))"
   ]
  },
  {
   "cell_type": "code",
   "execution_count": 234,
   "id": "4168317f-9b97-41bd-a65f-4bbe72a59af7",
   "metadata": {
    "tags": []
   },
   "outputs": [
    {
     "data": {
      "image/png": "[encoded data removed]",
      "text/plain": [
       "<Figure size 1440x1440 with 1 Axes>"
      ]
     },
     "metadata": {},
     "output_type": "display_data"
    }
   ],
   "source": [
    "f,a = plt.subplots(1,1, figsize=(8,8))\n",
    "auc = roc_auc_score(preds['label'].astype(int), preds['pred'])\n",
    "fpr, tpr, _ = roc_curve(preds['label'].astype(int), preds['pred'])\n",
    "sns.lineplot(x=fpr, y=tpr, label=f'All motif lengths: AUC={auc:.4f}', estimator = None, ls='--', lw=1, ax=a)\n",
    "\n",
    "# auc = roc_auc_score(preds.query('motif_len!=9')['label'].astype(int), preds.query('motif_len!=9')['pred'])\n",
    "# fpr, tpr, _ = roc_curve(preds.query('motif_len!=9')['label'].astype(int), preds.query('motif_len!=9')['pred'])\n",
    "# sns.lineplot(x=fpr, y=tpr, label=f'Non 9mers motifs: AUC={auc:.4f}', estimator=None, ls='--', lw=1, ax=a)\n",
    "\n",
    "\n",
    "# auc = roc_auc_score(preds.query('motif_len==9')['label'].astype(int), preds.query('motif_len==9')['pred'])\n",
    "# fpr, tpr, _ = roc_curve(preds.query('motif_len==9')['label'].astype(int), preds.query('motif_len==9')['pred'])\n",
    "# sns.lineplot(x=fpr, y=tpr, label=f'only 9mers motifs: AUC={auc:.4f}', estimator=None,ls='--', lw=1,  ax=a)\n",
    "# a.set_title('My model does something wrong sometimes\\nand selects the wrong motif lengths (because of padding)')\n",
    "f.savefig(f'{PATH}roc_curve_valid.png', dpi=300, bbox_inches='tight')"
   ]
  },
  {
   "cell_type": "code",
   "execution_count": 235,
   "id": "bd540d52-698f-4c58-8bee-41422d36b977",
   "metadata": {},
   "outputs": [],
   "source": [
    "preds.query('label==1')['motif'].to_csv(f'{PATH}pred_motif_binders.txt', index=False,header=None)\n",
    "preds.query('label==0')['motif'].to_csv(f'{PATH}pred_motif_non_binders.txt', index=False,header=None)\n",
    "preds['motif'].to_csv(f'{PATH}pred_motif_both.txt', index=False,header=None)\n"
   ]
  },
  {
   "cell_type": "markdown",
   "id": "a195245e-47f7-42f8-9df5-a6cc00a0d623",
   "metadata": {},
   "source": [
    "# Redone with No STD"
   ]
  },
  {
   "cell_type": "code",
   "execution_count": 239,
   "id": "818f2ead-665b-4a36-8c54-4c74c1bcbc48",
   "metadata": {
    "tags": []
   },
   "outputs": [],
   "source": [
    "# Done with motif length 9\n",
    "from sklearn.metrics import roc_auc_score, roc_curve\n",
    "def get_motif(row):\n",
    "    return row['Sequence'][int(row['core_start_index']):int(row['core_start_index'])+9]\n",
    "\n",
    "PATH = '../output/230525_NOSTD_FixedPadding_MHCII_DRB1_0301_kcvs/'\n",
    "dirs = list(filter(lambda x: 'Fixed' in x, os.listdir(PATH)))\n",
    "preds = []\n",
    "for dnms in dirs:\n",
    "    preds.append(pd.read_csv(f\"{PATH}{dnms}/{list(filter(lambda x: 'valid_pred' in x, os.listdir(f'{PATH}{dnms}')))[0]}\"))\n",
    "preds = pd.concat(preds)\n",
    "preds['motif'] = preds.apply(get_motif, axis=1)\n"
   ]
  },
  {
   "cell_type": "code",
   "execution_count": 228,
   "id": "60c90228-3b26-4743-8fa1-3642905a3cfd",
   "metadata": {
    "tags": []
   },
   "outputs": [
    {
     "data": {
      "text/html": [
       "<div>\n",
       "<style scoped>\n",
       "    .dataframe tbody tr th:only-of-type {\n",
       "        vertical-align: middle;\n",
       "    }\n",
       "\n",
       "    .dataframe tbody tr th {\n",
       "        vertical-align: top;\n",
       "    }\n",
       "\n",
       "    .dataframe thead th {\n",
       "        text-align: right;\n",
       "    }\n",
       "</style>\n",
       "<table border=\"1\" class=\"dataframe\">\n",
       "  <thead>\n",
       "    <tr style=\"text-align: right;\">\n",
       "      <th></th>\n",
       "      <th></th>\n",
       "      <th>count</th>\n",
       "    </tr>\n",
       "    <tr>\n",
       "      <th>motif_len</th>\n",
       "      <th>target</th>\n",
       "      <th></th>\n",
       "    </tr>\n",
       "  </thead>\n",
       "  <tbody>\n",
       "    <tr>\n",
       "      <th rowspan=\"2\" valign=\"top\">9</th>\n",
       "      <th>0</th>\n",
       "      <td>20927</td>\n",
       "    </tr>\n",
       "    <tr>\n",
       "      <th>1</th>\n",
       "      <td>2323</td>\n",
       "    </tr>\n",
       "  </tbody>\n",
       "</table>\n",
       "</div>"
      ],
      "text/plain": [
       "                  count\n",
       "motif_len target       \n",
       "9         0       20927\n",
       "          1        2323"
      ]
     },
     "execution_count": 228,
     "metadata": {},
     "output_type": "execute_result"
    }
   ],
   "source": [
    "preds['motif_len'] = preds['motif'].apply(len)\n",
    "preds.groupby(['motif_len', 'target']).agg(count=('Sequence','count'))"
   ]
  },
  {
   "cell_type": "code",
   "execution_count": 230,
   "id": "c4c7190d-0d7a-4406-b651-65d0a66f8156",
   "metadata": {
    "tags": []
   },
   "outputs": [
    {
     "data": {
      "image/png": "[encoded data removed]",
      "text/plain": [
       "<Figure size 1440x1440 with 1 Axes>"
      ]
     },
     "metadata": {},
     "output_type": "display_data"
    }
   ],
   "source": [
    "f,a = plt.subplots(1,1, figsize=(8,8))\n",
    "auc = roc_auc_score(preds['label'].astype(int), preds['pred'])\n",
    "fpr, tpr, _ = roc_curve(preds['label'].astype(int), preds['pred'])\n",
    "sns.lineplot(x=fpr, y=tpr, label=f'All motif lengths: AUC={auc:.4f}', estimator = None, ls='--', lw=1, ax=a)\n",
    "f.savefig(f'{PATH}roc_curve_valid.png', dpi=300, bbox_inches='tight')"
   ]
  },
  {
   "cell_type": "code",
   "execution_count": 231,
   "id": "8d32bb5c-3cd0-4855-a628-b06a8e3275bd",
   "metadata": {},
   "outputs": [],
   "source": [
    "preds.query('label==1')['motif'].to_csv(f'{PATH}pred_motif_binders.txt', index=False,header=None)\n",
    "preds.query('label==0')['motif'].to_csv(f'{PATH}pred_motif_non_binders.txt', index=False,header=None)\n",
    "preds['motif'].to_csv(f'{PATH}pred_motif_both.txt', index=False,header=None)\n"
   ]
  },
  {
   "cell_type": "code",
   "execution_count": null,
   "id": "6a6423c4-0830-4760-b304-466614e2e424",
   "metadata": {},
   "outputs": [],
   "source": []
  }
 ],
 "metadata": {
  "kernelspec": {
   "display_name": "Python [conda env:phd] *",
   "language": "python",
   "name": "conda-env-phd-py"
  },
  "language_info": {
   "codemirror_mode": {
    "name": "ipython",
    "version": 3
   },
   "file_extension": ".py",
   "mimetype": "text/x-python",
   "name": "python",
   "nbconvert_exporter": "python",
   "pygments_lexer": "ipython3",
   "version": "3.10.8"
  }
 },
 "nbformat": 4,
 "nbformat_minor": 5
}
