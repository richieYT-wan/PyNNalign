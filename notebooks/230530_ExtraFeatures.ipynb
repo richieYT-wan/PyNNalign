{
 "cells": [
  {
   "cell_type": "code",
   "execution_count": 76,
   "id": "9d12d6a7-20ed-4ffb-bd91-4df9d7d0649f",
   "metadata": {},
   "outputs": [
    {
     "name": "stdout",
     "output_type": "stream",
     "text": [
      "The autoreload extension is already loaded. To reload it, use:\n",
      "  %reload_ext autoreload\n"
     ]
    },
    {
     "data": {
      "image/png": "[encoded data removed]",
      "text/plain": [
       "<Figure size 1.8x1.8 with 1 Axes>"
      ]
     },
     "metadata": {},
     "output_type": "display_data"
    }
   ],
   "source": [
    "%load_ext autoreload\n",
    "%autoreload 2\n",
    "\n",
    "import pandas as pd\n",
    "import dataframe_image as dfi\n",
    "import numpy as np\n",
    "import sklearn\n",
    "import matplotlib.pyplot as plt\n",
    "import matplotlib as mpl\n",
    "import seaborn as sns\n",
    "f,a = plt.subplots(1,1,figsize=(1e-2, 1e-2))\n",
    "mpl.rcParams['figure.dpi'] = 180\n",
    "sns.set_style('darkgrid')\n",
    "import os,sys\n",
    "module_path = os.path.abspath(os.path.join('..'))\n",
    "if module_path not in sys.path:\n",
    "    sys.path.append(module_path)\n",
    "import warnings\n",
    "warnings.filterwarnings(\"ignore\")\n",
    "\n",
    "from tqdm.auto import tqdm\n",
    "from datetime import datetime as dt\n",
    "from src.utils import mkdirs, convert_path, pkl_dump, pkl_load, display_side, add_median_labels, get_palette\n",
    "from src.data_processing import BL62_VALUES, BL62FREQ_VALUES, HLAS, AA_KEYS\n",
    "from src.metrics import get_nested_feature_importance, plot_feature_importance\n",
    "from src.models import Standardizer, NNAlign\n",
    "from src.utils import pkl_load, pkl_dump, get_palette\n",
    "from src.bootstrap import bootstrap_eval, get_pval, plot_pval\n",
    "from src.bootstrap import get_pval, plot_pval\n",
    "from src.datasets import NNAlignDataset, get_NNAlign_dataloader\n",
    "import torch\n",
    "from torch import nn\n",
    "from torch.nn import functional as F\n",
    "from torch import optim\n",
    "mpl.rcParams['figure.dpi'] = 180"
   ]
  },
  {
   "cell_type": "code",
   "execution_count": 3,
   "id": "c3e4be56-f31c-4d17-b67a-510e80f9ca86",
   "metadata": {},
   "outputs": [],
   "source": [
    "cedar_aligned = pd.read_csv('../data/aligned_icore/230418_cedar_aligned.csv')\n",
    "prime_aligned = pd.read_csv('../data/aligned_icore/230418_prime_aligned.csv')\n",
    "viral = pd.read_csv('../data/other/viral.csv').rename(columns={'sequence':'Peptide'})\n",
    "drb = pd.read_csv('../data/NetMHCIIpan_train/drb1_0301.csv')"
   ]
  },
  {
   "cell_type": "markdown",
   "id": "99b7fa3f-b7b7-4033-ba29-c6c5a8934a4b",
   "metadata": {
    "jp-MarkdownHeadingCollapsed": true,
    "tags": []
   },
   "source": [
    "# check dataset / extra features behaviour"
   ]
  },
  {
   "cell_type": "code",
   "execution_count": 11,
   "id": "e8527d51-642a-4f6e-a9e3-70aa5e8d4b5c",
   "metadata": {},
   "outputs": [],
   "source": [
    "from src.datasets import get_NNAlign_dataloader, NNAlignDataset\n",
    "loader, dataset = get_NNAlign_dataloader(cedar_aligned, max_len=12, window_size=6, encoding='BL50LO', \n",
    "                                        seq_col='Peptide', target_col='agg_label', pad_scale=-15, return_dataset=True, \n",
    "                                        feature_cols = ['EL_rank_mut', 'icore_dissimilarity_score'])"
   ]
  },
  {
   "cell_type": "code",
   "execution_count": 21,
   "id": "40a2f3c5-224f-4063-9600-3ce33c0582e4",
   "metadata": {},
   "outputs": [],
   "source": [
    "from src.models import NNAlign\n",
    "# Taking a sample and testing some stuff\n",
    "xd, xd_mask, _, _ = dataset[50:100]\n",
    "x_tensor, x_mask, x_features, y_true = dataset[:10]\n",
    "mymodel = NNAlign(30, 6)\n",
    "mymodel.fit_standardizer(xd, xd_mask)\n",
    "z = mymodel(x_tensor, x_mask)"
   ]
  },
  {
   "cell_type": "code",
   "execution_count": 23,
   "id": "e856c218-2944-4bd5-be24-4b390e25cae2",
   "metadata": {},
   "outputs": [
    {
     "data": {
      "text/plain": [
       "(torch.Size([10, 2]), torch.Size([10, 1]))"
      ]
     },
     "execution_count": 23,
     "metadata": {},
     "output_type": "execute_result"
    }
   ],
   "source": [
    "x_features.shape, z.shape"
   ]
  },
  {
   "cell_type": "code",
   "execution_count": 29,
   "id": "68299782-8c00-468c-af66-85db9ce74836",
   "metadata": {},
   "outputs": [
    {
     "data": {
      "text/plain": [
       "torch.Size([10, 3])"
      ]
     },
     "execution_count": 29,
     "metadata": {},
     "output_type": "execute_result"
    }
   ],
   "source": [
    "torch.cat([z, x_features], dim=1).shape"
   ]
  },
  {
   "cell_type": "markdown",
   "id": "12a7021b-f68e-4755-b13e-7bdd480c5124",
   "metadata": {
    "jp-MarkdownHeadingCollapsed": true,
    "tags": []
   },
   "source": [
    "# Rearrange data"
   ]
  },
  {
   "cell_type": "code",
   "execution_count": 52,
   "id": "f39d3417-57cd-4876-8db6-1479595a5fb7",
   "metadata": {},
   "outputs": [],
   "source": [
    "cedar_aligned = pd.read_csv('../data/aligned_icore/230418_cedar_aligned.csv')\n",
    "prime_aligned = pd.read_csv('../data/aligned_icore/230418_prime_aligned.csv')\n",
    "nepdb_aligned = pd.read_csv('../data/aligned_icore/230418_nepdb_aligned.csv')"
   ]
  },
  {
   "cell_type": "code",
   "execution_count": 53,
   "id": "f3536945-5b8c-4b3c-bbce-065a98182a06",
   "metadata": {},
   "outputs": [
    {
     "data": {
      "text/plain": [
       "['HLA',\n",
       " 'agg_label',\n",
       " 'fold',\n",
       " 'Peptide',\n",
       " 'wild_type',\n",
       " 'icore_mut',\n",
       " 'core_mut',\n",
       " 'len',\n",
       " 'EL_rank_mut',\n",
       " 'EL_rank_wt',\n",
       " 'trueHLA_EL_rank',\n",
       " 'icore_mut_start',\n",
       " 'len_icore_mut',\n",
       " 'icore_wt_aligned',\n",
       " 'icore_dissimilarity_score',\n",
       " 'icore_len_mut',\n",
       " 'icore_len_wt',\n",
       " 'icore_anchor',\n",
       " 'icore_mutation_position',\n",
       " 'icore_anchor_mutation',\n",
       " 'icore_mut_score',\n",
       " 'icore_blsm_mut_score',\n",
       " 'aliphatic_index',\n",
       " 'boman',\n",
       " 'hydrophobicity',\n",
       " 'isoelectric_point',\n",
       " 'VHSE1',\n",
       " 'VHSE3',\n",
       " 'VHSE7',\n",
       " 'VHSE8',\n",
       " 'seq_id',\n",
       " 'core_wt_aligned',\n",
       " 'EL_rank_wt_aligned',\n",
       " 'ratio_rank',\n",
       " 'foreignness_score',\n",
       " 'expanded_input']"
      ]
     },
     "execution_count": 53,
     "metadata": {},
     "output_type": "execute_result"
    }
   ],
   "source": [
    "rename_cols = {'Peptide':'mutant', 'agg_label':'target', 'icore_dissimilarity_score':'icore_selfsimilarity'}\n",
    "cols_ = list(filter(lambda x: 'mixed' not in x and 'improves' not in x.lower() and 'Unnamed' not in x and 'fullpep_vs_icore_rank' not in x, cedar_aligned.columns))\n",
    "cols_"
   ]
  },
  {
   "cell_type": "code",
   "execution_count": 54,
   "id": "0940d5b1-c046-476a-8fa5-c553d9dc3c4f",
   "metadata": {},
   "outputs": [],
   "source": [
    "cedar_aligned[cols_].rename(columns = rename_cols).to_csv('../data/aligned_icore/230530_cedar_aligned.csv', index=False)\n",
    "prime_aligned[cols_].rename(columns = rename_cols).to_csv('../data/aligned_icore/230530_prime_aligned.csv', index=False)\n",
    "nepdb_aligned[[x for x in cols_ if x!='fold']].rename(columns = rename_cols).to_csv('../data/aligned_icore/230530_nepdb_aligned.csv', index=False)"
   ]
  },
  {
   "cell_type": "code",
   "execution_count": 55,
   "id": "793573b3-583b-4e47-bba4-2332eabeaf4c",
   "metadata": {},
   "outputs": [],
   "source": [
    "cedar_expr = pd.read_csv('../data/pepx/230418_cedar_aligned_pepx.csv')\n",
    "prime_expr = pd.read_csv('../data/pepx/230418_prime_aligned_pepx.csv')\n",
    "nepdb_expr = pd.read_csv('../data/pepx/230418_nepdb_aligned_pepx.csv')\n",
    "cols_ = list(filter(lambda x: 'ic_len' not in x and  'mixed' not in x and 'improves' not in x.lower() and 'Unnamed' not in x and 'impr_' not in x and 'fullpep_vs_icore_rank' not in x, cedar_expr.columns))\n",
    "cedar_expr[cols_].rename(columns=rename_cols).to_csv('../data/pepx/230530_cedar_expr.csv', index=False)\n",
    "prime_expr[cols_].rename(columns=rename_cols).to_csv('../data/pepx/230530_prime_expr.csv', index=False)\n",
    "nepdb_expr[[x for x in cols_ if x!='fold']].rename(columns=rename_cols).to_csv('../data/pepx/230530_nepdb_expr.csv', index=False)"
   ]
  },
  {
   "cell_type": "code",
   "execution_count": 57,
   "id": "1e3e9d7f-f7d2-4bca-afb3-cb6868f22104",
   "metadata": {},
   "outputs": [
    {
     "data": {
      "text/plain": [
       "['icore_selfsimilarity']"
      ]
     },
     "execution_count": 57,
     "metadata": {},
     "output_type": "execute_result"
    }
   ],
   "source": [
    "list(filter(lambda x: 'sim' in x, cedar_expr.rename(columns=rename_cols).columns))"
   ]
  },
  {
   "cell_type": "code",
   "execution_count": 100,
   "id": "1174b4af-4d80-46ef-8e49-37e831a58218",
   "metadata": {},
   "outputs": [
    {
     "name": "stdout",
     "output_type": "stream",
     "text": [
      "<class 'list'> 4 <class 'torch.Tensor'> 64 True\n",
      "<class 'list'> 3 <class 'torch.Tensor'> 64 False\n"
     ]
    }
   ],
   "source": [
    "cedar_aligned = pd.read_csv('../data/aligned_icore/230530_cedar_aligned.csv')\n",
    "ef_loader, ef_dataset = get_NNAlign_dataloader(cedar_aligned, max_len=12, window_size=5, seq_col='mutant',\n",
    "                                               target_col='target', feature_cols = ['EL_rank_mut'], return_dataset=True)\n",
    "for data in ef_loader:\n",
    "    x1_tensor, x1_mask, x1_feat, y1 = data\n",
    "    print(type(data), len(data), type(data[0]), len(data[0]), ef_dataset.extra_features_flag)\n",
    "    break\n",
    "    \n",
    "nr_loader, nr_dataset = get_NNAlign_dataloader(cedar_aligned, max_len=12, window_size=5, seq_col='mutant',\n",
    "                                               target_col='target', return_dataset=True)\n",
    "for data in nr_loader:\n",
    "    x2_tensor, x2_mask, y2 = data\n",
    "    print(type(data), len(data), type(data[0]), len(data[0]), nr_dataset.extra_features_flag)\n",
    "    break"
   ]
  },
  {
   "cell_type": "code",
   "execution_count": 87,
   "id": "84c61f13-0831-48e0-b102-56ead0b20982",
   "metadata": {
    "collapsed": true,
    "jupyter": {
     "outputs_hidden": true
    },
    "tags": []
   },
   "outputs": [
    {
     "name": "stdout",
     "output_type": "stream",
     "text": [
      "Unexpected exception formatting exception. Falling back to standard exception\n"
     ]
    },
    {
     "name": "stderr",
     "output_type": "stream",
     "text": [
      "Traceback (most recent call last):\n",
      "  File \"/Users/riwa/opt/anaconda3/envs/phd/lib/python3.10/site-packages/IPython/core/interactiveshell.py\", line 3398, in run_code\n",
      "    exec(code_obj, self.user_global_ns, self.user_ns)\n",
      "  File \"/var/folders/62/pqfhzdzx689fgftqcgjrgbcw0000gp/T/ipykernel_34921/3968390749.py\", line 31, in <cell line: 31>\n",
      "    train_stuff = train_model_step(model, criterion, optimizer, train_loader)\n",
      "  File \"/Users/riwa/Documents/code/PyNNalign/src/train_eval.py\", line 100, in train_model_step\n",
      "    output = model(*data)\n",
      "  File \"/Users/riwa/opt/anaconda3/envs/phd/lib/python3.10/site-packages/torch/nn/modules/module.py\", line 1130, in _call_impl\n",
      "    return forward_call(*input, **kwargs)\n",
      "  File \"/Users/riwa/Documents/code/PyNNalign/src/models.py\", line 436, in forward\n",
      "    z = self.ef_inlayer(z)\n",
      "  File \"/Users/riwa/opt/anaconda3/envs/phd/lib/python3.10/site-packages/torch/nn/modules/module.py\", line 1130, in _call_impl\n",
      "    return forward_call(*input, **kwargs)\n",
      "  File \"/Users/riwa/opt/anaconda3/envs/phd/lib/python3.10/site-packages/torch/nn/modules/linear.py\", line 114, in forward\n",
      "    return F.linear(input, self.weight, self.bias)\n",
      "RuntimeError: mat1 and mat2 shapes cannot be multiplied (64x3 and 2x25)\n",
      "\n",
      "During handling of the above exception, another exception occurred:\n",
      "\n",
      "Traceback (most recent call last):\n",
      "  File \"/Users/riwa/opt/anaconda3/envs/phd/lib/python3.10/site-packages/IPython/core/interactiveshell.py\", line 1993, in showtraceback\n",
      "    stb = self.InteractiveTB.structured_traceback(\n",
      "  File \"/Users/riwa/opt/anaconda3/envs/phd/lib/python3.10/site-packages/IPython/core/ultratb.py\", line 1118, in structured_traceback\n",
      "    return FormattedTB.structured_traceback(\n",
      "  File \"/Users/riwa/opt/anaconda3/envs/phd/lib/python3.10/site-packages/IPython/core/ultratb.py\", line 1012, in structured_traceback\n",
      "    return VerboseTB.structured_traceback(\n",
      "  File \"/Users/riwa/opt/anaconda3/envs/phd/lib/python3.10/site-packages/IPython/core/ultratb.py\", line 865, in structured_traceback\n",
      "    formatted_exception = self.format_exception_as_a_whole(etype, evalue, etb, number_of_lines_of_context,\n",
      "  File \"/Users/riwa/opt/anaconda3/envs/phd/lib/python3.10/site-packages/IPython/core/ultratb.py\", line 818, in format_exception_as_a_whole\n",
      "    frames.append(self.format_record(r))\n",
      "  File \"/Users/riwa/opt/anaconda3/envs/phd/lib/python3.10/site-packages/IPython/core/ultratb.py\", line 736, in format_record\n",
      "    result += ''.join(_format_traceback_lines(frame_info.lines, Colors, self.has_colors, lvals))\n",
      "  File \"/Users/riwa/opt/anaconda3/envs/phd/lib/python3.10/site-packages/stack_data/utils.py\", line 145, in cached_property_wrapper\n",
      "    value = obj.__dict__[self.func.__name__] = self.func(obj)\n",
      "  File \"/Users/riwa/opt/anaconda3/envs/phd/lib/python3.10/site-packages/stack_data/core.py\", line 698, in lines\n",
      "    pieces = self.included_pieces\n",
      "  File \"/Users/riwa/opt/anaconda3/envs/phd/lib/python3.10/site-packages/stack_data/utils.py\", line 145, in cached_property_wrapper\n",
      "    value = obj.__dict__[self.func.__name__] = self.func(obj)\n",
      "  File \"/Users/riwa/opt/anaconda3/envs/phd/lib/python3.10/site-packages/stack_data/core.py\", line 649, in included_pieces\n",
      "    pos = scope_pieces.index(self.executing_piece)\n",
      "  File \"/Users/riwa/opt/anaconda3/envs/phd/lib/python3.10/site-packages/stack_data/utils.py\", line 145, in cached_property_wrapper\n",
      "    value = obj.__dict__[self.func.__name__] = self.func(obj)\n",
      "  File \"/Users/riwa/opt/anaconda3/envs/phd/lib/python3.10/site-packages/stack_data/core.py\", line 628, in executing_piece\n",
      "    return only(\n",
      "  File \"/Users/riwa/opt/anaconda3/envs/phd/lib/python3.10/site-packages/executing/executing.py\", line 164, in only\n",
      "    raise NotOneValueFound('Expected one value, found 0')\n",
      "executing.executing.NotOneValueFound: Expected one value, found 0\n"
     ]
    }
   ],
   "source": [
    "from src.models import NNAlignEF, NNAlign\n",
    "from src.datasets import get_NNAlign_dataloader, NNAlignDataset\n",
    "from src.train_eval import train_model_step, eval_model_step, predict_model\n",
    "cedar_aligned = pd.read_csv('../data/aligned_icore/230530_cedar_aligned.csv')\n",
    "n_hidden=25\n",
    "window_size=5\n",
    "dropout=0.15\n",
    "batchnorm=True\n",
    "feature_cols = ['EL_rank_mut', 'icore_selfsimilarity']\n",
    "n_extrafeatures= len(feature_cols)\n",
    "activation = nn.ReLU()\n",
    "indel, standardize = False, True\n",
    "\n",
    "# With extra col\n",
    "train_loader, train_dataset = get_NNAlign_dataloader(cedar_aligned.query('fold!=0 and fold != 1'), max_len=12, window_size=5, \n",
    "                                                     seq_col='mutant', target_col='target',\n",
    "                                                     feature_cols = feature_cols, return_dataset=True)\n",
    "valid_loader, valid_dataset = get_NNAlign_dataloader(cedar_aligned.query('fold==0'), max_len=12, window_size=5, \n",
    "                                                     seq_col='mutant', target_col='target',\n",
    "                                                     feature_cols = feature_cols, return_dataset=True)\n",
    "test_loader, test_dataset = get_NNAlign_dataloader(cedar_aligned.query('fold==1'), max_len=12, window_size=5, \n",
    "                                                   seq_col='mutant', target_col='target',\n",
    "                                                     feature_cols = feature_cols, return_dataset=True)\n",
    "\n",
    "model = NNAlignEF(n_hidden, window_size, activation, batchnorm, dropout, indel, standardize, \n",
    "                  n_extrafeatures, n_hidden, activation, batchnorm, dropout)\n",
    "\n",
    "model.fit_standardizer(x_tensor=train_dataset.x_tensor, x_mask=train_dataset.x_mask, x_features=train_dataset.x_features)\n",
    "\n",
    "criterion = nn.BCEWithLogitsLoss(reduction='mean')\n",
    "optimizer = optim.SGD(model.parameters(), lr=1e-4, weight_decay=1e-2)\n",
    "train_stuff = train_model_step(model, criterion, optimizer, train_loader)\n",
    "valid_stuff = eval_model_step(model, criterion, valid_loader)\n",
    "predict_stuff = predict_model(model, test_dataset)"
   ]
  },
  {
   "cell_type": "code",
   "execution_count": 83,
   "id": "7bbaff9d-4f1c-45fa-9d97-1cf7df311324",
   "metadata": {},
   "outputs": [
    {
     "data": {
      "text/plain": [
       "torch.Size([100, 2])"
      ]
     },
     "execution_count": 83,
     "metadata": {},
     "output_type": "execute_result"
    }
   ],
   "source": [
    "x_features = train_dataset[:100][2]\n",
    "x_features.shape"
   ]
  },
  {
   "cell_type": "code",
   "execution_count": 86,
   "id": "f47e321e-b89b-4782-8830-26de820a07fe",
   "metadata": {},
   "outputs": [
    {
     "data": {
      "text/plain": [
       "tensor([1.7635, 0.9495])"
      ]
     },
     "execution_count": 86,
     "metadata": {},
     "output_type": "execute_result"
    }
   ],
   "source": [
    "x_features.mean(dim=0)"
   ]
  },
  {
   "cell_type": "code",
   "execution_count": 94,
   "id": "1a813c70-e061-4a52-bdbb-2b8c04803bab",
   "metadata": {},
   "outputs": [
    {
     "data": {
      "text/plain": [
       "True"
      ]
     },
     "execution_count": 94,
     "metadata": {},
     "output_type": "execute_result"
    }
   ],
   "source": [
    "type(train_loader.sampler) == torch.utils.data.RandomSampler"
   ]
  },
  {
   "cell_type": "markdown",
   "id": "735a366a-64e5-4caa-bc43-bffb50e8a38b",
   "metadata": {},
   "source": [
    "# Some manual tuning / exploration with hyperparams now that everything works"
   ]
  },
  {
   "cell_type": "markdown",
   "id": "5eaf2e7f-f688-4134-84c3-a425665d3aa4",
   "metadata": {},
   "source": [
    "## Reloading results from simple 10fold kcv script no EF vs EF"
   ]
  },
  {
   "cell_type": "code",
   "execution_count": 129,
   "id": "05c595e4-63c3-46b8-8a9c-7738409471c7",
   "metadata": {},
   "outputs": [
    {
     "name": "stdout",
     "output_type": "stream",
     "text": [
      "Base NNAlign:\tAUC=0.6141508\n",
      "NNAlign+Rank:\tAUC=0.6610781\n"
     ]
    }
   ],
   "source": [
    "from sklearn.metrics import roc_auc_score\n",
    "PATH = '../output/230530_EF_COMPARISON/'\n",
    "# No Extra feature\n",
    "dirs = list(filter(lambda x: 'NO_EF' in x, os.listdir(PATH)))\n",
    "no_efs=[]\n",
    "for i,dnms in enumerate(dirs):\n",
    "    bn_preds = pd.read_csv(f\"{PATH}{dnms}/{list(filter(lambda x: 'valid_pred' in x, os.listdir(f'{PATH}{dnms}')))[0]}\")\n",
    "    no_efs.append(bn_preds)\n",
    "\n",
    "no_efs= pd.concat(no_efs)\n",
    "\n",
    "# With %Rank\n",
    "dirs = list(filter(lambda x: 'WITH_EF' in x, os.listdir(PATH)))\n",
    "with_efs=[]\n",
    "for i,dnms in enumerate(dirs):\n",
    "    bn_preds = pd.read_csv(f\"{PATH}{dnms}/{list(filter(lambda x: 'valid_pred' in x, os.listdir(f'{PATH}{dnms}')))[0]}\")\n",
    "    with_efs.append(bn_preds)\n",
    "\n",
    "with_efs= pd.concat(with_efs)\n",
    "print(f\"Base NNAlign:\\tAUC={roc_auc_score(no_efs['target'], no_efs['pred']):.7f}\\nNNAlign+Rank:\\tAUC={roc_auc_score(with_efs['target'],with_efs['pred']):.7f}\")"
   ]
  },
  {
   "cell_type": "code",
   "execution_count": 131,
   "id": "dd2c4f7e-cb21-424a-b71d-90d7bf813d9a",
   "metadata": {},
   "outputs": [],
   "source": [
    "with_efs.query('target==1')['motif'].to_csv(f'{PATH}motif_with_EF.txt',index=False,header=False)\n",
    "no_efs.query('target==1')['motif'].to_csv(f'{PATH}motif_no_EF.txt',index=False,header=False)"
   ]
  },
  {
   "cell_type": "markdown",
   "id": "73e12e85-0a98-4911-8fc5-02bdcc40fb4e",
   "metadata": {},
   "source": [
    "## Other"
   ]
  },
  {
   "cell_type": "code",
   "execution_count": null,
   "id": "3f474f45-4d65-48ce-bb6b-02f98a324872",
   "metadata": {},
   "outputs": [],
   "source": [
    "from src.models import NNAlignEF, NNAlign\n",
    "from src.datasets import get_NNAlign_dataloader, NNAlignDataset\n",
    "from src.train_eval import train_model_step, eval_model_step, predict_model, train_eval_loops\n",
    "cedar_aligned = pd.read_csv('../data/aligned_icore/230530_cedar_aligned.csv')\n",
    "n_hidden=25\n",
    "n_hidden_ef=5\n",
    "window_size=5\n",
    "dropout=0.15\n",
    "batchnorm=True\n",
    "feature_cols = ['EL_rank_mut', 'icore_selfsimilarity']\n",
    "n_extrafeatures= len(feature_cols)\n",
    "activation = nn.ReLU()\n",
    "indel, standardize = False, True\n",
    "\n",
    "\n",
    "\n",
    "for f in sorted(cedar_aligned.fold.unique()): \n",
    "    # With extra col\n",
    "    train_loader, train_dataset = get_NNAlign_dataloader(cedar_aligned.query('fold!=@f'), max_len=12, window_size=5, \n",
    "                                                         seq_col='mutant', target_col='target',\n",
    "                                                         feature_cols = feature_cols, return_dataset=True)\n",
    "    valid_loader, valid_dataset = get_NNAlign_dataloader(cedar_aligned.query('fold==@f'), max_len=12, window_size=5, \n",
    "                                                         seq_col='mutant', target_col='target',\n",
    "                                                         feature_cols = feature_cols, return_dataset=True)\n",
    "    \n",
    "    model = NNAlignEF(n_hidden, window_size, activation, batchnorm, dropout, indel, standardize, \n",
    "                      n_extrafeatures, n_hidden_ef, activation, batchnorm, dropout_ef=0.0)\n",
    "    \n",
    "    model.fit_standardizer(x_tensor=train_dataset.x_tensor, x_mask=train_dataset.x_mask, x_features=train_dataset.x_features)"
   ]
  },
  {
   "cell_type": "code",
   "execution_count": 104,
   "id": "ea97a6ca-f8c8-4bd1-9867-7338f9a6e6db",
   "metadata": {},
   "outputs": [],
   "source": [
    "xs_ef = ef_dataset[:][:-1]\n",
    "y_ef = ef_dataset[:][-1]\n",
    "xs_nr = nr_dataset[:][:-1]\n",
    "y_nr = nr_dataset[:][-1]\n"
   ]
  },
  {
   "cell_type": "code",
   "execution_count": 103,
   "id": "cbe10896-f2ca-4681-a406-e940314da316",
   "metadata": {},
   "outputs": [
    {
     "data": {
      "text/plain": [
       "(2, 3)"
      ]
     },
     "execution_count": 103,
     "metadata": {},
     "output_type": "execute_result"
    }
   ],
   "source": [
    "len(xs_nr), len(xs_ef)"
   ]
  },
  {
   "cell_type": "code",
   "execution_count": 107,
   "id": "1a13469a-faa4-4ad0-8e7a-d8b690e3cde1",
   "metadata": {},
   "outputs": [
    {
     "data": {
      "text/plain": [
       "True"
      ]
     },
     "execution_count": 107,
     "metadata": {},
     "output_type": "execute_result"
    }
   ],
   "source": [
    "all(y_ef==y_nr)"
   ]
  },
  {
   "cell_type": "code",
   "execution_count": 132,
   "id": "8ad11933-7ff7-4678-b069-8d8ab9710277",
   "metadata": {},
   "outputs": [
    {
     "data": {
      "text/plain": [
       "0.5"
      ]
     },
     "execution_count": 132,
     "metadata": {},
     "output_type": "execute_result"
    }
   ],
   "source": [
    "nn.Dropout(0.5).p"
   ]
  },
  {
   "cell_type": "code",
   "execution_count": 137,
   "id": "6b17ee9f-d00c-4bcd-afa7-8f29447e19b4",
   "metadata": {},
   "outputs": [
    {
     "data": {
      "text/plain": [
       "NNAlignEF(\n",
       "  (nnalign_model): NNAlign(\n",
       "    (nnalign): NNAlignSinglePass(\n",
       "      (in_layer): Linear(in_features=100, out_features=1, bias=True)\n",
       "      (out_layer): Linear(in_features=1, out_features=1, bias=True)\n",
       "      (dropout): Dropout(p=0.0, inplace=False)\n",
       "      (act): SELU()\n",
       "    )\n",
       "    (standardizer): StandardizerSequence()\n",
       "  )\n",
       "  (ef_standardizer): StandardizerFeatures()\n",
       "  (ef_inlayer): Linear(in_features=1, out_features=5, bias=True)\n",
       "  (ef_outlayer): Linear(in_features=5, out_features=1, bias=True)\n",
       "  (ef_act): SELU()\n",
       "  (ef_dropout): Dropout(p=0.0, inplace=False)\n",
       ")"
      ]
     },
     "execution_count": 137,
     "metadata": {},
     "output_type": "execute_result"
    }
   ],
   "source": [
    "from src.models import NNAlignEF, NNAlign\n",
    "{'a':NNAlignEF, 'b':NNAlign}['a'](1,5)"
   ]
  },
  {
   "cell_type": "markdown",
   "id": "e13102eb-e542-444c-8e14-bd3ecbf8b5ce",
   "metadata": {},
   "source": [
    "# Testing single vs double"
   ]
  },
  {
   "cell_type": "code",
   "execution_count": 149,
   "id": "26d2782f-1161-49e4-b919-69b61f7e20d3",
   "metadata": {},
   "outputs": [
    {
     "name": "stdout",
     "output_type": "stream",
     "text": [
      "single:\tAUC=0.6468520\n",
      "double:\tAUC=0.6610781\n"
     ]
    }
   ],
   "source": [
    "from sklearn.metrics import roc_auc_score\n",
    "PATH = '../output/230531_EF_TEST/'\n",
    "# No Extra feature\n",
    "dirs = list(filter(lambda x: 'SINGLE' in x, os.listdir(PATH)))\n",
    "single_ef=[]\n",
    "for i,dnms in enumerate(dirs):\n",
    "    bn_preds = pd.read_csv(f\"{PATH}{dnms}/{list(filter(lambda x: 'valid_pred' in x, os.listdir(f'{PATH}{dnms}')))[0]}\")\n",
    "    single_ef.append(bn_preds)\n",
    "\n",
    "single_ef= pd.concat(single_ef)\n",
    "\n",
    "# With %Rank\n",
    "dirs = list(filter(lambda x: 'DOUBLE' in x, os.listdir(PATH)))\n",
    "double_ef=[]\n",
    "for i,dnms in enumerate(dirs):\n",
    "    bn_preds = pd.read_csv(f\"{PATH}{dnms}/{list(filter(lambda x: 'valid_pred' in x, os.listdir(f'{PATH}{dnms}')))[0]}\")\n",
    "    double_ef.append(bn_preds)\n",
    "\n",
    "double_ef= pd.concat(double_ef)\n",
    "print(f\"single:\\tAUC={roc_auc_score(single_ef['target'], single_ef['pred']):.7f}\\ndouble:\\tAUC={roc_auc_score(double_ef['target'],double_ef['pred']):.7f}\")"
   ]
  },
  {
   "cell_type": "code",
   "execution_count": null,
   "id": "bca2af1a-f882-4a93-8d20-15525754deee",
   "metadata": {},
   "outputs": [],
   "source": []
  }
 ],
 "metadata": {
  "kernelspec": {
   "display_name": "Python [conda env:phd] *",
   "language": "python",
   "name": "conda-env-phd-py"
  },
  "language_info": {
   "codemirror_mode": {
    "name": "ipython",
    "version": 3
   },
   "file_extension": ".py",
   "mimetype": "text/x-python",
   "name": "python",
   "nbconvert_exporter": "python",
   "pygments_lexer": "ipython3",
   "version": "3.10.8"
  }
 },
 "nbformat": 4,
 "nbformat_minor": 5
}
