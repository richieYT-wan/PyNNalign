{
 "cells": [
  {
   "cell_type": "code",
   "execution_count": 15,
   "id": "9d12d6a7-20ed-4ffb-bd91-4df9d7d0649f",
   "metadata": {},
   "outputs": [
    {
     "name": "stdout",
     "output_type": "stream",
     "text": [
      "The autoreload extension is already loaded. To reload it, use:\n",
      "  %reload_ext autoreload\n"
     ]
    },
    {
     "data": {
      "image/png": "[encoded data removed]",
      "text/plain": [
       "<Figure size 1.8x1.8 with 1 Axes>"
      ]
     },
     "metadata": {},
     "output_type": "display_data"
    }
   ],
   "source": [
    "%load_ext autoreload\n",
    "%autoreload 2\n",
    "\n",
    "import pandas as pd\n",
    "import dataframe_image as dfi\n",
    "import numpy as np\n",
    "import sklearn\n",
    "import matplotlib.pyplot as plt\n",
    "import matplotlib as mpl\n",
    "import seaborn as sns\n",
    "f,a = plt.subplots(1,1,figsize=(1e-2, 1e-2))\n",
    "mpl.rcParams['figure.dpi'] = 180\n",
    "sns.set_style('darkgrid')\n",
    "import os,sys\n",
    "module_path = os.path.abspath(os.path.join('..'))\n",
    "if module_path not in sys.path:\n",
    "    sys.path.append(module_path)\n",
    "import warnings\n",
    "warnings.filterwarnings(\"ignore\")\n",
    "\n",
    "from tqdm.auto import tqdm\n",
    "from datetime import datetime as dt\n",
    "from src.utils import mkdirs, convert_path, pkl_dump, pkl_load, display_side, add_median_labels, get_palette\n",
    "from src.data_processing import BL62_VALUES, BL62FREQ_VALUES, HLAS, AA_KEYS\n",
    "from src.metrics import get_nested_feature_importance, plot_feature_importance\n",
    "from src.models import Standardizer, NNAlign\n",
    "from src.utils import pkl_load, pkl_dump, get_palette\n",
    "from src.bootstrap import bootstrap_eval, get_pval, plot_pval\n",
    "from src.bootstrap import get_pval, plot_pval\n",
    "from src.datasets import NNAlignDataset, get_NNAlign_dataloader\n",
    "import torch\n",
    "from torch import nn\n",
    "from torch.nn import functional as F\n",
    "mpl.rcParams['figure.dpi'] = 180"
   ]
  },
  {
   "cell_type": "code",
   "execution_count": 3,
   "id": "c3e4be56-f31c-4d17-b67a-510e80f9ca86",
   "metadata": {},
   "outputs": [],
   "source": [
    "cedar_aligned = pd.read_csv('../data/aligned_icore/230418_cedar_aligned.csv')\n",
    "prime_aligned = pd.read_csv('../data/aligned_icore/230418_prime_aligned.csv')\n",
    "viral = pd.read_csv('../data/other/viral.csv').rename(columns={'sequence':'Peptide'})\n",
    "drb = pd.read_csv('../data/NetMHCIIpan_train/drb1_0301.csv')"
   ]
  },
  {
   "cell_type": "markdown",
   "id": "99b7fa3f-b7b7-4033-ba29-c6c5a8934a4b",
   "metadata": {
    "tags": []
   },
   "source": [
    "# check dataset / extra features behaviour"
   ]
  },
  {
   "cell_type": "code",
   "execution_count": 11,
   "id": "e8527d51-642a-4f6e-a9e3-70aa5e8d4b5c",
   "metadata": {},
   "outputs": [],
   "source": [
    "from src.datasets import get_NNAlign_dataloader, NNAlignDataset\n",
    "loader, dataset = get_NNAlign_dataloader(cedar_aligned, max_len=12, window_size=6, encoding='BL50LO', \n",
    "                                        seq_col='Peptide', target_col='agg_label', pad_scale=-15, return_dataset=True, \n",
    "                                        feature_cols = ['EL_rank_mut', 'icore_dissimilarity_score'])"
   ]
  },
  {
   "cell_type": "code",
   "execution_count": 21,
   "id": "40a2f3c5-224f-4063-9600-3ce33c0582e4",
   "metadata": {},
   "outputs": [],
   "source": [
    "from src.models import NNAlign\n",
    "# Taking a sample and testing some stuff\n",
    "xd, xd_mask, _, _ = dataset[50:100]\n",
    "x_tensor, x_mask, x_features, y_true = dataset[:10]\n",
    "mymodel = NNAlign(30, 6)\n",
    "mymodel.fit_standardizer(xd, xd_mask)\n",
    "z = mymodel(x_tensor, x_mask)"
   ]
  },
  {
   "cell_type": "code",
   "execution_count": 23,
   "id": "e856c218-2944-4bd5-be24-4b390e25cae2",
   "metadata": {},
   "outputs": [
    {
     "data": {
      "text/plain": [
       "(torch.Size([10, 2]), torch.Size([10, 1]))"
      ]
     },
     "execution_count": 23,
     "metadata": {},
     "output_type": "execute_result"
    }
   ],
   "source": [
    "x_features.shape, z.shape"
   ]
  },
  {
   "cell_type": "code",
   "execution_count": 29,
   "id": "68299782-8c00-468c-af66-85db9ce74836",
   "metadata": {},
   "outputs": [
    {
     "data": {
      "text/plain": [
       "torch.Size([10, 3])"
      ]
     },
     "execution_count": 29,
     "metadata": {},
     "output_type": "execute_result"
    }
   ],
   "source": [
    "torch.cat([z, x_features], dim=1).shape"
   ]
  },
  {
   "cell_type": "code",
   "execution_count": null,
   "id": "9caa9133-2d9a-40f7-99e1-81ac5af82a44",
   "metadata": {},
   "outputs": [],
   "source": []
  }
 ],
 "metadata": {
  "kernelspec": {
   "display_name": "Python [conda env:phd] *",
   "language": "python",
   "name": "conda-env-phd-py"
  },
  "language_info": {
   "codemirror_mode": {
    "name": "ipython",
    "version": 3
   },
   "file_extension": ".py",
   "mimetype": "text/x-python",
   "name": "python",
   "nbconvert_exporter": "python",
   "pygments_lexer": "ipython3",
   "version": "3.10.8"
  }
 },
 "nbformat": 4,
 "nbformat_minor": 5
}
