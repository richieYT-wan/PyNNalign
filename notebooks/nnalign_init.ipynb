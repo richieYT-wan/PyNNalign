{
 "cells": [
  {
   "cell_type": "code",
   "execution_count": 135,
   "id": "6ebc76c6-ed00-4676-b16f-ad6ecb4e20d0",
   "metadata": {},
   "outputs": [
    {
     "name": "stdout",
     "output_type": "stream",
     "text": [
      "The autoreload extension is already loaded. To reload it, use:\n",
      "  %reload_ext autoreload\n"
     ]
    },
    {
     "data": {
      "image/png": "[encoded data removed]",
      "text/plain": [
       "<Figure size 1.8x1.8 with 1 Axes>"
      ]
     },
     "metadata": {},
     "output_type": "display_data"
    }
   ],
   "source": [
    "%load_ext autoreload\n",
    "%autoreload 2\n",
    "\n",
    "import pandas as pd\n",
    "import dataframe_image as dfi\n",
    "import numpy as np\n",
    "import sklearn\n",
    "import matplotlib.pyplot as plt\n",
    "import matplotlib as mpl\n",
    "import seaborn as sns\n",
    "f,a = plt.subplots(1,1,figsize=(1e-2, 1e-2))\n",
    "mpl.rcParams['figure.dpi'] = 180\n",
    "sns.set_style('darkgrid')\n",
    "import os,sys\n",
    "module_path = os.path.abspath(os.path.join('..'))\n",
    "if module_path not in sys.path:\n",
    "    sys.path.append(module_path)\n",
    "import warnings\n",
    "warnings.filterwarnings(\"ignore\")\n",
    "\n",
    "from tqdm.auto import tqdm\n",
    "from datetime import datetime as dt\n",
    "from src.utils import mkdirs, convert_path, pkl_dump, pkl_load, display_side, add_median_labels\n",
    "from src.data_processing import get_dataset, BL62_VALUES, BL62FREQ_VALUES, HLAS, AA_KEYS, get_aa_properties\n",
    "from src.metrics import get_predictions, get_roc, get_metrics, plot_roc_auc_fold, get_mean_roc_curve\n",
    "from src.metrics import get_nested_feature_importance, plot_feature_importance\n",
    "from src.utils import pkl_load, pkl_dump, get_palette\n",
    "from src.bootstrap import bootstrap_eval, get_pval, plot_pval\n",
    "from src.models import FFNetPipeline\n",
    "from src.bootstrap import get_pval, plot_pval\n",
    "import torch\n",
    "from torch import nn\n",
    "from torch import functional as F\n",
    "PAL = sns.color_palette('hsv', n_colors=13)\n",
    "HSV = [PAL[-4], PAL[-1], PAL[0], PAL [4]]\n",
    "tmppal = sns.color_palette('hsv', n_colors=15)\n",
    "NEWPAL = HSV + [tmppal[-3], tmppal[7]]\n",
    "mpl.rcParams['figure.dpi'] = 180"
   ]
  },
  {
   "cell_type": "code",
   "execution_count": 2,
   "id": "94f36246-3081-49e3-bf16-2cb5e013ef0e",
   "metadata": {},
   "outputs": [],
   "source": [
    "cedar_aligned = pd.read_csv('../data/aligned_icore/230418_cedar_aligned.csv')"
   ]
  },
  {
   "cell_type": "markdown",
   "id": "6700231c-d59f-45ba-a036-08a4cb0536fc",
   "metadata": {
    "jp-MarkdownHeadingCollapsed": true,
    "tags": []
   },
   "source": [
    "# self explo"
   ]
  },
  {
   "cell_type": "code",
   "execution_count": 3,
   "id": "7886fa04-ef67-4c6c-9390-3e9010c0951b",
   "metadata": {},
   "outputs": [],
   "source": [
    "from src.models import *"
   ]
  },
  {
   "cell_type": "code",
   "execution_count": 80,
   "id": "6a90602d-ee40-4bc4-827e-ec2164f8ae31",
   "metadata": {},
   "outputs": [],
   "source": [
    "def sliding_window(x, window_size):\n",
    "    # Compute the number of windows per sequence\n",
    "    num_windows = x.size(1) - window_size + 1\n",
    "\n",
    "    # Create a tensor of shape (N, num_windows, window_size, D) containing the sliding windows\n",
    "    windows = torch.nn.functional.unfold(x.transpose(1, 2), (window_size, 1)).transpose(1, 2).view(x.size(0), num_windows, window_size, x.size(2))\n",
    "\n",
    "    # Mask out the padded positions\n",
    "    mask = (x != 0).unsqueeze(-1).expand_as(windows)\n",
    "    windows = torch.masked_select(windows, mask).view(x.size(0), num_windows, -1)\n",
    "\n",
    "    return windows"
   ]
  },
  {
   "cell_type": "code",
   "execution_count": 242,
   "id": "362999f8-fa46-4a75-90b6-2f8eb245d45b",
   "metadata": {},
   "outputs": [
    {
     "data": {
      "text/html": [
       "<div>\n",
       "<style scoped>\n",
       "    .dataframe tbody tr th:only-of-type {\n",
       "        vertical-align: middle;\n",
       "    }\n",
       "\n",
       "    .dataframe tbody tr th {\n",
       "        vertical-align: top;\n",
       "    }\n",
       "\n",
       "    .dataframe thead th {\n",
       "        text-align: right;\n",
       "    }\n",
       "</style>\n",
       "<table border=\"1\" class=\"dataframe\">\n",
       "  <thead>\n",
       "    <tr style=\"text-align: right;\">\n",
       "      <th></th>\n",
       "      <th>Unnamed: 0.2</th>\n",
       "      <th>Unnamed: 0.1</th>\n",
       "      <th>Unnamed: 0</th>\n",
       "      <th>HLA</th>\n",
       "      <th>agg_label</th>\n",
       "      <th>fold</th>\n",
       "      <th>Peptide</th>\n",
       "      <th>wild_type</th>\n",
       "      <th>icore_mut</th>\n",
       "      <th>core_mut</th>\n",
       "      <th>...</th>\n",
       "      <th>icore_improves_binder_0_75</th>\n",
       "      <th>mixed_input_binder_0_75</th>\n",
       "      <th>mixed_rank_binder_0_75</th>\n",
       "      <th>icore_improves_1</th>\n",
       "      <th>mixed_input_1</th>\n",
       "      <th>mixed_rank_1</th>\n",
       "      <th>icore_improves_binder_1</th>\n",
       "      <th>mixed_input_binder_1</th>\n",
       "      <th>mixed_rank_binder_1</th>\n",
       "      <th>expanded_input</th>\n",
       "    </tr>\n",
       "  </thead>\n",
       "  <tbody>\n",
       "    <tr>\n",
       "      <th>996</th>\n",
       "      <td>996</td>\n",
       "      <td>996</td>\n",
       "      <td>996</td>\n",
       "      <td>HLA-A0201</td>\n",
       "      <td>0</td>\n",
       "      <td>1</td>\n",
       "      <td>IMQPSVVIPA</td>\n",
       "      <td>IVQPSVVIPA</td>\n",
       "      <td>MQPSVVIPA</td>\n",
       "      <td>MQPSVVIPA</td>\n",
       "      <td>...</td>\n",
       "      <td>False</td>\n",
       "      <td>IMQPSVVIPA</td>\n",
       "      <td>2.8394</td>\n",
       "      <td>False</td>\n",
       "      <td>IMQPSVVIPA</td>\n",
       "      <td>2.8394</td>\n",
       "      <td>False</td>\n",
       "      <td>IMQPSVVIPA</td>\n",
       "      <td>2.8394</td>\n",
       "      <td>MQPSVVIPA</td>\n",
       "    </tr>\n",
       "    <tr>\n",
       "      <th>249</th>\n",
       "      <td>249</td>\n",
       "      <td>249</td>\n",
       "      <td>249</td>\n",
       "      <td>HLA-A2402</td>\n",
       "      <td>0</td>\n",
       "      <td>5</td>\n",
       "      <td>AYLEAIHTF</td>\n",
       "      <td>AYLEAIHNF</td>\n",
       "      <td>AYLEAIHTF</td>\n",
       "      <td>AYLEAIHTF</td>\n",
       "      <td>...</td>\n",
       "      <td>False</td>\n",
       "      <td>AYLEAIHTF</td>\n",
       "      <td>0.0006</td>\n",
       "      <td>False</td>\n",
       "      <td>AYLEAIHTF</td>\n",
       "      <td>0.0006</td>\n",
       "      <td>False</td>\n",
       "      <td>AYLEAIHTF</td>\n",
       "      <td>0.0006</td>\n",
       "      <td>AYLEAIHTF</td>\n",
       "    </tr>\n",
       "    <tr>\n",
       "      <th>774</th>\n",
       "      <td>774</td>\n",
       "      <td>774</td>\n",
       "      <td>774</td>\n",
       "      <td>HLA-B3901</td>\n",
       "      <td>0</td>\n",
       "      <td>7</td>\n",
       "      <td>GRMRSLEAL</td>\n",
       "      <td>GRMRCLEAL</td>\n",
       "      <td>GRMRSLEAL</td>\n",
       "      <td>GRMRSLEAL</td>\n",
       "      <td>...</td>\n",
       "      <td>False</td>\n",
       "      <td>GRMRSLEAL</td>\n",
       "      <td>0.2547</td>\n",
       "      <td>False</td>\n",
       "      <td>GRMRSLEAL</td>\n",
       "      <td>0.2547</td>\n",
       "      <td>False</td>\n",
       "      <td>GRMRSLEAL</td>\n",
       "      <td>0.2547</td>\n",
       "      <td>GRMRSLEAL</td>\n",
       "    </tr>\n",
       "    <tr>\n",
       "      <th>1617</th>\n",
       "      <td>1617</td>\n",
       "      <td>1617</td>\n",
       "      <td>1617</td>\n",
       "      <td>HLA-C0702</td>\n",
       "      <td>1</td>\n",
       "      <td>8</td>\n",
       "      <td>LYIWFKTACL</td>\n",
       "      <td>LYLWFKTACL</td>\n",
       "      <td>YIWFKTACL</td>\n",
       "      <td>YIWFKTACL</td>\n",
       "      <td>...</td>\n",
       "      <td>False</td>\n",
       "      <td>LYIWFKTACL</td>\n",
       "      <td>4.9286</td>\n",
       "      <td>False</td>\n",
       "      <td>LYIWFKTACL</td>\n",
       "      <td>4.9286</td>\n",
       "      <td>False</td>\n",
       "      <td>LYIWFKTACL</td>\n",
       "      <td>4.9286</td>\n",
       "      <td>YIWFKTACL</td>\n",
       "    </tr>\n",
       "    <tr>\n",
       "      <th>3004</th>\n",
       "      <td>3004</td>\n",
       "      <td>3004</td>\n",
       "      <td>3004</td>\n",
       "      <td>HLA-B0801</td>\n",
       "      <td>0</td>\n",
       "      <td>1</td>\n",
       "      <td>YTTVRALTL</td>\n",
       "      <td>YTTVRALTR</td>\n",
       "      <td>YTTVRALTL</td>\n",
       "      <td>YTTVRALTL</td>\n",
       "      <td>...</td>\n",
       "      <td>False</td>\n",
       "      <td>YTTVRALTL</td>\n",
       "      <td>0.1560</td>\n",
       "      <td>False</td>\n",
       "      <td>YTTVRALTL</td>\n",
       "      <td>0.1560</td>\n",
       "      <td>False</td>\n",
       "      <td>YTTVRALTL</td>\n",
       "      <td>0.1560</td>\n",
       "      <td>YTTVRALTL</td>\n",
       "    </tr>\n",
       "  </tbody>\n",
       "</table>\n",
       "<p>5 rows × 70 columns</p>\n",
       "</div>"
      ],
      "text/plain": [
       "      Unnamed: 0.2  Unnamed: 0.1  Unnamed: 0        HLA  agg_label  fold  \\\n",
       "996            996           996         996  HLA-A0201          0     1   \n",
       "249            249           249         249  HLA-A2402          0     5   \n",
       "774            774           774         774  HLA-B3901          0     7   \n",
       "1617          1617          1617        1617  HLA-C0702          1     8   \n",
       "3004          3004          3004        3004  HLA-B0801          0     1   \n",
       "\n",
       "         Peptide   wild_type  icore_mut   core_mut  ...  \\\n",
       "996   IMQPSVVIPA  IVQPSVVIPA  MQPSVVIPA  MQPSVVIPA  ...   \n",
       "249    AYLEAIHTF   AYLEAIHNF  AYLEAIHTF  AYLEAIHTF  ...   \n",
       "774    GRMRSLEAL   GRMRCLEAL  GRMRSLEAL  GRMRSLEAL  ...   \n",
       "1617  LYIWFKTACL  LYLWFKTACL  YIWFKTACL  YIWFKTACL  ...   \n",
       "3004   YTTVRALTL   YTTVRALTR  YTTVRALTL  YTTVRALTL  ...   \n",
       "\n",
       "      icore_improves_binder_0_75  mixed_input_binder_0_75  \\\n",
       "996                        False               IMQPSVVIPA   \n",
       "249                        False                AYLEAIHTF   \n",
       "774                        False                GRMRSLEAL   \n",
       "1617                       False               LYIWFKTACL   \n",
       "3004                       False                YTTVRALTL   \n",
       "\n",
       "      mixed_rank_binder_0_75  icore_improves_1  mixed_input_1  mixed_rank_1  \\\n",
       "996                   2.8394             False     IMQPSVVIPA        2.8394   \n",
       "249                   0.0006             False      AYLEAIHTF        0.0006   \n",
       "774                   0.2547             False      GRMRSLEAL        0.2547   \n",
       "1617                  4.9286             False     LYIWFKTACL        4.9286   \n",
       "3004                  0.1560             False      YTTVRALTL        0.1560   \n",
       "\n",
       "     icore_improves_binder_1  mixed_input_binder_1  mixed_rank_binder_1  \\\n",
       "996                    False            IMQPSVVIPA               2.8394   \n",
       "249                    False             AYLEAIHTF               0.0006   \n",
       "774                    False             GRMRSLEAL               0.2547   \n",
       "1617                   False            LYIWFKTACL               4.9286   \n",
       "3004                   False             YTTVRALTL               0.1560   \n",
       "\n",
       "      expanded_input  \n",
       "996        MQPSVVIPA  \n",
       "249        AYLEAIHTF  \n",
       "774        GRMRSLEAL  \n",
       "1617       YIWFKTACL  \n",
       "3004       YTTVRALTL  \n",
       "\n",
       "[5 rows x 70 columns]"
      ]
     },
     "execution_count": 242,
     "metadata": {},
     "output_type": "execute_result"
    }
   ],
   "source": [
    "from src.data_processing import encode_batch\n",
    "sample = cedar_aligned.sample(100, random_state=100)\n",
    "sample.head()"
   ]
  },
  {
   "cell_type": "code",
   "execution_count": 246,
   "id": "162cd5aa-a462-472c-b00f-e5124eade5ce",
   "metadata": {},
   "outputs": [
    {
     "data": {
      "text/plain": [
       "torch.Size([100, 12, 20])"
      ]
     },
     "execution_count": 246,
     "metadata": {},
     "output_type": "execute_result"
    }
   ],
   "source": [
    "x = encode_batch(sample['Peptide'].values, 12, 'onehot')\n",
    "x.shape"
   ]
  },
  {
   "cell_type": "code",
   "execution_count": 224,
   "id": "dd2b3606-9d68-4af8-a8a1-b8f123f5d631",
   "metadata": {},
   "outputs": [
    {
     "data": {
      "text/plain": [
       "(torch.Size([3, 8, 5, 20]),\n",
       " torch.Size([3, 5, 8, 20]),\n",
       " torch.Size([3, 12, 20]),\n",
       " tensor(True),\n",
       " torch.Size([3, 8, 100]))"
      ]
     },
     "execution_count": 224,
     "metadata": {},
     "output_type": "execute_result"
    }
   ],
   "source": [
    "# Say K = 5\n",
    "max_len = 12\n",
    "N = 3\n",
    "K = 5\n",
    "x_base = torch.rand([N, max_len, 20])\n",
    "x = x.view(N,-1)\n",
    "y = torch.randint(1, size=(N, 1)).float()\n",
    "y[N-1]=1\n",
    "y_exp = y.expand((N, max_len-K+1)).view(-1, max_len-K+1, 1)\n",
    "\n",
    "\n",
    "criterion = nn.BCEWithLogitsLoss(reduction='none')\n",
    "# Here need to fix expander to return the x_expand_flat \n",
    "xp = InputExpander(window_size=K, max_len=max_len, indel=False)\n",
    "z=xp(x_base)\n",
    "\n",
    "n_hidden = 10\n",
    "model = nn.Sequential(nn.Linear(K*20, n_hidden), nn.ReLU(), nn.Linear(n_hidden, 1))\n",
    "\n",
    "# expanding input stuff\n",
    "x_sliding = x_base.unfold(1, K, 1)\n",
    "# Reshape the tensor to the desired output shape\n",
    "x_expand = x_sliding.transpose(2, 3).reshape(len(x_base), max_len-K+1, K, 20)\n",
    "x_expand_flat = x_expand.flatten(2,3)\n",
    "\n",
    "y_pred = model(x_expand_flat)\n",
    "# x_expand should be correct and z is transposed i.e. wrong\n",
    "x_expand.shape, z.shape, x_base.shape, (x_base[0][3:3+K,:] == x_expand[0,3,:]).all(), x_expand_flat.shape\n",
    "\n"
   ]
  },
  {
   "cell_type": "code",
   "execution_count": null,
   "id": "96e20e64-fa1a-45f2-9eb5-6f410aad3f6f",
   "metadata": {},
   "outputs": [],
   "source": [
    "import torch\n",
    "import torch.nn as nn\n",
    "from torch.utils.data import Dataset, DataLoader\n",
    "from torch.optim import Adam\n",
    "from torch.nn.functional import binary_cross_entropy_with_logits as bce_with_logits\n",
    "\n",
    "class SlidingWindowDataset(Dataset):\n",
    "    def __init__(self, x, y, window_size):\n",
    "        self.x = x\n",
    "        self.y = y\n",
    "        self.window_size = window_size\n",
    "\n",
    "    def __len__(self):\n",
    "        return len(self.x)\n",
    "\n",
    "    def __getitem__(self, idx):\n",
    "        x_window = self.x[idx][:, None, :]\n",
    "        x_window = nn.functional.unfold(x_window, (1, self.window_size))[0]\n",
    "        y = self.y[idx]\n",
    "        return x_window, y\n",
    "\n",
    "class Net(nn.Module):\n",
    "    def __init__(self):\n",
    "        super(Net, self).__init__()\n",
    "        self.linear1 = nn.Linear(20, 10)\n",
    "        self.relu1 = nn.ReLU()\n",
    "        self.linear2 = nn.Linear(10, 1)\n",
    "\n",
    "    def forward(self, x):\n",
    "        x = self.linear1(x)\n",
    "        x = self.relu1(x)\n",
    "        x = self.linear2(x)\n",
    "        return x\n",
    "\n",
    "def train(model, optimizer, criterion, dataloader):\n",
    "    model.train()\n",
    "    total_loss = 0.0\n",
    "    for x_batch, y_batch in dataloader:\n",
    "        optimizer.zero_grad()\n",
    "        y_pred = model(x_batch)\n",
    "        loss = criterion(y_pred, y_batch)\n",
    "        loss.backward()\n",
    "        optimizer.step()\n",
    "        total_loss += loss.item() * len(x_batch)\n",
    "    return total_loss / len(dataloader.dataset)\n",
    "\n",
    "def evaluate(model, criterion, dataloader):\n",
    "    model.eval()\n",
    "    total_loss = 0.0\n",
    "    with torch.no_grad():\n",
    "        for x_batch, y_batch in dataloader:\n",
    "            y_pred = model(x_batch)\n",
    "            loss = criterion(y_pred, y_batch)\n",
    "            total_loss += loss.item() * len(x_batch)\n",
    "    return total_loss / len(dataloader.dataset)\n",
    "\n",
    "# Define the input tensor x and target tensor y\n",
    "x = torch.randn(3000, 10, 20)\n",
    "y = torch.randint(0, 2, (3000, 1)).float()\n",
    "\n",
    "# Define the window size and batch size\n",
    "window_size = 5\n",
    "batch_size = 128\n",
    "\n",
    "# Define the dataset and dataloader\n",
    "dataset = SlidingWindowDataset(x, y, window_size)\n",
    "dataloader = DataLoader(dataset, batch_size=batch_size, shuffle=True)\n",
    "\n",
    "# Define the model, loss function, and optimizer\n",
    "model = Net()\n",
    "criterion = nn.BCEWithLogitsLoss()\n",
    "optimizer = Adam(model.parameters())\n",
    "\n",
    "# Train the model\n",
    "for epoch in range(10):\n",
    "    train_loss = train(model, optimizer, criterion, dataloader)\n",
    "    valid_loss = evaluate(model, criterion, dataloader)\n",
    "    print(f\"Epoch {epoch + 1:03d}, Train Loss: {train_loss:.4f}, Valid Loss: {valid_loss:.4f}\")\n",
    "\n",
    "# Compute the best scores\n",
    "model.eval()\n",
    "best_scores = []\n",
    "with torch.no_grad():\n",
    "    for x_batch, y_batch in dataloader:\n",
    "        scores = model(x_batch).squeeze()\n",
    "        losses = bce_with_logits(scores, y_batch)\n",
    "        best_indices = losses.argmin(dim=1)\n",
    "        best_scores_batch = scores.gather(1, best_indices.view(-1, 1)).view(-1, 1)\n",
    "        best_scores.append\n"
   ]
  },
  {
   "cell_type": "markdown",
   "id": "ef1185fa-903e-40b0-b342-ab8fb4154ce2",
   "metadata": {
    "tags": []
   },
   "source": [
    "# tests"
   ]
  },
  {
   "cell_type": "code",
   "execution_count": 312,
   "id": "3e6273ba-2d5e-4b7e-864f-046da40dcaa2",
   "metadata": {
    "collapsed": true,
    "jupyter": {
     "outputs_hidden": true,
     "source_hidden": true
    },
    "tags": []
   },
   "outputs": [
    {
     "name": "stdout",
     "output_type": "stream",
     "text": [
      "checking padded inputs\n",
      " tensor([[  1.,  -1.,   1.,   0.,  -1.,   0.,   0.,   0.,  -1.,  -2.,  -2.,   0.,\n",
      "          -1.,  -2.,  -1.,   4.,   1.,  -3.,  -2.,  -2.],\n",
      "        [  1.,  -1.,   1.,   0.,  -1.,   0.,   0.,   0.,  -1.,  -2.,  -2.,   0.,\n",
      "          -1.,  -2.,  -1.,   4.,   1.,  -3.,  -2.,  -2.],\n",
      "        [ -1.,  -2.,  -3.,  -4.,  -1.,  -2.,  -3.,  -4.,  -3.,   2.,   4.,  -2.,\n",
      "           2.,   0.,  -3.,  -2.,  -1.,  -2.,  -1.,   1.],\n",
      "        [-12., -12., -12., -12., -12., -12., -12., -12., -12., -12., -12., -12.,\n",
      "         -12., -12., -12., -12., -12., -12., -12., -12.],\n",
      "        [-12., -12., -12., -12., -12., -12., -12., -12., -12., -12., -12., -12.,\n",
      "         -12., -12., -12., -12., -12., -12., -12., -12.],\n",
      "        [-12., -12., -12., -12., -12., -12., -12., -12., -12., -12., -12., -12.,\n",
      "         -12., -12., -12., -12., -12., -12., -12., -12.]])\n",
      "Before training\n",
      "train 1.242e-01 auc 0.444 auc_01 0.487 acc 0.388 prec 0.172\n",
      "valid 7.267e-01 auc 0.536 auc_01 0.487 acc 0.48 prec 0.22\n",
      "eval 7.419e-01 auc 0.436 auc_01 0.478 acc 0.405 prec 0.192\n",
      "prime 7.411e-01 auc 0.457 auc_01 0.489 acc 0.416 prec 0.038 \n",
      "\n",
      "\n",
      "EPOCH = 1\n",
      "\n",
      "\n",
      "train 1.269e-01 auc 0.409 auc_01 0.488 acc 0.441 prec 0.169\n",
      "valid 6.893e-01 auc 0.531 auc_01 0.488 acc 0.565 prec 0.238\n",
      "eval 7.028e-01 auc 0.431 auc_01 0.478 acc 0.5 prec 0.171\n",
      "prime 6.816e-01 auc 0.456 auc_01 0.489 acc 0.564 prec 0.039 \n",
      "\n",
      "\n",
      "EPOCH = 50\n",
      "\n",
      "\n",
      "train 8.271e-02 auc 0.612 auc_01 0.555 acc 0.802 prec 0.75\n",
      "valid 4.923e-01 auc 0.612 auc_01 0.527 acc 0.797 prec 0.0\n",
      "eval 5.049e-01 auc 0.574 auc_01 0.516 acc 0.795 prec 0.0\n",
      "prime 2.934e-01 auc 0.548 auc_01 0.512 acc 0.958 prec 0.0 \n",
      "\n",
      "\n",
      "EPOCH = 100\n",
      "\n",
      "\n",
      "train 7.520e-02 auc 0.744 auc_01 0.568 acc 0.797 prec 0.6\n",
      "valid 4.914e-01 auc 0.622 auc_01 0.531 acc 0.794 prec 0.0\n",
      "eval 5.031e-01 auc 0.598 auc_01 0.518 acc 0.795 prec 0.5\n",
      "prime 2.899e-01 auc 0.574 auc_01 0.517 acc 0.95 prec 0.0 \n",
      "\n",
      "\n",
      "EPOCH = 150\n",
      "\n",
      "\n",
      "train 7.152e-02 auc 0.781 auc_01 0.602 acc 0.792 prec 0.5\n",
      "valid 4.938e-01 auc 0.625 auc_01 0.534 acc 0.792 prec 0.0\n",
      "eval 5.007e-01 auc 0.62 auc_01 0.522 acc 0.79 prec 0.333\n",
      "prime 2.926e-01 auc 0.587 auc_01 0.518 acc 0.94 prec 0.075 \n",
      "\n",
      "\n",
      "EPOCH = 200\n",
      "\n",
      "\n",
      "train 6.552e-02 auc 0.847 auc_01 0.654 acc 0.815 prec 0.765\n",
      "valid 4.973e-01 auc 0.625 auc_01 0.537 acc 0.776 prec 0.0\n",
      "eval 5.029e-01 auc 0.628 auc_01 0.525 acc 0.782 prec 0.222\n",
      "prime 2.913e-01 auc 0.591 auc_01 0.519 acc 0.929 prec 0.057 \n",
      "\n",
      "\n",
      "EPOCH = 250\n",
      "\n",
      "\n",
      "train 6.611e-02 auc 0.83 auc_01 0.654 acc 0.839 prec 0.737\n",
      "valid 5.001e-01 auc 0.63 auc_01 0.539 acc 0.778 prec 0.267\n",
      "eval 5.056e-01 auc 0.637 auc_01 0.521 acc 0.776 prec 0.316\n",
      "prime 2.973e-01 auc 0.594 auc_01 0.521 acc 0.923 prec 0.083 \n",
      "\n",
      "\n",
      "EPOCH = 300\n",
      "\n",
      "\n",
      "train 6.063e-02 auc 0.883 auc_01 0.684 acc 0.834 prec 0.767\n",
      "valid 5.037e-01 auc 0.632 auc_01 0.539 acc 0.776 prec 0.278\n",
      "eval 5.089e-01 auc 0.642 auc_01 0.522 acc 0.771 prec 0.304\n",
      "prime 2.969e-01 auc 0.596 auc_01 0.524 acc 0.914 prec 0.084 \n",
      "\n",
      "\n",
      "EPOCH = 350\n",
      "\n",
      "\n",
      "train 6.111e-02 auc 0.876 auc_01 0.67 acc 0.823 prec 0.7\n",
      "valid 5.091e-01 auc 0.629 auc_01 0.54 acc 0.778 prec 0.333\n",
      "eval 5.131e-01 auc 0.646 auc_01 0.522 acc 0.774 prec 0.333\n",
      "prime 2.966e-01 auc 0.597 auc_01 0.526 acc 0.909 prec 0.077 \n",
      "\n",
      "\n",
      "EPOCH = 400\n",
      "\n",
      "\n",
      "train 5.785e-02 auc 0.896 auc_01 0.709 acc 0.842 prec 0.757\n",
      "valid 5.129e-01 auc 0.631 auc_01 0.542 acc 0.786 prec 0.417\n",
      "eval 5.167e-01 auc 0.649 auc_01 0.521 acc 0.776 prec 0.36\n",
      "prime 3.018e-01 auc 0.597 auc_01 0.526 acc 0.903 prec 0.082 \n",
      "\n",
      "\n",
      "EPOCH = 450\n",
      "\n",
      "\n",
      "train 5.590e-02 auc 0.892 auc_01 0.742 acc 0.871 prec 0.917\n",
      "valid 5.175e-01 auc 0.632 auc_01 0.543 acc 0.789 prec 0.44\n",
      "eval 5.205e-01 auc 0.653 auc_01 0.524 acc 0.776 prec 0.37\n",
      "prime 2.991e-01 auc 0.599 auc_01 0.528 acc 0.9 prec 0.083 \n",
      "\n",
      "\n",
      "EPOCH = 500\n",
      "\n",
      "\n",
      "train 5.428e-02 auc 0.902 auc_01 0.742 acc 0.871 prec 0.857\n",
      "valid 5.230e-01 auc 0.63 auc_01 0.542 acc 0.773 prec 0.364\n",
      "eval 5.248e-01 auc 0.654 auc_01 0.524 acc 0.771 prec 0.345\n",
      "prime 3.043e-01 auc 0.599 auc_01 0.531 acc 0.896 prec 0.082 \n",
      "\n",
      "\n"
     ]
    }
   ],
   "source": [
    "from src.models import NNAlign, NNAlignWrapper\n",
    "from src.datasets import NNAlignDataset, get_NNAlign_dataloader\n",
    "from src.train_eval import train_model_step, eval_model_step\n",
    "from torch.utils.data import Dataset, DataLoader\n",
    "from sklearn.model_selection import train_test_split\n",
    "from torch import optim\n",
    "\n",
    "window_size = 6\n",
    "max_len = 12\n",
    "n_hidden = 50\n",
    "p_drop = 0.25\n",
    "encoding = 'BL62LO'\n",
    "indel=False\n",
    "n_epochs = 500\n",
    "activation = nn.SELU()\n",
    "model = NNAlignWrapper(n_hidden=n_hidden, window_size=window_size, activation = activation, dropout=p_drop)\n",
    "\n",
    "train, test = train_test_split(cedar_aligned, test_size=1/4)\n",
    "valid, test = train_test_split(test, test_size=1/2)\n",
    "\n",
    "train_dataset = NNAlignDataset(train, max_len, window_size, encoding=encoding)\n",
    "train_loader = DataLoader(train_dataset, batch_size = 128, sampler=torch.utils.data.RandomSampler(valid_dataset))\n",
    "\n",
    "x,y = train_dataset[:10]\n",
    "print('checking padded inputs\\n', x[3][-1].view(window_size, 20))\n",
    "\n",
    "\n",
    "valid_dataset = NNAlignDataset(valid, max_len, window_size, encoding=encoding)\n",
    "valid_loader = DataLoader(valid_dataset, batch_size = 64, sampler=torch.utils.data.RandomSampler(valid_dataset))\n",
    "\n",
    "test_dataset = NNAlignDataset(test, max_len, window_size, encoding=encoding)\n",
    "test_loader = DataLoader(test_dataset, batch_size = 64, sampler=torch.utils.data.RandomSampler(test_dataset))\n",
    "\n",
    "prime_aligned = pd.read_csv('../data/aligned_icore/230418_prime_aligned.csv')\n",
    "prime_dataset = NNAlignDataset(prime_aligned, max_len, window_size, encoding=encoding)\n",
    "prime_loader = DataLoader(prime_dataset, batch_size=64, sampler=torch.utils.data.RandomSampler(prime_dataset))\n",
    "\n",
    "\n",
    "optimizer = optim.Adam(model.parameters(), lr = 1e-4, weight_decay = 1e-2)\n",
    "criterion = nn.BCEWithLogitsLoss(reduction='mean')\n",
    "\n",
    "train_losses=[]\n",
    "valid_losses=[]\n",
    "test_losses=[]\n",
    "prime_losses = []\n",
    "train_aucs=[]\n",
    "valid_aucs=[]\n",
    "test_aucs=[]\n",
    "prime_aucs = []\n",
    "\n",
    "print('Before training')\n",
    "loss, metrics = eval_model_step(model, criterion, train_loader)\n",
    "train_losses.append(loss)\n",
    "train_aucs.append(metrics['auc'])\n",
    "print('train', f'{loss:.3e}', 'auc', round(metrics['auc'],3), 'auc_01', round(metrics['auc_01'],3), 'acc', round(metrics['accuracy'],3), 'prec', round(metrics['precision'],3))\n",
    "loss, metrics = eval_model_step(model, criterion, valid_loader)\n",
    "valid_losses.append(loss)\n",
    "valid_aucs.append(metrics['auc'])\n",
    "print('valid', f'{loss:.3e}', 'auc', round(metrics['auc'],3), 'auc_01', round(metrics['auc_01'],3), 'acc', round(metrics['accuracy'],3), 'prec', round(metrics['precision'],3))\n",
    "loss, metrics = eval_model_step(model, criterion, test_loader)\n",
    "test_losses.append(loss)\n",
    "test_aucs.append(metrics['auc'])\n",
    "print('eval', f'{loss:.3e}', 'auc', round(metrics['auc'],3), 'auc_01', round(metrics['auc_01'],3), 'acc', round(metrics['accuracy'],3), 'prec', round(metrics['precision'],3))\n",
    "loss, metrics = eval_model_step(model, criterion, prime_loader)\n",
    "prime_losses.append(loss)\n",
    "prime_aucs.append(metrics['auc'])        \n",
    "print('prime', f'{loss:.3e}', 'auc', round(metrics['auc'],3), 'auc_01', round(metrics['auc_01'],3), 'acc', round(metrics['accuracy'],3), 'prec', round(metrics['precision'],3),'\\n\\n')\n",
    "for e in range(1,n_epochs+1):\n",
    "    loss, metrics = train_model_step(model, criterion, optimizer, train_loader)\n",
    "    train_losses.append(loss)\n",
    "    train_aucs.append(metrics['auc'])\n",
    "    if e%int(n_epochs/10)==0 or e ==1:\n",
    "        print(f'EPOCH = {e}\\n\\n')\n",
    "        print('train', f'{loss:.3e}', 'auc', round(metrics['auc'],3), 'auc_01', round(metrics['auc_01'],3), 'acc', round(metrics['accuracy'],3), 'prec', round(metrics['precision'],3))\n",
    "    loss, metrics = eval_model_step(model, criterion, valid_loader)\n",
    "    valid_losses.append(loss)\n",
    "    valid_aucs.append(metrics['auc'])\n",
    "    if e%int(n_epochs/10)==0 or e ==1:\n",
    "        print('valid', f'{loss:.3e}', 'auc', round(metrics['auc'],3), 'auc_01', round(metrics['auc_01'],3), 'acc', round(metrics['accuracy'],3), 'prec', round(metrics['precision'],3))\n",
    "    loss, metrics = eval_model_step(model, criterion, test_loader)\n",
    "    test_losses.append(loss)\n",
    "    test_aucs.append(metrics['auc'])\n",
    "    if e%int(n_epochs/10)==0 or e ==1:\n",
    "        print('eval', f'{loss:.3e}', 'auc', round(metrics['auc'],3), 'auc_01', round(metrics['auc_01'],3), 'acc', round(metrics['accuracy'],3), 'prec', round(metrics['precision'],3))\n",
    "    loss, metrics = eval_model_step(model, criterion, prime_loader)\n",
    "    prime_losses.append(loss)\n",
    "    prime_aucs.append(metrics['auc'])\n",
    "    if e%int(n_epochs/10)==0 or e ==1:\n",
    "        print('prime', f'{loss:.3e}', 'auc', round(metrics['auc'],3), 'auc_01', round(metrics['auc_01'],3), 'acc', round(metrics['accuracy'],3), 'prec', round(metrics['precision'],3),'\\n\\n')"
   ]
  },
  {
   "cell_type": "code",
   "execution_count": 322,
   "id": "8def33a7-91aa-423a-9a2b-275c424d826f",
   "metadata": {
    "collapsed": true,
    "jupyter": {
     "outputs_hidden": true
    },
    "tags": []
   },
   "outputs": [
    {
     "data": {
      "text/plain": [
       "Text(0.5, 0.98, 'Dropout only')"
      ]
     },
     "execution_count": 322,
     "metadata": {},
     "output_type": "execute_result"
    },
    {
     "data": {
      "image/png": "[encoded data removed]",
      "text/plain": [
       "<Figure size 1800x1620 with 2 Axes>"
      ]
     },
     "metadata": {},
     "output_type": "display_data"
    }
   ],
   "source": [
    "f,a = plt.subplots(2,1, figsize=(10,9))\n",
    "a = a.ravel()\n",
    "a[0].plot(train_losses, label='train_losses')\n",
    "a[0].plot(valid_losses, label='valid_losses')\n",
    "a[0].plot(test_losses, label='test_losses')\n",
    "a[0].plot(prime_losses, label='prime_losses')\n",
    "a[0].legend()\n",
    "a[0].set_title('loss')\n",
    "a[1].plot(train_aucs, label='train_aucs')\n",
    "a[1].plot(valid_aucs, label='valid_aucs')\n",
    "a[1].plot(test_aucs, label='test_aucs')\n",
    "a[1].plot(prime_aucs, label='prime_aucs')\n",
    "a[1].legend()\n",
    "a[1].set_title('AUC')\n",
    "a[1].set_xlabel('epochs')\n",
    "f.suptitle('Dropout only')"
   ]
  },
  {
   "cell_type": "code",
   "execution_count": 324,
   "id": "5195caf8-63ab-4f5d-9507-a71653ac6603",
   "metadata": {
    "collapsed": true,
    "jupyter": {
     "outputs_hidden": true
    },
    "tags": []
   },
   "outputs": [
    {
     "name": "stdout",
     "output_type": "stream",
     "text": [
      "checking padded inputs\n",
      " tensor([[  0.,  -1.,   0.,  -1.,  -1.,  -1.,  -1.,  -2.,  -2.,  -1.,  -1.,  -1.,\n",
      "          -1.,  -2.,  -1.,   1.,   5.,  -2.,  -2.,   0.],\n",
      "        [ -2.,   0.,   6.,   1.,  -3.,   0.,   0.,   0.,   1.,  -3.,  -3.,   0.,\n",
      "          -2.,  -3.,  -2.,   1.,   0.,  -4.,  -2.,  -3.],\n",
      "        [ -1.,   2.,   0.,  -1.,  -3.,   1.,   1.,  -2.,  -1.,  -3.,  -2.,   5.,\n",
      "          -1.,  -3.,  -1.,   0.,  -1.,  -3.,  -2.,  -2.],\n",
      "        [-12., -12., -12., -12., -12., -12., -12., -12., -12., -12., -12., -12.,\n",
      "         -12., -12., -12., -12., -12., -12., -12., -12.],\n",
      "        [-12., -12., -12., -12., -12., -12., -12., -12., -12., -12., -12., -12.,\n",
      "         -12., -12., -12., -12., -12., -12., -12., -12.],\n",
      "        [-12., -12., -12., -12., -12., -12., -12., -12., -12., -12., -12., -12.,\n",
      "         -12., -12., -12., -12., -12., -12., -12., -12.]])\n",
      "Before training\n",
      "train 1.231e-01 auc 0.498 auc_01 0.515 acc 0.414 prec 0.167\n",
      "valid 7.480e-01 auc 0.485 auc_01 0.502 acc 0.446 prec 0.164\n",
      "eval 7.529e-01 auc 0.504 auc_01 0.5 acc 0.453 prec 0.214\n",
      "prime 7.546e-01 auc 0.524 auc_01 0.511 acc 0.449 prec 0.043 \n",
      "\n",
      "\n",
      "EPOCH = 1\n",
      "\n",
      "\n",
      "train 1.148e-01 auc 0.498 auc_01 0.496 acc 0.554 prec 0.182\n",
      "valid 8.536e-01 auc 0.504 auc_01 0.507 acc 0.261 prec 0.18\n",
      "eval 8.462e-01 auc 0.514 auc_01 0.505 acc 0.266 prec 0.215\n",
      "prime 9.028e-01 auc 0.539 auc_01 0.51 acc 0.16 prec 0.041 \n",
      "\n",
      "\n",
      "EPOCH = 50\n",
      "\n",
      "\n",
      "train 9.710e-02 auc 0.656 auc_01 0.529 acc 0.718 prec 0.296\n",
      "valid 6.643e-01 auc 0.705 auc_01 0.549 acc 0.578 prec 0.254\n",
      "eval 6.829e-01 auc 0.644 auc_01 0.536 acc 0.563 prec 0.283\n",
      "prime 6.861e-01 auc 0.611 auc_01 0.517 acc 0.548 prec 0.059 \n",
      "\n",
      "\n",
      "EPOCH = 100\n",
      "\n",
      "\n",
      "train 8.688e-02 auc 0.726 auc_01 0.552 acc 0.778 prec 0.397\n",
      "valid 6.345e-01 auc 0.682 auc_01 0.52 acc 0.62 prec 0.255\n",
      "eval 6.572e-01 auc 0.62 auc_01 0.543 acc 0.584 prec 0.271\n",
      "prime 6.415e-01 auc 0.628 auc_01 0.527 acc 0.613 prec 0.056 \n",
      "\n",
      "\n",
      "EPOCH = 150\n",
      "\n",
      "\n",
      "train 8.093e-02 auc 0.758 auc_01 0.565 acc 0.794 prec 0.441\n",
      "valid 6.019e-01 auc 0.654 auc_01 0.514 acc 0.707 prec 0.307\n",
      "eval 6.281e-01 auc 0.603 auc_01 0.519 acc 0.634 prec 0.268\n",
      "prime 5.906e-01 auc 0.617 auc_01 0.515 acc 0.69 prec 0.056 \n",
      "\n",
      "\n",
      "EPOCH = 200\n",
      "\n",
      "\n",
      "train 7.546e-02 auc 0.777 auc_01 0.584 acc 0.8 prec 0.449\n",
      "valid 5.956e-01 auc 0.642 auc_01 0.515 acc 0.686 prec 0.268\n",
      "eval 6.259e-01 auc 0.593 auc_01 0.519 acc 0.637 prec 0.262\n",
      "prime 5.790e-01 auc 0.616 auc_01 0.518 acc 0.691 prec 0.06 \n",
      "\n",
      "\n",
      "EPOCH = 250\n",
      "\n",
      "\n",
      "train 6.941e-02 auc 0.82 auc_01 0.629 acc 0.823 prec 0.54\n",
      "valid 5.815e-01 auc 0.641 auc_01 0.514 acc 0.694 prec 0.267\n",
      "eval 6.203e-01 auc 0.594 auc_01 0.52 acc 0.66 prec 0.287\n",
      "prime 5.589e-01 auc 0.609 auc_01 0.521 acc 0.708 prec 0.059 \n",
      "\n",
      "\n",
      "EPOCH = 300\n",
      "\n",
      "\n",
      "train 6.410e-02 auc 0.837 auc_01 0.655 acc 0.844 prec 0.63\n",
      "valid 6.210e-01 auc 0.637 auc_01 0.516 acc 0.641 prec 0.248\n",
      "eval 6.624e-01 auc 0.589 auc_01 0.511 acc 0.624 prec 0.267\n",
      "prime 6.150e-01 auc 0.607 auc_01 0.522 acc 0.643 prec 0.055 \n",
      "\n",
      "\n",
      "EPOCH = 350\n",
      "\n",
      "\n",
      "train 5.938e-02 auc 0.867 auc_01 0.704 acc 0.863 prec 0.702\n",
      "valid 6.538e-01 auc 0.64 auc_01 0.519 acc 0.625 prec 0.252\n",
      "eval 7.003e-01 auc 0.59 auc_01 0.511 acc 0.584 prec 0.247\n",
      "prime 6.667e-01 auc 0.608 auc_01 0.521 acc 0.592 prec 0.053 \n",
      "\n",
      "\n",
      "EPOCH = 400\n",
      "\n",
      "\n",
      "train 5.813e-02 auc 0.868 auc_01 0.688 acc 0.844 prec 0.643\n",
      "valid 6.340e-01 auc 0.631 auc_01 0.519 acc 0.649 prec 0.257\n",
      "eval 6.826e-01 auc 0.59 auc_01 0.509 acc 0.605 prec 0.25\n",
      "prime 6.228e-01 auc 0.608 auc_01 0.524 acc 0.639 prec 0.055 \n",
      "\n",
      "\n",
      "EPOCH = 450\n",
      "\n",
      "\n",
      "train 5.309e-02 auc 0.903 auc_01 0.734 acc 0.873 prec 0.78\n",
      "valid 7.005e-01 auc 0.625 auc_01 0.52 acc 0.617 prec 0.236\n",
      "eval 7.524e-01 auc 0.582 auc_01 0.508 acc 0.568 prec 0.244\n",
      "prime 7.137e-01 auc 0.605 auc_01 0.522 acc 0.578 prec 0.053 \n",
      "\n",
      "\n",
      "EPOCH = 500\n",
      "\n",
      "\n",
      "train 5.028e-02 auc 0.915 auc_01 0.749 acc 0.873 prec 0.688\n",
      "valid 7.209e-01 auc 0.616 auc_01 0.519 acc 0.617 prec 0.247\n",
      "eval 7.734e-01 auc 0.58 auc_01 0.507 acc 0.595 prec 0.266\n",
      "prime 7.298e-01 auc 0.601 auc_01 0.523 acc 0.572 prec 0.051 \n",
      "\n",
      "\n"
     ]
    },
    {
     "data": {
      "text/plain": [
       "Text(0.5, 0.98, 'Dropout batchnorm')"
      ]
     },
     "execution_count": 324,
     "metadata": {},
     "output_type": "execute_result"
    },
    {
     "data": {
      "image/png": "[encoded data removed]",
      "text/plain": [
       "<Figure size 1800x1620 with 2 Axes>"
      ]
     },
     "metadata": {},
     "output_type": "display_data"
    }
   ],
   "source": [
    "from src.models import NNAlign, NNAlignWrapper\n",
    "from src.datasets import NNAlignDataset, get_NNAlign_dataloader\n",
    "from src.train_eval import train_model_step, eval_model_step\n",
    "from torch.utils.data import Dataset, DataLoader\n",
    "from sklearn.model_selection import train_test_split\n",
    "from torch import optim\n",
    "\n",
    "window_size = 6\n",
    "max_len = 12\n",
    "n_hidden = 50\n",
    "p_drop = 0.25\n",
    "encoding = 'BL62LO'\n",
    "indel=False\n",
    "n_epochs = 500\n",
    "\n",
    "train, test = train_test_split(cedar_aligned, test_size=1/4)\n",
    "valid, test = train_test_split(test, test_size=1/2)\n",
    "\n",
    "train_dataset = NNAlignDataset(train, max_len, window_size, encoding=encoding)\n",
    "train_loader = DataLoader(train_dataset, batch_size = 64, sampler=torch.utils.data.RandomSampler(valid_dataset))\n",
    "\n",
    "x,y = train_dataset[:10]\n",
    "print('checking padded inputs\\n', x[3][-1].view(window_size, 20))\n",
    "\n",
    "\n",
    "valid_dataset = NNAlignDataset(valid, max_len, window_size, encoding=encoding)\n",
    "valid_loader = DataLoader(valid_dataset, batch_size = 64, sampler=torch.utils.data.RandomSampler(valid_dataset))\n",
    "\n",
    "test_dataset = NNAlignDataset(test, max_len, window_size, encoding=encoding)\n",
    "test_loader = DataLoader(test_dataset, batch_size = 64, sampler=torch.utils.data.RandomSampler(test_dataset))\n",
    "\n",
    "prime_aligned = pd.read_csv('../data/aligned_icore/230418_prime_aligned.csv')\n",
    "prime_dataset = NNAlignDataset(prime_aligned, max_len, window_size, encoding=encoding)\n",
    "prime_loader = DataLoader(prime_dataset, batch_size=64, sampler=torch.utils.data.RandomSampler(prime_dataset))\n",
    "\n",
    "\n",
    "model = NNAlignWrapper(n_hidden=n_hidden, window_size=window_size, activation = nn.SELU(), dropout=p_drop)\n",
    "optimizer = optim.Adam(model.parameters(), lr = 1e-4, weight_decay = 1e-2)\n",
    "criterion = nn.BCEWithLogitsLoss(reduction='mean')\n",
    "\n",
    "train_losses=[]\n",
    "valid_losses=[]\n",
    "test_losses=[]\n",
    "prime_losses = []\n",
    "train_aucs=[]\n",
    "valid_aucs=[]\n",
    "test_aucs=[]\n",
    "prime_aucs = []\n",
    "\n",
    "print('Before training')\n",
    "loss, metrics = eval_model_step(model, criterion, train_loader)\n",
    "train_losses.append(loss)\n",
    "train_aucs.append(metrics['auc'])\n",
    "print('train', f'{loss:.3e}', 'auc', round(metrics['auc'],3), 'auc_01', round(metrics['auc_01'],3), 'acc', round(metrics['accuracy'],3), 'prec', round(metrics['precision'],3))\n",
    "loss, metrics = eval_model_step(model, criterion, valid_loader)\n",
    "valid_losses.append(loss)\n",
    "valid_aucs.append(metrics['auc'])\n",
    "print('valid', f'{loss:.3e}', 'auc', round(metrics['auc'],3), 'auc_01', round(metrics['auc_01'],3), 'acc', round(metrics['accuracy'],3), 'prec', round(metrics['precision'],3))\n",
    "loss, metrics = eval_model_step(model, criterion, test_loader)\n",
    "test_losses.append(loss)\n",
    "test_aucs.append(metrics['auc'])\n",
    "print('eval', f'{loss:.3e}', 'auc', round(metrics['auc'],3), 'auc_01', round(metrics['auc_01'],3), 'acc', round(metrics['accuracy'],3), 'prec', round(metrics['precision'],3))\n",
    "loss, metrics = eval_model_step(model, criterion, prime_loader)\n",
    "prime_losses.append(loss)\n",
    "prime_aucs.append(metrics['auc'])        \n",
    "print('prime', f'{loss:.3e}', 'auc', round(metrics['auc'],3), 'auc_01', round(metrics['auc_01'],3), 'acc', round(metrics['accuracy'],3), 'prec', round(metrics['precision'],3),'\\n\\n')\n",
    "for e in range(1,n_epochs+1):\n",
    "    loss, metrics = train_model_step(model, criterion, optimizer, train_loader)\n",
    "    train_losses.append(loss)\n",
    "    train_aucs.append(metrics['auc'])\n",
    "    if e%int(n_epochs/10)==0 or e ==1:\n",
    "        print(f'EPOCH = {e}\\n\\n')\n",
    "        print('train', f'{loss:.3e}', 'auc', round(metrics['auc'],3), 'auc_01', round(metrics['auc_01'],3), 'acc', round(metrics['accuracy'],3), 'prec', round(metrics['precision'],3))\n",
    "    loss, metrics = eval_model_step(model, criterion, valid_loader)\n",
    "    valid_losses.append(loss)\n",
    "    valid_aucs.append(metrics['auc'])\n",
    "    if e%int(n_epochs/10)==0 or e ==1:\n",
    "        print('valid', f'{loss:.3e}', 'auc', round(metrics['auc'],3), 'auc_01', round(metrics['auc_01'],3), 'acc', round(metrics['accuracy'],3), 'prec', round(metrics['precision'],3))\n",
    "    loss, metrics = eval_model_step(model, criterion, test_loader)\n",
    "    test_losses.append(loss)\n",
    "    test_aucs.append(metrics['auc'])\n",
    "    if e%int(n_epochs/10)==0 or e ==1:\n",
    "        print('eval', f'{loss:.3e}', 'auc', round(metrics['auc'],3), 'auc_01', round(metrics['auc_01'],3), 'acc', round(metrics['accuracy'],3), 'prec', round(metrics['precision'],3))\n",
    "    loss, metrics = eval_model_step(model, criterion, prime_loader)\n",
    "    prime_losses.append(loss)\n",
    "    prime_aucs.append(metrics['auc'])\n",
    "    if e%int(n_epochs/10)==0 or e ==1:\n",
    "        print('prime', f'{loss:.3e}', 'auc', round(metrics['auc'],3), 'auc_01', round(metrics['auc_01'],3), 'acc', round(metrics['accuracy'],3), 'prec', round(metrics['precision'],3),'\\n\\n')\n",
    "        \n",
    "f,a = plt.subplots(2,1, figsize=(10,9))\n",
    "a = a.ravel()\n",
    "a[0].plot(train_losses, label='train_losses')\n",
    "a[0].plot(valid_losses, label='valid_losses')\n",
    "a[0].plot(test_losses, label='test_losses')\n",
    "a[0].plot(prime_losses, label='prime_losses')\n",
    "a[0].legend()\n",
    "a[0].set_title('loss')\n",
    "a[1].plot(train_aucs, label='train_aucs')\n",
    "a[1].plot(valid_aucs, label='valid_aucs')\n",
    "a[1].plot(test_aucs, label='test_aucs')\n",
    "a[1].plot(prime_aucs, label='prime_aucs')\n",
    "a[1].legend()\n",
    "a[1].set_title('AUC')\n",
    "a[1].set_xlabel('epochs')\n",
    "f.suptitle('Dropout batchnorm')"
   ]
  },
  {
   "cell_type": "markdown",
   "id": "f8065792-35de-443e-ac90-955e39668d63",
   "metadata": {},
   "source": [
    "# Some quick HP tuning"
   ]
  },
  {
   "cell_type": "code",
   "execution_count": 327,
   "id": "fae8de1c-678a-45c4-bb73-029bf3e1b990",
   "metadata": {},
   "outputs": [
    {
     "data": {
      "text/plain": [
       "'NNAlignWrapper'"
      ]
     },
     "execution_count": 327,
     "metadata": {},
     "output_type": "execute_result"
    }
   ],
   "source": [
    "model.__class__.__name__"
   ]
  },
  {
   "cell_type": "code",
   "execution_count": 559,
   "id": "ec710e2a-d3de-4d84-ae83-d1deebce36e7",
   "metadata": {
    "tags": []
   },
   "outputs": [],
   "source": [
    "def parallel_wrapper(df_train, df_valid, df_test, df_prime, model_constructor, encoding, n_hidden, p_drop, batchnorm, activation, batch_size=64, n_epochs = 500, lr = 1e-4, wd = 1e-2):\n",
    "    model = model_constructor(n_hidden=n_hidden, window_size=window_size, activation = activation, dropout=p_drop)\n",
    "    \n",
    "    train_loader, train_dataset = get_NNAlign_dataloader(train, max_len, window_size, encoding, seq_col='Peptide', target_col='agg_label', pad_scale=None, batch_size=batch_size, return_dataset=True)\n",
    "    valid_loader = get_NNAlign_dataloader(valid, max_len, window_size, encoding, seq_col='Peptide', target_col='agg_label', pad_scale=None, batch_size=batch_size, return_dataset=False)\n",
    "    test_loader = get_NNAlign_dataloader(test, max_len, window_size, encoding, seq_col='Peptide', target_col='agg_label', pad_scale=None, batch_size=batch_size, return_dataset=False)\n",
    "    prime_loader = get_NNAlign_dataloader(prime_aligned, max_len, window_size, encoding, seq_col='Peptide', target_col='agg_label', pad_scale=None, batch_size=batch_size, return_dataset=False)\n",
    "                         \n",
    "    if hasattr(model, 'standardizer'):\n",
    "        model.fit_standardizer(train_dataset[:][0])\n",
    "        \n",
    "    criterion = nn.BCEWithLogitsLoss(reduction='mean')\n",
    "    optimizer = optim.Adam(model.parameters(), lr = lr, weight_decay = wd)\n",
    "    \n",
    "    train_losses = []\n",
    "    valid_losses = []\n",
    "    prime_losses = []\n",
    "    test_losses = []\n",
    "\n",
    "    train_aucs = []\n",
    "    valid_aucs = []\n",
    "    prime_aucs = []\n",
    "    test_aucs = []\n",
    "\n",
    "\n",
    "    print('Before training')\n",
    "    loss, metrics = eval_model_step(model, criterion, train_loader)\n",
    "    train_losses.append(loss)\n",
    "    train_aucs.append(metrics['auc'])\n",
    "    loss, metrics = eval_model_step(model, criterion, valid_loader)\n",
    "    valid_losses.append(loss)\n",
    "    valid_aucs.append(metrics['auc'])\n",
    "    loss, metrics = eval_model_step(model, criterion, test_loader)\n",
    "    test_losses.append(loss)\n",
    "    test_aucs.append(metrics['auc'])\n",
    "    loss, metrics = eval_model_step(model, criterion, prime_loader)\n",
    "    prime_losses.append(loss)\n",
    "    prime_aucs.append(metrics['auc'])        \n",
    "    \n",
    "    for e in tqdm(range(1,n_epochs+1), desc='Training epochs', leave=False):\n",
    "        loss, metrics = train_model_step(model, criterion, optimizer, train_loader)\n",
    "        train_losses.append(loss)\n",
    "        train_aucs.append(metrics['auc'])\n",
    "        loss, metrics = eval_model_step(model, criterion, valid_loader)\n",
    "        valid_losses.append(loss)\n",
    "        valid_aucs.append(metrics['auc'])\n",
    "        loss, metrics = eval_model_step(model, criterion, test_loader)\n",
    "        test_losses.append(loss)\n",
    "        test_aucs.append(metrics['auc'])\n",
    "        loss, metrics = eval_model_step(model, criterion, prime_loader)\n",
    "        prime_losses.append(loss)\n",
    "        prime_aucs.append(metrics['auc'])\n",
    "            \n",
    "    f,a = plt.subplots(2,1, figsize=(12,10))\n",
    "    a = a.ravel()\n",
    "    a[0].plot(train_losses, label='train_losses')\n",
    "    a[0].plot(valid_losses, label='valid_losses')\n",
    "    a[0].plot(test_losses, label='test_losses')\n",
    "    a[0].plot(prime_losses, label='prime_losses')\n",
    "    a[0].legend()\n",
    "    a[0].set_title('loss')\n",
    "    a[1].plot(train_aucs, label='train_aucs')\n",
    "    a[1].plot(valid_aucs, label='valid_aucs')\n",
    "    a[1].plot(test_aucs, label='test_aucs')\n",
    "    a[1].plot(prime_aucs, label='prime_aucs')\n",
    "    a[1].legend()\n",
    "    a[1].set_title('AUC')\n",
    "    a[1].set_xlabel('epochs')\n",
    "    f.suptitle(f'Std:{hasattr(model, \"standardizer\")}, nh:{n_hidden}, drop:{p_drop}, BN:{batchnorm},\\nBS:{batch_size}, act:{activation.__class__.__name__}, enc:{encoding}, lr:{lr:.2e}, wd:{wd:.2e}')\n",
    "    filename=f'std_{hasattr(model, \"standardizer\")}_nh_{n_hidden}_drop_{p_drop}_bn_{batchnorm}_bs_{batch_size}_act_{activation.__class__.__name__}_enc_{encoding}_lr1em4_wd_1em2'\n",
    "    f.tight_layout()\n",
    "    f.savefig(f'../output/230516_NNAlign_hp_tune_checks/{filename}.png', bbox_inches='tight', dpi=200)\n",
    "    dd={'best_train_loss': np.min(train_losses),\n",
    "     'best_train_loss_idx': np.argmin(train_losses),\n",
    "     'best_valid_loss': np.min(valid_losses),\n",
    "     'best_valid_loss_idx': np.argmin(valid_losses),\n",
    "     'best_prime_loss': np.min(prime_losses),\n",
    "     'best_prime_loss_idx': np.argmin(prime_losses),\n",
    "     'best_test_loss': np.min(test_losses),\n",
    "     'best_test_loss_idx': np.argmin(test_losses),\n",
    "     \n",
    "     'best_train_auc': np.min(train_aucs),\n",
    "     'best_train_auc_idx': np.argmin(train_aucs),\n",
    "     'best_valid_auc': np.min(valid_aucs),\n",
    "     'best_valid_auc_idx': np.argmin(valid_aucs),\n",
    "     'best_prime_auc': np.min(prime_aucs),\n",
    "     'best_prime_auc_idx': np.argmin(prime_aucs),\n",
    "     'best_test_auc': np.min(test_aucs),\n",
    "     'best_test_auc_idx': np.argmin(test_aucs),\n",
    "     'std': hasattr(model, 'standardizer'),\n",
    "     'n_hidden':n_hidden,\n",
    "     'drop':p_drop,\n",
    "     'batchnorm':batchnorm,\n",
    "     'batchsize':batch_size,\n",
    "     'act':activation.__class__.__name__,\n",
    "     'encoding':encoding}\n",
    "    return pd.DataFrame(dd, index=[0])"
   ]
  },
  {
   "cell_type": "code",
   "execution_count": 558,
   "id": "23539bd8-2151-4f9f-8d04-ea8b6210947b",
   "metadata": {},
   "outputs": [
    {
     "data": {
      "text/html": [
       "<div>\n",
       "<style scoped>\n",
       "    .dataframe tbody tr th:only-of-type {\n",
       "        vertical-align: middle;\n",
       "    }\n",
       "\n",
       "    .dataframe tbody tr th {\n",
       "        vertical-align: top;\n",
       "    }\n",
       "\n",
       "    .dataframe thead th {\n",
       "        text-align: right;\n",
       "    }\n",
       "</style>\n",
       "<table border=\"1\" class=\"dataframe\">\n",
       "  <thead>\n",
       "    <tr style=\"text-align: right;\">\n",
       "      <th></th>\n",
       "      <th>best_train_loss</th>\n",
       "      <th>best_train_loss_idx</th>\n",
       "      <th>best_valid_loss</th>\n",
       "      <th>best_valid_loss_idx</th>\n",
       "      <th>best_prime_loss</th>\n",
       "      <th>best_prime_loss_idx</th>\n",
       "      <th>best_test_loss</th>\n",
       "      <th>best_test_loss_idx</th>\n",
       "      <th>best_train_auc</th>\n",
       "      <th>best_train_auc_idx</th>\n",
       "      <th>...</th>\n",
       "      <th>best_prime_auc_idx</th>\n",
       "      <th>best_test_auc</th>\n",
       "      <th>best_test_auc_idx</th>\n",
       "      <th>std</th>\n",
       "      <th>n_hidden</th>\n",
       "      <th>drop</th>\n",
       "      <th>batchnorm</th>\n",
       "      <th>batchsize</th>\n",
       "      <th>act</th>\n",
       "      <th>encoding</th>\n",
       "    </tr>\n",
       "  </thead>\n",
       "  <tbody>\n",
       "    <tr>\n",
       "      <th>0</th>\n",
       "      <td>0.048433</td>\n",
       "      <td>486</td>\n",
       "      <td>0.569473</td>\n",
       "      <td>286</td>\n",
       "      <td>0.537143</td>\n",
       "      <td>286</td>\n",
       "      <td>0.614508</td>\n",
       "      <td>286</td>\n",
       "      <td>0.4976</td>\n",
       "      <td>0</td>\n",
       "      <td>...</td>\n",
       "      <td>0</td>\n",
       "      <td>0.5037</td>\n",
       "      <td>0</td>\n",
       "      <td>True</td>\n",
       "      <td>50</td>\n",
       "      <td>0.25</td>\n",
       "      <td>True</td>\n",
       "      <td>64</td>\n",
       "      <td>SELU</td>\n",
       "      <td>BL62LO</td>\n",
       "    </tr>\n",
       "  </tbody>\n",
       "</table>\n",
       "<p>1 rows × 23 columns</p>\n",
       "</div>"
      ],
      "text/plain": [
       "   best_train_loss  best_train_loss_idx  best_valid_loss  best_valid_loss_idx  \\\n",
       "0         0.048433                  486         0.569473                  286   \n",
       "\n",
       "   best_prime_loss  best_prime_loss_idx  best_test_loss  best_test_loss_idx  \\\n",
       "0         0.537143                  286        0.614508                 286   \n",
       "\n",
       "   best_train_auc  best_train_auc_idx  ...  best_prime_auc_idx  best_test_auc  \\\n",
       "0          0.4976                   0  ...                   0         0.5037   \n",
       "\n",
       "   best_test_auc_idx   std  n_hidden  drop  batchnorm  batchsize   act  \\\n",
       "0                  0  True        50  0.25       True         64  SELU   \n",
       "\n",
       "   encoding  \n",
       "0    BL62LO  \n",
       "\n",
       "[1 rows x 23 columns]"
      ]
     },
     "execution_count": 558,
     "metadata": {},
     "output_type": "execute_result"
    }
   ],
   "source": [
    "dd={'best_train_loss': np.min(train_losses),\n",
    "     'best_train_loss_idx': np.argmin(train_losses),\n",
    "     'best_valid_loss': np.min(valid_losses),\n",
    "     'best_valid_loss_idx': np.argmin(valid_losses),\n",
    "     'best_prime_loss': np.min(prime_losses),\n",
    "     'best_prime_loss_idx': np.argmin(prime_losses),\n",
    "     'best_test_loss': np.min(test_losses),\n",
    "     'best_test_loss_idx': np.argmin(test_losses),\n",
    "     \n",
    "     'best_train_auc': np.min(train_aucs),\n",
    "     'best_train_auc_idx': np.argmin(train_aucs),\n",
    "     'best_valid_auc': np.min(valid_aucs),\n",
    "     'best_valid_auc_idx': np.argmin(valid_aucs),\n",
    "     'best_prime_auc': np.min(prime_aucs),\n",
    "     'best_prime_auc_idx': np.argmin(prime_aucs),\n",
    "     'best_test_auc': np.min(test_aucs),\n",
    "     'best_test_auc_idx': np.argmin(test_aucs),\n",
    "     'std': hasattr(model, 'standardizer'),\n",
    "     'n_hidden':n_hidden,\n",
    "     'drop':p_drop,\n",
    "     'batchnorm':True,\n",
    "     'batchsize':64,\n",
    "     'act':nn.SELU().__class__.__name__,\n",
    "     'encoding':encoding}\n",
    "pd.DataFrame(dd, index=[0])"
   ]
  },
  {
   "cell_type": "code",
   "execution_count": 560,
   "id": "ec1ce9e3-d26c-4e33-aad9-dc5fbfe9a819",
   "metadata": {
    "collapsed": true,
    "jupyter": {
     "outputs_hidden": true
    },
    "tags": []
   },
   "outputs": [
    {
     "data": {
      "application/vnd.jupyter.widget-view+json": {
       "model_id": "e9771b175a5249088b616f48655803f3",
       "version_major": 2,
       "version_minor": 0
      },
      "text/plain": [
       "conditions:   0%|          | 0/288 [00:00<?, ?it/s]"
      ]
     },
     "metadata": {},
     "output_type": "display_data"
    },
    {
     "name": "stdout",
     "output_type": "stream",
     "text": [
      "Before training\n",
      "Before training\n",
      "Before training\n",
      "Before training\n",
      "Before training\n",
      "Before training\n"
     ]
    },
    {
     "name": "stderr",
     "output_type": "stream",
     "text": [
      "Training epochs:   0%|          | 0/500 [00:00<?, ?it/s]22.57it/s]"
     ]
    },
    {
     "name": "stdout",
     "output_type": "stream",
     "text": [
      "Before training\n"
     ]
    },
    {
     "name": "stderr",
     "output_type": "stream",
     "text": [
      "Training epochs:  85%|████████▌ | 426/500 [00:18<00:03, 23.01it/s]"
     ]
    },
    {
     "name": "stdout",
     "output_type": "stream",
     "text": [
      "Before training\n",
      "Before training\n"
     ]
    },
    {
     "name": "stderr",
     "output_type": "stream",
     "text": [
      "Training epochs:  15%|█▌        | 76/500 [00:02<00:13, 30.87it/s]]"
     ]
    },
    {
     "name": "stdout",
     "output_type": "stream",
     "text": [
      "Before training\n"
     ]
    },
    {
     "name": "stderr",
     "output_type": "stream",
     "text": [
      "Training epochs:  23%|██▎       | 117/500 [00:04<00:14, 26.32it/s]"
     ]
    },
    {
     "name": "stdout",
     "output_type": "stream",
     "text": [
      "Before training\n"
     ]
    },
    {
     "name": "stderr",
     "output_type": "stream",
     "text": [
      "Training epochs:  25%|██▍       | 123/500 [00:04<00:14, 25.56it/s]"
     ]
    },
    {
     "name": "stdout",
     "output_type": "stream",
     "text": [
      "Before training\n"
     ]
    },
    {
     "name": "stderr",
     "output_type": "stream",
     "text": [
      "Training epochs:  80%|████████  | 402/500 [00:14<00:03, 28.52it/s]"
     ]
    },
    {
     "name": "stdout",
     "output_type": "stream",
     "text": [
      "Before training\n"
     ]
    },
    {
     "name": "stderr",
     "output_type": "stream",
     "text": [
      "Training epochs:  76%|███████▌  | 381/500 [00:15<00:05, 22.94it/s]"
     ]
    },
    {
     "name": "stdout",
     "output_type": "stream",
     "text": [
      "Before training\n"
     ]
    },
    {
     "name": "stderr",
     "output_type": "stream",
     "text": [
      "Training epochs:  20%|█▉        | 99/500 [00:04<00:16, 24.45it/s]]"
     ]
    },
    {
     "name": "stdout",
     "output_type": "stream",
     "text": [
      "Before training\n"
     ]
    },
    {
     "name": "stderr",
     "output_type": "stream",
     "text": [
      "Training epochs:  22%|██▏       | 108/500 [00:04<00:16, 23.45it/s]"
     ]
    },
    {
     "name": "stdout",
     "output_type": "stream",
     "text": [
      "Before training\n"
     ]
    },
    {
     "name": "stderr",
     "output_type": "stream",
     "text": [
      "Training epochs:  90%|█████████ | 450/500 [00:18<00:01, 25.21it/s]"
     ]
    },
    {
     "name": "stdout",
     "output_type": "stream",
     "text": [
      "Before training\n"
     ]
    },
    {
     "name": "stderr",
     "output_type": "stream",
     "text": [
      "Training epochs:   0%|          | 0/500 [00:00<?, ?it/s]9.92it/s]]"
     ]
    },
    {
     "name": "stdout",
     "output_type": "stream",
     "text": [
      "Before training\n"
     ]
    },
    {
     "name": "stderr",
     "output_type": "stream",
     "text": [
      "Training epochs:  82%|████████▏ | 411/500 [00:16<00:03, 24.26it/s]"
     ]
    },
    {
     "name": "stdout",
     "output_type": "stream",
     "text": [
      "Before training\n"
     ]
    },
    {
     "name": "stderr",
     "output_type": "stream",
     "text": [
      "Training epochs:   0%|          | 0/500 [00:00<?, ?it/s]20.30it/s]"
     ]
    },
    {
     "name": "stdout",
     "output_type": "stream",
     "text": [
      "Before training\n",
      "Before training\n"
     ]
    },
    {
     "name": "stderr",
     "output_type": "stream",
     "text": [
      "Training epochs:  81%|████████  | 405/500 [00:17<00:04, 23.66it/s]"
     ]
    },
    {
     "name": "stdout",
     "output_type": "stream",
     "text": [
      "Before training\n"
     ]
    },
    {
     "name": "stderr",
     "output_type": "stream",
     "text": [
      "Training epochs:  46%|████▌     | 228/500 [00:08<00:10, 26.39it/s]"
     ]
    },
    {
     "name": "stdout",
     "output_type": "stream",
     "text": [
      "Before training\n"
     ]
    },
    {
     "name": "stderr",
     "output_type": "stream",
     "text": [
      "Training epochs:   5%|▌         | 27/500 [00:01<00:18, 25.33it/s]]"
     ]
    },
    {
     "name": "stdout",
     "output_type": "stream",
     "text": [
      "Before training\n"
     ]
    },
    {
     "name": "stderr",
     "output_type": "stream",
     "text": [
      "Training epochs:  94%|█████████▎| 468/500 [00:18<00:01, 26.17it/s]"
     ]
    },
    {
     "name": "stdout",
     "output_type": "stream",
     "text": [
      "Before training\n"
     ]
    },
    {
     "name": "stderr",
     "output_type": "stream",
     "text": [
      "Training epochs:  60%|█████▉    | 298/500 [00:09<00:06, 29.44it/s]"
     ]
    },
    {
     "name": "stdout",
     "output_type": "stream",
     "text": [
      "Before training\n"
     ]
    },
    {
     "name": "stderr",
     "output_type": "stream",
     "text": [
      "Training epochs:  26%|██▌       | 129/500 [00:05<00:16, 22.16it/s]"
     ]
    },
    {
     "name": "stdout",
     "output_type": "stream",
     "text": [
      "Before training\n"
     ]
    },
    {
     "name": "stderr",
     "output_type": "stream",
     "text": [
      "Training epochs:   1%|          | 3/500 [00:00<00:17, 28.08it/s]s]"
     ]
    },
    {
     "name": "stdout",
     "output_type": "stream",
     "text": [
      "Before training\n"
     ]
    },
    {
     "name": "stderr",
     "output_type": "stream",
     "text": [
      "Training epochs:  34%|███▍      | 171/500 [00:07<00:13, 23.63it/s]"
     ]
    },
    {
     "name": "stdout",
     "output_type": "stream",
     "text": [
      "Before training\n"
     ]
    },
    {
     "name": "stderr",
     "output_type": "stream",
     "text": [
      "Training epochs:   1%|          | 3/500 [00:00<00:22, 22.50it/s]]]"
     ]
    },
    {
     "name": "stdout",
     "output_type": "stream",
     "text": [
      "Before training\n"
     ]
    },
    {
     "name": "stderr",
     "output_type": "stream",
     "text": [
      "Training epochs:   0%|          | 0/500 [00:00<?, ?it/s]23.30it/s]"
     ]
    },
    {
     "name": "stdout",
     "output_type": "stream",
     "text": [
      "Before training\n"
     ]
    },
    {
     "name": "stderr",
     "output_type": "stream",
     "text": [
      "Training epochs:  66%|██████▌   | 330/500 [00:14<00:07, 22.80it/s]"
     ]
    },
    {
     "name": "stdout",
     "output_type": "stream",
     "text": [
      "Before training\n",
      "Before training\n"
     ]
    },
    {
     "name": "stderr",
     "output_type": "stream",
     "text": [
      "Training epochs:  25%|██▍       | 123/500 [00:05<00:15, 23.78it/s]"
     ]
    },
    {
     "name": "stdout",
     "output_type": "stream",
     "text": [
      "Before training\n"
     ]
    },
    {
     "name": "stderr",
     "output_type": "stream",
     "text": [
      "Training epochs:  17%|█▋        | 86/500 [00:04<00:22, 18.53it/s]]"
     ]
    },
    {
     "name": "stdout",
     "output_type": "stream",
     "text": [
      "Before training\n"
     ]
    },
    {
     "name": "stderr",
     "output_type": "stream",
     "text": [
      "Training epochs:  32%|███▏      | 158/500 [00:08<00:20, 16.90it/s]"
     ]
    },
    {
     "name": "stdout",
     "output_type": "stream",
     "text": [
      "Before training\n"
     ]
    },
    {
     "name": "stderr",
     "output_type": "stream",
     "text": [
      "Training epochs:  50%|████▉     | 249/500 [00:10<00:10, 23.53it/s]"
     ]
    },
    {
     "name": "stdout",
     "output_type": "stream",
     "text": [
      "Before training\n"
     ]
    },
    {
     "name": "stderr",
     "output_type": "stream",
     "text": [
      "Training epochs:  58%|█████▊    | 291/500 [00:10<00:07, 26.65it/s]"
     ]
    },
    {
     "name": "stdout",
     "output_type": "stream",
     "text": [
      "Before training\n"
     ]
    },
    {
     "name": "stderr",
     "output_type": "stream",
     "text": [
      "Training epochs:  32%|███▏      | 162/500 [00:09<00:19, 17.16it/s]"
     ]
    },
    {
     "name": "stdout",
     "output_type": "stream",
     "text": [
      "Before training\n"
     ]
    },
    {
     "name": "stderr",
     "output_type": "stream",
     "text": [
      "Training epochs:   8%|▊         | 39/500 [00:01<00:19, 23.89it/s]]"
     ]
    },
    {
     "name": "stdout",
     "output_type": "stream",
     "text": [
      "Before training\n"
     ]
    },
    {
     "name": "stderr",
     "output_type": "stream",
     "text": [
      "Training epochs:   9%|▉         | 45/500 [00:01<00:19, 23.82it/s]]"
     ]
    },
    {
     "name": "stdout",
     "output_type": "stream",
     "text": [
      "Before training\n"
     ]
    },
    {
     "name": "stderr",
     "output_type": "stream",
     "text": [
      "Training epochs:  13%|█▎        | 66/500 [00:02<00:18, 23.70it/s]]"
     ]
    },
    {
     "name": "stdout",
     "output_type": "stream",
     "text": [
      "Before training\n"
     ]
    },
    {
     "name": "stderr",
     "output_type": "stream",
     "text": [
      "Training epochs:   1%|          | 3/500 [00:00<00:22, 21.88it/s]s]"
     ]
    },
    {
     "name": "stdout",
     "output_type": "stream",
     "text": [
      "Before training\n"
     ]
    },
    {
     "name": "stderr",
     "output_type": "stream",
     "text": [
      "Training epochs:  92%|█████████▏| 462/500 [00:19<00:01, 23.94it/s]"
     ]
    },
    {
     "name": "stdout",
     "output_type": "stream",
     "text": [
      "Before training\n"
     ]
    },
    {
     "name": "stderr",
     "output_type": "stream",
     "text": [
      "Training epochs:   7%|▋         | 33/500 [00:01<00:18, 25.77it/s]]"
     ]
    },
    {
     "name": "stdout",
     "output_type": "stream",
     "text": [
      "Before training\n"
     ]
    },
    {
     "name": "stderr",
     "output_type": "stream",
     "text": [
      "Training epochs:  66%|██████▌   | 330/500 [00:18<00:09, 17.86it/s]"
     ]
    },
    {
     "name": "stdout",
     "output_type": "stream",
     "text": [
      "Before training\n"
     ]
    },
    {
     "name": "stderr",
     "output_type": "stream",
     "text": [
      "Training epochs:  36%|███▌      | 180/500 [00:10<00:19, 16.79it/s]"
     ]
    },
    {
     "name": "stdout",
     "output_type": "stream",
     "text": [
      "Before training\n"
     ]
    },
    {
     "name": "stderr",
     "output_type": "stream",
     "text": [
      "Training epochs:  71%|███████   | 354/500 [00:15<00:06, 23.03it/s]"
     ]
    },
    {
     "name": "stdout",
     "output_type": "stream",
     "text": [
      "Before training\n"
     ]
    },
    {
     "name": "stderr",
     "output_type": "stream",
     "text": [
      "Training epochs:  32%|███▏      | 161/500 [00:07<00:15, 21.90it/s]"
     ]
    },
    {
     "name": "stdout",
     "output_type": "stream",
     "text": [
      "Before training\n"
     ]
    },
    {
     "name": "stderr",
     "output_type": "stream",
     "text": [
      "Training epochs:  37%|███▋      | 183/500 [00:07<00:12, 25.05it/s]"
     ]
    },
    {
     "name": "stdout",
     "output_type": "stream",
     "text": [
      "Before training\n"
     ]
    },
    {
     "name": "stderr",
     "output_type": "stream",
     "text": [
      "Training epochs:  97%|█████████▋| 484/500 [00:29<00:00, 16.20it/s]"
     ]
    },
    {
     "name": "stdout",
     "output_type": "stream",
     "text": [
      "Before training\n"
     ]
    },
    {
     "name": "stderr",
     "output_type": "stream",
     "text": [
      "Training epochs:   0%|          | 0/500 [00:00<?, ?it/s]23.84it/s]"
     ]
    },
    {
     "name": "stdout",
     "output_type": "stream",
     "text": [
      "Before training\n"
     ]
    },
    {
     "name": "stderr",
     "output_type": "stream",
     "text": [
      "Training epochs:  98%|█████████▊| 491/500 [00:22<00:00, 22.03it/s]"
     ]
    },
    {
     "name": "stdout",
     "output_type": "stream",
     "text": [
      "Before training\n"
     ]
    },
    {
     "name": "stderr",
     "output_type": "stream",
     "text": [
      "Training epochs:  27%|██▋       | 135/500 [00:05<00:14, 24.99it/s]"
     ]
    },
    {
     "name": "stdout",
     "output_type": "stream",
     "text": [
      "Before training\n"
     ]
    },
    {
     "name": "stderr",
     "output_type": "stream",
     "text": [
      "Training epochs:  25%|██▍       | 123/500 [00:05<00:15, 24.65it/s]"
     ]
    },
    {
     "name": "stdout",
     "output_type": "stream",
     "text": [
      "Before training\n"
     ]
    },
    {
     "name": "stderr",
     "output_type": "stream",
     "text": [
      "Training epochs:  53%|█████▎    | 264/500 [00:10<00:09, 25.26it/s]"
     ]
    },
    {
     "name": "stdout",
     "output_type": "stream",
     "text": [
      "Before training\n"
     ]
    },
    {
     "name": "stderr",
     "output_type": "stream",
     "text": [
      "Training epochs:   0%|          | 0/500 [00:00<?, ?it/s]26.21it/s]"
     ]
    },
    {
     "name": "stdout",
     "output_type": "stream",
     "text": [
      "Before training\n"
     ]
    },
    {
     "name": "stderr",
     "output_type": "stream",
     "text": [
      "Training epochs:  62%|██████▏   | 309/500 [00:11<00:07, 24.16it/s]"
     ]
    },
    {
     "name": "stdout",
     "output_type": "stream",
     "text": [
      "Before training\n"
     ]
    },
    {
     "name": "stderr",
     "output_type": "stream",
     "text": [
      "Training epochs:  13%|█▎        | 63/500 [00:02<00:16, 27.19it/s]]"
     ]
    },
    {
     "name": "stdout",
     "output_type": "stream",
     "text": [
      "Before training\n"
     ]
    },
    {
     "name": "stderr",
     "output_type": "stream",
     "text": [
      "Training epochs:   1%|          | 3/500 [00:00<00:17, 28.05it/s]]]"
     ]
    },
    {
     "name": "stdout",
     "output_type": "stream",
     "text": [
      "Before training\n"
     ]
    },
    {
     "name": "stderr",
     "output_type": "stream",
     "text": [
      "Training epochs:  19%|█▉        | 96/500 [00:03<00:16, 23.93it/s]]"
     ]
    },
    {
     "name": "stdout",
     "output_type": "stream",
     "text": [
      "Before training\n"
     ]
    },
    {
     "name": "stderr",
     "output_type": "stream",
     "text": [
      "Training epochs:  52%|█████▏    | 258/500 [00:10<00:10, 22.45it/s]"
     ]
    },
    {
     "name": "stdout",
     "output_type": "stream",
     "text": [
      "Before training\n"
     ]
    },
    {
     "name": "stderr",
     "output_type": "stream",
     "text": [
      "Training epochs:   1%|          | 3/500 [00:00<00:18, 26.37it/s]s]"
     ]
    },
    {
     "name": "stdout",
     "output_type": "stream",
     "text": [
      "Before training\n"
     ]
    },
    {
     "name": "stderr",
     "output_type": "stream",
     "text": [
      "Training epochs:   0%|          | 0/500 [00:00<?, ?it/s].08it/s]s]"
     ]
    },
    {
     "name": "stdout",
     "output_type": "stream",
     "text": [
      "Before training\n"
     ]
    },
    {
     "name": "stderr",
     "output_type": "stream",
     "text": [
      "                                                                  \r"
     ]
    },
    {
     "name": "stdout",
     "output_type": "stream",
     "text": [
      "Before training\n"
     ]
    },
    {
     "name": "stderr",
     "output_type": "stream",
     "text": [
      "Training epochs:   1%|          | 3/500 [00:00<00:22, 22.31it/s]s]"
     ]
    },
    {
     "name": "stdout",
     "output_type": "stream",
     "text": [
      "Before training\n"
     ]
    },
    {
     "name": "stderr",
     "output_type": "stream",
     "text": [
      "Training epochs:  16%|█▌        | 81/500 [00:03<00:18, 23.04it/s]]"
     ]
    },
    {
     "name": "stdout",
     "output_type": "stream",
     "text": [
      "Before training\n"
     ]
    },
    {
     "name": "stderr",
     "output_type": "stream",
     "text": [
      "Training epochs:  22%|██▏       | 108/500 [00:04<00:16, 23.59it/s]"
     ]
    },
    {
     "name": "stdout",
     "output_type": "stream",
     "text": [
      "Before training\n"
     ]
    },
    {
     "name": "stderr",
     "output_type": "stream",
     "text": [
      "Training epochs:  53%|█████▎    | 266/500 [00:08<00:07, 30.38it/s]"
     ]
    },
    {
     "name": "stdout",
     "output_type": "stream",
     "text": [
      "Before training\n"
     ]
    },
    {
     "name": "stderr",
     "output_type": "stream",
     "text": [
      "Training epochs:  13%|█▎        | 66/500 [00:03<00:20, 21.36it/s]]"
     ]
    },
    {
     "name": "stdout",
     "output_type": "stream",
     "text": [
      "Before training\n"
     ]
    },
    {
     "name": "stderr",
     "output_type": "stream",
     "text": [
      "Training epochs:  92%|█████████▏| 459/500 [00:18<00:01, 26.84it/s]"
     ]
    },
    {
     "name": "stdout",
     "output_type": "stream",
     "text": [
      "Before training\n"
     ]
    },
    {
     "name": "stderr",
     "output_type": "stream",
     "text": [
      "Training epochs:  93%|█████████▎| 465/500 [00:18<00:01, 26.57it/s]"
     ]
    },
    {
     "name": "stdout",
     "output_type": "stream",
     "text": [
      "Before training\n"
     ]
    },
    {
     "name": "stderr",
     "output_type": "stream",
     "text": [
      "Training epochs:  11%|█         | 56/500 [00:01<00:14, 30.50it/s]]"
     ]
    },
    {
     "name": "stdout",
     "output_type": "stream",
     "text": [
      "Before training\n",
      "Before training\n"
     ]
    },
    {
     "name": "stderr",
     "output_type": "stream",
     "text": [
      "Training epochs:  58%|█████▊    | 288/500 [00:14<00:10, 21.06it/s]"
     ]
    },
    {
     "name": "stdout",
     "output_type": "stream",
     "text": [
      "Before training\n"
     ]
    },
    {
     "name": "stderr",
     "output_type": "stream",
     "text": [
      "Training epochs:  96%|█████████▌| 481/500 [00:16<00:00, 29.88it/s]"
     ]
    },
    {
     "name": "stdout",
     "output_type": "stream",
     "text": [
      "Before training\n"
     ]
    },
    {
     "name": "stderr",
     "output_type": "stream",
     "text": [
      "Training epochs:   7%|▋         | 36/500 [00:01<00:19, 23.38it/s]]"
     ]
    },
    {
     "name": "stdout",
     "output_type": "stream",
     "text": [
      "Before training\n"
     ]
    },
    {
     "name": "stderr",
     "output_type": "stream",
     "text": [
      "Training epochs:  73%|███████▎  | 363/500 [00:18<00:06, 20.48it/s]"
     ]
    },
    {
     "name": "stdout",
     "output_type": "stream",
     "text": [
      "Before training\n"
     ]
    },
    {
     "name": "stderr",
     "output_type": "stream",
     "text": [
      "Training epochs:  20%|██        | 102/500 [00:04<00:18, 21.02it/s]"
     ]
    },
    {
     "name": "stdout",
     "output_type": "stream",
     "text": [
      "Before training\n"
     ]
    },
    {
     "name": "stderr",
     "output_type": "stream",
     "text": [
      "Training epochs:  34%|███▎      | 168/500 [00:07<00:14, 23.41it/s]"
     ]
    },
    {
     "name": "stdout",
     "output_type": "stream",
     "text": [
      "Before training\n"
     ]
    },
    {
     "name": "stderr",
     "output_type": "stream",
     "text": [
      "Training epochs:  52%|█████▏    | 261/500 [00:10<00:09, 23.98it/s]"
     ]
    },
    {
     "name": "stdout",
     "output_type": "stream",
     "text": [
      "Before training\n"
     ]
    },
    {
     "name": "stderr",
     "output_type": "stream",
     "text": [
      "Training epochs:  78%|███████▊  | 389/500 [00:19<00:05, 19.28it/s]"
     ]
    },
    {
     "name": "stdout",
     "output_type": "stream",
     "text": [
      "Before training\n"
     ]
    },
    {
     "name": "stderr",
     "output_type": "stream",
     "text": [
      "Training epochs:  97%|█████████▋| 485/500 [00:24<00:00, 20.10it/s]"
     ]
    },
    {
     "name": "stdout",
     "output_type": "stream",
     "text": [
      "Before training\n"
     ]
    },
    {
     "name": "stderr",
     "output_type": "stream",
     "text": [
      "Training epochs:  28%|██▊       | 138/500 [00:08<00:21, 16.78it/s]"
     ]
    },
    {
     "name": "stdout",
     "output_type": "stream",
     "text": [
      "Before training\n"
     ]
    },
    {
     "name": "stderr",
     "output_type": "stream",
     "text": [
      "Training epochs:  13%|█▎        | 64/500 [00:02<00:15, 27.26it/s]]"
     ]
    },
    {
     "name": "stdout",
     "output_type": "stream",
     "text": [
      "Before training\n",
      "Before training\n"
     ]
    },
    {
     "name": "stderr",
     "output_type": "stream",
     "text": [
      "Training epochs:  95%|█████████▌| 477/500 [00:19<00:00, 24.84it/s]"
     ]
    },
    {
     "name": "stdout",
     "output_type": "stream",
     "text": [
      "Before training\n"
     ]
    },
    {
     "name": "stderr",
     "output_type": "stream",
     "text": [
      "Training epochs:  99%|█████████▉| 497/500 [00:25<00:00, 19.74it/s]"
     ]
    },
    {
     "name": "stdout",
     "output_type": "stream",
     "text": [
      "Before training\n"
     ]
    },
    {
     "name": "stderr",
     "output_type": "stream",
     "text": [
      "Training epochs:   0%|          | 0/500 [00:00<?, ?it/s]15.90it/s]"
     ]
    },
    {
     "name": "stdout",
     "output_type": "stream",
     "text": [
      "Before training\n"
     ]
    },
    {
     "name": "stderr",
     "output_type": "stream",
     "text": [
      "Training epochs:  66%|██████▋   | 332/500 [00:19<00:09, 16.98it/s]"
     ]
    },
    {
     "name": "stdout",
     "output_type": "stream",
     "text": [
      "Before training\n"
     ]
    },
    {
     "name": "stderr",
     "output_type": "stream",
     "text": [
      "Training epochs:  90%|█████████ | 450/500 [00:26<00:02, 17.57it/s]"
     ]
    },
    {
     "name": "stdout",
     "output_type": "stream",
     "text": [
      "Before training\n"
     ]
    },
    {
     "name": "stderr",
     "output_type": "stream",
     "text": [
      "Training epochs:   1%|          | 3/500 [00:00<00:18, 26.58it/s]s]"
     ]
    },
    {
     "name": "stdout",
     "output_type": "stream",
     "text": [
      "Before training\n"
     ]
    },
    {
     "name": "stderr",
     "output_type": "stream",
     "text": [
      "Training epochs:  54%|█████▍    | 270/500 [00:16<00:14, 15.80it/s]"
     ]
    },
    {
     "name": "stdout",
     "output_type": "stream",
     "text": [
      "Before training\n"
     ]
    },
    {
     "name": "stderr",
     "output_type": "stream",
     "text": [
      "Training epochs:  37%|███▋      | 183/500 [00:07<00:12, 25.46it/s]"
     ]
    },
    {
     "name": "stdout",
     "output_type": "stream",
     "text": [
      "Before training\n"
     ]
    },
    {
     "name": "stderr",
     "output_type": "stream",
     "text": [
      "Training epochs:  44%|████▍     | 222/500 [00:14<00:16, 16.91it/s]"
     ]
    },
    {
     "name": "stdout",
     "output_type": "stream",
     "text": [
      "Before training\n"
     ]
    },
    {
     "name": "stderr",
     "output_type": "stream",
     "text": [
      "Training epochs:  43%|████▎     | 214/500 [00:12<00:15, 18.02it/s]"
     ]
    },
    {
     "name": "stdout",
     "output_type": "stream",
     "text": [
      "Before training\n"
     ]
    },
    {
     "name": "stderr",
     "output_type": "stream",
     "text": [
      "Training epochs:   4%|▍         | 21/500 [00:00<00:19, 24.76it/s]]"
     ]
    },
    {
     "name": "stdout",
     "output_type": "stream",
     "text": [
      "Before training\n"
     ]
    },
    {
     "name": "stderr",
     "output_type": "stream",
     "text": [
      "Training epochs:  52%|█████▏    | 258/500 [00:16<00:14, 16.69it/s]"
     ]
    },
    {
     "name": "stdout",
     "output_type": "stream",
     "text": [
      "Before training\n"
     ]
    },
    {
     "name": "stderr",
     "output_type": "stream",
     "text": [
      "Training epochs:  74%|███████▍  | 372/500 [00:15<00:05, 23.94it/s]"
     ]
    },
    {
     "name": "stdout",
     "output_type": "stream",
     "text": [
      "Before training\n",
      "Before training\n"
     ]
    },
    {
     "name": "stderr",
     "output_type": "stream",
     "text": [
      "Training epochs:  11%|█▏        | 57/500 [00:02<00:18, 23.72it/s]]"
     ]
    },
    {
     "name": "stdout",
     "output_type": "stream",
     "text": [
      "Before training\n"
     ]
    },
    {
     "name": "stderr",
     "output_type": "stream",
     "text": [
      "Training epochs:  23%|██▎       | 116/500 [00:03<00:12, 30.81it/s]"
     ]
    },
    {
     "name": "stdout",
     "output_type": "stream",
     "text": [
      "Before training\n"
     ]
    },
    {
     "name": "stderr",
     "output_type": "stream",
     "text": [
      "Training epochs:   0%|          | 0/500 [00:00<?, ?it/s]8.84it/s]]"
     ]
    },
    {
     "name": "stdout",
     "output_type": "stream",
     "text": [
      "Before training\n",
      "Before training\n"
     ]
    },
    {
     "name": "stderr",
     "output_type": "stream",
     "text": [
      "Training epochs:  55%|█████▌    | 276/500 [00:11<00:08, 24.95it/s]"
     ]
    },
    {
     "name": "stdout",
     "output_type": "stream",
     "text": [
      "Before training\n"
     ]
    },
    {
     "name": "stderr",
     "output_type": "stream",
     "text": [
      "Training epochs:  14%|█▍        | 72/500 [00:03<00:18, 22.79it/s]]"
     ]
    },
    {
     "name": "stdout",
     "output_type": "stream",
     "text": [
      "Before training\n"
     ]
    },
    {
     "name": "stderr",
     "output_type": "stream",
     "text": [
      "Training epochs:   1%|          | 3/500 [00:00<00:20, 24.57it/s]s]"
     ]
    },
    {
     "name": "stdout",
     "output_type": "stream",
     "text": [
      "Before training\n"
     ]
    },
    {
     "name": "stderr",
     "output_type": "stream",
     "text": [
      "Training epochs:  18%|█▊        | 89/500 [00:03<00:14, 28.94it/s]]"
     ]
    },
    {
     "name": "stdout",
     "output_type": "stream",
     "text": [
      "Before training\n",
      "Before training\n"
     ]
    },
    {
     "name": "stderr",
     "output_type": "stream",
     "text": [
      "Training epochs:  43%|████▎     | 213/500 [00:09<00:12, 23.40it/s]"
     ]
    },
    {
     "name": "stdout",
     "output_type": "stream",
     "text": [
      "Before training\n"
     ]
    },
    {
     "name": "stderr",
     "output_type": "stream",
     "text": [
      "Training epochs:  84%|████████▍ | 420/500 [00:18<00:03, 21.40it/s]"
     ]
    },
    {
     "name": "stdout",
     "output_type": "stream",
     "text": [
      "Before training\n"
     ]
    },
    {
     "name": "stderr",
     "output_type": "stream",
     "text": [
      "Training epochs:  89%|████████▉ | 447/500 [00:19<00:02, 23.15it/s]"
     ]
    },
    {
     "name": "stdout",
     "output_type": "stream",
     "text": [
      "Before training\n"
     ]
    },
    {
     "name": "stderr",
     "output_type": "stream",
     "text": [
      "Training epochs:   1%|          | 3/500 [00:00<00:23, 20.86it/s]s]"
     ]
    },
    {
     "name": "stdout",
     "output_type": "stream",
     "text": [
      "Before training\n"
     ]
    },
    {
     "name": "stderr",
     "output_type": "stream",
     "text": [
      "Training epochs:  89%|████████▉ | 445/500 [00:20<00:02, 24.20it/s]"
     ]
    },
    {
     "name": "stdout",
     "output_type": "stream",
     "text": [
      "Before training\n"
     ]
    },
    {
     "name": "stderr",
     "output_type": "stream",
     "text": [
      "Training epochs:  31%|███       | 156/500 [00:05<00:11, 29.54it/s]"
     ]
    },
    {
     "name": "stdout",
     "output_type": "stream",
     "text": [
      "Before training\n"
     ]
    },
    {
     "name": "stderr",
     "output_type": "stream",
     "text": [
      "Training epochs:   2%|▏         | 12/500 [00:00<00:20, 24.12it/s]]"
     ]
    },
    {
     "name": "stdout",
     "output_type": "stream",
     "text": [
      "Before training\n"
     ]
    },
    {
     "name": "stderr",
     "output_type": "stream",
     "text": [
      "Training epochs:  94%|█████████▍| 471/500 [00:19<00:01, 19.79it/s]"
     ]
    },
    {
     "name": "stdout",
     "output_type": "stream",
     "text": [
      "Before training\n"
     ]
    },
    {
     "name": "stderr",
     "output_type": "stream",
     "text": [
      "Training epochs:   9%|▊         | 43/500 [00:01<00:20, 22.62it/s]]"
     ]
    },
    {
     "name": "stdout",
     "output_type": "stream",
     "text": [
      "Before training\n"
     ]
    },
    {
     "name": "stderr",
     "output_type": "stream",
     "text": [
      "Training epochs:  21%|██        | 103/500 [00:04<00:17, 22.79it/s]"
     ]
    },
    {
     "name": "stdout",
     "output_type": "stream",
     "text": [
      "Before training\n"
     ]
    },
    {
     "name": "stderr",
     "output_type": "stream",
     "text": [
      "Training epochs:   1%|          | 3/500 [00:00<00:16, 29.84it/s]s]"
     ]
    },
    {
     "name": "stdout",
     "output_type": "stream",
     "text": [
      "Before training\n"
     ]
    },
    {
     "name": "stderr",
     "output_type": "stream",
     "text": [
      "Training epochs:  33%|███▎      | 163/500 [00:07<00:15, 21.99it/s]"
     ]
    },
    {
     "name": "stdout",
     "output_type": "stream",
     "text": [
      "Before training\n"
     ]
    },
    {
     "name": "stderr",
     "output_type": "stream",
     "text": [
      "Training epochs:  17%|█▋        | 87/500 [00:03<00:16, 24.54it/s]]"
     ]
    },
    {
     "name": "stdout",
     "output_type": "stream",
     "text": [
      "Before training\n"
     ]
    },
    {
     "name": "stderr",
     "output_type": "stream",
     "text": [
      "Training epochs:  95%|█████████▌| 475/500 [00:16<00:00, 30.21it/s]"
     ]
    },
    {
     "name": "stdout",
     "output_type": "stream",
     "text": [
      "Before training\n"
     ]
    },
    {
     "name": "stderr",
     "output_type": "stream",
     "text": [
      "Training epochs:  65%|██████▌   | 325/500 [00:15<00:08, 21.13it/s]"
     ]
    },
    {
     "name": "stdout",
     "output_type": "stream",
     "text": [
      "Before training\n",
      "Before training\n"
     ]
    },
    {
     "name": "stderr",
     "output_type": "stream",
     "text": [
      "Training epochs:  76%|███████▌  | 378/500 [00:18<00:06, 20.18it/s]"
     ]
    },
    {
     "name": "stdout",
     "output_type": "stream",
     "text": [
      "Before training\n"
     ]
    },
    {
     "name": "stderr",
     "output_type": "stream",
     "text": [
      "Training epochs:  19%|█▊        | 93/500 [00:03<00:19, 21.23it/s]]"
     ]
    },
    {
     "name": "stdout",
     "output_type": "stream",
     "text": [
      "Before training\n"
     ]
    },
    {
     "name": "stderr",
     "output_type": "stream",
     "text": [
      "Training epochs:  36%|███▌      | 180/500 [00:09<00:15, 20.19it/s]"
     ]
    },
    {
     "name": "stdout",
     "output_type": "stream",
     "text": [
      "Before training\n"
     ]
    },
    {
     "name": "stderr",
     "output_type": "stream",
     "text": [
      "Training epochs:  76%|███████▌  | 378/500 [00:21<00:09, 12.58it/s]"
     ]
    },
    {
     "name": "stdout",
     "output_type": "stream",
     "text": [
      "Before training\n"
     ]
    },
    {
     "name": "stderr",
     "output_type": "stream",
     "text": [
      "Training epochs:  66%|██████▌   | 328/500 [00:17<00:09, 18.77it/s]"
     ]
    },
    {
     "name": "stdout",
     "output_type": "stream",
     "text": [
      "Before training\n"
     ]
    },
    {
     "name": "stderr",
     "output_type": "stream",
     "text": [
      "Training epochs:  13%|█▎        | 65/500 [00:03<00:19, 21.80it/s]]"
     ]
    },
    {
     "name": "stdout",
     "output_type": "stream",
     "text": [
      "Before training\n"
     ]
    },
    {
     "name": "stderr",
     "output_type": "stream",
     "text": [
      "Training epochs:  86%|████████▋ | 432/500 [00:21<00:03, 22.47it/s]"
     ]
    },
    {
     "name": "stdout",
     "output_type": "stream",
     "text": [
      "Before training\n"
     ]
    },
    {
     "name": "stderr",
     "output_type": "stream",
     "text": [
      "Training epochs:  98%|█████████▊| 490/500 [00:24<00:00, 20.00it/s]"
     ]
    },
    {
     "name": "stdout",
     "output_type": "stream",
     "text": [
      "Before training\n"
     ]
    },
    {
     "name": "stderr",
     "output_type": "stream",
     "text": [
      "Training epochs:  26%|██▌       | 131/500 [00:05<00:16, 21.92it/s]"
     ]
    },
    {
     "name": "stdout",
     "output_type": "stream",
     "text": [
      "Before training\n"
     ]
    },
    {
     "name": "stderr",
     "output_type": "stream",
     "text": [
      "Training epochs:   1%|          | 3/500 [00:00<00:20, 23.94it/s]s]"
     ]
    },
    {
     "name": "stdout",
     "output_type": "stream",
     "text": [
      "Before training\n"
     ]
    },
    {
     "name": "stderr",
     "output_type": "stream",
     "text": [
      "Training epochs:  63%|██████▎   | 316/500 [00:16<00:09, 18.93it/s]"
     ]
    },
    {
     "name": "stdout",
     "output_type": "stream",
     "text": [
      "Before training\n",
      "Before training\n"
     ]
    },
    {
     "name": "stderr",
     "output_type": "stream",
     "text": [
      "Training epochs:   3%|▎         | 16/500 [00:00<00:29, 16.26it/s]]"
     ]
    },
    {
     "name": "stdout",
     "output_type": "stream",
     "text": [
      "Before training\n"
     ]
    },
    {
     "name": "stderr",
     "output_type": "stream",
     "text": [
      "Training epochs:   0%|          | 2/500 [00:00<00:30, 16.15it/s]s]"
     ]
    },
    {
     "name": "stdout",
     "output_type": "stream",
     "text": [
      "Before training\n"
     ]
    },
    {
     "name": "stderr",
     "output_type": "stream",
     "text": [
      "Training epochs:  49%|████▉     | 246/500 [00:10<00:10, 24.14it/s]"
     ]
    },
    {
     "name": "stdout",
     "output_type": "stream",
     "text": [
      "Before training\n"
     ]
    },
    {
     "name": "stderr",
     "output_type": "stream",
     "text": [
      "Training epochs:  40%|████      | 202/500 [00:09<00:12, 23.19it/s]"
     ]
    },
    {
     "name": "stdout",
     "output_type": "stream",
     "text": [
      "Before training\n"
     ]
    },
    {
     "name": "stderr",
     "output_type": "stream",
     "text": [
      "Training epochs:   0%|          | 2/500 [00:00<00:26, 18.98it/s]s]"
     ]
    },
    {
     "name": "stdout",
     "output_type": "stream",
     "text": [
      "Before training\n"
     ]
    },
    {
     "name": "stderr",
     "output_type": "stream",
     "text": [
      "Training epochs:   0%|          | 2/500 [00:00<00:25, 19.85it/s]s]"
     ]
    },
    {
     "name": "stdout",
     "output_type": "stream",
     "text": [
      "Before training\n"
     ]
    },
    {
     "name": "stderr",
     "output_type": "stream",
     "text": [
      "Training epochs:  90%|█████████ | 451/500 [00:19<00:02, 23.86it/s]"
     ]
    },
    {
     "name": "stdout",
     "output_type": "stream",
     "text": [
      "Before training\n"
     ]
    },
    {
     "name": "stderr",
     "output_type": "stream",
     "text": [
      "Training epochs:  13%|█▎        | 66/500 [00:02<00:17, 25.33it/s]]"
     ]
    },
    {
     "name": "stdout",
     "output_type": "stream",
     "text": [
      "Before training\n"
     ]
    },
    {
     "name": "stderr",
     "output_type": "stream",
     "text": [
      "Training epochs:  25%|██▌       | 125/500 [00:05<00:16, 22.42it/s]"
     ]
    },
    {
     "name": "stdout",
     "output_type": "stream",
     "text": [
      "Before training\n"
     ]
    },
    {
     "name": "stderr",
     "output_type": "stream",
     "text": [
      "Training epochs:  61%|██████    | 305/500 [00:15<00:10, 18.27it/s]"
     ]
    },
    {
     "name": "stdout",
     "output_type": "stream",
     "text": [
      "Before training\n"
     ]
    },
    {
     "name": "stderr",
     "output_type": "stream",
     "text": [
      "Training epochs:  91%|█████████ | 455/500 [00:18<00:02, 22.08it/s]"
     ]
    },
    {
     "name": "stdout",
     "output_type": "stream",
     "text": [
      "Before training\n"
     ]
    },
    {
     "name": "stderr",
     "output_type": "stream",
     "text": [
      "Training epochs:  85%|████████▌ | 426/500 [00:18<00:04, 16.76it/s]"
     ]
    },
    {
     "name": "stdout",
     "output_type": "stream",
     "text": [
      "Before training\n"
     ]
    },
    {
     "name": "stderr",
     "output_type": "stream",
     "text": [
      "Training epochs:   0%|          | 0/500 [00:00<?, ?it/s]2.95it/s]]"
     ]
    },
    {
     "name": "stdout",
     "output_type": "stream",
     "text": [
      "Before training\n"
     ]
    },
    {
     "name": "stderr",
     "output_type": "stream",
     "text": [
      "Training epochs:  30%|██▉       | 149/500 [00:10<00:26, 13.23it/s]"
     ]
    },
    {
     "name": "stdout",
     "output_type": "stream",
     "text": [
      "Before training\n"
     ]
    },
    {
     "name": "stderr",
     "output_type": "stream",
     "text": [
      "Training epochs:  15%|█▌        | 77/500 [00:04<00:22, 18.92it/s]]"
     ]
    },
    {
     "name": "stdout",
     "output_type": "stream",
     "text": [
      "Before training\n"
     ]
    },
    {
     "name": "stderr",
     "output_type": "stream",
     "text": [
      "Training epochs:  70%|███████   | 351/500 [00:22<00:07, 19.73it/s]"
     ]
    },
    {
     "name": "stdout",
     "output_type": "stream",
     "text": [
      "Before training\n"
     ]
    },
    {
     "name": "stderr",
     "output_type": "stream",
     "text": [
      "Training epochs:   0%|          | 0/500 [00:00<?, ?it/s]21.65it/s]"
     ]
    },
    {
     "name": "stdout",
     "output_type": "stream",
     "text": [
      "Before training\n"
     ]
    },
    {
     "name": "stderr",
     "output_type": "stream",
     "text": [
      "Training epochs:  87%|████████▋ | 435/500 [00:27<00:03, 17.84it/s]"
     ]
    },
    {
     "name": "stdout",
     "output_type": "stream",
     "text": [
      "Before training\n"
     ]
    },
    {
     "name": "stderr",
     "output_type": "stream",
     "text": [
      "Training epochs:   0%|          | 0/500 [00:00<?, ?it/s]17.63it/s]"
     ]
    },
    {
     "name": "stdout",
     "output_type": "stream",
     "text": [
      "Before training\n"
     ]
    },
    {
     "name": "stderr",
     "output_type": "stream",
     "text": [
      "Training epochs:   0%|          | 0/500 [00:00<?, ?it/s]19.59it/s]"
     ]
    },
    {
     "name": "stdout",
     "output_type": "stream",
     "text": [
      "Before training\n"
     ]
    },
    {
     "name": "stderr",
     "output_type": "stream",
     "text": [
      "Training epochs:  40%|███▉      | 199/500 [00:11<00:16, 18.42it/s]"
     ]
    },
    {
     "name": "stdout",
     "output_type": "stream",
     "text": [
      "Before training\n"
     ]
    },
    {
     "name": "stderr",
     "output_type": "stream",
     "text": [
      "Training epochs:  97%|█████████▋| 485/500 [00:27<00:00, 20.72it/s]"
     ]
    },
    {
     "name": "stdout",
     "output_type": "stream",
     "text": [
      "Before training\n"
     ]
    },
    {
     "name": "stderr",
     "output_type": "stream",
     "text": [
      "Training epochs:   6%|▌         | 30/500 [00:01<00:21, 22.10it/s]]"
     ]
    },
    {
     "name": "stdout",
     "output_type": "stream",
     "text": [
      "Before training\n"
     ]
    },
    {
     "name": "stderr",
     "output_type": "stream",
     "text": [
      "Training epochs:  17%|█▋        | 84/500 [00:03<00:18, 22.62it/s]]"
     ]
    },
    {
     "name": "stdout",
     "output_type": "stream",
     "text": [
      "Before training\n"
     ]
    },
    {
     "name": "stderr",
     "output_type": "stream",
     "text": [
      "Training epochs:  18%|█▊        | 90/500 [00:04<00:18, 22.26it/s]]"
     ]
    },
    {
     "name": "stdout",
     "output_type": "stream",
     "text": [
      "Before training\n"
     ]
    },
    {
     "name": "stderr",
     "output_type": "stream",
     "text": [
      "Training epochs:  13%|█▎        | 63/500 [00:02<00:20, 21.25it/s]]"
     ]
    },
    {
     "name": "stdout",
     "output_type": "stream",
     "text": [
      "Before training\n"
     ]
    },
    {
     "name": "stderr",
     "output_type": "stream",
     "text": [
      "Training epochs:  49%|████▊     | 243/500 [00:09<00:09, 26.55it/s]"
     ]
    },
    {
     "name": "stdout",
     "output_type": "stream",
     "text": [
      "Before training\n"
     ]
    },
    {
     "name": "stderr",
     "output_type": "stream",
     "text": [
      "Training epochs:  73%|███████▎  | 367/500 [00:17<00:06, 21.09it/s]"
     ]
    },
    {
     "name": "stdout",
     "output_type": "stream",
     "text": [
      "Before training\n"
     ]
    },
    {
     "name": "stderr",
     "output_type": "stream",
     "text": [
      "Training epochs:  72%|███████▏  | 361/500 [00:17<00:06, 21.83it/s]"
     ]
    },
    {
     "name": "stdout",
     "output_type": "stream",
     "text": [
      "Before training\n"
     ]
    },
    {
     "name": "stderr",
     "output_type": "stream",
     "text": [
      "Training epochs:  26%|██▌       | 128/500 [00:07<00:20, 18.39it/s]"
     ]
    },
    {
     "name": "stdout",
     "output_type": "stream",
     "text": [
      "Before training\n"
     ]
    },
    {
     "name": "stderr",
     "output_type": "stream",
     "text": [
      "Training epochs:  10%|█         | 51/500 [00:02<00:20, 21.66it/s]]"
     ]
    },
    {
     "name": "stdout",
     "output_type": "stream",
     "text": [
      "Before training\n",
      "Before training\n"
     ]
    },
    {
     "name": "stderr",
     "output_type": "stream",
     "text": [
      "Training epochs:  34%|███▍      | 170/500 [00:08<00:15, 21.07it/s]"
     ]
    },
    {
     "name": "stdout",
     "output_type": "stream",
     "text": [
      "Before training\n"
     ]
    },
    {
     "name": "stderr",
     "output_type": "stream",
     "text": [
      "Training epochs:  60%|█████▉    | 298/500 [00:17<00:11, 17.92it/s]"
     ]
    },
    {
     "name": "stdout",
     "output_type": "stream",
     "text": [
      "Before training\n"
     ]
    },
    {
     "name": "stderr",
     "output_type": "stream",
     "text": [
      "Training epochs:   8%|▊         | 39/500 [00:01<00:22, 20.30it/s]]"
     ]
    },
    {
     "name": "stdout",
     "output_type": "stream",
     "text": [
      "Before training\n"
     ]
    },
    {
     "name": "stderr",
     "output_type": "stream",
     "text": [
      "Training epochs:   4%|▎         | 18/500 [00:00<00:22, 21.87it/s]]"
     ]
    },
    {
     "name": "stdout",
     "output_type": "stream",
     "text": [
      "Before training\n"
     ]
    },
    {
     "name": "stderr",
     "output_type": "stream",
     "text": [
      "Training epochs:   0%|          | 0/500 [00:00<?, ?it/s]16.56it/s]"
     ]
    },
    {
     "name": "stdout",
     "output_type": "stream",
     "text": [
      "Before training\n"
     ]
    },
    {
     "name": "stderr",
     "output_type": "stream",
     "text": [
      "Training epochs:  18%|█▊        | 92/500 [00:05<00:24, 16.81it/s]]"
     ]
    },
    {
     "name": "stdout",
     "output_type": "stream",
     "text": [
      "Before training\n"
     ]
    },
    {
     "name": "stderr",
     "output_type": "stream",
     "text": [
      "Training epochs:   1%|          | 3/500 [00:00<00:22, 21.83it/s]s]"
     ]
    },
    {
     "name": "stdout",
     "output_type": "stream",
     "text": [
      "Before training\n"
     ]
    },
    {
     "name": "stderr",
     "output_type": "stream",
     "text": [
      "Training epochs:  53%|█████▎    | 267/500 [00:11<00:09, 23.50it/s]"
     ]
    },
    {
     "name": "stdout",
     "output_type": "stream",
     "text": [
      "Before training\n"
     ]
    },
    {
     "name": "stderr",
     "output_type": "stream",
     "text": [
      "Training epochs:  65%|██████▌   | 325/500 [00:16<00:09, 18.79it/s]"
     ]
    },
    {
     "name": "stdout",
     "output_type": "stream",
     "text": [
      "Before training\n"
     ]
    },
    {
     "name": "stderr",
     "output_type": "stream",
     "text": [
      "Training epochs:  85%|████████▌ | 427/500 [00:22<00:03, 19.46it/s]"
     ]
    },
    {
     "name": "stdout",
     "output_type": "stream",
     "text": [
      "Before training\n"
     ]
    },
    {
     "name": "stderr",
     "output_type": "stream",
     "text": [
      "Training epochs:  22%|██▏       | 110/500 [00:07<00:23, 16.43it/s]"
     ]
    },
    {
     "name": "stdout",
     "output_type": "stream",
     "text": [
      "Before training\n"
     ]
    },
    {
     "name": "stderr",
     "output_type": "stream",
     "text": [
      "Training epochs:  14%|█▍        | 69/500 [00:02<00:16, 25.90it/s]]"
     ]
    },
    {
     "name": "stdout",
     "output_type": "stream",
     "text": [
      "Before training\n",
      "Before training\n"
     ]
    },
    {
     "name": "stderr",
     "output_type": "stream",
     "text": [
      "Training epochs:  92%|█████████▏| 462/500 [00:28<00:02, 16.03it/s]"
     ]
    },
    {
     "name": "stdout",
     "output_type": "stream",
     "text": [
      "Before training\n"
     ]
    },
    {
     "name": "stderr",
     "output_type": "stream",
     "text": [
      "Training epochs:   0%|          | 0/500 [00:00<?, ?it/s]1.14it/s]]"
     ]
    },
    {
     "name": "stdout",
     "output_type": "stream",
     "text": [
      "Before training\n"
     ]
    },
    {
     "name": "stderr",
     "output_type": "stream",
     "text": [
      "Training epochs:  64%|██████▎   | 318/500 [00:21<00:13, 13.79it/s]"
     ]
    },
    {
     "name": "stdout",
     "output_type": "stream",
     "text": [
      "Before training\n"
     ]
    },
    {
     "name": "stderr",
     "output_type": "stream",
     "text": [
      "Training epochs:   0%|          | 2/500 [00:00<00:36, 13.82it/s]]]"
     ]
    },
    {
     "name": "stdout",
     "output_type": "stream",
     "text": [
      "Before training\n"
     ]
    },
    {
     "name": "stderr",
     "output_type": "stream",
     "text": [
      "Training epochs:  44%|████▍     | 222/500 [00:09<00:11, 23.62it/s]"
     ]
    },
    {
     "name": "stdout",
     "output_type": "stream",
     "text": [
      "Before training\n"
     ]
    },
    {
     "name": "stderr",
     "output_type": "stream",
     "text": [
      "Training epochs:  33%|███▎      | 167/500 [00:13<00:26, 12.80it/s]"
     ]
    },
    {
     "name": "stdout",
     "output_type": "stream",
     "text": [
      "Before training\n"
     ]
    },
    {
     "name": "stderr",
     "output_type": "stream",
     "text": [
      "Training epochs:  98%|█████████▊| 490/500 [00:25<00:00, 20.93it/s]"
     ]
    },
    {
     "name": "stdout",
     "output_type": "stream",
     "text": [
      "Before training\n"
     ]
    },
    {
     "name": "stderr",
     "output_type": "stream",
     "text": [
      "Training epochs:  58%|█████▊    | 291/500 [00:22<00:14, 14.48it/s]"
     ]
    },
    {
     "name": "stdout",
     "output_type": "stream",
     "text": [
      "Before training\n"
     ]
    },
    {
     "name": "stderr",
     "output_type": "stream",
     "text": [
      "Training epochs:  44%|████▎     | 218/500 [00:15<00:21, 13.14it/s]"
     ]
    },
    {
     "name": "stdout",
     "output_type": "stream",
     "text": [
      "Before training\n"
     ]
    },
    {
     "name": "stderr",
     "output_type": "stream",
     "text": [
      "Training epochs:  44%|████▍     | 222/500 [00:14<00:16, 16.40it/s]"
     ]
    },
    {
     "name": "stdout",
     "output_type": "stream",
     "text": [
      "Before training\n",
      "Before training\n"
     ]
    },
    {
     "name": "stderr",
     "output_type": "stream",
     "text": [
      "Training epochs:   9%|▉         | 47/500 [00:02<00:24, 18.77it/s]]"
     ]
    },
    {
     "name": "stdout",
     "output_type": "stream",
     "text": [
      "Before training\n"
     ]
    },
    {
     "name": "stderr",
     "output_type": "stream",
     "text": [
      "Training epochs:  79%|███████▊  | 393/500 [00:16<00:04, 22.16it/s]"
     ]
    },
    {
     "name": "stdout",
     "output_type": "stream",
     "text": [
      "Before training\n"
     ]
    },
    {
     "name": "stderr",
     "output_type": "stream",
     "text": [
      "Training epochs:  75%|███████▌  | 376/500 [00:20<00:06, 18.21it/s]"
     ]
    },
    {
     "name": "stdout",
     "output_type": "stream",
     "text": [
      "Before training\n"
     ]
    },
    {
     "name": "stderr",
     "output_type": "stream",
     "text": [
      "Training epochs:  92%|█████████▏| 462/500 [00:24<00:01, 19.66it/s]"
     ]
    },
    {
     "name": "stdout",
     "output_type": "stream",
     "text": [
      "Before training\n"
     ]
    },
    {
     "name": "stderr",
     "output_type": "stream",
     "text": [
      "Training epochs:  93%|█████████▎| 466/500 [00:24<00:01, 18.78it/s]"
     ]
    },
    {
     "name": "stdout",
     "output_type": "stream",
     "text": [
      "Before training\n"
     ]
    },
    {
     "name": "stderr",
     "output_type": "stream",
     "text": [
      "Training epochs:  34%|███▍      | 171/500 [00:08<00:17, 19.18it/s]"
     ]
    },
    {
     "name": "stdout",
     "output_type": "stream",
     "text": [
      "Before training\n"
     ]
    },
    {
     "name": "stderr",
     "output_type": "stream",
     "text": [
      "Training epochs:  14%|█▍        | 70/500 [00:03<00:19, 21.64it/s]]"
     ]
    },
    {
     "name": "stdout",
     "output_type": "stream",
     "text": [
      "Before training\n"
     ]
    },
    {
     "name": "stderr",
     "output_type": "stream",
     "text": [
      "Training epochs:   0%|          | 0/500 [00:00<?, ?it/s]23.87it/s]"
     ]
    },
    {
     "name": "stdout",
     "output_type": "stream",
     "text": [
      "Before training\n"
     ]
    },
    {
     "name": "stderr",
     "output_type": "stream",
     "text": [
      "Training epochs:  72%|███████▏  | 360/500 [00:16<00:06, 21.62it/s]"
     ]
    },
    {
     "name": "stdout",
     "output_type": "stream",
     "text": [
      "Before training\n"
     ]
    },
    {
     "name": "stderr",
     "output_type": "stream",
     "text": [
      "Training epochs:  89%|████████▊ | 443/500 [00:22<00:02, 19.54it/s]"
     ]
    },
    {
     "name": "stdout",
     "output_type": "stream",
     "text": [
      "Before training\n"
     ]
    },
    {
     "name": "stderr",
     "output_type": "stream",
     "text": [
      "Training epochs:   9%|▉         | 45/500 [00:02<00:21, 21.59it/s]]"
     ]
    },
    {
     "name": "stdout",
     "output_type": "stream",
     "text": [
      "Before training\n"
     ]
    },
    {
     "name": "stderr",
     "output_type": "stream",
     "text": [
      "Training epochs:  16%|█▌        | 81/500 [00:03<00:21, 19.22it/s]]"
     ]
    },
    {
     "name": "stdout",
     "output_type": "stream",
     "text": [
      "Before training\n"
     ]
    },
    {
     "name": "stderr",
     "output_type": "stream",
     "text": [
      "Training epochs:   0%|          | 0/500 [00:00<?, ?it/s]16.66it/s]"
     ]
    },
    {
     "name": "stdout",
     "output_type": "stream",
     "text": [
      "Before training\n"
     ]
    },
    {
     "name": "stderr",
     "output_type": "stream",
     "text": [
      "Training epochs:   0%|          | 2/500 [00:00<00:26, 19.11it/s]s]"
     ]
    },
    {
     "name": "stdout",
     "output_type": "stream",
     "text": [
      "Before training\n"
     ]
    },
    {
     "name": "stderr",
     "output_type": "stream",
     "text": [
      "Training epochs:  71%|███████▏  | 357/500 [00:16<00:06, 23.51it/s]"
     ]
    },
    {
     "name": "stdout",
     "output_type": "stream",
     "text": [
      "Before training\n"
     ]
    },
    {
     "name": "stderr",
     "output_type": "stream",
     "text": [
      "Training epochs:  13%|█▎        | 66/500 [00:02<00:18, 23.37it/s]]"
     ]
    },
    {
     "name": "stdout",
     "output_type": "stream",
     "text": [
      "Before training\n"
     ]
    },
    {
     "name": "stderr",
     "output_type": "stream",
     "text": [
      "Training epochs:   6%|▋         | 32/500 [00:02<00:30, 15.27it/s]]"
     ]
    },
    {
     "name": "stdout",
     "output_type": "stream",
     "text": [
      "Before training\n"
     ]
    },
    {
     "name": "stderr",
     "output_type": "stream",
     "text": [
      "Training epochs:  33%|███▎      | 163/500 [00:08<00:16, 19.90it/s]"
     ]
    },
    {
     "name": "stdout",
     "output_type": "stream",
     "text": [
      "Before training\n"
     ]
    },
    {
     "name": "stderr",
     "output_type": "stream",
     "text": [
      "Training epochs:  50%|█████     | 252/500 [00:12<00:11, 21.67it/s]"
     ]
    },
    {
     "name": "stdout",
     "output_type": "stream",
     "text": [
      "Before training\n"
     ]
    },
    {
     "name": "stderr",
     "output_type": "stream",
     "text": [
      "Training epochs:  46%|████▌     | 231/500 [00:09<00:11, 24.39it/s]"
     ]
    },
    {
     "name": "stdout",
     "output_type": "stream",
     "text": [
      "Before training\n"
     ]
    },
    {
     "name": "stderr",
     "output_type": "stream",
     "text": [
      "Training epochs:  73%|███████▎  | 365/500 [00:17<00:06, 22.14it/s]"
     ]
    },
    {
     "name": "stdout",
     "output_type": "stream",
     "text": [
      "Before training\n"
     ]
    },
    {
     "name": "stderr",
     "output_type": "stream",
     "text": [
      "Training epochs:   0%|          | 0/500 [00:00<?, ?it/s]17.58it/s]"
     ]
    },
    {
     "name": "stdout",
     "output_type": "stream",
     "text": [
      "Before training\n"
     ]
    },
    {
     "name": "stderr",
     "output_type": "stream",
     "text": [
      "Training epochs:  92%|█████████▏| 458/500 [00:28<00:02, 14.23it/s]"
     ]
    },
    {
     "name": "stdout",
     "output_type": "stream",
     "text": [
      "Before training\n"
     ]
    },
    {
     "name": "stderr",
     "output_type": "stream",
     "text": [
      "Training epochs:  33%|███▎      | 165/500 [00:08<00:21, 15.45it/s]"
     ]
    },
    {
     "name": "stdout",
     "output_type": "stream",
     "text": [
      "Before training\n"
     ]
    },
    {
     "name": "stderr",
     "output_type": "stream",
     "text": [
      "Training epochs:  17%|█▋        | 87/500 [00:04<00:17, 23.08it/s]]"
     ]
    },
    {
     "name": "stdout",
     "output_type": "stream",
     "text": [
      "Before training\n"
     ]
    },
    {
     "name": "stderr",
     "output_type": "stream",
     "text": [
      "Training epochs:  81%|████████  | 404/500 [00:21<00:05, 18.84it/s]"
     ]
    },
    {
     "name": "stdout",
     "output_type": "stream",
     "text": [
      "Before training\n"
     ]
    },
    {
     "name": "stderr",
     "output_type": "stream",
     "text": [
      "Training epochs:   3%|▎         | 14/500 [00:00<00:27, 17.67it/s]]"
     ]
    },
    {
     "name": "stdout",
     "output_type": "stream",
     "text": [
      "Before training\n"
     ]
    },
    {
     "name": "stderr",
     "output_type": "stream",
     "text": [
      "Training epochs:   7%|▋         | 37/500 [00:02<00:27, 16.58it/s]]"
     ]
    },
    {
     "name": "stdout",
     "output_type": "stream",
     "text": [
      "Before training\n"
     ]
    },
    {
     "name": "stderr",
     "output_type": "stream",
     "text": [
      "Training epochs:   0%|          | 2/500 [00:00<00:26, 19.10it/s]s]"
     ]
    },
    {
     "name": "stdout",
     "output_type": "stream",
     "text": [
      "Before training\n"
     ]
    },
    {
     "name": "stderr",
     "output_type": "stream",
     "text": [
      "Training epochs:  48%|████▊     | 241/500 [00:10<00:11, 22.77it/s]"
     ]
    },
    {
     "name": "stdout",
     "output_type": "stream",
     "text": [
      "Before training\n"
     ]
    },
    {
     "name": "stderr",
     "output_type": "stream",
     "text": [
      "Training epochs:   1%|          | 3/500 [00:00<00:22, 22.36it/s]s]"
     ]
    },
    {
     "name": "stdout",
     "output_type": "stream",
     "text": [
      "Before training\n"
     ]
    },
    {
     "name": "stderr",
     "output_type": "stream",
     "text": [
      "Training epochs:  69%|██████▉   | 344/500 [00:21<00:09, 16.31it/s]"
     ]
    },
    {
     "name": "stdout",
     "output_type": "stream",
     "text": [
      "Before training\n"
     ]
    },
    {
     "name": "stderr",
     "output_type": "stream",
     "text": [
      "Training epochs:  12%|█▏        | 60/500 [00:04<00:33, 13.32it/s]]"
     ]
    },
    {
     "name": "stdout",
     "output_type": "stream",
     "text": [
      "Before training\n"
     ]
    },
    {
     "name": "stderr",
     "output_type": "stream",
     "text": [
      "Training epochs:  16%|█▋        | 82/500 [00:05<00:28, 14.59it/s]]"
     ]
    },
    {
     "name": "stdout",
     "output_type": "stream",
     "text": [
      "Before training\n"
     ]
    },
    {
     "name": "stderr",
     "output_type": "stream",
     "text": [
      "Training epochs:  18%|█▊        | 88/500 [00:06<00:30, 13.66it/s]]"
     ]
    },
    {
     "name": "stdout",
     "output_type": "stream",
     "text": [
      "Before training\n"
     ]
    },
    {
     "name": "stderr",
     "output_type": "stream",
     "text": [
      "Training epochs:   0%|          | 0/500 [00:00<?, ?it/s]18.39it/s]"
     ]
    },
    {
     "name": "stdout",
     "output_type": "stream",
     "text": [
      "Before training\n"
     ]
    },
    {
     "name": "stderr",
     "output_type": "stream",
     "text": [
      "Training epochs:  43%|████▎     | 216/500 [00:15<00:20, 13.71it/s]"
     ]
    },
    {
     "name": "stdout",
     "output_type": "stream",
     "text": [
      "Before training\n"
     ]
    },
    {
     "name": "stderr",
     "output_type": "stream",
     "text": [
      "Training epochs:  90%|█████████ | 452/500 [00:29<00:02, 16.46it/s]"
     ]
    },
    {
     "name": "stdout",
     "output_type": "stream",
     "text": [
      "Before training\n"
     ]
    },
    {
     "name": "stderr",
     "output_type": "stream",
     "text": [
      "Training epochs:   1%|          | 3/500 [00:00<00:22, 22.54it/s]s]"
     ]
    },
    {
     "name": "stdout",
     "output_type": "stream",
     "text": [
      "Before training\n"
     ]
    },
    {
     "name": "stderr",
     "output_type": "stream",
     "text": [
      "Training epochs:  64%|██████▍   | 320/500 [00:22<00:12, 14.27it/s]"
     ]
    },
    {
     "name": "stdout",
     "output_type": "stream",
     "text": [
      "Before training\n"
     ]
    },
    {
     "name": "stderr",
     "output_type": "stream",
     "text": [
      "Training epochs:  15%|█▌        | 76/500 [00:04<00:22, 19.18it/s]]"
     ]
    },
    {
     "name": "stdout",
     "output_type": "stream",
     "text": [
      "Before training\n"
     ]
    },
    {
     "name": "stderr",
     "output_type": "stream",
     "text": [
      "Training epochs:  31%|███       | 156/500 [00:10<00:23, 14.54it/s]"
     ]
    },
    {
     "name": "stdout",
     "output_type": "stream",
     "text": [
      "Before training\n"
     ]
    },
    {
     "name": "stderr",
     "output_type": "stream",
     "text": [
      "Training epochs:   8%|▊         | 39/500 [00:02<00:25, 17.88it/s]]"
     ]
    },
    {
     "name": "stdout",
     "output_type": "stream",
     "text": [
      "Before training\n"
     ]
    },
    {
     "name": "stderr",
     "output_type": "stream",
     "text": [
      "Training epochs:  56%|█████▌    | 280/500 [00:20<00:16, 13.49it/s]"
     ]
    },
    {
     "name": "stdout",
     "output_type": "stream",
     "text": [
      "Before training\n"
     ]
    },
    {
     "name": "stderr",
     "output_type": "stream",
     "text": [
      "Training epochs:  62%|██████▏   | 310/500 [00:22<00:12, 15.06it/s]"
     ]
    },
    {
     "name": "stdout",
     "output_type": "stream",
     "text": [
      "Before training\n"
     ]
    },
    {
     "name": "stderr",
     "output_type": "stream",
     "text": [
      "Training epochs:  35%|███▍      | 174/500 [00:11<00:22, 14.64it/s]"
     ]
    },
    {
     "name": "stdout",
     "output_type": "stream",
     "text": [
      "Before training\n"
     ]
    },
    {
     "name": "stderr",
     "output_type": "stream",
     "text": [
      "                                                                  \r"
     ]
    },
    {
     "name": "stdout",
     "output_type": "stream",
     "text": [
      "Before training\n"
     ]
    },
    {
     "name": "stderr",
     "output_type": "stream",
     "text": [
      "Training epochs:   0%|          | 2/500 [00:00<00:27, 18.42it/s]]]"
     ]
    },
    {
     "name": "stdout",
     "output_type": "stream",
     "text": [
      "Before training\n"
     ]
    },
    {
     "name": "stderr",
     "output_type": "stream",
     "text": [
      "Training epochs:  48%|████▊     | 242/500 [00:15<00:14, 17.28it/s]"
     ]
    },
    {
     "name": "stdout",
     "output_type": "stream",
     "text": [
      "Before training\n"
     ]
    },
    {
     "name": "stderr",
     "output_type": "stream",
     "text": [
      "Training epochs:  79%|███████▊  | 393/500 [00:17<00:05, 19.40it/s]"
     ]
    },
    {
     "name": "stdout",
     "output_type": "stream",
     "text": [
      "Before training\n"
     ]
    },
    {
     "name": "stderr",
     "output_type": "stream",
     "text": [
      "Training epochs:  84%|████████▍ | 419/500 [00:20<00:03, 21.03it/s]"
     ]
    },
    {
     "name": "stdout",
     "output_type": "stream",
     "text": [
      "Before training\n"
     ]
    },
    {
     "name": "stderr",
     "output_type": "stream",
     "text": [
      "Training epochs:  18%|█▊        | 90/500 [00:03<00:15, 26.34it/s]]"
     ]
    },
    {
     "name": "stdout",
     "output_type": "stream",
     "text": [
      "Before training\n"
     ]
    },
    {
     "name": "stderr",
     "output_type": "stream",
     "text": [
      "Training epochs:   1%|          | 3/500 [00:00<00:23, 20.98it/s]s]"
     ]
    },
    {
     "name": "stdout",
     "output_type": "stream",
     "text": [
      "Before training\n"
     ]
    },
    {
     "name": "stderr",
     "output_type": "stream",
     "text": [
      "Training epochs:   4%|▎         | 18/500 [00:00<00:21, 21.99it/s]]"
     ]
    },
    {
     "name": "stdout",
     "output_type": "stream",
     "text": [
      "Before training\n"
     ]
    },
    {
     "name": "stderr",
     "output_type": "stream",
     "text": [
      "Training epochs:  13%|█▎        | 66/500 [00:03<00:19, 21.83it/s]]"
     ]
    },
    {
     "name": "stdout",
     "output_type": "stream",
     "text": [
      "Before training\n"
     ]
    },
    {
     "name": "stderr",
     "output_type": "stream",
     "text": [
      "Training epochs:  94%|█████████▍| 471/500 [00:22<00:01, 22.19it/s]"
     ]
    },
    {
     "name": "stdout",
     "output_type": "stream",
     "text": [
      "Before training\n"
     ]
    },
    {
     "name": "stderr",
     "output_type": "stream",
     "text": [
      "Training epochs:  74%|███████▍  | 370/500 [00:18<00:07, 17.32it/s]"
     ]
    },
    {
     "name": "stdout",
     "output_type": "stream",
     "text": [
      "Before training\n"
     ]
    },
    {
     "name": "stderr",
     "output_type": "stream",
     "text": [
      "Training epochs:  95%|█████████▌| 477/500 [00:19<00:00, 23.42it/s]"
     ]
    },
    {
     "name": "stdout",
     "output_type": "stream",
     "text": [
      "Before training\n"
     ]
    },
    {
     "name": "stderr",
     "output_type": "stream",
     "text": [
      "Training epochs:  93%|█████████▎| 465/500 [00:23<00:01, 20.70it/s]"
     ]
    },
    {
     "name": "stdout",
     "output_type": "stream",
     "text": [
      "Before training\n"
     ]
    },
    {
     "name": "stderr",
     "output_type": "stream",
     "text": [
      "Training epochs:   8%|▊         | 38/500 [00:01<00:18, 24.66it/s]]"
     ]
    },
    {
     "name": "stdout",
     "output_type": "stream",
     "text": [
      "Before training\n"
     ]
    },
    {
     "name": "stderr",
     "output_type": "stream",
     "text": [
      "Training epochs:  12%|█▏        | 59/500 [00:02<00:17, 25.28it/s]]"
     ]
    },
    {
     "name": "stdout",
     "output_type": "stream",
     "text": [
      "Before training\n"
     ]
    },
    {
     "name": "stderr",
     "output_type": "stream",
     "text": [
      "Training epochs:  92%|█████████▏| 460/500 [00:24<00:02, 19.33it/s]"
     ]
    },
    {
     "name": "stdout",
     "output_type": "stream",
     "text": [
      "Before training\n"
     ]
    },
    {
     "name": "stderr",
     "output_type": "stream",
     "text": [
      "Training epochs:  84%|████████▍ | 419/500 [00:20<00:03, 20.85it/s]"
     ]
    },
    {
     "name": "stdout",
     "output_type": "stream",
     "text": [
      "Before training\n"
     ]
    },
    {
     "name": "stderr",
     "output_type": "stream",
     "text": [
      "Training epochs:   0%|          | 2/500 [00:00<00:28, 17.65it/s]s]"
     ]
    },
    {
     "name": "stdout",
     "output_type": "stream",
     "text": [
      "Before training\n"
     ]
    },
    {
     "name": "stderr",
     "output_type": "stream",
     "text": [
      "Training epochs:  10%|▉         | 48/500 [00:02<00:25, 17.65it/s]]"
     ]
    },
    {
     "name": "stdout",
     "output_type": "stream",
     "text": [
      "Before training\n",
      "Before training\n"
     ]
    },
    {
     "name": "stderr",
     "output_type": "stream",
     "text": [
      "Training epochs:  48%|████▊     | 239/500 [00:12<00:20, 12.45it/s]"
     ]
    },
    {
     "name": "stdout",
     "output_type": "stream",
     "text": [
      "Before training\n"
     ]
    },
    {
     "name": "stderr",
     "output_type": "stream",
     "text": [
      "Training epochs:   0%|          | 0/500 [00:00<?, ?it/s]24.84it/s]"
     ]
    },
    {
     "name": "stdout",
     "output_type": "stream",
     "text": [
      "Before training\n"
     ]
    },
    {
     "name": "stderr",
     "output_type": "stream",
     "text": [
      "Training epochs:  71%|███████   | 354/500 [00:18<00:06, 21.66it/s]"
     ]
    },
    {
     "name": "stdout",
     "output_type": "stream",
     "text": [
      "Before training\n"
     ]
    },
    {
     "name": "stderr",
     "output_type": "stream",
     "text": [
      "Training epochs:   0%|          | 0/500 [00:00<?, ?it/s]19.10it/s]"
     ]
    },
    {
     "name": "stdout",
     "output_type": "stream",
     "text": [
      "Before training\n",
      "Before training\n"
     ]
    },
    {
     "name": "stderr",
     "output_type": "stream",
     "text": [
      "Training epochs:   1%|          | 5/500 [00:00<00:28, 17.64it/s]s]"
     ]
    },
    {
     "name": "stdout",
     "output_type": "stream",
     "text": [
      "Before training\n"
     ]
    },
    {
     "name": "stderr",
     "output_type": "stream",
     "text": [
      "Training epochs:   0%|          | 2/500 [00:00<00:32, 15.14it/s]s]"
     ]
    },
    {
     "name": "stdout",
     "output_type": "stream",
     "text": [
      "Before training\n"
     ]
    },
    {
     "name": "stderr",
     "output_type": "stream",
     "text": [
      "Training epochs:  66%|██████▌   | 329/500 [00:17<00:08, 20.17it/s]"
     ]
    },
    {
     "name": "stdout",
     "output_type": "stream",
     "text": [
      "Before training\n"
     ]
    },
    {
     "name": "stderr",
     "output_type": "stream",
     "text": [
      "Training epochs:   0%|          | 0/500 [00:00<?, ?it/s]25.77it/s]"
     ]
    },
    {
     "name": "stdout",
     "output_type": "stream",
     "text": [
      "Before training\n"
     ]
    },
    {
     "name": "stderr",
     "output_type": "stream",
     "text": [
      "Training epochs:  85%|████████▍ | 424/500 [00:20<00:03, 22.39it/s]"
     ]
    },
    {
     "name": "stdout",
     "output_type": "stream",
     "text": [
      "Before training\n"
     ]
    },
    {
     "name": "stderr",
     "output_type": "stream",
     "text": [
      "Training epochs:  33%|███▎      | 165/500 [00:06<00:13, 25.00it/s]"
     ]
    },
    {
     "name": "stdout",
     "output_type": "stream",
     "text": [
      "Before training\n",
      "Before training\n"
     ]
    },
    {
     "name": "stderr",
     "output_type": "stream",
     "text": [
      "Training epochs:  22%|██▏       | 110/500 [00:06<00:23, 16.42it/s]"
     ]
    },
    {
     "name": "stdout",
     "output_type": "stream",
     "text": [
      "Before training\n"
     ]
    },
    {
     "name": "stderr",
     "output_type": "stream",
     "text": [
      "Training epochs:  55%|█████▍    | 273/500 [00:10<00:08, 25.76it/s]"
     ]
    },
    {
     "name": "stdout",
     "output_type": "stream",
     "text": [
      "Before training\n"
     ]
    },
    {
     "name": "stderr",
     "output_type": "stream",
     "text": [
      "Training epochs:  62%|██████▏   | 312/500 [00:12<00:07, 25.99it/s]"
     ]
    },
    {
     "name": "stdout",
     "output_type": "stream",
     "text": [
      "Before training\n"
     ]
    },
    {
     "name": "stderr",
     "output_type": "stream",
     "text": [
      "Training epochs:  29%|██▉       | 144/500 [00:08<00:19, 18.06it/s]"
     ]
    },
    {
     "name": "stdout",
     "output_type": "stream",
     "text": [
      "Before training\n"
     ]
    },
    {
     "name": "stderr",
     "output_type": "stream",
     "text": [
      "Training epochs:  97%|█████████▋| 483/500 [00:28<00:00, 18.92it/s]"
     ]
    },
    {
     "name": "stdout",
     "output_type": "stream",
     "text": [
      "Before training\n"
     ]
    },
    {
     "name": "stderr",
     "output_type": "stream",
     "text": [
      "Training epochs:  39%|███▉      | 196/500 [00:10<00:16, 18.30it/s]"
     ]
    },
    {
     "name": "stdout",
     "output_type": "stream",
     "text": [
      "Before training\n"
     ]
    },
    {
     "name": "stderr",
     "output_type": "stream",
     "text": [
      "Training epochs:   1%|          | 6/500 [00:00<00:34, 14.47it/s]s]"
     ]
    },
    {
     "name": "stdout",
     "output_type": "stream",
     "text": [
      "Before training\n"
     ]
    },
    {
     "name": "stderr",
     "output_type": "stream",
     "text": [
      "Training epochs:   1%|          | 3/500 [00:00<00:23, 21.40it/s]s]"
     ]
    },
    {
     "name": "stdout",
     "output_type": "stream",
     "text": [
      "Before training\n"
     ]
    },
    {
     "name": "stderr",
     "output_type": "stream",
     "text": [
      "Training epochs:   1%|          | 3/500 [00:00<00:18, 26.95it/s]s]"
     ]
    },
    {
     "name": "stdout",
     "output_type": "stream",
     "text": [
      "Before training\n"
     ]
    },
    {
     "name": "stderr",
     "output_type": "stream",
     "text": [
      "Training epochs:   8%|▊         | 39/500 [00:01<00:21, 21.79it/s]]"
     ]
    },
    {
     "name": "stdout",
     "output_type": "stream",
     "text": [
      "Before training\n"
     ]
    },
    {
     "name": "stderr",
     "output_type": "stream",
     "text": [
      "Training epochs:  15%|█▌        | 75/500 [00:03<00:20, 20.86it/s]]"
     ]
    },
    {
     "name": "stdout",
     "output_type": "stream",
     "text": [
      "Before training\n"
     ]
    },
    {
     "name": "stderr",
     "output_type": "stream",
     "text": [
      "Training epochs:  65%|██████▌   | 327/500 [00:12<00:06, 25.35it/s]"
     ]
    },
    {
     "name": "stdout",
     "output_type": "stream",
     "text": [
      "Before training\n"
     ]
    },
    {
     "name": "stderr",
     "output_type": "stream",
     "text": [
      "Training epochs:  43%|████▎     | 214/500 [00:12<00:17, 16.74it/s]"
     ]
    },
    {
     "name": "stdout",
     "output_type": "stream",
     "text": [
      "Before training\n"
     ]
    },
    {
     "name": "stderr",
     "output_type": "stream",
     "text": [
      "Training epochs:  20%|█▉        | 99/500 [00:04<00:18, 22.25it/s]]"
     ]
    },
    {
     "name": "stdout",
     "output_type": "stream",
     "text": [
      "Before training\n"
     ]
    },
    {
     "name": "stderr",
     "output_type": "stream",
     "text": [
      "Training epochs:   7%|▋         | 34/500 [00:02<00:31, 14.99it/s]]"
     ]
    },
    {
     "name": "stdout",
     "output_type": "stream",
     "text": [
      "Before training\n"
     ]
    },
    {
     "name": "stderr",
     "output_type": "stream",
     "text": [
      "Training epochs:  98%|█████████▊| 488/500 [00:32<00:00, 15.44it/s]"
     ]
    },
    {
     "name": "stdout",
     "output_type": "stream",
     "text": [
      "Before training\n"
     ]
    },
    {
     "name": "stderr",
     "output_type": "stream",
     "text": [
      "Training epochs:  38%|███▊      | 192/500 [00:12<00:20, 15.08it/s]"
     ]
    },
    {
     "name": "stdout",
     "output_type": "stream",
     "text": [
      "Before training\n"
     ]
    },
    {
     "name": "stderr",
     "output_type": "stream",
     "text": [
      "                                                                  \r"
     ]
    }
   ],
   "source": [
    "from src.models import NNAlign, NNAlignWrapper\n",
    "from src.datasets import NNAlignDataset, get_NNAlign_dataloader\n",
    "from src.train_eval import train_model_step, eval_model_step\n",
    "from torch.utils.data import Dataset, DataLoader\n",
    "from sklearn.model_selection import train_test_split\n",
    "from torch import optim\n",
    "import itertools\n",
    "from functools import partial\n",
    "from joblib import Parallel, delayed\n",
    "\n",
    "lr = 1e-4\n",
    "wd = 1e-2\n",
    "window_size = 6\n",
    "max_len = 12\n",
    "n_hidden = 50\n",
    "n_epochs = 500\n",
    "seed = 13 \n",
    "torch.manual_seed(seed)\n",
    "df_train, df_test = train_test_split(cedar_aligned, test_size=1/4, random_state=seed)\n",
    "df_valid, df_test = train_test_split(test, test_size=1/2, random_state=seed)\n",
    "df_prime = prime_aligned\n",
    "criterion = nn.BCEWithLogitsLoss(reduction='mean')\n",
    "cdts = list(itertools.product([NNAlign, NNAlignWrapper], ['BL62LO', 'BL50LO', 'BL62FREQ'], [10, 25, 50], [0, 0.3], [False, True], [nn.SELU(), nn.ReLU()], [64, 128]))\n",
    "\n",
    "\n",
    "wrapper = partial(parallel_wrapper, df_train=df_train, df_valid=df_valid, df_test=df_test, df_prime=df_prime, \n",
    "                  n_epochs = n_epochs, lr = lr, wd=wd)\n",
    "\n",
    "out = Parallel(n_jobs=6)(delayed(wrapper)(model_constructor=mdc, encoding=enc, n_hidden=nh, p_drop=pd, batchnorm=bn, activation=act, batch_size=bs) for mdc, enc, nh, pd, bn, act, bs in tqdm(cdts, desc='conditions'))\n",
    "out = pd.concat(out)"
   ]
  },
  {
   "cell_type": "code",
   "execution_count": 575,
   "id": "8b272e1f-287f-4d28-926a-29a1d1d19b67",
   "metadata": {},
   "outputs": [
    {
     "data": {
      "text/html": [
       "<div>\n",
       "<style scoped>\n",
       "    .dataframe tbody tr th:only-of-type {\n",
       "        vertical-align: middle;\n",
       "    }\n",
       "\n",
       "    .dataframe tbody tr th {\n",
       "        vertical-align: top;\n",
       "    }\n",
       "\n",
       "    .dataframe thead th {\n",
       "        text-align: right;\n",
       "    }\n",
       "</style>\n",
       "<table border=\"1\" class=\"dataframe\">\n",
       "  <thead>\n",
       "    <tr style=\"text-align: right;\">\n",
       "      <th></th>\n",
       "      <th></th>\n",
       "      <th></th>\n",
       "      <th></th>\n",
       "      <th></th>\n",
       "      <th></th>\n",
       "      <th></th>\n",
       "      <th>best_valid_auc</th>\n",
       "      <th>best_test_auc</th>\n",
       "      <th>best_prime_auc</th>\n",
       "    </tr>\n",
       "    <tr>\n",
       "      <th>std</th>\n",
       "      <th>n_hidden</th>\n",
       "      <th>drop</th>\n",
       "      <th>batchnorm</th>\n",
       "      <th>batchsize</th>\n",
       "      <th>act</th>\n",
       "      <th>encoding</th>\n",
       "      <th></th>\n",
       "      <th></th>\n",
       "      <th></th>\n",
       "    </tr>\n",
       "  </thead>\n",
       "  <tbody>\n",
       "    <tr>\n",
       "      <th>True</th>\n",
       "      <th>25</th>\n",
       "      <th>0.3</th>\n",
       "      <th>True</th>\n",
       "      <th>128</th>\n",
       "      <th>SELU</th>\n",
       "      <th>BL50LO</th>\n",
       "      <td>0.6107</td>\n",
       "      <td>0.6058</td>\n",
       "      <td>0.5368</td>\n",
       "    </tr>\n",
       "    <tr>\n",
       "      <th>False</th>\n",
       "      <th>50</th>\n",
       "      <th>0.3</th>\n",
       "      <th>True</th>\n",
       "      <th>64</th>\n",
       "      <th>SELU</th>\n",
       "      <th>BL62LO</th>\n",
       "      <td>0.5658</td>\n",
       "      <td>0.5877</td>\n",
       "      <td>0.5367</td>\n",
       "    </tr>\n",
       "    <tr>\n",
       "      <th rowspan=\"3\" valign=\"top\">True</th>\n",
       "      <th rowspan=\"3\" valign=\"top\">25</th>\n",
       "      <th rowspan=\"3\" valign=\"top\">0.0</th>\n",
       "      <th rowspan=\"2\" valign=\"top\">True</th>\n",
       "      <th rowspan=\"2\" valign=\"top\">128</th>\n",
       "      <th>ReLU</th>\n",
       "      <th>BL62LO</th>\n",
       "      <td>0.5297</td>\n",
       "      <td>0.5709</td>\n",
       "      <td>0.5202</td>\n",
       "    </tr>\n",
       "    <tr>\n",
       "      <th>SELU</th>\n",
       "      <th>BL50LO</th>\n",
       "      <td>0.5441</td>\n",
       "      <td>0.5705</td>\n",
       "      <td>0.5300</td>\n",
       "    </tr>\n",
       "    <tr>\n",
       "      <th>False</th>\n",
       "      <th>128</th>\n",
       "      <th>ReLU</th>\n",
       "      <th>BL62LO</th>\n",
       "      <td>0.5808</td>\n",
       "      <td>0.5694</td>\n",
       "      <td>0.5406</td>\n",
       "    </tr>\n",
       "  </tbody>\n",
       "</table>\n",
       "</div>"
      ],
      "text/plain": [
       "                                                       best_valid_auc  \\\n",
       "std   n_hidden drop batchnorm batchsize act  encoding                   \n",
       "True  25       0.3  True      128       SELU BL50LO            0.6107   \n",
       "False 50       0.3  True      64        SELU BL62LO            0.5658   \n",
       "True  25       0.0  True      128       ReLU BL62LO            0.5297   \n",
       "                                        SELU BL50LO            0.5441   \n",
       "                    False     128       ReLU BL62LO            0.5808   \n",
       "\n",
       "                                                       best_test_auc  \\\n",
       "std   n_hidden drop batchnorm batchsize act  encoding                  \n",
       "True  25       0.3  True      128       SELU BL50LO           0.6058   \n",
       "False 50       0.3  True      64        SELU BL62LO           0.5877   \n",
       "True  25       0.0  True      128       ReLU BL62LO           0.5709   \n",
       "                                        SELU BL50LO           0.5705   \n",
       "                    False     128       ReLU BL62LO           0.5694   \n",
       "\n",
       "                                                       best_prime_auc  \n",
       "std   n_hidden drop batchnorm batchsize act  encoding                  \n",
       "True  25       0.3  True      128       SELU BL50LO            0.5368  \n",
       "False 50       0.3  True      64        SELU BL62LO            0.5367  \n",
       "True  25       0.0  True      128       ReLU BL62LO            0.5202  \n",
       "                                        SELU BL50LO            0.5300  \n",
       "                    False     128       ReLU BL62LO            0.5406  "
      ]
     },
     "execution_count": 575,
     "metadata": {},
     "output_type": "execute_result"
    }
   ],
   "source": [
    "out.groupby([ 'std',\n",
    "'n_hidden',\n",
    "'drop',\n",
    "'batchnorm',\n",
    "'batchsize',\n",
    "'act',\n",
    "'encoding']).agg(best_valid_auc = ('best_valid_auc', 'max'),\n",
    "                 best_test_auc = ('best_test_auc', 'max'),\n",
    "                best_prime_auc= ('best_prime_auc','max')).sort_values('best_test_auc', ascending=False).head(5)"
   ]
  },
  {
   "cell_type": "code",
   "execution_count": null,
   "id": "4cca54d0-363c-4f79-a41e-ed081c56e7f9",
   "metadata": {},
   "outputs": [],
   "source": []
  }
 ],
 "metadata": {
  "kernelspec": {
   "display_name": "Python [conda env:phd] *",
   "language": "python",
   "name": "conda-env-phd-py"
  },
  "language_info": {
   "codemirror_mode": {
    "name": "ipython",
    "version": 3
   },
   "file_extension": ".py",
   "mimetype": "text/x-python",
   "name": "python",
   "nbconvert_exporter": "python",
   "pygments_lexer": "ipython3",
   "version": "3.10.8"
  }
 },
 "nbformat": 4,
 "nbformat_minor": 5
}
