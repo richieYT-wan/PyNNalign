{
 "cells": [
  {
   "cell_type": "code",
   "execution_count": 2,
   "id": "6ebc76c6-ed00-4676-b16f-ad6ecb4e20d0",
   "metadata": {},
   "outputs": [
    {
     "name": "stdout",
     "output_type": "stream",
     "text": [
      "The autoreload extension is already loaded. To reload it, use:\n",
      "  %reload_ext autoreload\n"
     ]
    },
    {
     "data": {
      "image/png": "[encoded data removed]",
      "text/plain": [
       "<Figure size 1.8x1.8 with 1 Axes>"
      ]
     },
     "metadata": {},
     "output_type": "display_data"
    }
   ],
   "source": [
    "%load_ext autoreload\n",
    "%autoreload 2\n",
    "\n",
    "import pandas as pd\n",
    "import dataframe_image as dfi\n",
    "import numpy as np\n",
    "import sklearn\n",
    "import matplotlib.pyplot as plt\n",
    "import matplotlib as mpl\n",
    "import seaborn as sns\n",
    "f,a = plt.subplots(1,1,figsize=(1e-2, 1e-2))\n",
    "mpl.rcParams['figure.dpi'] = 180\n",
    "sns.set_style('darkgrid')\n",
    "import os,sys\n",
    "module_path = os.path.abspath(os.path.join('..'))\n",
    "if module_path not in sys.path:\n",
    "    sys.path.append(module_path)\n",
    "import warnings\n",
    "warnings.filterwarnings(\"ignore\")\n",
    "\n",
    "from tqdm.auto import tqdm\n",
    "from datetime import datetime as dt\n",
    "from src.utils import mkdirs, convert_path, pkl_dump, pkl_load, display_side, add_median_labels\n",
    "from src.data_processing import get_dataset, BL62_VALUES, BL62FREQ_VALUES, HLAS, AA_KEYS, get_aa_properties\n",
    "from src.metrics import get_predictions, get_roc, get_metrics, plot_roc_auc_fold, get_mean_roc_curve\n",
    "from src.metrics import get_nested_feature_importance, plot_feature_importance\n",
    "from src.utils import pkl_load, pkl_dump, get_palette\n",
    "from src.bootstrap import bootstrap_eval, get_pval, plot_pval\n",
    "from src.models import FFNetPipeline\n",
    "from src.bootstrap import get_pval, plot_pval\n",
    "import torch\n",
    "from torch import nn\n",
    "from torch import functional as F\n",
    "PAL = sns.color_palette('hsv', n_colors=13)\n",
    "HSV = [PAL[-4], PAL[-1], PAL[0], PAL [4]]\n",
    "tmppal = sns.color_palette('hsv', n_colors=15)\n",
    "NEWPAL = HSV + [tmppal[-3], tmppal[7]]\n",
    "mpl.rcParams['figure.dpi'] = 180"
   ]
  },
  {
   "cell_type": "code",
   "execution_count": 3,
   "id": "94f36246-3081-49e3-bf16-2cb5e013ef0e",
   "metadata": {},
   "outputs": [],
   "source": [
    "cedar_aligned = pd.read_csv('../data/aligned_icore/230418_cedar_aligned.csv')\n",
    "prime_aligned = pd.read_csv('../data/aligned_icore/230418_prime_aligned.csv')\n",
    "viral = pd.read_csv('../data/other/viral.csv').rename(columns={'sequence':'Peptide'})"
   ]
  },
  {
   "cell_type": "markdown",
   "id": "6700231c-d59f-45ba-a036-08a4cb0536fc",
   "metadata": {
    "jp-MarkdownHeadingCollapsed": true,
    "tags": []
   },
   "source": [
    "# self explo"
   ]
  },
  {
   "cell_type": "code",
   "execution_count": 3,
   "id": "7886fa04-ef67-4c6c-9390-3e9010c0951b",
   "metadata": {},
   "outputs": [],
   "source": [
    "from src.models import *"
   ]
  },
  {
   "cell_type": "code",
   "execution_count": 80,
   "id": "6a90602d-ee40-4bc4-827e-ec2164f8ae31",
   "metadata": {},
   "outputs": [],
   "source": [
    "def sliding_window(x, window_size):\n",
    "    # Compute the number of windows per sequence\n",
    "    num_windows = x.size(1) - window_size + 1\n",
    "\n",
    "    # Create a tensor of shape (N, num_windows, window_size, D) containing the sliding windows\n",
    "    windows = torch.nn.functional.unfold(x.transpose(1, 2), (window_size, 1)).transpose(1, 2).view(x.size(0), num_windows, window_size, x.size(2))\n",
    "\n",
    "    # Mask out the padded positions\n",
    "    mask = (x != 0).unsqueeze(-1).expand_as(windows)\n",
    "    windows = torch.masked_select(windows, mask).view(x.size(0), num_windows, -1)\n",
    "\n",
    "    return windows"
   ]
  },
  {
   "cell_type": "code",
   "execution_count": 242,
   "id": "362999f8-fa46-4a75-90b6-2f8eb245d45b",
   "metadata": {},
   "outputs": [
    {
     "data": {
      "text/html": [
       "<div>\n",
       "<style scoped>\n",
       "    .dataframe tbody tr th:only-of-type {\n",
       "        vertical-align: middle;\n",
       "    }\n",
       "\n",
       "    .dataframe tbody tr th {\n",
       "        vertical-align: top;\n",
       "    }\n",
       "\n",
       "    .dataframe thead th {\n",
       "        text-align: right;\n",
       "    }\n",
       "</style>\n",
       "<table border=\"1\" class=\"dataframe\">\n",
       "  <thead>\n",
       "    <tr style=\"text-align: right;\">\n",
       "      <th></th>\n",
       "      <th>Unnamed: 0.2</th>\n",
       "      <th>Unnamed: 0.1</th>\n",
       "      <th>Unnamed: 0</th>\n",
       "      <th>HLA</th>\n",
       "      <th>agg_label</th>\n",
       "      <th>fold</th>\n",
       "      <th>Peptide</th>\n",
       "      <th>wild_type</th>\n",
       "      <th>icore_mut</th>\n",
       "      <th>core_mut</th>\n",
       "      <th>...</th>\n",
       "      <th>icore_improves_binder_0_75</th>\n",
       "      <th>mixed_input_binder_0_75</th>\n",
       "      <th>mixed_rank_binder_0_75</th>\n",
       "      <th>icore_improves_1</th>\n",
       "      <th>mixed_input_1</th>\n",
       "      <th>mixed_rank_1</th>\n",
       "      <th>icore_improves_binder_1</th>\n",
       "      <th>mixed_input_binder_1</th>\n",
       "      <th>mixed_rank_binder_1</th>\n",
       "      <th>expanded_input</th>\n",
       "    </tr>\n",
       "  </thead>\n",
       "  <tbody>\n",
       "    <tr>\n",
       "      <th>996</th>\n",
       "      <td>996</td>\n",
       "      <td>996</td>\n",
       "      <td>996</td>\n",
       "      <td>HLA-A0201</td>\n",
       "      <td>0</td>\n",
       "      <td>1</td>\n",
       "      <td>IMQPSVVIPA</td>\n",
       "      <td>IVQPSVVIPA</td>\n",
       "      <td>MQPSVVIPA</td>\n",
       "      <td>MQPSVVIPA</td>\n",
       "      <td>...</td>\n",
       "      <td>False</td>\n",
       "      <td>IMQPSVVIPA</td>\n",
       "      <td>2.8394</td>\n",
       "      <td>False</td>\n",
       "      <td>IMQPSVVIPA</td>\n",
       "      <td>2.8394</td>\n",
       "      <td>False</td>\n",
       "      <td>IMQPSVVIPA</td>\n",
       "      <td>2.8394</td>\n",
       "      <td>MQPSVVIPA</td>\n",
       "    </tr>\n",
       "    <tr>\n",
       "      <th>249</th>\n",
       "      <td>249</td>\n",
       "      <td>249</td>\n",
       "      <td>249</td>\n",
       "      <td>HLA-A2402</td>\n",
       "      <td>0</td>\n",
       "      <td>5</td>\n",
       "      <td>AYLEAIHTF</td>\n",
       "      <td>AYLEAIHNF</td>\n",
       "      <td>AYLEAIHTF</td>\n",
       "      <td>AYLEAIHTF</td>\n",
       "      <td>...</td>\n",
       "      <td>False</td>\n",
       "      <td>AYLEAIHTF</td>\n",
       "      <td>0.0006</td>\n",
       "      <td>False</td>\n",
       "      <td>AYLEAIHTF</td>\n",
       "      <td>0.0006</td>\n",
       "      <td>False</td>\n",
       "      <td>AYLEAIHTF</td>\n",
       "      <td>0.0006</td>\n",
       "      <td>AYLEAIHTF</td>\n",
       "    </tr>\n",
       "    <tr>\n",
       "      <th>774</th>\n",
       "      <td>774</td>\n",
       "      <td>774</td>\n",
       "      <td>774</td>\n",
       "      <td>HLA-B3901</td>\n",
       "      <td>0</td>\n",
       "      <td>7</td>\n",
       "      <td>GRMRSLEAL</td>\n",
       "      <td>GRMRCLEAL</td>\n",
       "      <td>GRMRSLEAL</td>\n",
       "      <td>GRMRSLEAL</td>\n",
       "      <td>...</td>\n",
       "      <td>False</td>\n",
       "      <td>GRMRSLEAL</td>\n",
       "      <td>0.2547</td>\n",
       "      <td>False</td>\n",
       "      <td>GRMRSLEAL</td>\n",
       "      <td>0.2547</td>\n",
       "      <td>False</td>\n",
       "      <td>GRMRSLEAL</td>\n",
       "      <td>0.2547</td>\n",
       "      <td>GRMRSLEAL</td>\n",
       "    </tr>\n",
       "    <tr>\n",
       "      <th>1617</th>\n",
       "      <td>1617</td>\n",
       "      <td>1617</td>\n",
       "      <td>1617</td>\n",
       "      <td>HLA-C0702</td>\n",
       "      <td>1</td>\n",
       "      <td>8</td>\n",
       "      <td>LYIWFKTACL</td>\n",
       "      <td>LYLWFKTACL</td>\n",
       "      <td>YIWFKTACL</td>\n",
       "      <td>YIWFKTACL</td>\n",
       "      <td>...</td>\n",
       "      <td>False</td>\n",
       "      <td>LYIWFKTACL</td>\n",
       "      <td>4.9286</td>\n",
       "      <td>False</td>\n",
       "      <td>LYIWFKTACL</td>\n",
       "      <td>4.9286</td>\n",
       "      <td>False</td>\n",
       "      <td>LYIWFKTACL</td>\n",
       "      <td>4.9286</td>\n",
       "      <td>YIWFKTACL</td>\n",
       "    </tr>\n",
       "    <tr>\n",
       "      <th>3004</th>\n",
       "      <td>3004</td>\n",
       "      <td>3004</td>\n",
       "      <td>3004</td>\n",
       "      <td>HLA-B0801</td>\n",
       "      <td>0</td>\n",
       "      <td>1</td>\n",
       "      <td>YTTVRALTL</td>\n",
       "      <td>YTTVRALTR</td>\n",
       "      <td>YTTVRALTL</td>\n",
       "      <td>YTTVRALTL</td>\n",
       "      <td>...</td>\n",
       "      <td>False</td>\n",
       "      <td>YTTVRALTL</td>\n",
       "      <td>0.1560</td>\n",
       "      <td>False</td>\n",
       "      <td>YTTVRALTL</td>\n",
       "      <td>0.1560</td>\n",
       "      <td>False</td>\n",
       "      <td>YTTVRALTL</td>\n",
       "      <td>0.1560</td>\n",
       "      <td>YTTVRALTL</td>\n",
       "    </tr>\n",
       "  </tbody>\n",
       "</table>\n",
       "<p>5 rows × 70 columns</p>\n",
       "</div>"
      ],
      "text/plain": [
       "      Unnamed: 0.2  Unnamed: 0.1  Unnamed: 0        HLA  agg_label  fold  \\\n",
       "996            996           996         996  HLA-A0201          0     1   \n",
       "249            249           249         249  HLA-A2402          0     5   \n",
       "774            774           774         774  HLA-B3901          0     7   \n",
       "1617          1617          1617        1617  HLA-C0702          1     8   \n",
       "3004          3004          3004        3004  HLA-B0801          0     1   \n",
       "\n",
       "         Peptide   wild_type  icore_mut   core_mut  ...  \\\n",
       "996   IMQPSVVIPA  IVQPSVVIPA  MQPSVVIPA  MQPSVVIPA  ...   \n",
       "249    AYLEAIHTF   AYLEAIHNF  AYLEAIHTF  AYLEAIHTF  ...   \n",
       "774    GRMRSLEAL   GRMRCLEAL  GRMRSLEAL  GRMRSLEAL  ...   \n",
       "1617  LYIWFKTACL  LYLWFKTACL  YIWFKTACL  YIWFKTACL  ...   \n",
       "3004   YTTVRALTL   YTTVRALTR  YTTVRALTL  YTTVRALTL  ...   \n",
       "\n",
       "      icore_improves_binder_0_75  mixed_input_binder_0_75  \\\n",
       "996                        False               IMQPSVVIPA   \n",
       "249                        False                AYLEAIHTF   \n",
       "774                        False                GRMRSLEAL   \n",
       "1617                       False               LYIWFKTACL   \n",
       "3004                       False                YTTVRALTL   \n",
       "\n",
       "      mixed_rank_binder_0_75  icore_improves_1  mixed_input_1  mixed_rank_1  \\\n",
       "996                   2.8394             False     IMQPSVVIPA        2.8394   \n",
       "249                   0.0006             False      AYLEAIHTF        0.0006   \n",
       "774                   0.2547             False      GRMRSLEAL        0.2547   \n",
       "1617                  4.9286             False     LYIWFKTACL        4.9286   \n",
       "3004                  0.1560             False      YTTVRALTL        0.1560   \n",
       "\n",
       "     icore_improves_binder_1  mixed_input_binder_1  mixed_rank_binder_1  \\\n",
       "996                    False            IMQPSVVIPA               2.8394   \n",
       "249                    False             AYLEAIHTF               0.0006   \n",
       "774                    False             GRMRSLEAL               0.2547   \n",
       "1617                   False            LYIWFKTACL               4.9286   \n",
       "3004                   False             YTTVRALTL               0.1560   \n",
       "\n",
       "      expanded_input  \n",
       "996        MQPSVVIPA  \n",
       "249        AYLEAIHTF  \n",
       "774        GRMRSLEAL  \n",
       "1617       YIWFKTACL  \n",
       "3004       YTTVRALTL  \n",
       "\n",
       "[5 rows x 70 columns]"
      ]
     },
     "execution_count": 242,
     "metadata": {},
     "output_type": "execute_result"
    }
   ],
   "source": [
    "from src.data_processing import encode_batch\n",
    "sample = cedar_aligned.sample(100, random_state=100)\n",
    "sample.head()"
   ]
  },
  {
   "cell_type": "code",
   "execution_count": 246,
   "id": "162cd5aa-a462-472c-b00f-e5124eade5ce",
   "metadata": {},
   "outputs": [
    {
     "data": {
      "text/plain": [
       "torch.Size([100, 12, 20])"
      ]
     },
     "execution_count": 246,
     "metadata": {},
     "output_type": "execute_result"
    }
   ],
   "source": [
    "x = encode_batch(sample['Peptide'].values, 12, 'onehot')\n",
    "x.shape"
   ]
  },
  {
   "cell_type": "code",
   "execution_count": 224,
   "id": "dd2b3606-9d68-4af8-a8a1-b8f123f5d631",
   "metadata": {},
   "outputs": [
    {
     "data": {
      "text/plain": [
       "(torch.Size([3, 8, 5, 20]),\n",
       " torch.Size([3, 5, 8, 20]),\n",
       " torch.Size([3, 12, 20]),\n",
       " tensor(True),\n",
       " torch.Size([3, 8, 100]))"
      ]
     },
     "execution_count": 224,
     "metadata": {},
     "output_type": "execute_result"
    }
   ],
   "source": [
    "# Say K = 5\n",
    "max_len = 12\n",
    "N = 3\n",
    "K = 5\n",
    "x_base = torch.rand([N, max_len, 20])\n",
    "x = x.view(N,-1)\n",
    "y = torch.randint(1, size=(N, 1)).float()\n",
    "y[N-1]=1\n",
    "y_exp = y.expand((N, max_len-K+1)).view(-1, max_len-K+1, 1)\n",
    "\n",
    "\n",
    "criterion = nn.BCEWithLogitsLoss(reduction='none')\n",
    "# Here need to fix expander to return the x_expand_flat \n",
    "xp = InputExpander(window_size=K, max_len=max_len, indel=False)\n",
    "z=xp(x_base)\n",
    "\n",
    "n_hidden = 10\n",
    "model = nn.Sequential(nn.Linear(K*20, n_hidden), nn.ReLU(), nn.Linear(n_hidden, 1))\n",
    "\n",
    "# expanding input stuff\n",
    "x_sliding = x_base.unfold(1, K, 1)\n",
    "# Reshape the tensor to the desired output shape\n",
    "x_expand = x_sliding.transpose(2, 3).reshape(len(x_base), max_len-K+1, K, 20)\n",
    "x_expand_flat = x_expand.flatten(2,3)\n",
    "\n",
    "y_pred = model(x_expand_flat)\n",
    "# x_expand should be correct and z is transposed i.e. wrong\n",
    "x_expand.shape, z.shape, x_base.shape, (x_base[0][3:3+K,:] == x_expand[0,3,:]).all(), x_expand_flat.shape\n",
    "\n"
   ]
  },
  {
   "cell_type": "code",
   "execution_count": null,
   "id": "96e20e64-fa1a-45f2-9eb5-6f410aad3f6f",
   "metadata": {},
   "outputs": [],
   "source": [
    "import torch\n",
    "import torch.nn as nn\n",
    "from torch.utils.data import Dataset, DataLoader\n",
    "from torch.optim import Adam\n",
    "from torch.nn.functional import binary_cross_entropy_with_logits as bce_with_logits\n",
    "\n",
    "class SlidingWindowDataset(Dataset):\n",
    "    def __init__(self, x, y, window_size):\n",
    "        self.x = x\n",
    "        self.y = y\n",
    "        self.window_size = window_size\n",
    "\n",
    "    def __len__(self):\n",
    "        return len(self.x)\n",
    "\n",
    "    def __getitem__(self, idx):\n",
    "        x_window = self.x[idx][:, None, :]\n",
    "        x_window = nn.functional.unfold(x_window, (1, self.window_size))[0]\n",
    "        y = self.y[idx]\n",
    "        return x_window, y\n",
    "\n",
    "class Net(nn.Module):\n",
    "    def __init__(self):\n",
    "        super(Net, self).__init__()\n",
    "        self.linear1 = nn.Linear(20, 10)\n",
    "        self.relu1 = nn.ReLU()\n",
    "        self.linear2 = nn.Linear(10, 1)\n",
    "\n",
    "    def forward(self, x):\n",
    "        x = self.linear1(x)\n",
    "        x = self.relu1(x)\n",
    "        x = self.linear2(x)\n",
    "        return x\n",
    "\n",
    "def train(model, optimizer, criterion, dataloader):\n",
    "    model.train()\n",
    "    total_loss = 0.0\n",
    "    for x_batch, y_batch in dataloader:\n",
    "        optimizer.zero_grad()\n",
    "        y_pred = model(x_batch)\n",
    "        loss = criterion(y_pred, y_batch)\n",
    "        loss.backward()\n",
    "        optimizer.step()\n",
    "        total_loss += loss.item() * len(x_batch)\n",
    "    return total_loss / len(dataloader.dataset)\n",
    "\n",
    "def evaluate(model, criterion, dataloader):\n",
    "    model.eval()\n",
    "    total_loss = 0.0\n",
    "    with torch.no_grad():\n",
    "        for x_batch, y_batch in dataloader:\n",
    "            y_pred = model(x_batch)\n",
    "            loss = criterion(y_pred, y_batch)\n",
    "            total_loss += loss.item() * len(x_batch)\n",
    "    return total_loss / len(dataloader.dataset)\n",
    "\n",
    "# Define the input tensor x and target tensor y\n",
    "x = torch.randn(3000, 10, 20)\n",
    "y = torch.randint(0, 2, (3000, 1)).float()\n",
    "\n",
    "# Define the window size and batch size\n",
    "window_size = 5\n",
    "batch_size = 128\n",
    "\n",
    "# Define the dataset and dataloader\n",
    "dataset = SlidingWindowDataset(x, y, window_size)\n",
    "dataloader = DataLoader(dataset, batch_size=batch_size, shuffle=True)\n",
    "\n",
    "# Define the model, loss function, and optimizer\n",
    "model = Net()\n",
    "criterion = nn.BCEWithLogitsLoss()\n",
    "optimizer = Adam(model.parameters())\n",
    "\n",
    "# Train the model\n",
    "for epoch in range(10):\n",
    "    train_loss = train(model, optimizer, criterion, dataloader)\n",
    "    valid_loss = evaluate(model, criterion, dataloader)\n",
    "    print(f\"Epoch {epoch + 1:03d}, Train Loss: {train_loss:.4f}, Valid Loss: {valid_loss:.4f}\")\n",
    "\n",
    "# Compute the best scores\n",
    "model.eval()\n",
    "best_scores = []\n",
    "with torch.no_grad():\n",
    "    for x_batch, y_batch in dataloader:\n",
    "        scores = model(x_batch).squeeze()\n",
    "        losses = bce_with_logits(scores, y_batch)\n",
    "        best_indices = losses.argmin(dim=1)\n",
    "        best_scores_batch = scores.gather(1, best_indices.view(-1, 1)).view(-1, 1)\n",
    "        best_scores.append\n"
   ]
  },
  {
   "cell_type": "markdown",
   "id": "ef1185fa-903e-40b0-b342-ab8fb4154ce2",
   "metadata": {
    "jp-MarkdownHeadingCollapsed": true,
    "tags": []
   },
   "source": [
    "# tests"
   ]
  },
  {
   "cell_type": "code",
   "execution_count": 312,
   "id": "3e6273ba-2d5e-4b7e-864f-046da40dcaa2",
   "metadata": {
    "collapsed": true,
    "jupyter": {
     "outputs_hidden": true,
     "source_hidden": true
    },
    "tags": []
   },
   "outputs": [
    {
     "name": "stdout",
     "output_type": "stream",
     "text": [
      "checking padded inputs\n",
      " tensor([[  1.,  -1.,   1.,   0.,  -1.,   0.,   0.,   0.,  -1.,  -2.,  -2.,   0.,\n",
      "          -1.,  -2.,  -1.,   4.,   1.,  -3.,  -2.,  -2.],\n",
      "        [  1.,  -1.,   1.,   0.,  -1.,   0.,   0.,   0.,  -1.,  -2.,  -2.,   0.,\n",
      "          -1.,  -2.,  -1.,   4.,   1.,  -3.,  -2.,  -2.],\n",
      "        [ -1.,  -2.,  -3.,  -4.,  -1.,  -2.,  -3.,  -4.,  -3.,   2.,   4.,  -2.,\n",
      "           2.,   0.,  -3.,  -2.,  -1.,  -2.,  -1.,   1.],\n",
      "        [-12., -12., -12., -12., -12., -12., -12., -12., -12., -12., -12., -12.,\n",
      "         -12., -12., -12., -12., -12., -12., -12., -12.],\n",
      "        [-12., -12., -12., -12., -12., -12., -12., -12., -12., -12., -12., -12.,\n",
      "         -12., -12., -12., -12., -12., -12., -12., -12.],\n",
      "        [-12., -12., -12., -12., -12., -12., -12., -12., -12., -12., -12., -12.,\n",
      "         -12., -12., -12., -12., -12., -12., -12., -12.]])\n",
      "Before training\n",
      "train 1.242e-01 auc 0.444 auc_01 0.487 acc 0.388 prec 0.172\n",
      "valid 7.267e-01 auc 0.536 auc_01 0.487 acc 0.48 prec 0.22\n",
      "eval 7.419e-01 auc 0.436 auc_01 0.478 acc 0.405 prec 0.192\n",
      "prime 7.411e-01 auc 0.457 auc_01 0.489 acc 0.416 prec 0.038 \n",
      "\n",
      "\n",
      "EPOCH = 1\n",
      "\n",
      "\n",
      "train 1.269e-01 auc 0.409 auc_01 0.488 acc 0.441 prec 0.169\n",
      "valid 6.893e-01 auc 0.531 auc_01 0.488 acc 0.565 prec 0.238\n",
      "eval 7.028e-01 auc 0.431 auc_01 0.478 acc 0.5 prec 0.171\n",
      "prime 6.816e-01 auc 0.456 auc_01 0.489 acc 0.564 prec 0.039 \n",
      "\n",
      "\n",
      "EPOCH = 50\n",
      "\n",
      "\n",
      "train 8.271e-02 auc 0.612 auc_01 0.555 acc 0.802 prec 0.75\n",
      "valid 4.923e-01 auc 0.612 auc_01 0.527 acc 0.797 prec 0.0\n",
      "eval 5.049e-01 auc 0.574 auc_01 0.516 acc 0.795 prec 0.0\n",
      "prime 2.934e-01 auc 0.548 auc_01 0.512 acc 0.958 prec 0.0 \n",
      "\n",
      "\n",
      "EPOCH = 100\n",
      "\n",
      "\n",
      "train 7.520e-02 auc 0.744 auc_01 0.568 acc 0.797 prec 0.6\n",
      "valid 4.914e-01 auc 0.622 auc_01 0.531 acc 0.794 prec 0.0\n",
      "eval 5.031e-01 auc 0.598 auc_01 0.518 acc 0.795 prec 0.5\n",
      "prime 2.899e-01 auc 0.574 auc_01 0.517 acc 0.95 prec 0.0 \n",
      "\n",
      "\n",
      "EPOCH = 150\n",
      "\n",
      "\n",
      "train 7.152e-02 auc 0.781 auc_01 0.602 acc 0.792 prec 0.5\n",
      "valid 4.938e-01 auc 0.625 auc_01 0.534 acc 0.792 prec 0.0\n",
      "eval 5.007e-01 auc 0.62 auc_01 0.522 acc 0.79 prec 0.333\n",
      "prime 2.926e-01 auc 0.587 auc_01 0.518 acc 0.94 prec 0.075 \n",
      "\n",
      "\n",
      "EPOCH = 200\n",
      "\n",
      "\n",
      "train 6.552e-02 auc 0.847 auc_01 0.654 acc 0.815 prec 0.765\n",
      "valid 4.973e-01 auc 0.625 auc_01 0.537 acc 0.776 prec 0.0\n",
      "eval 5.029e-01 auc 0.628 auc_01 0.525 acc 0.782 prec 0.222\n",
      "prime 2.913e-01 auc 0.591 auc_01 0.519 acc 0.929 prec 0.057 \n",
      "\n",
      "\n",
      "EPOCH = 250\n",
      "\n",
      "\n",
      "train 6.611e-02 auc 0.83 auc_01 0.654 acc 0.839 prec 0.737\n",
      "valid 5.001e-01 auc 0.63 auc_01 0.539 acc 0.778 prec 0.267\n",
      "eval 5.056e-01 auc 0.637 auc_01 0.521 acc 0.776 prec 0.316\n",
      "prime 2.973e-01 auc 0.594 auc_01 0.521 acc 0.923 prec 0.083 \n",
      "\n",
      "\n",
      "EPOCH = 300\n",
      "\n",
      "\n",
      "train 6.063e-02 auc 0.883 auc_01 0.684 acc 0.834 prec 0.767\n",
      "valid 5.037e-01 auc 0.632 auc_01 0.539 acc 0.776 prec 0.278\n",
      "eval 5.089e-01 auc 0.642 auc_01 0.522 acc 0.771 prec 0.304\n",
      "prime 2.969e-01 auc 0.596 auc_01 0.524 acc 0.914 prec 0.084 \n",
      "\n",
      "\n",
      "EPOCH = 350\n",
      "\n",
      "\n",
      "train 6.111e-02 auc 0.876 auc_01 0.67 acc 0.823 prec 0.7\n",
      "valid 5.091e-01 auc 0.629 auc_01 0.54 acc 0.778 prec 0.333\n",
      "eval 5.131e-01 auc 0.646 auc_01 0.522 acc 0.774 prec 0.333\n",
      "prime 2.966e-01 auc 0.597 auc_01 0.526 acc 0.909 prec 0.077 \n",
      "\n",
      "\n",
      "EPOCH = 400\n",
      "\n",
      "\n",
      "train 5.785e-02 auc 0.896 auc_01 0.709 acc 0.842 prec 0.757\n",
      "valid 5.129e-01 auc 0.631 auc_01 0.542 acc 0.786 prec 0.417\n",
      "eval 5.167e-01 auc 0.649 auc_01 0.521 acc 0.776 prec 0.36\n",
      "prime 3.018e-01 auc 0.597 auc_01 0.526 acc 0.903 prec 0.082 \n",
      "\n",
      "\n",
      "EPOCH = 450\n",
      "\n",
      "\n",
      "train 5.590e-02 auc 0.892 auc_01 0.742 acc 0.871 prec 0.917\n",
      "valid 5.175e-01 auc 0.632 auc_01 0.543 acc 0.789 prec 0.44\n",
      "eval 5.205e-01 auc 0.653 auc_01 0.524 acc 0.776 prec 0.37\n",
      "prime 2.991e-01 auc 0.599 auc_01 0.528 acc 0.9 prec 0.083 \n",
      "\n",
      "\n",
      "EPOCH = 500\n",
      "\n",
      "\n",
      "train 5.428e-02 auc 0.902 auc_01 0.742 acc 0.871 prec 0.857\n",
      "valid 5.230e-01 auc 0.63 auc_01 0.542 acc 0.773 prec 0.364\n",
      "eval 5.248e-01 auc 0.654 auc_01 0.524 acc 0.771 prec 0.345\n",
      "prime 3.043e-01 auc 0.599 auc_01 0.531 acc 0.896 prec 0.082 \n",
      "\n",
      "\n"
     ]
    }
   ],
   "source": [
    "from src.models import NNAlign, NNAlignWrapper\n",
    "from src.datasets import NNAlignDataset, get_NNAlign_dataloader\n",
    "from src.train_eval import train_model_step, eval_model_step\n",
    "from torch.utils.data import Dataset, DataLoader\n",
    "from sklearn.model_selection import train_test_split\n",
    "from torch import optim\n",
    "\n",
    "window_size = 6\n",
    "max_len = 12\n",
    "n_hidden = 50\n",
    "p_drop = 0.25\n",
    "encoding = 'BL62LO'\n",
    "indel=False\n",
    "n_epochs = 500\n",
    "activation = nn.SELU()\n",
    "model = NNAlignWrapper(n_hidden=n_hidden, window_size=window_size, activation = activation, dropout=p_drop)\n",
    "\n",
    "train, test = train_test_split(cedar_aligned, test_size=1/4)\n",
    "valid, test = train_test_split(test, test_size=1/2)\n",
    "\n",
    "train_dataset = NNAlignDataset(train, max_len, window_size, encoding=encoding)\n",
    "train_loader = DataLoader(train_dataset, batch_size = 128, sampler=torch.utils.data.RandomSampler(valid_dataset))\n",
    "\n",
    "x,y = train_dataset[:10]\n",
    "print('checking padded inputs\\n', x[3][-1].view(window_size, 20))\n",
    "\n",
    "\n",
    "valid_dataset = NNAlignDataset(valid, max_len, window_size, encoding=encoding)\n",
    "valid_loader = DataLoader(valid_dataset, batch_size = 64, sampler=torch.utils.data.RandomSampler(valid_dataset))\n",
    "\n",
    "test_dataset = NNAlignDataset(test, max_len, window_size, encoding=encoding)\n",
    "test_loader = DataLoader(test_dataset, batch_size = 64, sampler=torch.utils.data.RandomSampler(test_dataset))\n",
    "\n",
    "prime_aligned = pd.read_csv('../data/aligned_icore/230418_prime_aligned.csv')\n",
    "prime_dataset = NNAlignDataset(prime_aligned, max_len, window_size, encoding=encoding)\n",
    "prime_loader = DataLoader(prime_dataset, batch_size=64, sampler=torch.utils.data.RandomSampler(prime_dataset))\n",
    "\n",
    "\n",
    "optimizer = optim.Adam(model.parameters(), lr = 1e-4, weight_decay = 1e-2)\n",
    "criterion = nn.BCEWithLogitsLoss(reduction='mean')\n",
    "\n",
    "train_losses=[]\n",
    "valid_losses=[]\n",
    "test_losses=[]\n",
    "prime_losses = []\n",
    "train_aucs=[]\n",
    "valid_aucs=[]\n",
    "test_aucs=[]\n",
    "prime_aucs = []\n",
    "\n",
    "print('Before training')\n",
    "loss, metrics = eval_model_step(model, criterion, train_loader)\n",
    "train_losses.append(loss)\n",
    "train_aucs.append(metrics['auc'])\n",
    "print('train', f'{loss:.3e}', 'auc', round(metrics['auc'],3), 'auc_01', round(metrics['auc_01'],3), 'acc', round(metrics['accuracy'],3), 'prec', round(metrics['precision'],3))\n",
    "loss, metrics = eval_model_step(model, criterion, valid_loader)\n",
    "valid_losses.append(loss)\n",
    "valid_aucs.append(metrics['auc'])\n",
    "print('valid', f'{loss:.3e}', 'auc', round(metrics['auc'],3), 'auc_01', round(metrics['auc_01'],3), 'acc', round(metrics['accuracy'],3), 'prec', round(metrics['precision'],3))\n",
    "loss, metrics = eval_model_step(model, criterion, test_loader)\n",
    "test_losses.append(loss)\n",
    "test_aucs.append(metrics['auc'])\n",
    "print('eval', f'{loss:.3e}', 'auc', round(metrics['auc'],3), 'auc_01', round(metrics['auc_01'],3), 'acc', round(metrics['accuracy'],3), 'prec', round(metrics['precision'],3))\n",
    "loss, metrics = eval_model_step(model, criterion, prime_loader)\n",
    "prime_losses.append(loss)\n",
    "prime_aucs.append(metrics['auc'])        \n",
    "print('prime', f'{loss:.3e}', 'auc', round(metrics['auc'],3), 'auc_01', round(metrics['auc_01'],3), 'acc', round(metrics['accuracy'],3), 'prec', round(metrics['precision'],3),'\\n\\n')\n",
    "for e in range(1,n_epochs+1):\n",
    "    loss, metrics = train_model_step(model, criterion, optimizer, train_loader)\n",
    "    train_losses.append(loss)\n",
    "    train_aucs.append(metrics['auc'])\n",
    "    if e%int(n_epochs/10)==0 or e ==1:\n",
    "        print(f'EPOCH = {e}\\n\\n')\n",
    "        print('train', f'{loss:.3e}', 'auc', round(metrics['auc'],3), 'auc_01', round(metrics['auc_01'],3), 'acc', round(metrics['accuracy'],3), 'prec', round(metrics['precision'],3))\n",
    "    loss, metrics = eval_model_step(model, criterion, valid_loader)\n",
    "    valid_losses.append(loss)\n",
    "    valid_aucs.append(metrics['auc'])\n",
    "    if e%int(n_epochs/10)==0 or e ==1:\n",
    "        print('valid', f'{loss:.3e}', 'auc', round(metrics['auc'],3), 'auc_01', round(metrics['auc_01'],3), 'acc', round(metrics['accuracy'],3), 'prec', round(metrics['precision'],3))\n",
    "    loss, metrics = eval_model_step(model, criterion, test_loader)\n",
    "    test_losses.append(loss)\n",
    "    test_aucs.append(metrics['auc'])\n",
    "    if e%int(n_epochs/10)==0 or e ==1:\n",
    "        print('eval', f'{loss:.3e}', 'auc', round(metrics['auc'],3), 'auc_01', round(metrics['auc_01'],3), 'acc', round(metrics['accuracy'],3), 'prec', round(metrics['precision'],3))\n",
    "    loss, metrics = eval_model_step(model, criterion, prime_loader)\n",
    "    prime_losses.append(loss)\n",
    "    prime_aucs.append(metrics['auc'])\n",
    "    if e%int(n_epochs/10)==0 or e ==1:\n",
    "        print('prime', f'{loss:.3e}', 'auc', round(metrics['auc'],3), 'auc_01', round(metrics['auc_01'],3), 'acc', round(metrics['accuracy'],3), 'prec', round(metrics['precision'],3),'\\n\\n')"
   ]
  },
  {
   "cell_type": "code",
   "execution_count": 322,
   "id": "8def33a7-91aa-423a-9a2b-275c424d826f",
   "metadata": {
    "collapsed": true,
    "jupyter": {
     "outputs_hidden": true
    },
    "tags": []
   },
   "outputs": [
    {
     "data": {
      "text/plain": [
       "Text(0.5, 0.98, 'Dropout only')"
      ]
     },
     "execution_count": 322,
     "metadata": {},
     "output_type": "execute_result"
    },
    {
     "data": {
      "image/png": "[encoded data removed]",
      "text/plain": [
       "<Figure size 1800x1620 with 2 Axes>"
      ]
     },
     "metadata": {},
     "output_type": "display_data"
    }
   ],
   "source": [
    "f,a = plt.subplots(2,1, figsize=(10,9))\n",
    "a = a.ravel()\n",
    "a[0].plot(train_losses, label='train_losses')\n",
    "a[0].plot(valid_losses, label='valid_losses')\n",
    "a[0].plot(test_losses, label='test_losses')\n",
    "a[0].plot(prime_losses, label='prime_losses')\n",
    "a[0].legend()\n",
    "a[0].set_title('loss')\n",
    "a[1].plot(train_aucs, label='train_aucs')\n",
    "a[1].plot(valid_aucs, label='valid_aucs')\n",
    "a[1].plot(test_aucs, label='test_aucs')\n",
    "a[1].plot(prime_aucs, label='prime_aucs')\n",
    "a[1].legend()\n",
    "a[1].set_title('AUC')\n",
    "a[1].set_xlabel('epochs')\n",
    "f.suptitle('Dropout only')"
   ]
  },
  {
   "cell_type": "code",
   "execution_count": 3,
   "id": "5195caf8-63ab-4f5d-9507-a71653ac6603",
   "metadata": {
    "tags": []
   },
   "outputs": [
    {
     "ename": "NameError",
     "evalue": "name 'valid_dataset' is not defined",
     "output_type": "error",
     "traceback": [
      "\u001b[0;31m---------------------------------------------------------------------------\u001b[0m",
      "\u001b[0;31mNameError\u001b[0m                                 Traceback (most recent call last)",
      "Input \u001b[0;32mIn [3]\u001b[0m, in \u001b[0;36m<cell line: 20>\u001b[0;34m()\u001b[0m\n\u001b[1;32m     17\u001b[0m valid, test \u001b[38;5;241m=\u001b[39m train_test_split(test, test_size\u001b[38;5;241m=\u001b[39m\u001b[38;5;241m1\u001b[39m\u001b[38;5;241m/\u001b[39m\u001b[38;5;241m2\u001b[39m)\n\u001b[1;32m     19\u001b[0m train_dataset \u001b[38;5;241m=\u001b[39m NNAlignDataset(train, max_len, window_size, encoding\u001b[38;5;241m=\u001b[39mencoding)\n\u001b[0;32m---> 20\u001b[0m train_loader \u001b[38;5;241m=\u001b[39m DataLoader(train_dataset, batch_size \u001b[38;5;241m=\u001b[39m \u001b[38;5;241m64\u001b[39m, sampler\u001b[38;5;241m=\u001b[39mtorch\u001b[38;5;241m.\u001b[39mutils\u001b[38;5;241m.\u001b[39mdata\u001b[38;5;241m.\u001b[39mRandomSampler(\u001b[43mvalid_dataset\u001b[49m))\n\u001b[1;32m     22\u001b[0m x,y \u001b[38;5;241m=\u001b[39m train_dataset[:\u001b[38;5;241m10\u001b[39m]\n\u001b[1;32m     23\u001b[0m \u001b[38;5;28mprint\u001b[39m(\u001b[38;5;124m'\u001b[39m\u001b[38;5;124mchecking padded inputs\u001b[39m\u001b[38;5;130;01m\\n\u001b[39;00m\u001b[38;5;124m'\u001b[39m, x[\u001b[38;5;241m3\u001b[39m][\u001b[38;5;241m-\u001b[39m\u001b[38;5;241m1\u001b[39m]\u001b[38;5;241m.\u001b[39mview(window_size, \u001b[38;5;241m20\u001b[39m))\n",
      "\u001b[0;31mNameError\u001b[0m: name 'valid_dataset' is not defined"
     ]
    }
   ],
   "source": [
    "from src.models import NNAlign, NNAlignWrapper\n",
    "from src.datasets import NNAlignDataset, get_NNAlign_dataloader\n",
    "from src.train_eval import train_model_step, eval_model_step\n",
    "from torch.utils.data import Dataset, DataLoader\n",
    "from sklearn.model_selection import train_test_split\n",
    "from torch import optim\n",
    "\n",
    "window_size = 6\n",
    "max_len = 12\n",
    "n_hidden = 50\n",
    "p_drop = 0.25\n",
    "encoding = 'BL62LO'\n",
    "indel=False\n",
    "n_epochs = 500\n",
    "\n",
    "train, test = train_test_split(cedar_aligned, test_size=1/4)\n",
    "valid, test = train_test_split(test, test_size=1/2)\n",
    "\n",
    "train_dataset = NNAlignDataset(train, max_len, window_size, encoding=encoding)\n",
    "train_loader = DataLoader(train_dataset, batch_size = 64, sampler=torch.utils.data.RandomSampler(valid_dataset))\n",
    "\n",
    "x,y = train_dataset[:10]\n",
    "print('checking padded inputs\\n', x[3][-1].view(window_size, 20))\n",
    "\n",
    "\n",
    "valid_dataset = NNAlignDataset(valid, max_len, window_size, encoding=encoding)\n",
    "valid_loader = DataLoader(valid_dataset, batch_size = 64, sampler=torch.utils.data.RandomSampler(valid_dataset))\n",
    "\n",
    "test_dataset = NNAlignDataset(test, max_len, window_size, encoding=encoding)\n",
    "test_loader = DataLoader(test_dataset, batch_size = 64, sampler=torch.utils.data.RandomSampler(test_dataset))\n",
    "\n",
    "prime_aligned = pd.read_csv('../data/aligned_icore/230418_prime_aligned.csv')\n",
    "prime_dataset = NNAlignDataset(prime_aligned, max_len, window_size, encoding=encoding)\n",
    "prime_loader = DataLoader(prime_dataset, batch_size=64, sampler=torch.utils.data.RandomSampler(prime_dataset))\n",
    "\n",
    "\n",
    "model = NNAlignWrapper(n_hidden=n_hidden, window_size=window_size, activation = nn.SELU(), dropout=p_drop)\n",
    "optimizer = optim.Adam(model.parameters(), lr = 1e-4, weight_decay = 1e-2)\n",
    "criterion = nn.BCEWithLogitsLoss(reduction='mean')\n",
    "\n",
    "train_losses=[]\n",
    "valid_losses=[]\n",
    "test_losses=[]\n",
    "prime_losses = []\n",
    "train_aucs=[]\n",
    "valid_aucs=[]\n",
    "test_aucs=[]\n",
    "prime_aucs = []\n",
    "\n",
    "print('Before training')\n",
    "loss, metrics = eval_model_step(model, criterion, train_loader)\n",
    "train_losses.append(loss)\n",
    "train_aucs.append(metrics['auc'])\n",
    "print('train', f'{loss:.3e}', 'auc', round(metrics['auc'],3), 'auc_01', round(metrics['auc_01'],3), 'acc', round(metrics['accuracy'],3), 'prec', round(metrics['precision'],3))\n",
    "loss, metrics = eval_model_step(model, criterion, valid_loader)\n",
    "valid_losses.append(loss)\n",
    "valid_aucs.append(metrics['auc'])\n",
    "print('valid', f'{loss:.3e}', 'auc', round(metrics['auc'],3), 'auc_01', round(metrics['auc_01'],3), 'acc', round(metrics['accuracy'],3), 'prec', round(metrics['precision'],3))\n",
    "loss, metrics = eval_model_step(model, criterion, test_loader)\n",
    "test_losses.append(loss)\n",
    "test_aucs.append(metrics['auc'])\n",
    "print('eval', f'{loss:.3e}', 'auc', round(metrics['auc'],3), 'auc_01', round(metrics['auc_01'],3), 'acc', round(metrics['accuracy'],3), 'prec', round(metrics['precision'],3))\n",
    "loss, metrics = eval_model_step(model, criterion, prime_loader)\n",
    "prime_losses.append(loss)\n",
    "prime_aucs.append(metrics['auc'])        \n",
    "print('prime', f'{loss:.3e}', 'auc', round(metrics['auc'],3), 'auc_01', round(metrics['auc_01'],3), 'acc', round(metrics['accuracy'],3), 'prec', round(metrics['precision'],3),'\\n\\n')\n",
    "for e in range(1,n_epochs+1):\n",
    "    loss, metrics = train_model_step(model, criterion, optimizer, train_loader)\n",
    "    train_losses.append(loss)\n",
    "    train_aucs.append(metrics['auc'])\n",
    "    if e%int(n_epochs/10)==0 or e ==1:\n",
    "        print(f'EPOCH = {e}\\n\\n')\n",
    "        print('train', f'{loss:.3e}', 'auc', round(metrics['auc'],3), 'auc_01', round(metrics['auc_01'],3), 'acc', round(metrics['accuracy'],3), 'prec', round(metrics['precision'],3))\n",
    "    loss, metrics = eval_model_step(model, criterion, valid_loader)\n",
    "    valid_losses.append(loss)\n",
    "    valid_aucs.append(metrics['auc'])\n",
    "    if e%int(n_epochs/10)==0 or e ==1:\n",
    "        print('valid', f'{loss:.3e}', 'auc', round(metrics['auc'],3), 'auc_01', round(metrics['auc_01'],3), 'acc', round(metrics['accuracy'],3), 'prec', round(metrics['precision'],3))\n",
    "    loss, metrics = eval_model_step(model, criterion, test_loader)\n",
    "    test_losses.append(loss)\n",
    "    test_aucs.append(metrics['auc'])\n",
    "    if e%int(n_epochs/10)==0 or e ==1:\n",
    "        print('eval', f'{loss:.3e}', 'auc', round(metrics['auc'],3), 'auc_01', round(metrics['auc_01'],3), 'acc', round(metrics['accuracy'],3), 'prec', round(metrics['precision'],3))\n",
    "    loss, metrics = eval_model_step(model, criterion, prime_loader)\n",
    "    prime_losses.append(loss)\n",
    "    prime_aucs.append(metrics['auc'])\n",
    "    if e%int(n_epochs/10)==0 or e ==1:\n",
    "        print('prime', f'{loss:.3e}', 'auc', round(metrics['auc'],3), 'auc_01', round(metrics['auc_01'],3), 'acc', round(metrics['accuracy'],3), 'prec', round(metrics['precision'],3),'\\n\\n')\n",
    "        \n",
    "f,a = plt.subplots(2,1, figsize=(10,9))\n",
    "a = a.ravel()\n",
    "a[0].plot(train_losses, label='train_losses')\n",
    "a[0].plot(valid_losses, label='valid_losses')\n",
    "a[0].plot(test_losses, label='test_losses')\n",
    "a[0].plot(prime_losses, label='prime_losses')\n",
    "a[0].legend()\n",
    "a[0].set_title('loss')\n",
    "a[1].plot(train_aucs, label='train_aucs')\n",
    "a[1].plot(valid_aucs, label='valid_aucs')\n",
    "a[1].plot(test_aucs, label='test_aucs')\n",
    "a[1].plot(prime_aucs, label='prime_aucs')\n",
    "a[1].legend()\n",
    "a[1].set_title('AUC')\n",
    "a[1].set_xlabel('epochs')\n",
    "f.suptitle('Dropout batchnorm')"
   ]
  },
  {
   "cell_type": "markdown",
   "id": "f8065792-35de-443e-ac90-955e39668d63",
   "metadata": {
    "jp-MarkdownHeadingCollapsed": true,
    "tags": []
   },
   "source": [
    "# Some quick HP tuning"
   ]
  },
  {
   "cell_type": "code",
   "execution_count": 4,
   "id": "ec710e2a-d3de-4d84-ae83-d1deebce36e7",
   "metadata": {
    "tags": []
   },
   "outputs": [],
   "source": [
    "def parallel_wrapper(df_train, df_valid, df_test, df_prime, model_constructor, encoding, n_hidden, p_drop, batchnorm, activation, batch_size=64, n_epochs = 500, lr = 1e-4, wd = 1e-2):\n",
    "    model = model_constructor(n_hidden=n_hidden, window_size=window_size, activation = activation, dropout=p_drop)\n",
    "    \n",
    "    train_loader, train_dataset = get_NNAlign_dataloader(train, max_len, window_size, encoding, seq_col='Peptide', target_col='agg_label', pad_scale=None, batch_size=batch_size, return_dataset=True)\n",
    "    valid_loader = get_NNAlign_dataloader(valid, max_len, window_size, encoding, seq_col='Peptide', target_col='agg_label', pad_scale=None, batch_size=batch_size, return_dataset=False)\n",
    "    test_loader = get_NNAlign_dataloader(test, max_len, window_size, encoding, seq_col='Peptide', target_col='agg_label', pad_scale=None, batch_size=batch_size, return_dataset=False)\n",
    "    prime_loader = get_NNAlign_dataloader(prime_aligned, max_len, window_size, encoding, seq_col='Peptide', target_col='agg_label', pad_scale=None, batch_size=batch_size, return_dataset=False)\n",
    "                         \n",
    "    if hasattr(model, 'standardizer'):\n",
    "        model.fit_standardizer(train_dataset[:][0])\n",
    "        \n",
    "    criterion = nn.BCEWithLogitsLoss(reduction='mean')\n",
    "    optimizer = optim.Adam(model.parameters(), lr = lr, weight_decay = wd)\n",
    "    \n",
    "    train_losses = []\n",
    "    valid_losses = []\n",
    "    prime_losses = []\n",
    "    test_losses = []\n",
    "\n",
    "    train_aucs = []\n",
    "    valid_aucs = []\n",
    "    prime_aucs = []\n",
    "    test_aucs = []\n",
    "\n",
    "\n",
    "    print('Before training')\n",
    "    loss, metrics = eval_model_step(model, criterion, train_loader)\n",
    "    train_losses.append(loss)\n",
    "    train_aucs.append(metrics['auc'])\n",
    "    loss, metrics = eval_model_step(model, criterion, valid_loader)\n",
    "    valid_losses.append(loss)\n",
    "    valid_aucs.append(metrics['auc'])\n",
    "    loss, metrics = eval_model_step(model, criterion, test_loader)\n",
    "    test_losses.append(loss)\n",
    "    test_aucs.append(metrics['auc'])\n",
    "    loss, metrics = eval_model_step(model, criterion, prime_loader)\n",
    "    prime_losses.append(loss)\n",
    "    prime_aucs.append(metrics['auc'])        \n",
    "    \n",
    "    for e in tqdm(range(1,n_epochs+1), desc='Training epochs', leave=False):\n",
    "        loss, metrics = train_model_step(model, criterion, optimizer, train_loader)\n",
    "        train_losses.append(loss)\n",
    "        train_aucs.append(metrics['auc'])\n",
    "        loss, metrics = eval_model_step(model, criterion, valid_loader)\n",
    "        valid_losses.append(loss)\n",
    "        valid_aucs.append(metrics['auc'])\n",
    "        loss, metrics = eval_model_step(model, criterion, test_loader)\n",
    "        test_losses.append(loss)\n",
    "        test_aucs.append(metrics['auc'])\n",
    "        loss, metrics = eval_model_step(model, criterion, prime_loader)\n",
    "        prime_losses.append(loss)\n",
    "        prime_aucs.append(metrics['auc'])\n",
    "            \n",
    "    f,a = plt.subplots(2,1, figsize=(12,10))\n",
    "    a = a.ravel()\n",
    "    a[0].plot(train_losses, label='train_losses')\n",
    "    a[0].plot(valid_losses, label='valid_losses')\n",
    "    a[0].plot(test_losses, label='test_losses')\n",
    "    a[0].plot(prime_losses, label='prime_losses')\n",
    "    a[0].legend()\n",
    "    a[0].set_title('loss')\n",
    "    a[1].plot(train_aucs, label='train_aucs')\n",
    "    a[1].plot(valid_aucs, label='valid_aucs')\n",
    "    a[1].plot(test_aucs, label='test_aucs')\n",
    "    a[1].plot(prime_aucs, label='prime_aucs')\n",
    "    a[1].legend()\n",
    "    a[1].set_title('AUC')\n",
    "    a[1].set_xlabel('epochs')\n",
    "    f.suptitle(f'Std:{hasattr(model, \"standardizer\")}, nh:{n_hidden}, drop:{p_drop}, BN:{batchnorm},\\nBS:{batch_size}, act:{activation.__class__.__name__}, enc:{encoding}, lr:{lr:.2e}, wd:{wd:.2e}')\n",
    "    filename=f'std_{hasattr(model, \"standardizer\")}_nh_{n_hidden}_drop_{p_drop}_bn_{batchnorm}_bs_{batch_size}_act_{activation.__class__.__name__}_enc_{encoding}_lr1em4_wd_1em2'\n",
    "    f.tight_layout()\n",
    "    f.savefig(f'../output/230516_NNAlign_hp_tune_checks/{filename}.png', bbox_inches='tight', dpi=200)\n",
    "    dd={'best_train_loss': np.min(train_losses),\n",
    "     'best_train_loss_idx': np.argmin(train_losses),\n",
    "     'best_valid_loss': np.min(valid_losses),\n",
    "     'best_valid_loss_idx': np.argmin(valid_losses),\n",
    "     'best_prime_loss': np.min(prime_losses),\n",
    "     'best_prime_loss_idx': np.argmin(prime_losses),\n",
    "     'best_test_loss': np.min(test_losses),\n",
    "     'best_test_loss_idx': np.argmin(test_losses),\n",
    "     \n",
    "     'best_train_auc': np.max(train_aucs),\n",
    "     'best_train_auc_idx': np.argmax(train_aucs),\n",
    "     'best_valid_auc': np.max(valid_aucs),\n",
    "     'best_valid_auc_idx': np.argmax(valid_aucs),\n",
    "     'best_prime_auc': np.max(prime_aucs),\n",
    "     'best_prime_auc_idx': np.argmax(prime_aucs),\n",
    "     'best_test_auc': np.max(test_aucs),\n",
    "     'best_test_auc_idx': np.argmax(test_aucs),\n",
    "     'std': hasattr(model, 'standardizer'),\n",
    "     'n_hidden':n_hidden,\n",
    "     'drop':p_drop,\n",
    "     'batchnorm':batchnorm,\n",
    "     'batchsize':batch_size,\n",
    "     'act':activation.__class__.__name__,\n",
    "     'encoding':encoding}\n",
    "    return pd.DataFrame(dd, index=[0])"
   ]
  },
  {
   "cell_type": "code",
   "execution_count": 7,
   "id": "ec1ce9e3-d26c-4e33-aad9-dc5fbfe9a819",
   "metadata": {
    "collapsed": true,
    "jupyter": {
     "outputs_hidden": true
    },
    "tags": []
   },
   "outputs": [
    {
     "data": {
      "application/vnd.jupyter.widget-view+json": {
       "model_id": "c1fe65d5f5ad489993ba81b7876abb75",
       "version_major": 2,
       "version_minor": 0
      },
      "text/plain": [
       "conditions:   0%|          | 0/288 [00:00<?, ?it/s]"
      ]
     },
     "metadata": {},
     "output_type": "display_data"
    },
    {
     "name": "stdout",
     "output_type": "stream",
     "text": [
      "Before training\n",
      "Before training\n",
      "Before training\n",
      "Before training\n",
      "Before training\n",
      "Before training\n",
      "Before training\n"
     ]
    },
    {
     "name": "stderr",
     "output_type": "stream",
     "text": [
      "Training epochs:   1%|          | 3/500 [00:00<00:16, 29.74it/s]s]"
     ]
    },
    {
     "name": "stdout",
     "output_type": "stream",
     "text": [
      "Before training\n"
     ]
    },
    {
     "name": "stderr",
     "output_type": "stream",
     "text": [
      "Training epochs:  97%|█████████▋| 483/500 [00:19<00:00, 23.73it/s]"
     ]
    },
    {
     "name": "stdout",
     "output_type": "stream",
     "text": [
      "Before training\n"
     ]
    },
    {
     "name": "stderr",
     "output_type": "stream",
     "text": [
      "Training epochs:  95%|█████████▌| 477/500 [00:20<00:00, 23.41it/s]"
     ]
    },
    {
     "name": "stdout",
     "output_type": "stream",
     "text": [
      "Before training\n"
     ]
    },
    {
     "name": "stderr",
     "output_type": "stream",
     "text": [
      "Training epochs:  89%|████████▊ | 443/500 [00:22<00:03, 17.23it/s]"
     ]
    },
    {
     "name": "stdout",
     "output_type": "stream",
     "text": [
      "Before training\n"
     ]
    },
    {
     "name": "stderr",
     "output_type": "stream",
     "text": [
      "Training epochs:  94%|█████████▍| 471/500 [00:24<00:01, 18.62it/s]"
     ]
    },
    {
     "name": "stdout",
     "output_type": "stream",
     "text": [
      "Before training\n"
     ]
    },
    {
     "name": "stderr",
     "output_type": "stream",
     "text": [
      "Training epochs:  17%|█▋        | 87/500 [00:03<00:17, 22.96it/s]]"
     ]
    },
    {
     "name": "stdout",
     "output_type": "stream",
     "text": [
      "Before training\n"
     ]
    },
    {
     "name": "stderr",
     "output_type": "stream",
     "text": [
      "Training epochs:  11%|█         | 54/500 [00:02<00:19, 22.31it/s]]"
     ]
    },
    {
     "name": "stdout",
     "output_type": "stream",
     "text": [
      "Before training\n"
     ]
    },
    {
     "name": "stderr",
     "output_type": "stream",
     "text": [
      "Training epochs:  70%|██████▉   | 348/500 [00:14<00:06, 23.59it/s]"
     ]
    },
    {
     "name": "stdout",
     "output_type": "stream",
     "text": [
      "Before training\n"
     ]
    },
    {
     "name": "stderr",
     "output_type": "stream",
     "text": [
      "Training epochs:  70%|███████   | 350/500 [00:15<00:06, 23.29it/s]"
     ]
    },
    {
     "name": "stdout",
     "output_type": "stream",
     "text": [
      "Before training\n"
     ]
    },
    {
     "name": "stderr",
     "output_type": "stream",
     "text": [
      "Training epochs:  76%|███████▌  | 380/500 [00:17<00:05, 22.91it/s]"
     ]
    },
    {
     "name": "stdout",
     "output_type": "stream",
     "text": [
      "Before training\n"
     ]
    },
    {
     "name": "stderr",
     "output_type": "stream",
     "text": [
      "Training epochs:  22%|██▏       | 108/500 [00:05<00:18, 21.02it/s]"
     ]
    },
    {
     "name": "stdout",
     "output_type": "stream",
     "text": [
      "Before training\n"
     ]
    },
    {
     "name": "stderr",
     "output_type": "stream",
     "text": [
      "Training epochs:   1%|          | 3/500 [00:00<00:24, 20.30it/s]]]"
     ]
    },
    {
     "name": "stdout",
     "output_type": "stream",
     "text": [
      "Before training\n"
     ]
    },
    {
     "name": "stderr",
     "output_type": "stream",
     "text": [
      "Training epochs:  43%|████▎     | 213/500 [00:10<00:13, 21.40it/s]"
     ]
    },
    {
     "name": "stdout",
     "output_type": "stream",
     "text": [
      "Before training\n"
     ]
    },
    {
     "name": "stderr",
     "output_type": "stream",
     "text": [
      "Training epochs:  31%|███       | 154/500 [00:09<00:21, 16.41it/s]"
     ]
    },
    {
     "name": "stdout",
     "output_type": "stream",
     "text": [
      "Before training\n"
     ]
    },
    {
     "name": "stderr",
     "output_type": "stream",
     "text": [
      "Training epochs:  25%|██▌       | 126/500 [00:07<00:22, 16.59it/s]"
     ]
    },
    {
     "name": "stdout",
     "output_type": "stream",
     "text": [
      "Before training\n"
     ]
    },
    {
     "name": "stderr",
     "output_type": "stream",
     "text": [
      "Training epochs:  73%|███████▎  | 366/500 [00:15<00:06, 22.00it/s]"
     ]
    },
    {
     "name": "stdout",
     "output_type": "stream",
     "text": [
      "Before training\n"
     ]
    },
    {
     "name": "stderr",
     "output_type": "stream",
     "text": [
      "Training epochs:  11%|█▏        | 57/500 [00:02<00:19, 23.26it/s]]"
     ]
    },
    {
     "name": "stdout",
     "output_type": "stream",
     "text": [
      "Before training\n"
     ]
    },
    {
     "name": "stderr",
     "output_type": "stream",
     "text": [
      "Training epochs:  96%|█████████▌| 478/500 [00:24<00:01, 19.86it/s]"
     ]
    },
    {
     "name": "stdout",
     "output_type": "stream",
     "text": [
      "Before training\n"
     ]
    },
    {
     "name": "stderr",
     "output_type": "stream",
     "text": [
      "Training epochs:  53%|█████▎    | 263/500 [00:12<00:10, 21.90it/s]"
     ]
    },
    {
     "name": "stdout",
     "output_type": "stream",
     "text": [
      "Before training\n"
     ]
    },
    {
     "name": "stderr",
     "output_type": "stream",
     "text": [
      "Training epochs:  56%|█████▋    | 282/500 [00:12<00:09, 23.40it/s]"
     ]
    },
    {
     "name": "stdout",
     "output_type": "stream",
     "text": [
      "Before training\n"
     ]
    },
    {
     "name": "stderr",
     "output_type": "stream",
     "text": [
      "Training epochs:   0%|          | 0/500 [00:00<?, ?it/s]15.06it/s]"
     ]
    },
    {
     "name": "stdout",
     "output_type": "stream",
     "text": [
      "Before training\n",
      "Before training\n"
     ]
    },
    {
     "name": "stderr",
     "output_type": "stream",
     "text": [
      "Training epochs:  23%|██▎       | 113/500 [00:09<00:28, 13.66it/s]"
     ]
    },
    {
     "name": "stdout",
     "output_type": "stream",
     "text": [
      "Before training\n"
     ]
    },
    {
     "name": "stderr",
     "output_type": "stream",
     "text": [
      "Training epochs:  52%|█████▏    | 260/500 [00:16<00:14, 16.01it/s]"
     ]
    },
    {
     "name": "stdout",
     "output_type": "stream",
     "text": [
      "Before training\n"
     ]
    },
    {
     "name": "stderr",
     "output_type": "stream",
     "text": [
      "Training epochs:  65%|██████▍   | 324/500 [00:15<00:08, 21.38it/s]"
     ]
    },
    {
     "name": "stdout",
     "output_type": "stream",
     "text": [
      "Before training\n"
     ]
    },
    {
     "name": "stderr",
     "output_type": "stream",
     "text": [
      "Training epochs:  89%|████████▊ | 443/500 [00:29<00:03, 15.72it/s]"
     ]
    },
    {
     "name": "stdout",
     "output_type": "stream",
     "text": [
      "Before training\n"
     ]
    },
    {
     "name": "stderr",
     "output_type": "stream",
     "text": [
      "Training epochs:  93%|█████████▎| 467/500 [00:30<00:02, 15.92it/s]"
     ]
    },
    {
     "name": "stdout",
     "output_type": "stream",
     "text": [
      "Before training\n"
     ]
    },
    {
     "name": "stderr",
     "output_type": "stream",
     "text": [
      "Training epochs:   1%|          | 3/500 [00:00<00:20, 23.71it/s]]]"
     ]
    },
    {
     "name": "stdout",
     "output_type": "stream",
     "text": [
      "Before training\n"
     ]
    },
    {
     "name": "stderr",
     "output_type": "stream",
     "text": [
      "Training epochs:  35%|███▍      | 173/500 [00:07<00:13, 23.47it/s]"
     ]
    },
    {
     "name": "stdout",
     "output_type": "stream",
     "text": [
      "Before training\n"
     ]
    },
    {
     "name": "stderr",
     "output_type": "stream",
     "text": [
      "Training epochs:  39%|███▉      | 194/500 [00:08<00:13, 22.13it/s]"
     ]
    },
    {
     "name": "stdout",
     "output_type": "stream",
     "text": [
      "Before training\n"
     ]
    },
    {
     "name": "stderr",
     "output_type": "stream",
     "text": [
      "Training epochs:  11%|█         | 54/500 [00:02<00:19, 23.32it/s]]"
     ]
    },
    {
     "name": "stdout",
     "output_type": "stream",
     "text": [
      "Before training\n"
     ]
    },
    {
     "name": "stderr",
     "output_type": "stream",
     "text": [
      "Training epochs:  55%|█████▌    | 277/500 [00:15<00:12, 18.13it/s]"
     ]
    },
    {
     "name": "stdout",
     "output_type": "stream",
     "text": [
      "Before training\n"
     ]
    },
    {
     "name": "stderr",
     "output_type": "stream",
     "text": [
      "Training epochs:   1%|          | 3/500 [00:00<00:19, 25.50it/s]s]"
     ]
    },
    {
     "name": "stdout",
     "output_type": "stream",
     "text": [
      "Before training\n"
     ]
    },
    {
     "name": "stderr",
     "output_type": "stream",
     "text": [
      "Training epochs:  49%|████▉     | 247/500 [00:13<00:13, 19.05it/s]"
     ]
    },
    {
     "name": "stdout",
     "output_type": "stream",
     "text": [
      "Before training\n"
     ]
    },
    {
     "name": "stderr",
     "output_type": "stream",
     "text": [
      "Training epochs:   1%|          | 4/500 [00:00<00:34, 14.58it/s]s]"
     ]
    },
    {
     "name": "stdout",
     "output_type": "stream",
     "text": [
      "Before training\n",
      "Before training\n"
     ]
    },
    {
     "name": "stderr",
     "output_type": "stream",
     "text": [
      "Training epochs:  10%|█         | 50/500 [00:03<00:29, 15.04it/s]]"
     ]
    },
    {
     "name": "stdout",
     "output_type": "stream",
     "text": [
      "Before training\n"
     ]
    },
    {
     "name": "stderr",
     "output_type": "stream",
     "text": [
      "Training epochs:  15%|█▍        | 74/500 [00:05<00:32, 12.93it/s]]"
     ]
    },
    {
     "name": "stdout",
     "output_type": "stream",
     "text": [
      "Before training\n"
     ]
    },
    {
     "name": "stderr",
     "output_type": "stream",
     "text": [
      "Training epochs:  37%|███▋      | 184/500 [00:13<00:20, 15.23it/s]"
     ]
    },
    {
     "name": "stdout",
     "output_type": "stream",
     "text": [
      "Before training\n",
      "Before training\n"
     ]
    },
    {
     "name": "stderr",
     "output_type": "stream",
     "text": [
      "Training epochs:  79%|███████▉  | 396/500 [00:25<00:06, 15.10it/s]"
     ]
    },
    {
     "name": "stdout",
     "output_type": "stream",
     "text": [
      "Before training\n"
     ]
    },
    {
     "name": "stderr",
     "output_type": "stream",
     "text": [
      "Training epochs:  59%|█████▉    | 296/500 [00:20<00:13, 15.01it/s]"
     ]
    },
    {
     "name": "stdout",
     "output_type": "stream",
     "text": [
      "Before training\n"
     ]
    },
    {
     "name": "stderr",
     "output_type": "stream",
     "text": [
      "Training epochs:  79%|███████▉  | 395/500 [00:20<00:05, 20.60it/s]"
     ]
    },
    {
     "name": "stdout",
     "output_type": "stream",
     "text": [
      "Before training\n"
     ]
    },
    {
     "name": "stderr",
     "output_type": "stream",
     "text": [
      "Training epochs:  61%|██████    | 305/500 [00:13<00:08, 24.06it/s]"
     ]
    },
    {
     "name": "stdout",
     "output_type": "stream",
     "text": [
      "Before training\n"
     ]
    },
    {
     "name": "stderr",
     "output_type": "stream",
     "text": [
      "Training epochs:  24%|██▍       | 121/500 [00:06<00:20, 18.46it/s]"
     ]
    },
    {
     "name": "stdout",
     "output_type": "stream",
     "text": [
      "Before training\n"
     ]
    },
    {
     "name": "stderr",
     "output_type": "stream",
     "text": [
      "Training epochs:  27%|██▋       | 135/500 [00:07<00:25, 14.12it/s]"
     ]
    },
    {
     "name": "stdout",
     "output_type": "stream",
     "text": [
      "Before training\n"
     ]
    },
    {
     "name": "stderr",
     "output_type": "stream",
     "text": [
      "Training epochs:  42%|████▏     | 211/500 [00:08<00:10, 27.47it/s]"
     ]
    },
    {
     "name": "stdout",
     "output_type": "stream",
     "text": [
      "Before training\n"
     ]
    },
    {
     "name": "stderr",
     "output_type": "stream",
     "text": [
      "Training epochs:  56%|█████▋    | 282/500 [00:15<00:11, 19.67it/s]"
     ]
    },
    {
     "name": "stdout",
     "output_type": "stream",
     "text": [
      "Before training\n"
     ]
    },
    {
     "name": "stderr",
     "output_type": "stream",
     "text": [
      "Training epochs:   0%|          | 0/500 [00:00<?, ?it/s]18.64it/s]"
     ]
    },
    {
     "name": "stdout",
     "output_type": "stream",
     "text": [
      "Before training\n"
     ]
    },
    {
     "name": "stderr",
     "output_type": "stream",
     "text": [
      "Training epochs:   0%|          | 0/500 [00:00<?, ?it/s]23.04it/s]"
     ]
    },
    {
     "name": "stdout",
     "output_type": "stream",
     "text": [
      "Before training\n"
     ]
    },
    {
     "name": "stderr",
     "output_type": "stream",
     "text": [
      "Training epochs:  58%|█████▊    | 288/500 [00:12<00:09, 23.17it/s]"
     ]
    },
    {
     "name": "stdout",
     "output_type": "stream",
     "text": [
      "Before training\n"
     ]
    },
    {
     "name": "stderr",
     "output_type": "stream",
     "text": [
      "Training epochs:  74%|███████▎  | 368/500 [00:20<00:06, 21.94it/s]"
     ]
    },
    {
     "name": "stdout",
     "output_type": "stream",
     "text": [
      "Before training\n"
     ]
    },
    {
     "name": "stderr",
     "output_type": "stream",
     "text": [
      "Training epochs:  30%|███       | 151/500 [00:08<00:23, 14.85it/s]"
     ]
    },
    {
     "name": "stdout",
     "output_type": "stream",
     "text": [
      "Before training\n"
     ]
    },
    {
     "name": "stderr",
     "output_type": "stream",
     "text": [
      "Training epochs:  15%|█▍        | 74/500 [00:03<00:16, 26.02it/s]]"
     ]
    },
    {
     "name": "stdout",
     "output_type": "stream",
     "text": [
      "Before training\n"
     ]
    },
    {
     "name": "stderr",
     "output_type": "stream",
     "text": [
      "Training epochs:   1%|          | 3/500 [00:00<00:20, 24.24it/s]s]"
     ]
    },
    {
     "name": "stdout",
     "output_type": "stream",
     "text": [
      "Before training\n"
     ]
    },
    {
     "name": "stderr",
     "output_type": "stream",
     "text": [
      "Training epochs:  61%|██████    | 306/500 [00:16<00:09, 20.24it/s]"
     ]
    },
    {
     "name": "stdout",
     "output_type": "stream",
     "text": [
      "Before training\n"
     ]
    },
    {
     "name": "stderr",
     "output_type": "stream",
     "text": [
      "Training epochs:  97%|█████████▋| 483/500 [00:25<00:00, 20.62it/s]"
     ]
    },
    {
     "name": "stdout",
     "output_type": "stream",
     "text": [
      "Before training\n"
     ]
    },
    {
     "name": "stderr",
     "output_type": "stream",
     "text": [
      "Training epochs:  51%|█████     | 254/500 [00:13<00:12, 20.33it/s]"
     ]
    },
    {
     "name": "stdout",
     "output_type": "stream",
     "text": [
      "Before training\n"
     ]
    },
    {
     "name": "stderr",
     "output_type": "stream",
     "text": [
      "Training epochs:  59%|█████▉    | 297/500 [00:16<00:11, 18.45it/s]"
     ]
    },
    {
     "name": "stdout",
     "output_type": "stream",
     "text": [
      "Before training\n"
     ]
    },
    {
     "name": "stderr",
     "output_type": "stream",
     "text": [
      "Training epochs:  12%|█▏        | 62/500 [00:04<00:29, 14.82it/s]]"
     ]
    },
    {
     "name": "stdout",
     "output_type": "stream",
     "text": [
      "Before training\n"
     ]
    },
    {
     "name": "stderr",
     "output_type": "stream",
     "text": [
      "Training epochs:   0%|          | 0/500 [00:00<?, ?it/s].65it/s]s]"
     ]
    },
    {
     "name": "stdout",
     "output_type": "stream",
     "text": [
      "Before training\n",
      "Before training\n"
     ]
    },
    {
     "name": "stderr",
     "output_type": "stream",
     "text": [
      "Training epochs:   0%|          | 0/500 [00:00<?, ?it/s].89it/s]s]"
     ]
    },
    {
     "name": "stdout",
     "output_type": "stream",
     "text": [
      "Before training\n"
     ]
    },
    {
     "name": "stderr",
     "output_type": "stream",
     "text": [
      "Training epochs:  29%|██▉       | 147/500 [00:06<00:17, 20.68it/s]"
     ]
    },
    {
     "name": "stdout",
     "output_type": "stream",
     "text": [
      "Before training\n"
     ]
    },
    {
     "name": "stderr",
     "output_type": "stream",
     "text": [
      "Training epochs:  97%|█████████▋| 485/500 [00:24<00:00, 18.89it/s]"
     ]
    },
    {
     "name": "stdout",
     "output_type": "stream",
     "text": [
      "Before training\n"
     ]
    },
    {
     "name": "stderr",
     "output_type": "stream",
     "text": [
      "Training epochs:   7%|▋         | 34/500 [00:01<00:21, 21.26it/s]]"
     ]
    },
    {
     "name": "stdout",
     "output_type": "stream",
     "text": [
      "Before training\n"
     ]
    },
    {
     "name": "stderr",
     "output_type": "stream",
     "text": [
      "Training epochs:   0%|          | 0/500 [00:00<?, ?it/s]17.60it/s]"
     ]
    },
    {
     "name": "stdout",
     "output_type": "stream",
     "text": [
      "Before training\n"
     ]
    },
    {
     "name": "stderr",
     "output_type": "stream",
     "text": [
      "Training epochs:  93%|█████████▎| 466/500 [00:25<00:01, 21.64it/s]"
     ]
    },
    {
     "name": "stdout",
     "output_type": "stream",
     "text": [
      "Before training\n"
     ]
    },
    {
     "name": "stderr",
     "output_type": "stream",
     "text": [
      "Training epochs:  56%|█████▌    | 281/500 [00:11<00:09, 24.12it/s]"
     ]
    },
    {
     "name": "stdout",
     "output_type": "stream",
     "text": [
      "Before training\n"
     ]
    },
    {
     "name": "stderr",
     "output_type": "stream",
     "text": [
      "Training epochs:  75%|███████▌  | 377/500 [00:15<00:04, 28.67it/s]"
     ]
    },
    {
     "name": "stdout",
     "output_type": "stream",
     "text": [
      "Before training\n"
     ]
    },
    {
     "name": "stderr",
     "output_type": "stream",
     "text": [
      "Training epochs:  51%|█████     | 256/500 [00:15<00:13, 18.37it/s]"
     ]
    },
    {
     "name": "stdout",
     "output_type": "stream",
     "text": [
      "Before training\n"
     ]
    },
    {
     "name": "stderr",
     "output_type": "stream",
     "text": [
      "Training epochs:  49%|████▉     | 246/500 [00:13<00:14, 17.78it/s]"
     ]
    },
    {
     "name": "stdout",
     "output_type": "stream",
     "text": [
      "Before training\n"
     ]
    },
    {
     "name": "stderr",
     "output_type": "stream",
     "text": [
      "Training epochs:  90%|█████████ | 450/500 [00:24<00:02, 17.92it/s]"
     ]
    },
    {
     "name": "stdout",
     "output_type": "stream",
     "text": [
      "Before training\n"
     ]
    },
    {
     "name": "stderr",
     "output_type": "stream",
     "text": [
      "Training epochs:  51%|█████▏    | 257/500 [00:12<00:11, 20.42it/s]"
     ]
    },
    {
     "name": "stdout",
     "output_type": "stream",
     "text": [
      "Before training\n"
     ]
    },
    {
     "name": "stderr",
     "output_type": "stream",
     "text": [
      "Training epochs:   7%|▋         | 36/500 [00:02<00:28, 16.54it/s]]"
     ]
    },
    {
     "name": "stdout",
     "output_type": "stream",
     "text": [
      "Before training\n"
     ]
    },
    {
     "name": "stderr",
     "output_type": "stream",
     "text": [
      "Training epochs:  80%|███████▉  | 399/500 [00:23<00:05, 17.08it/s]"
     ]
    },
    {
     "name": "stdout",
     "output_type": "stream",
     "text": [
      "Before training\n"
     ]
    },
    {
     "name": "stderr",
     "output_type": "stream",
     "text": [
      "Training epochs:  53%|█████▎    | 267/500 [00:10<00:09, 24.89it/s]"
     ]
    },
    {
     "name": "stdout",
     "output_type": "stream",
     "text": [
      "Before training\n"
     ]
    },
    {
     "name": "stderr",
     "output_type": "stream",
     "text": [
      "Training epochs:   0%|          | 0/500 [00:00<?, ?it/s]14.63it/s]"
     ]
    },
    {
     "name": "stdout",
     "output_type": "stream",
     "text": [
      "Before training\n"
     ]
    },
    {
     "name": "stderr",
     "output_type": "stream",
     "text": [
      "Training epochs:  26%|██▋       | 132/500 [00:07<00:20, 17.69it/s]"
     ]
    },
    {
     "name": "stdout",
     "output_type": "stream",
     "text": [
      "Before training\n"
     ]
    },
    {
     "name": "stderr",
     "output_type": "stream",
     "text": [
      "Training epochs:  23%|██▎       | 116/500 [00:07<00:24, 15.57it/s]"
     ]
    },
    {
     "name": "stdout",
     "output_type": "stream",
     "text": [
      "Before training\n"
     ]
    },
    {
     "name": "stderr",
     "output_type": "stream",
     "text": [
      "Training epochs:   1%|          | 3/500 [00:00<00:18, 26.65it/s]s]"
     ]
    },
    {
     "name": "stdout",
     "output_type": "stream",
     "text": [
      "Before training\n"
     ]
    },
    {
     "name": "stderr",
     "output_type": "stream",
     "text": [
      "Training epochs:  57%|█████▋    | 285/500 [00:13<00:10, 20.22it/s]"
     ]
    },
    {
     "name": "stdout",
     "output_type": "stream",
     "text": [
      "Before training\n"
     ]
    },
    {
     "name": "stderr",
     "output_type": "stream",
     "text": [
      "Training epochs:   0%|          | 2/500 [00:00<00:31, 15.84it/s]s]"
     ]
    },
    {
     "name": "stdout",
     "output_type": "stream",
     "text": [
      "Before training\n"
     ]
    },
    {
     "name": "stderr",
     "output_type": "stream",
     "text": [
      "Training epochs:   5%|▌         | 26/500 [00:02<00:38, 12.40it/s]]"
     ]
    },
    {
     "name": "stdout",
     "output_type": "stream",
     "text": [
      "Before training\n"
     ]
    },
    {
     "name": "stderr",
     "output_type": "stream",
     "text": [
      "Training epochs:  91%|█████████ | 456/500 [00:31<00:02, 14.96it/s]"
     ]
    },
    {
     "name": "stdout",
     "output_type": "stream",
     "text": [
      "Before training\n"
     ]
    },
    {
     "name": "stderr",
     "output_type": "stream",
     "text": [
      "Training epochs:   0%|          | 2/500 [00:00<00:32, 15.43it/s]s]"
     ]
    },
    {
     "name": "stdout",
     "output_type": "stream",
     "text": [
      "Before training\n"
     ]
    },
    {
     "name": "stderr",
     "output_type": "stream",
     "text": [
      "Training epochs:  17%|█▋        | 84/500 [00:03<00:19, 21.85it/s]]"
     ]
    },
    {
     "name": "stdout",
     "output_type": "stream",
     "text": [
      "Before training\n"
     ]
    },
    {
     "name": "stderr",
     "output_type": "stream",
     "text": [
      "Training epochs:  11%|█         | 54/500 [00:03<00:30, 14.45it/s]]"
     ]
    },
    {
     "name": "stdout",
     "output_type": "stream",
     "text": [
      "Before training\n"
     ]
    },
    {
     "name": "stderr",
     "output_type": "stream",
     "text": [
      "Training epochs:  59%|█████▉    | 294/500 [00:20<00:16, 12.48it/s]"
     ]
    },
    {
     "name": "stdout",
     "output_type": "stream",
     "text": [
      "Before training\n"
     ]
    },
    {
     "name": "stderr",
     "output_type": "stream",
     "text": [
      "Training epochs:   1%|          | 5/500 [00:00<00:27, 17.85it/s]s]"
     ]
    },
    {
     "name": "stdout",
     "output_type": "stream",
     "text": [
      "Before training\n"
     ]
    },
    {
     "name": "stderr",
     "output_type": "stream",
     "text": [
      "Training epochs:   0%|          | 0/500 [00:00<?, ?it/s]7.16it/s]]"
     ]
    },
    {
     "name": "stdout",
     "output_type": "stream",
     "text": [
      "Before training\n"
     ]
    },
    {
     "name": "stderr",
     "output_type": "stream",
     "text": [
      "Training epochs:  34%|███▎      | 168/500 [00:08<00:17, 18.59it/s]"
     ]
    },
    {
     "name": "stdout",
     "output_type": "stream",
     "text": [
      "Before training\n"
     ]
    },
    {
     "name": "stderr",
     "output_type": "stream",
     "text": [
      "Training epochs:  13%|█▎        | 65/500 [00:03<00:24, 17.41it/s]]"
     ]
    },
    {
     "name": "stdout",
     "output_type": "stream",
     "text": [
      "Before training\n"
     ]
    },
    {
     "name": "stderr",
     "output_type": "stream",
     "text": [
      "Training epochs:  59%|█████▉    | 297/500 [00:14<00:09, 20.47it/s]"
     ]
    },
    {
     "name": "stdout",
     "output_type": "stream",
     "text": [
      "Before training\n"
     ]
    },
    {
     "name": "stderr",
     "output_type": "stream",
     "text": [
      "Training epochs:  20%|██        | 100/500 [00:03<00:14, 27.35it/s]"
     ]
    },
    {
     "name": "stdout",
     "output_type": "stream",
     "text": [
      "Before training\n"
     ]
    },
    {
     "name": "stderr",
     "output_type": "stream",
     "text": [
      "Training epochs:   0%|          | 2/500 [00:00<00:26, 18.74it/s]s]"
     ]
    },
    {
     "name": "stdout",
     "output_type": "stream",
     "text": [
      "Before training\n"
     ]
    },
    {
     "name": "stderr",
     "output_type": "stream",
     "text": [
      "Training epochs:  43%|████▎     | 215/500 [00:10<00:15, 18.17it/s]"
     ]
    },
    {
     "name": "stdout",
     "output_type": "stream",
     "text": [
      "Before training\n"
     ]
    },
    {
     "name": "stderr",
     "output_type": "stream",
     "text": [
      "Training epochs:  79%|███████▊  | 393/500 [00:15<00:03, 27.57it/s]"
     ]
    },
    {
     "name": "stdout",
     "output_type": "stream",
     "text": [
      "Before training\n"
     ]
    },
    {
     "name": "stderr",
     "output_type": "stream",
     "text": [
      "Training epochs:  40%|███▉      | 199/500 [00:09<00:13, 22.88it/s]"
     ]
    },
    {
     "name": "stdout",
     "output_type": "stream",
     "text": [
      "Before training\n"
     ]
    },
    {
     "name": "stderr",
     "output_type": "stream",
     "text": [
      "Training epochs:  60%|█████▉    | 298/500 [00:13<00:09, 22.09it/s]"
     ]
    },
    {
     "name": "stdout",
     "output_type": "stream",
     "text": [
      "Before training\n"
     ]
    },
    {
     "name": "stderr",
     "output_type": "stream",
     "text": [
      "Training epochs:   0%|          | 0/500 [00:00<?, ?it/s]21.68it/s]"
     ]
    },
    {
     "name": "stdout",
     "output_type": "stream",
     "text": [
      "Before training\n"
     ]
    },
    {
     "name": "stderr",
     "output_type": "stream",
     "text": [
      "Training epochs:  16%|█▌        | 81/500 [00:03<00:15, 27.47it/s]]"
     ]
    },
    {
     "name": "stdout",
     "output_type": "stream",
     "text": [
      "Before training\n"
     ]
    },
    {
     "name": "stderr",
     "output_type": "stream",
     "text": [
      "Training epochs:  64%|██████▎   | 318/500 [00:12<00:07, 23.39it/s]"
     ]
    },
    {
     "name": "stdout",
     "output_type": "stream",
     "text": [
      "Before training\n"
     ]
    },
    {
     "name": "stderr",
     "output_type": "stream",
     "text": [
      "Training epochs:   7%|▋         | 35/500 [00:01<00:18, 25.74it/s]]"
     ]
    },
    {
     "name": "stdout",
     "output_type": "stream",
     "text": [
      "Before training\n"
     ]
    },
    {
     "name": "stderr",
     "output_type": "stream",
     "text": [
      "Training epochs:  61%|██████    | 304/500 [00:17<00:11, 17.00it/s]"
     ]
    },
    {
     "name": "stdout",
     "output_type": "stream",
     "text": [
      "Before training\n"
     ]
    },
    {
     "name": "stderr",
     "output_type": "stream",
     "text": [
      "Training epochs:  65%|██████▍   | 324/500 [00:17<00:10, 16.07it/s]"
     ]
    },
    {
     "name": "stdout",
     "output_type": "stream",
     "text": [
      "Before training\n"
     ]
    },
    {
     "name": "stderr",
     "output_type": "stream",
     "text": [
      "Training epochs:  76%|███████▌  | 379/500 [00:21<00:07, 16.40it/s]"
     ]
    },
    {
     "name": "stdout",
     "output_type": "stream",
     "text": [
      "Before training\n"
     ]
    },
    {
     "name": "stderr",
     "output_type": "stream",
     "text": [
      "Training epochs:   0%|          | 0/500 [00:00<?, ?it/s]14.63it/s]"
     ]
    },
    {
     "name": "stdout",
     "output_type": "stream",
     "text": [
      "Before training\n"
     ]
    },
    {
     "name": "stderr",
     "output_type": "stream",
     "text": [
      "Training epochs:   4%|▍         | 21/500 [00:01<00:28, 16.71it/s]]"
     ]
    },
    {
     "name": "stdout",
     "output_type": "stream",
     "text": [
      "Before training\n"
     ]
    },
    {
     "name": "stderr",
     "output_type": "stream",
     "text": [
      "Training epochs:   0%|          | 2/500 [00:00<00:25, 19.61it/s]s]"
     ]
    },
    {
     "name": "stdout",
     "output_type": "stream",
     "text": [
      "Before training\n"
     ]
    },
    {
     "name": "stderr",
     "output_type": "stream",
     "text": [
      "Training epochs:  26%|██▌       | 130/500 [00:05<00:15, 23.47it/s]"
     ]
    },
    {
     "name": "stdout",
     "output_type": "stream",
     "text": [
      "Before training\n"
     ]
    },
    {
     "name": "stderr",
     "output_type": "stream",
     "text": [
      "Training epochs:  11%|█▏        | 57/500 [00:02<00:20, 21.38it/s]]"
     ]
    },
    {
     "name": "stdout",
     "output_type": "stream",
     "text": [
      "Before training\n"
     ]
    },
    {
     "name": "stderr",
     "output_type": "stream",
     "text": [
      "Training epochs:  44%|████▍     | 219/500 [00:10<00:13, 21.01it/s]"
     ]
    },
    {
     "name": "stdout",
     "output_type": "stream",
     "text": [
      "Before training\n"
     ]
    },
    {
     "name": "stderr",
     "output_type": "stream",
     "text": [
      "Training epochs:  68%|██████▊   | 339/500 [00:15<00:06, 23.23it/s]"
     ]
    },
    {
     "name": "stdout",
     "output_type": "stream",
     "text": [
      "Before training\n",
      "Before training\n"
     ]
    },
    {
     "name": "stderr",
     "output_type": "stream",
     "text": [
      "Training epochs:   0%|          | 0/500 [00:00<?, ?it/s]21.92it/s]"
     ]
    },
    {
     "name": "stdout",
     "output_type": "stream",
     "text": [
      "Before training\n",
      "Before training\n"
     ]
    },
    {
     "name": "stderr",
     "output_type": "stream",
     "text": [
      "Training epochs:  31%|███▏      | 157/500 [00:07<00:15, 22.79it/s]"
     ]
    },
    {
     "name": "stdout",
     "output_type": "stream",
     "text": [
      "Before training\n"
     ]
    },
    {
     "name": "stderr",
     "output_type": "stream",
     "text": [
      "Training epochs:   0%|          | 0/500 [00:00<?, ?it/s]16.22it/s]"
     ]
    },
    {
     "name": "stdout",
     "output_type": "stream",
     "text": [
      "Before training\n"
     ]
    },
    {
     "name": "stderr",
     "output_type": "stream",
     "text": [
      "Training epochs:  48%|████▊     | 240/500 [00:15<00:15, 17.16it/s]"
     ]
    },
    {
     "name": "stdout",
     "output_type": "stream",
     "text": [
      "Before training\n"
     ]
    },
    {
     "name": "stderr",
     "output_type": "stream",
     "text": [
      "Training epochs:  62%|██████▏   | 312/500 [00:16<00:10, 18.34it/s]"
     ]
    },
    {
     "name": "stdout",
     "output_type": "stream",
     "text": [
      "Before training\n"
     ]
    },
    {
     "name": "stderr",
     "output_type": "stream",
     "text": [
      "Training epochs:  76%|███████▌  | 380/500 [00:21<00:07, 17.02it/s]"
     ]
    },
    {
     "name": "stdout",
     "output_type": "stream",
     "text": [
      "Before training\n"
     ]
    },
    {
     "name": "stderr",
     "output_type": "stream",
     "text": [
      "Training epochs:  90%|█████████ | 451/500 [00:24<00:02, 18.36it/s]"
     ]
    },
    {
     "name": "stdout",
     "output_type": "stream",
     "text": [
      "Before training\n"
     ]
    },
    {
     "name": "stderr",
     "output_type": "stream",
     "text": [
      "Training epochs:   0%|          | 0/500 [00:00<?, ?it/s]16.39it/s]"
     ]
    },
    {
     "name": "stdout",
     "output_type": "stream",
     "text": [
      "Before training\n",
      "Before training\n"
     ]
    },
    {
     "name": "stderr",
     "output_type": "stream",
     "text": [
      "Training epochs:   0%|          | 0/500 [00:00<?, ?it/s]18.53it/s]"
     ]
    },
    {
     "name": "stdout",
     "output_type": "stream",
     "text": [
      "Before training\n"
     ]
    },
    {
     "name": "stderr",
     "output_type": "stream",
     "text": [
      "Training epochs:   0%|          | 2/500 [00:00<00:25, 19.56it/s]s]"
     ]
    },
    {
     "name": "stdout",
     "output_type": "stream",
     "text": [
      "Before training\n"
     ]
    },
    {
     "name": "stderr",
     "output_type": "stream",
     "text": [
      "Training epochs:   0%|          | 0/500 [00:00<?, ?it/s]18.04it/s]"
     ]
    },
    {
     "name": "stdout",
     "output_type": "stream",
     "text": [
      "Before training\n"
     ]
    },
    {
     "name": "stderr",
     "output_type": "stream",
     "text": [
      "Training epochs:  86%|████████▌ | 428/500 [00:23<00:03, 19.44it/s]"
     ]
    },
    {
     "name": "stdout",
     "output_type": "stream",
     "text": [
      "Before training\n"
     ]
    },
    {
     "name": "stderr",
     "output_type": "stream",
     "text": [
      "Training epochs:  49%|████▉     | 246/500 [00:11<00:12, 20.12it/s]"
     ]
    },
    {
     "name": "stdout",
     "output_type": "stream",
     "text": [
      "Before training\n"
     ]
    },
    {
     "name": "stderr",
     "output_type": "stream",
     "text": [
      "Training epochs:   0%|          | 2/500 [00:00<00:29, 17.12it/s]s]"
     ]
    },
    {
     "name": "stdout",
     "output_type": "stream",
     "text": [
      "Before training\n"
     ]
    },
    {
     "name": "stderr",
     "output_type": "stream",
     "text": [
      "Training epochs:   0%|          | 0/500 [00:00<?, ?it/s]16.22it/s]"
     ]
    },
    {
     "name": "stdout",
     "output_type": "stream",
     "text": [
      "Before training\n"
     ]
    },
    {
     "name": "stderr",
     "output_type": "stream",
     "text": [
      "Training epochs:  22%|██▏       | 110/500 [00:06<00:21, 18.12it/s]"
     ]
    },
    {
     "name": "stdout",
     "output_type": "stream",
     "text": [
      "Before training\n"
     ]
    },
    {
     "name": "stderr",
     "output_type": "stream",
     "text": [
      "Training epochs:  17%|█▋        | 84/500 [00:03<00:20, 20.69it/s]]"
     ]
    },
    {
     "name": "stdout",
     "output_type": "stream",
     "text": [
      "Before training\n"
     ]
    },
    {
     "name": "stderr",
     "output_type": "stream",
     "text": [
      "Training epochs:  19%|█▉        | 96/500 [00:04<00:17, 22.50it/s]]"
     ]
    },
    {
     "name": "stdout",
     "output_type": "stream",
     "text": [
      "Before training\n"
     ]
    },
    {
     "name": "stderr",
     "output_type": "stream",
     "text": [
      "Training epochs:   1%|          | 3/500 [00:00<00:24, 20.33it/s]s]"
     ]
    },
    {
     "name": "stdout",
     "output_type": "stream",
     "text": [
      "Before training\n"
     ]
    },
    {
     "name": "stderr",
     "output_type": "stream",
     "text": [
      "Training epochs:  96%|█████████▋| 482/500 [00:30<00:01, 14.39it/s]"
     ]
    },
    {
     "name": "stdout",
     "output_type": "stream",
     "text": [
      "Before training\n"
     ]
    },
    {
     "name": "stderr",
     "output_type": "stream",
     "text": [
      "Training epochs:   0%|          | 2/500 [00:00<00:35, 13.98it/s]s]"
     ]
    },
    {
     "name": "stdout",
     "output_type": "stream",
     "text": [
      "Before training\n"
     ]
    },
    {
     "name": "stderr",
     "output_type": "stream",
     "text": [
      "Training epochs:   8%|▊         | 42/500 [00:01<00:19, 23.31it/s]]"
     ]
    },
    {
     "name": "stdout",
     "output_type": "stream",
     "text": [
      "Before training\n"
     ]
    },
    {
     "name": "stderr",
     "output_type": "stream",
     "text": [
      "Training epochs:  59%|█████▉    | 294/500 [00:20<00:14, 14.08it/s]"
     ]
    },
    {
     "name": "stdout",
     "output_type": "stream",
     "text": [
      "Before training\n"
     ]
    },
    {
     "name": "stderr",
     "output_type": "stream",
     "text": [
      "Training epochs:  82%|████████▏ | 410/500 [00:29<00:06, 14.40it/s]"
     ]
    },
    {
     "name": "stdout",
     "output_type": "stream",
     "text": [
      "Before training\n"
     ]
    },
    {
     "name": "stderr",
     "output_type": "stream",
     "text": [
      "Training epochs:  93%|█████████▎| 466/500 [00:33<00:02, 13.16it/s]"
     ]
    },
    {
     "name": "stdout",
     "output_type": "stream",
     "text": [
      "Before training\n"
     ]
    },
    {
     "name": "stderr",
     "output_type": "stream",
     "text": [
      "Training epochs:   0%|          | 2/500 [00:00<00:25, 19.25it/s]s]"
     ]
    },
    {
     "name": "stdout",
     "output_type": "stream",
     "text": [
      "Before training\n"
     ]
    },
    {
     "name": "stderr",
     "output_type": "stream",
     "text": [
      "Training epochs:  82%|████████▏ | 411/500 [00:22<00:04, 19.21it/s]"
     ]
    },
    {
     "name": "stdout",
     "output_type": "stream",
     "text": [
      "Before training\n"
     ]
    },
    {
     "name": "stderr",
     "output_type": "stream",
     "text": [
      "Training epochs:  29%|██▉       | 144/500 [00:07<00:18, 18.92it/s]"
     ]
    },
    {
     "name": "stdout",
     "output_type": "stream",
     "text": [
      "Before training\n"
     ]
    },
    {
     "name": "stderr",
     "output_type": "stream",
     "text": [
      "Training epochs:  87%|████████▋ | 435/500 [00:18<00:02, 23.72it/s]"
     ]
    },
    {
     "name": "stdout",
     "output_type": "stream",
     "text": [
      "Before training\n"
     ]
    },
    {
     "name": "stderr",
     "output_type": "stream",
     "text": [
      "Training epochs:  36%|███▌      | 181/500 [00:08<00:15, 21.12it/s]"
     ]
    },
    {
     "name": "stdout",
     "output_type": "stream",
     "text": [
      "Before training\n"
     ]
    },
    {
     "name": "stderr",
     "output_type": "stream",
     "text": [
      "Training epochs:  66%|██████▋   | 332/500 [00:17<00:08, 20.19it/s]"
     ]
    },
    {
     "name": "stdout",
     "output_type": "stream",
     "text": [
      "Before training\n"
     ]
    },
    {
     "name": "stderr",
     "output_type": "stream",
     "text": [
      "Training epochs:  76%|███████▌  | 378/500 [00:18<00:06, 20.01it/s]"
     ]
    },
    {
     "name": "stdout",
     "output_type": "stream",
     "text": [
      "Before training\n"
     ]
    },
    {
     "name": "stderr",
     "output_type": "stream",
     "text": [
      "Training epochs:  46%|████▌     | 229/500 [00:12<00:14, 19.08it/s]"
     ]
    },
    {
     "name": "stdout",
     "output_type": "stream",
     "text": [
      "Before training\n"
     ]
    },
    {
     "name": "stderr",
     "output_type": "stream",
     "text": [
      "Training epochs:  57%|█████▋    | 284/500 [00:14<00:10, 20.06it/s]"
     ]
    },
    {
     "name": "stdout",
     "output_type": "stream",
     "text": [
      "Before training\n"
     ]
    },
    {
     "name": "stderr",
     "output_type": "stream",
     "text": [
      "Training epochs:   1%|          | 3/500 [00:00<00:24, 20.70it/s]s]"
     ]
    },
    {
     "name": "stdout",
     "output_type": "stream",
     "text": [
      "Before training\n"
     ]
    },
    {
     "name": "stderr",
     "output_type": "stream",
     "text": [
      "Training epochs:  68%|██████▊   | 342/500 [00:14<00:06, 24.89it/s]"
     ]
    },
    {
     "name": "stdout",
     "output_type": "stream",
     "text": [
      "Before training\n"
     ]
    },
    {
     "name": "stderr",
     "output_type": "stream",
     "text": [
      "Training epochs:  51%|█████     | 255/500 [00:12<00:13, 18.12it/s]"
     ]
    },
    {
     "name": "stdout",
     "output_type": "stream",
     "text": [
      "Before training\n"
     ]
    },
    {
     "name": "stderr",
     "output_type": "stream",
     "text": [
      "Training epochs:   1%|          | 4/500 [00:00<00:33, 14.92it/s]]]"
     ]
    },
    {
     "name": "stdout",
     "output_type": "stream",
     "text": [
      "Before training\n"
     ]
    },
    {
     "name": "stderr",
     "output_type": "stream",
     "text": [
      "Training epochs:  35%|███▍      | 174/500 [00:07<00:13, 24.09it/s]"
     ]
    },
    {
     "name": "stdout",
     "output_type": "stream",
     "text": [
      "Before training\n"
     ]
    },
    {
     "name": "stderr",
     "output_type": "stream",
     "text": [
      "Training epochs:   0%|          | 0/500 [00:00<?, ?it/s]18.85it/s]"
     ]
    },
    {
     "name": "stdout",
     "output_type": "stream",
     "text": [
      "Before training\n"
     ]
    },
    {
     "name": "stderr",
     "output_type": "stream",
     "text": [
      "Training epochs:  42%|████▏     | 210/500 [00:10<00:15, 18.63it/s]"
     ]
    },
    {
     "name": "stdout",
     "output_type": "stream",
     "text": [
      "Before training\n"
     ]
    },
    {
     "name": "stderr",
     "output_type": "stream",
     "text": [
      "Training epochs:  92%|█████████▏| 459/500 [00:19<00:01, 20.67it/s]"
     ]
    },
    {
     "name": "stdout",
     "output_type": "stream",
     "text": [
      "Before training\n"
     ]
    },
    {
     "name": "stderr",
     "output_type": "stream",
     "text": [
      "Training epochs:   1%|          | 3/500 [00:00<00:23, 20.82it/s]s]"
     ]
    },
    {
     "name": "stdout",
     "output_type": "stream",
     "text": [
      "Before training\n"
     ]
    },
    {
     "name": "stderr",
     "output_type": "stream",
     "text": [
      "Training epochs:  32%|███▏      | 162/500 [00:09<00:19, 17.14it/s]"
     ]
    },
    {
     "name": "stdout",
     "output_type": "stream",
     "text": [
      "Before training\n"
     ]
    },
    {
     "name": "stderr",
     "output_type": "stream",
     "text": [
      "Training epochs:  22%|██▏       | 108/500 [00:04<00:16, 23.09it/s]"
     ]
    },
    {
     "name": "stdout",
     "output_type": "stream",
     "text": [
      "Before training\n"
     ]
    },
    {
     "name": "stderr",
     "output_type": "stream",
     "text": [
      "Training epochs:  54%|█████▍    | 269/500 [00:13<00:11, 20.27it/s]"
     ]
    },
    {
     "name": "stdout",
     "output_type": "stream",
     "text": [
      "Before training\n"
     ]
    },
    {
     "name": "stderr",
     "output_type": "stream",
     "text": [
      "Training epochs:   0%|          | 0/500 [00:00<?, ?it/s]6.22it/s]]"
     ]
    },
    {
     "name": "stdout",
     "output_type": "stream",
     "text": [
      "Before training\n"
     ]
    },
    {
     "name": "stderr",
     "output_type": "stream",
     "text": [
      "Training epochs:  46%|████▌     | 230/500 [00:14<00:18, 14.37it/s]"
     ]
    },
    {
     "name": "stdout",
     "output_type": "stream",
     "text": [
      "Before training\n"
     ]
    },
    {
     "name": "stderr",
     "output_type": "stream",
     "text": [
      "Training epochs:  49%|████▉     | 246/500 [00:15<00:15, 16.53it/s]"
     ]
    },
    {
     "name": "stdout",
     "output_type": "stream",
     "text": [
      "Before training\n",
      "Before training\n"
     ]
    },
    {
     "name": "stderr",
     "output_type": "stream",
     "text": [
      "Training epochs:   6%|▌         | 30/500 [00:02<00:35, 13.16it/s]]"
     ]
    },
    {
     "name": "stdout",
     "output_type": "stream",
     "text": [
      "Before training\n"
     ]
    },
    {
     "name": "stderr",
     "output_type": "stream",
     "text": [
      "Training epochs:   0%|          | 0/500 [00:00<?, ?it/s]16.24it/s]"
     ]
    },
    {
     "name": "stdout",
     "output_type": "stream",
     "text": [
      "Before training\n"
     ]
    },
    {
     "name": "stderr",
     "output_type": "stream",
     "text": [
      "Training epochs:  51%|█████▏    | 257/500 [00:14<00:15, 16.12it/s]"
     ]
    },
    {
     "name": "stdout",
     "output_type": "stream",
     "text": [
      "Before training\n"
     ]
    },
    {
     "name": "stderr",
     "output_type": "stream",
     "text": [
      "Training epochs:  62%|██████▏   | 310/500 [00:18<00:11, 16.79it/s]"
     ]
    },
    {
     "name": "stdout",
     "output_type": "stream",
     "text": [
      "Before training\n"
     ]
    },
    {
     "name": "stderr",
     "output_type": "stream",
     "text": [
      "Training epochs:  74%|███████▍  | 369/500 [00:21<00:07, 18.62it/s]"
     ]
    },
    {
     "name": "stdout",
     "output_type": "stream",
     "text": [
      "Before training\n"
     ]
    },
    {
     "name": "stderr",
     "output_type": "stream",
     "text": [
      "Training epochs:  79%|███████▉  | 396/500 [00:29<00:07, 13.84it/s]"
     ]
    },
    {
     "name": "stdout",
     "output_type": "stream",
     "text": [
      "Before training\n"
     ]
    },
    {
     "name": "stderr",
     "output_type": "stream",
     "text": [
      "Training epochs:  32%|███▏      | 158/500 [00:11<00:25, 13.24it/s]"
     ]
    },
    {
     "name": "stdout",
     "output_type": "stream",
     "text": [
      "Before training\n"
     ]
    },
    {
     "name": "stderr",
     "output_type": "stream",
     "text": [
      "Training epochs:  15%|█▌        | 76/500 [00:05<00:30, 13.94it/s]]"
     ]
    },
    {
     "name": "stdout",
     "output_type": "stream",
     "text": [
      "Before training\n"
     ]
    },
    {
     "name": "stderr",
     "output_type": "stream",
     "text": [
      "Training epochs:  62%|██████▏   | 308/500 [00:23<00:15, 12.49it/s]"
     ]
    },
    {
     "name": "stdout",
     "output_type": "stream",
     "text": [
      "Before training\n"
     ]
    },
    {
     "name": "stderr",
     "output_type": "stream",
     "text": [
      "Training epochs:  42%|████▏     | 209/500 [00:12<00:15, 18.79it/s]"
     ]
    },
    {
     "name": "stdout",
     "output_type": "stream",
     "text": [
      "Before training\n"
     ]
    },
    {
     "name": "stderr",
     "output_type": "stream",
     "text": [
      "Training epochs:  42%|████▏     | 208/500 [00:16<00:20, 14.07it/s]"
     ]
    },
    {
     "name": "stdout",
     "output_type": "stream",
     "text": [
      "Before training\n"
     ]
    },
    {
     "name": "stderr",
     "output_type": "stream",
     "text": [
      "Training epochs:  96%|█████████▌| 480/500 [00:35<00:01, 13.68it/s]"
     ]
    },
    {
     "name": "stdout",
     "output_type": "stream",
     "text": [
      "Before training\n"
     ]
    },
    {
     "name": "stderr",
     "output_type": "stream",
     "text": [
      "Training epochs:  63%|██████▎   | 317/500 [00:17<00:09, 18.74it/s]"
     ]
    },
    {
     "name": "stdout",
     "output_type": "stream",
     "text": [
      "Before training\n"
     ]
    },
    {
     "name": "stderr",
     "output_type": "stream",
     "text": [
      "Training epochs:  82%|████████▏ | 410/500 [00:30<00:06, 13.33it/s]"
     ]
    },
    {
     "name": "stdout",
     "output_type": "stream",
     "text": [
      "Before training\n"
     ]
    },
    {
     "name": "stderr",
     "output_type": "stream",
     "text": [
      "Training epochs:  90%|█████████ | 450/500 [00:33<00:03, 13.10it/s]"
     ]
    },
    {
     "name": "stdout",
     "output_type": "stream",
     "text": [
      "Before training\n"
     ]
    },
    {
     "name": "stderr",
     "output_type": "stream",
     "text": [
      "Training epochs:  52%|█████▏    | 258/500 [00:17<00:18, 13.13it/s]"
     ]
    },
    {
     "name": "stdout",
     "output_type": "stream",
     "text": [
      "Before training\n"
     ]
    },
    {
     "name": "stderr",
     "output_type": "stream",
     "text": [
      "Training epochs:   0%|          | 2/500 [00:00<00:29, 16.82it/s]]]"
     ]
    },
    {
     "name": "stdout",
     "output_type": "stream",
     "text": [
      "Before training\n"
     ]
    },
    {
     "name": "stderr",
     "output_type": "stream",
     "text": [
      "Training epochs:  50%|█████     | 252/500 [00:20<00:17, 14.01it/s]"
     ]
    },
    {
     "name": "stdout",
     "output_type": "stream",
     "text": [
      "Before training\n"
     ]
    },
    {
     "name": "stderr",
     "output_type": "stream",
     "text": [
      "Training epochs:  54%|█████▍    | 272/500 [00:21<00:17, 13.25it/s]"
     ]
    },
    {
     "name": "stdout",
     "output_type": "stream",
     "text": [
      "Before training\n"
     ]
    },
    {
     "name": "stderr",
     "output_type": "stream",
     "text": [
      "Training epochs:  10%|▉         | 48/500 [00:02<00:23, 19.59it/s]]"
     ]
    },
    {
     "name": "stdout",
     "output_type": "stream",
     "text": [
      "Before training\n"
     ]
    },
    {
     "name": "stderr",
     "output_type": "stream",
     "text": [
      "Training epochs:  60%|██████    | 300/500 [00:23<00:17, 11.71it/s]"
     ]
    },
    {
     "name": "stdout",
     "output_type": "stream",
     "text": [
      "Before training\n"
     ]
    },
    {
     "name": "stderr",
     "output_type": "stream",
     "text": [
      "Training epochs:  45%|████▍     | 224/500 [00:12<00:15, 18.31it/s]"
     ]
    },
    {
     "name": "stdout",
     "output_type": "stream",
     "text": [
      "Before training\n"
     ]
    },
    {
     "name": "stderr",
     "output_type": "stream",
     "text": [
      "Training epochs:  58%|█████▊    | 288/500 [00:18<00:13, 15.47it/s]"
     ]
    },
    {
     "name": "stdout",
     "output_type": "stream",
     "text": [
      "Before training\n"
     ]
    },
    {
     "name": "stderr",
     "output_type": "stream",
     "text": [
      "Training epochs:  76%|███████▌  | 378/500 [00:19<00:06, 19.26it/s]"
     ]
    },
    {
     "name": "stdout",
     "output_type": "stream",
     "text": [
      "Before training\n"
     ]
    },
    {
     "name": "stderr",
     "output_type": "stream",
     "text": [
      "Training epochs:   9%|▉         | 44/500 [00:02<00:23, 19.75it/s]]"
     ]
    },
    {
     "name": "stdout",
     "output_type": "stream",
     "text": [
      "Before training\n",
      "Before training\n"
     ]
    },
    {
     "name": "stderr",
     "output_type": "stream",
     "text": [
      "Training epochs:  40%|███▉      | 198/500 [00:10<00:15, 19.68it/s]"
     ]
    },
    {
     "name": "stdout",
     "output_type": "stream",
     "text": [
      "Before training\n"
     ]
    },
    {
     "name": "stderr",
     "output_type": "stream",
     "text": [
      "Training epochs:  85%|████████▌ | 426/500 [00:18<00:03, 22.65it/s]"
     ]
    },
    {
     "name": "stdout",
     "output_type": "stream",
     "text": [
      "Before training\n"
     ]
    },
    {
     "name": "stderr",
     "output_type": "stream",
     "text": [
      "Training epochs:  65%|██████▌   | 325/500 [00:17<00:09, 19.23it/s]"
     ]
    },
    {
     "name": "stdout",
     "output_type": "stream",
     "text": [
      "Before training\n"
     ]
    },
    {
     "name": "stderr",
     "output_type": "stream",
     "text": [
      "Training epochs:  85%|████████▍ | 423/500 [00:21<00:03, 20.28it/s]"
     ]
    },
    {
     "name": "stdout",
     "output_type": "stream",
     "text": [
      "Before training\n"
     ]
    },
    {
     "name": "stderr",
     "output_type": "stream",
     "text": [
      "Training epochs:   2%|▏         | 8/500 [00:00<00:23, 21.19it/s]s]"
     ]
    },
    {
     "name": "stdout",
     "output_type": "stream",
     "text": [
      "Before training\n"
     ]
    },
    {
     "name": "stderr",
     "output_type": "stream",
     "text": [
      "Training epochs:  97%|█████████▋| 483/500 [00:24<00:00, 17.56it/s]"
     ]
    },
    {
     "name": "stdout",
     "output_type": "stream",
     "text": [
      "Before training\n"
     ]
    },
    {
     "name": "stderr",
     "output_type": "stream",
     "text": [
      "Training epochs:  15%|█▍        | 74/500 [00:04<00:25, 16.46it/s]]"
     ]
    },
    {
     "name": "stdout",
     "output_type": "stream",
     "text": [
      "Before training\n"
     ]
    },
    {
     "name": "stderr",
     "output_type": "stream",
     "text": [
      "Training epochs:   0%|          | 0/500 [00:00<?, ?it/s]22.35it/s]"
     ]
    },
    {
     "name": "stdout",
     "output_type": "stream",
     "text": [
      "Before training\n"
     ]
    },
    {
     "name": "stderr",
     "output_type": "stream",
     "text": [
      "Training epochs:   8%|▊         | 39/500 [00:01<00:20, 22.77it/s]]"
     ]
    },
    {
     "name": "stdout",
     "output_type": "stream",
     "text": [
      "Before training\n"
     ]
    },
    {
     "name": "stderr",
     "output_type": "stream",
     "text": [
      "Training epochs:  50%|█████     | 251/500 [00:14<00:14, 17.50it/s]"
     ]
    },
    {
     "name": "stdout",
     "output_type": "stream",
     "text": [
      "Before training\n"
     ]
    },
    {
     "name": "stderr",
     "output_type": "stream",
     "text": [
      "Training epochs:  20%|██        | 100/500 [00:05<00:24, 16.23it/s]"
     ]
    },
    {
     "name": "stdout",
     "output_type": "stream",
     "text": [
      "Before training\n"
     ]
    },
    {
     "name": "stderr",
     "output_type": "stream",
     "text": [
      "Training epochs:  92%|█████████▏| 459/500 [00:25<00:02, 16.80it/s]"
     ]
    },
    {
     "name": "stdout",
     "output_type": "stream",
     "text": [
      "Before training\n"
     ]
    },
    {
     "name": "stderr",
     "output_type": "stream",
     "text": [
      "Training epochs:  88%|████████▊ | 442/500 [00:20<00:02, 20.28it/s]"
     ]
    },
    {
     "name": "stdout",
     "output_type": "stream",
     "text": [
      "Before training\n"
     ]
    },
    {
     "name": "stderr",
     "output_type": "stream",
     "text": [
      "Training epochs:   0%|          | 0/500 [00:00<?, ?it/s]13.91it/s]"
     ]
    },
    {
     "name": "stdout",
     "output_type": "stream",
     "text": [
      "Before training\n"
     ]
    },
    {
     "name": "stderr",
     "output_type": "stream",
     "text": [
      "Training epochs:  45%|████▍     | 223/500 [00:12<00:14, 18.68it/s]"
     ]
    },
    {
     "name": "stdout",
     "output_type": "stream",
     "text": [
      "Before training\n"
     ]
    },
    {
     "name": "stderr",
     "output_type": "stream",
     "text": [
      "Training epochs:  39%|███▉      | 197/500 [00:10<00:16, 18.00it/s]"
     ]
    },
    {
     "name": "stdout",
     "output_type": "stream",
     "text": [
      "Before training\n"
     ]
    },
    {
     "name": "stderr",
     "output_type": "stream",
     "text": [
      "Training epochs:   0%|          | 2/500 [00:00<00:35, 13.87it/s]s]"
     ]
    },
    {
     "name": "stdout",
     "output_type": "stream",
     "text": [
      "Before training\n"
     ]
    },
    {
     "name": "stderr",
     "output_type": "stream",
     "text": [
      "Training epochs:   1%|          | 6/500 [00:00<00:33, 14.63it/s]s]"
     ]
    },
    {
     "name": "stdout",
     "output_type": "stream",
     "text": [
      "Before training\n"
     ]
    },
    {
     "name": "stderr",
     "output_type": "stream",
     "text": [
      "Training epochs:  67%|██████▋   | 337/500 [00:18<00:08, 18.88it/s]"
     ]
    },
    {
     "name": "stdout",
     "output_type": "stream",
     "text": [
      "Before training\n"
     ]
    },
    {
     "name": "stderr",
     "output_type": "stream",
     "text": [
      "Training epochs:  70%|███████   | 350/500 [00:15<00:06, 24.72it/s]"
     ]
    },
    {
     "name": "stdout",
     "output_type": "stream",
     "text": [
      "Before training\n"
     ]
    },
    {
     "name": "stderr",
     "output_type": "stream",
     "text": [
      "Training epochs:  34%|███▎      | 168/500 [00:12<00:22, 14.92it/s]"
     ]
    },
    {
     "name": "stdout",
     "output_type": "stream",
     "text": [
      "Before training\n"
     ]
    },
    {
     "name": "stderr",
     "output_type": "stream",
     "text": [
      "Training epochs:  18%|█▊        | 88/500 [00:06<00:26, 15.77it/s]]"
     ]
    },
    {
     "name": "stdout",
     "output_type": "stream",
     "text": [
      "Before training\n"
     ]
    },
    {
     "name": "stderr",
     "output_type": "stream",
     "text": [
      "Training epochs:  32%|███▏      | 161/500 [00:07<00:15, 22.08it/s]"
     ]
    },
    {
     "name": "stdout",
     "output_type": "stream",
     "text": [
      "Before training\n"
     ]
    },
    {
     "name": "stderr",
     "output_type": "stream",
     "text": [
      "Training epochs:  80%|████████  | 400/500 [00:28<00:07, 14.22it/s]"
     ]
    },
    {
     "name": "stdout",
     "output_type": "stream",
     "text": [
      "Before training\n"
     ]
    },
    {
     "name": "stderr",
     "output_type": "stream",
     "text": [
      "Training epochs:  90%|█████████ | 450/500 [00:21<00:02, 22.78it/s]"
     ]
    },
    {
     "name": "stdout",
     "output_type": "stream",
     "text": [
      "Before training\n"
     ]
    },
    {
     "name": "stderr",
     "output_type": "stream",
     "text": [
      "Training epochs:   8%|▊         | 42/500 [00:03<00:32, 14.22it/s]]"
     ]
    },
    {
     "name": "stdout",
     "output_type": "stream",
     "text": [
      "Before training\n"
     ]
    },
    {
     "name": "stderr",
     "output_type": "stream",
     "text": [
      "Training epochs:  32%|███▏      | 158/500 [00:07<00:16, 20.63it/s]"
     ]
    },
    {
     "name": "stdout",
     "output_type": "stream",
     "text": [
      "Before training\n"
     ]
    },
    {
     "name": "stderr",
     "output_type": "stream",
     "text": [
      "Training epochs:  68%|██████▊   | 342/500 [00:16<00:07, 21.87it/s]"
     ]
    },
    {
     "name": "stdout",
     "output_type": "stream",
     "text": [
      "Before training\n"
     ]
    },
    {
     "name": "stderr",
     "output_type": "stream",
     "text": [
      "Training epochs:   0%|          | 0/500 [00:00<?, ?it/s]17.31it/s]"
     ]
    },
    {
     "name": "stdout",
     "output_type": "stream",
     "text": [
      "Before training\n"
     ]
    },
    {
     "name": "stderr",
     "output_type": "stream",
     "text": [
      "Training epochs:  24%|██▍       | 121/500 [00:05<00:17, 21.19it/s]"
     ]
    },
    {
     "name": "stdout",
     "output_type": "stream",
     "text": [
      "Before training\n"
     ]
    },
    {
     "name": "stderr",
     "output_type": "stream",
     "text": [
      "Training epochs:  57%|█████▋    | 286/500 [00:21<00:17, 12.30it/s]"
     ]
    },
    {
     "name": "stdout",
     "output_type": "stream",
     "text": [
      "Before training\n"
     ]
    },
    {
     "name": "stderr",
     "output_type": "stream",
     "text": [
      "Training epochs:  55%|█████▌    | 276/500 [00:15<00:12, 17.82it/s]"
     ]
    },
    {
     "name": "stdout",
     "output_type": "stream",
     "text": [
      "Before training\n"
     ]
    },
    {
     "name": "stderr",
     "output_type": "stream",
     "text": [
      "Training epochs:  48%|████▊     | 242/500 [00:18<00:20, 12.70it/s]"
     ]
    },
    {
     "name": "stdout",
     "output_type": "stream",
     "text": [
      "Before training\n"
     ]
    },
    {
     "name": "stderr",
     "output_type": "stream",
     "text": [
      "Training epochs:  99%|█████████▉| 494/500 [00:38<00:00, 12.59it/s]"
     ]
    },
    {
     "name": "stdout",
     "output_type": "stream",
     "text": [
      "Before training\n"
     ]
    },
    {
     "name": "stderr",
     "output_type": "stream",
     "text": [
      "Training epochs:  60%|██████    | 302/500 [00:23<00:14, 13.86it/s]"
     ]
    },
    {
     "name": "stdout",
     "output_type": "stream",
     "text": [
      "Before training\n"
     ]
    },
    {
     "name": "stderr",
     "output_type": "stream",
     "text": [
      "Training epochs:  33%|███▎      | 164/500 [00:11<00:22, 15.16it/s]"
     ]
    },
    {
     "name": "stdout",
     "output_type": "stream",
     "text": [
      "Before training\n"
     ]
    },
    {
     "name": "stderr",
     "output_type": "stream",
     "text": [
      "Training epochs:  44%|████▎     | 218/500 [00:17<00:22, 12.41it/s]"
     ]
    },
    {
     "name": "stdout",
     "output_type": "stream",
     "text": [
      "Before training\n"
     ]
    },
    {
     "name": "stderr",
     "output_type": "stream",
     "text": [
      "Training epochs:  59%|█████▊    | 293/500 [00:18<00:11, 18.44it/s]"
     ]
    },
    {
     "name": "stdout",
     "output_type": "stream",
     "text": [
      "Before training\n"
     ]
    },
    {
     "name": "stderr",
     "output_type": "stream",
     "text": [
      "Training epochs:  52%|█████▏    | 258/500 [00:13<00:13, 18.08it/s]"
     ]
    },
    {
     "name": "stdout",
     "output_type": "stream",
     "text": [
      "Before training\n"
     ]
    },
    {
     "name": "stderr",
     "output_type": "stream",
     "text": [
      "Training epochs:  83%|████████▎ | 414/500 [00:33<00:06, 13.05it/s]"
     ]
    },
    {
     "name": "stdout",
     "output_type": "stream",
     "text": [
      "Before training\n"
     ]
    },
    {
     "name": "stderr",
     "output_type": "stream",
     "text": [
      "Training epochs:  48%|████▊     | 242/500 [00:19<00:19, 13.11it/s]"
     ]
    },
    {
     "name": "stdout",
     "output_type": "stream",
     "text": [
      "Before training\n"
     ]
    },
    {
     "name": "stderr",
     "output_type": "stream",
     "text": [
      "Training epochs:   8%|▊         | 41/500 [00:02<00:31, 14.67it/s]]"
     ]
    },
    {
     "name": "stdout",
     "output_type": "stream",
     "text": [
      "Before training\n"
     ]
    },
    {
     "name": "stderr",
     "output_type": "stream",
     "text": [
      "Training epochs:  28%|██▊       | 142/500 [00:07<00:20, 17.53it/s]"
     ]
    },
    {
     "name": "stdout",
     "output_type": "stream",
     "text": [
      "Before training\n"
     ]
    },
    {
     "name": "stderr",
     "output_type": "stream",
     "text": [
      "Training epochs:  74%|███████▍  | 369/500 [00:21<00:07, 18.43it/s]"
     ]
    },
    {
     "name": "stdout",
     "output_type": "stream",
     "text": [
      "Before training\n"
     ]
    },
    {
     "name": "stderr",
     "output_type": "stream",
     "text": [
      "Training epochs:  84%|████████▍ | 422/500 [00:20<00:03, 22.53it/s]"
     ]
    },
    {
     "name": "stdout",
     "output_type": "stream",
     "text": [
      "Before training\n"
     ]
    },
    {
     "name": "stderr",
     "output_type": "stream",
     "text": [
      "Training epochs:  98%|█████████▊| 492/500 [00:34<00:00, 15.48it/s]"
     ]
    },
    {
     "name": "stdout",
     "output_type": "stream",
     "text": [
      "Before training\n"
     ]
    },
    {
     "name": "stderr",
     "output_type": "stream",
     "text": [
      "Training epochs:  85%|████████▍ | 424/500 [00:24<00:04, 18.74it/s]"
     ]
    },
    {
     "name": "stdout",
     "output_type": "stream",
     "text": [
      "Before training\n"
     ]
    },
    {
     "name": "stderr",
     "output_type": "stream",
     "text": [
      "Training epochs:  16%|█▌        | 81/500 [00:03<00:19, 20.97it/s]]"
     ]
    },
    {
     "name": "stdout",
     "output_type": "stream",
     "text": [
      "Before training\n"
     ]
    },
    {
     "name": "stderr",
     "output_type": "stream",
     "text": [
      "Training epochs:  37%|███▋      | 186/500 [00:07<00:12, 24.39it/s]"
     ]
    },
    {
     "name": "stdout",
     "output_type": "stream",
     "text": [
      "Before training\n"
     ]
    },
    {
     "name": "stderr",
     "output_type": "stream",
     "text": [
      "Training epochs:  33%|███▎      | 165/500 [00:07<00:14, 22.66it/s]"
     ]
    },
    {
     "name": "stdout",
     "output_type": "stream",
     "text": [
      "Before training\n"
     ]
    },
    {
     "name": "stderr",
     "output_type": "stream",
     "text": [
      "Training epochs:  90%|█████████ | 450/500 [00:20<00:02, 20.07it/s]"
     ]
    },
    {
     "name": "stdout",
     "output_type": "stream",
     "text": [
      "Before training\n"
     ]
    },
    {
     "name": "stderr",
     "output_type": "stream",
     "text": [
      "Training epochs:  94%|█████████▍| 471/500 [00:19<00:01, 20.91it/s]"
     ]
    },
    {
     "name": "stdout",
     "output_type": "stream",
     "text": [
      "Before training\n"
     ]
    },
    {
     "name": "stderr",
     "output_type": "stream",
     "text": [
      "Training epochs:   0%|          | 0/500 [00:00<?, ?it/s]2.49it/s]]"
     ]
    },
    {
     "name": "stdout",
     "output_type": "stream",
     "text": [
      "Before training\n"
     ]
    },
    {
     "name": "stderr",
     "output_type": "stream",
     "text": [
      "Training epochs:  39%|███▉      | 195/500 [00:10<00:15, 19.30it/s]"
     ]
    },
    {
     "name": "stdout",
     "output_type": "stream",
     "text": [
      "Before training\n"
     ]
    },
    {
     "name": "stderr",
     "output_type": "stream",
     "text": [
      "Training epochs:  41%|████      | 206/500 [00:10<00:15, 18.51it/s]"
     ]
    },
    {
     "name": "stdout",
     "output_type": "stream",
     "text": [
      "Before training\n"
     ]
    },
    {
     "name": "stderr",
     "output_type": "stream",
     "text": [
      "Training epochs:  22%|██▏       | 111/500 [00:06<00:22, 17.61it/s]"
     ]
    },
    {
     "name": "stdout",
     "output_type": "stream",
     "text": [
      "Before training\n"
     ]
    },
    {
     "name": "stderr",
     "output_type": "stream",
     "text": [
      "Training epochs:  13%|█▎        | 67/500 [00:03<00:21, 19.96it/s]]"
     ]
    },
    {
     "name": "stdout",
     "output_type": "stream",
     "text": [
      "Before training\n"
     ]
    },
    {
     "name": "stderr",
     "output_type": "stream",
     "text": [
      "Training epochs:  36%|███▌      | 178/500 [00:10<00:18, 17.37it/s]"
     ]
    },
    {
     "name": "stdout",
     "output_type": "stream",
     "text": [
      "Before training\n"
     ]
    },
    {
     "name": "stderr",
     "output_type": "stream",
     "text": [
      "Training epochs:  62%|██████▏   | 311/500 [00:16<00:09, 20.44it/s]"
     ]
    },
    {
     "name": "stdout",
     "output_type": "stream",
     "text": [
      "Before training\n"
     ]
    },
    {
     "name": "stderr",
     "output_type": "stream",
     "text": [
      "Training epochs:  86%|████████▌ | 429/500 [00:22<00:03, 19.80it/s]"
     ]
    },
    {
     "name": "stdout",
     "output_type": "stream",
     "text": [
      "Before training\n"
     ]
    },
    {
     "name": "stderr",
     "output_type": "stream",
     "text": [
      "Training epochs:   0%|          | 2/500 [00:00<00:40, 12.24it/s]]]"
     ]
    },
    {
     "name": "stdout",
     "output_type": "stream",
     "text": [
      "Before training\n"
     ]
    },
    {
     "name": "stderr",
     "output_type": "stream",
     "text": [
      "Training epochs:  17%|█▋        | 87/500 [00:03<00:18, 22.85it/s]]"
     ]
    },
    {
     "name": "stdout",
     "output_type": "stream",
     "text": [
      "Before training\n"
     ]
    },
    {
     "name": "stderr",
     "output_type": "stream",
     "text": [
      "Training epochs:   0%|          | 2/500 [00:00<00:25, 19.71it/s]s]"
     ]
    },
    {
     "name": "stdout",
     "output_type": "stream",
     "text": [
      "Before training\n"
     ]
    },
    {
     "name": "stderr",
     "output_type": "stream",
     "text": [
      "Training epochs:  79%|███████▉  | 394/500 [00:22<00:06, 16.87it/s]"
     ]
    },
    {
     "name": "stdout",
     "output_type": "stream",
     "text": [
      "Before training\n"
     ]
    },
    {
     "name": "stderr",
     "output_type": "stream",
     "text": [
      "Training epochs:  90%|█████████ | 450/500 [00:22<00:02, 20.45it/s]"
     ]
    },
    {
     "name": "stdout",
     "output_type": "stream",
     "text": [
      "Before training\n"
     ]
    },
    {
     "name": "stderr",
     "output_type": "stream",
     "text": [
      "Training epochs:   0%|          | 0/500 [00:00<?, ?it/s]24.00it/s]"
     ]
    },
    {
     "name": "stdout",
     "output_type": "stream",
     "text": [
      "Before training\n"
     ]
    },
    {
     "name": "stderr",
     "output_type": "stream",
     "text": [
      "Training epochs:  54%|█████▍    | 270/500 [00:21<00:15, 14.80it/s]"
     ]
    },
    {
     "name": "stdout",
     "output_type": "stream",
     "text": [
      "Before training\n"
     ]
    },
    {
     "name": "stderr",
     "output_type": "stream",
     "text": [
      "Training epochs:   1%|          | 3/500 [00:00<00:21, 23.51it/s]s]"
     ]
    },
    {
     "name": "stdout",
     "output_type": "stream",
     "text": [
      "Before training\n"
     ]
    },
    {
     "name": "stderr",
     "output_type": "stream",
     "text": [
      "Training epochs:   0%|          | 0/500 [00:00<?, ?it/s]14.98it/s]"
     ]
    },
    {
     "name": "stdout",
     "output_type": "stream",
     "text": [
      "Before training\n"
     ]
    },
    {
     "name": "stderr",
     "output_type": "stream",
     "text": [
      "Training epochs:  50%|████▉     | 248/500 [00:16<00:15, 16.01it/s]"
     ]
    },
    {
     "name": "stdout",
     "output_type": "stream",
     "text": [
      "Before training\n"
     ]
    },
    {
     "name": "stderr",
     "output_type": "stream",
     "text": [
      "Training epochs:  13%|█▎        | 67/500 [00:04<00:23, 18.30it/s]]"
     ]
    },
    {
     "name": "stdout",
     "output_type": "stream",
     "text": [
      "Before training\n"
     ]
    },
    {
     "name": "stderr",
     "output_type": "stream",
     "text": [
      "Training epochs:  32%|███▏      | 158/500 [00:11<00:22, 15.40it/s]|███████▉  | 398/500 [00:26<00:07, 13.12it/s]500 [00:06<00:30, 13.26it/s] 412/500 [00:27<00:06, 13.27it/s]"
     ]
    },
    {
     "name": "stdout",
     "output_type": "stream",
     "text": [
      "Before training\n"
     ]
    },
    {
     "name": "stderr",
     "output_type": "stream",
     "text": [
      "Training epochs:  85%|████████▌ | 425/500 [00:21<00:03, 21.54it/s]"
     ]
    },
    {
     "name": "stdout",
     "output_type": "stream",
     "text": [
      "Before training\n"
     ]
    },
    {
     "name": "stderr",
     "output_type": "stream",
     "text": [
      "Training epochs:   0%|          | 2/500 [00:00<00:30, 16.29it/s]s]"
     ]
    },
    {
     "name": "stdout",
     "output_type": "stream",
     "text": [
      "Before training\n"
     ]
    },
    {
     "name": "stderr",
     "output_type": "stream",
     "text": [
      "Training epochs:  60%|██████    | 300/500 [00:22<00:12, 15.39it/s]"
     ]
    },
    {
     "name": "stdout",
     "output_type": "stream",
     "text": [
      "Before training\n"
     ]
    },
    {
     "name": "stderr",
     "output_type": "stream",
     "text": [
      "Training epochs:  64%|██████▎   | 318/500 [00:15<00:11, 15.78it/s]"
     ]
    },
    {
     "name": "stdout",
     "output_type": "stream",
     "text": [
      "Before training\n"
     ]
    },
    {
     "name": "stderr",
     "output_type": "stream",
     "text": [
      "Training epochs:   0%|          | 2/500 [00:00<00:40, 12.22it/s]s]"
     ]
    },
    {
     "name": "stdout",
     "output_type": "stream",
     "text": [
      "Before training\n"
     ]
    },
    {
     "name": "stderr",
     "output_type": "stream",
     "text": [
      "Training epochs:   0%|          | 0/500 [00:00<?, ?it/s]1.89it/s]]"
     ]
    },
    {
     "name": "stdout",
     "output_type": "stream",
     "text": [
      "Before training\n"
     ]
    },
    {
     "name": "stderr",
     "output_type": "stream",
     "text": [
      "Training epochs:  63%|██████▎   | 316/500 [00:21<00:11, 16.20it/s]"
     ]
    },
    {
     "name": "stdout",
     "output_type": "stream",
     "text": [
      "Before training\n"
     ]
    },
    {
     "name": "stderr",
     "output_type": "stream",
     "text": [
      "Training epochs:   0%|          | 0/500 [00:00<?, ?it/s]13.31it/s]"
     ]
    },
    {
     "name": "stdout",
     "output_type": "stream",
     "text": [
      "Before training\n"
     ]
    },
    {
     "name": "stderr",
     "output_type": "stream",
     "text": [
      "Training epochs:  48%|████▊     | 239/500 [00:13<00:14, 17.76it/s]"
     ]
    },
    {
     "name": "stdout",
     "output_type": "stream",
     "text": [
      "Before training\n"
     ]
    },
    {
     "name": "stderr",
     "output_type": "stream",
     "text": [
      "Training epochs:  42%|████▏     | 212/500 [00:16<00:21, 13.34it/s]"
     ]
    },
    {
     "name": "stdout",
     "output_type": "stream",
     "text": [
      "Before training\n"
     ]
    },
    {
     "name": "stderr",
     "output_type": "stream",
     "text": [
      "Training epochs:  45%|████▌     | 226/500 [00:17<00:19, 13.97it/s]"
     ]
    },
    {
     "name": "stdout",
     "output_type": "stream",
     "text": [
      "Before training\n"
     ]
    },
    {
     "name": "stderr",
     "output_type": "stream",
     "text": [
      "Training epochs:  83%|████████▎ | 417/500 [00:18<00:03, 22.64it/s]"
     ]
    },
    {
     "name": "stdout",
     "output_type": "stream",
     "text": [
      "Before training\n"
     ]
    },
    {
     "name": "stderr",
     "output_type": "stream",
     "text": [
      "Training epochs:  50%|█████     | 252/500 [00:19<00:18, 13.18it/s]"
     ]
    },
    {
     "name": "stdout",
     "output_type": "stream",
     "text": [
      "Before training\n"
     ]
    },
    {
     "name": "stderr",
     "output_type": "stream",
     "text": [
      "Training epochs:  67%|██████▋   | 337/500 [00:20<00:10, 15.91it/s]"
     ]
    },
    {
     "name": "stdout",
     "output_type": "stream",
     "text": [
      "Before training\n"
     ]
    },
    {
     "name": "stderr",
     "output_type": "stream",
     "text": [
      "Training epochs:   0%|          | 0/500 [00:00<?, ?it/s]2.77it/s]]"
     ]
    },
    {
     "name": "stdout",
     "output_type": "stream",
     "text": [
      "Before training\n"
     ]
    },
    {
     "name": "stderr",
     "output_type": "stream",
     "text": [
      "Training epochs:  92%|█████████▏| 462/500 [00:31<00:02, 14.06it/s]"
     ]
    },
    {
     "name": "stdout",
     "output_type": "stream",
     "text": [
      "Before training\n"
     ]
    },
    {
     "name": "stderr",
     "output_type": "stream",
     "text": [
      "                                                                  \r"
     ]
    }
   ],
   "source": [
    "from src.models import NNAlign, NNAlignWrapper\n",
    "from src.datasets import NNAlignDataset, get_NNAlign_dataloader\n",
    "from src.train_eval import train_model_step, eval_model_step\n",
    "from torch.utils.data import Dataset, DataLoader\n",
    "from sklearn.model_selection import train_test_split\n",
    "from torch import optim\n",
    "import itertools\n",
    "from functools import partial\n",
    "from joblib import Parallel, delayed\n",
    "\n",
    "lr = 1e-4\n",
    "wd = 1e-2\n",
    "window_size = 6\n",
    "max_len = 12\n",
    "n_hidden = 50\n",
    "n_epochs = 500\n",
    "seed = 13 \n",
    "torch.manual_seed(seed)\n",
    "df_train, df_test = train_test_split(cedar_aligned, test_size=1/4, random_state=seed)\n",
    "df_valid, df_test = train_test_split(test, test_size=1/2, random_state=seed)\n",
    "df_prime = prime_aligned\n",
    "criterion = nn.BCEWithLogitsLoss(reduction='mean')\n",
    "cdts = list(itertools.product([NNAlign, NNAlignWrapper], ['BL62LO', 'BL50LO', 'BL62FREQ'], [10, 25, 50], [0, 0.3], [False, True], [nn.SELU(), nn.ReLU()], [64, 128]))\n",
    "\n",
    "\n",
    "wrapper = partial(parallel_wrapper, df_train=df_train, df_valid=df_valid, df_test=df_test, df_prime=df_prime, \n",
    "                  n_epochs = n_epochs, lr = lr, wd=wd)\n",
    "\n",
    "out = Parallel(n_jobs=7)(delayed(wrapper)(model_constructor=mdc, encoding=enc, n_hidden=nh, p_drop=pd, batchnorm=bn, activation=act, batch_size=bs) for mdc, enc, nh, pd, bn, act, bs in tqdm(cdts, desc='conditions'))\n",
    "out = pd.concat(out)\n",
    "out.to_csv('../output/230516_NNAlign_hp_tune_checks/output.csv')"
   ]
  },
  {
   "cell_type": "code",
   "execution_count": 8,
   "id": "8b272e1f-287f-4d28-926a-29a1d1d19b67",
   "metadata": {},
   "outputs": [
    {
     "data": {
      "text/html": [
       "<div>\n",
       "<style scoped>\n",
       "    .dataframe tbody tr th:only-of-type {\n",
       "        vertical-align: middle;\n",
       "    }\n",
       "\n",
       "    .dataframe tbody tr th {\n",
       "        vertical-align: top;\n",
       "    }\n",
       "\n",
       "    .dataframe thead th {\n",
       "        text-align: right;\n",
       "    }\n",
       "</style>\n",
       "<table border=\"1\" class=\"dataframe\">\n",
       "  <thead>\n",
       "    <tr style=\"text-align: right;\">\n",
       "      <th></th>\n",
       "      <th></th>\n",
       "      <th></th>\n",
       "      <th></th>\n",
       "      <th></th>\n",
       "      <th></th>\n",
       "      <th></th>\n",
       "      <th>best_valid_auc</th>\n",
       "      <th>best_test_auc</th>\n",
       "      <th>best_prime_auc</th>\n",
       "    </tr>\n",
       "    <tr>\n",
       "      <th>std</th>\n",
       "      <th>n_hidden</th>\n",
       "      <th>drop</th>\n",
       "      <th>batchnorm</th>\n",
       "      <th>batchsize</th>\n",
       "      <th>act</th>\n",
       "      <th>encoding</th>\n",
       "      <th></th>\n",
       "      <th></th>\n",
       "      <th></th>\n",
       "    </tr>\n",
       "  </thead>\n",
       "  <tbody>\n",
       "    <tr>\n",
       "      <th rowspan=\"5\" valign=\"top\">False</th>\n",
       "      <th rowspan=\"3\" valign=\"top\">25</th>\n",
       "      <th rowspan=\"3\" valign=\"top\">0.3</th>\n",
       "      <th>False</th>\n",
       "      <th>64</th>\n",
       "      <th>ReLU</th>\n",
       "      <th>BL50LO</th>\n",
       "      <td>0.7329</td>\n",
       "      <td>0.7628</td>\n",
       "      <td>0.6436</td>\n",
       "    </tr>\n",
       "    <tr>\n",
       "      <th rowspan=\"2\" valign=\"top\">True</th>\n",
       "      <th>64</th>\n",
       "      <th>ReLU</th>\n",
       "      <th>BL62LO</th>\n",
       "      <td>0.7351</td>\n",
       "      <td>0.7556</td>\n",
       "      <td>0.6735</td>\n",
       "    </tr>\n",
       "    <tr>\n",
       "      <th>128</th>\n",
       "      <th>ReLU</th>\n",
       "      <th>BL50LO</th>\n",
       "      <td>0.7544</td>\n",
       "      <td>0.7499</td>\n",
       "      <td>0.6426</td>\n",
       "    </tr>\n",
       "    <tr>\n",
       "      <th>50</th>\n",
       "      <th>0.3</th>\n",
       "      <th>True</th>\n",
       "      <th>128</th>\n",
       "      <th>ReLU</th>\n",
       "      <th>BL62LO</th>\n",
       "      <td>0.7077</td>\n",
       "      <td>0.7481</td>\n",
       "      <td>0.6601</td>\n",
       "    </tr>\n",
       "    <tr>\n",
       "      <th>10</th>\n",
       "      <th>0.3</th>\n",
       "      <th>True</th>\n",
       "      <th>64</th>\n",
       "      <th>ReLU</th>\n",
       "      <th>BL50LO</th>\n",
       "      <td>0.7164</td>\n",
       "      <td>0.7443</td>\n",
       "      <td>0.6424</td>\n",
       "    </tr>\n",
       "  </tbody>\n",
       "</table>\n",
       "</div>"
      ],
      "text/plain": [
       "                                                       best_valid_auc  \\\n",
       "std   n_hidden drop batchnorm batchsize act  encoding                   \n",
       "False 25       0.3  False     64        ReLU BL50LO            0.7329   \n",
       "                    True      64        ReLU BL62LO            0.7351   \n",
       "                              128       ReLU BL50LO            0.7544   \n",
       "      50       0.3  True      128       ReLU BL62LO            0.7077   \n",
       "      10       0.3  True      64        ReLU BL50LO            0.7164   \n",
       "\n",
       "                                                       best_test_auc  \\\n",
       "std   n_hidden drop batchnorm batchsize act  encoding                  \n",
       "False 25       0.3  False     64        ReLU BL50LO           0.7628   \n",
       "                    True      64        ReLU BL62LO           0.7556   \n",
       "                              128       ReLU BL50LO           0.7499   \n",
       "      50       0.3  True      128       ReLU BL62LO           0.7481   \n",
       "      10       0.3  True      64        ReLU BL50LO           0.7443   \n",
       "\n",
       "                                                       best_prime_auc  \n",
       "std   n_hidden drop batchnorm batchsize act  encoding                  \n",
       "False 25       0.3  False     64        ReLU BL50LO            0.6436  \n",
       "                    True      64        ReLU BL62LO            0.6735  \n",
       "                              128       ReLU BL50LO            0.6426  \n",
       "      50       0.3  True      128       ReLU BL62LO            0.6601  \n",
       "      10       0.3  True      64        ReLU BL50LO            0.6424  "
      ]
     },
     "execution_count": 8,
     "metadata": {},
     "output_type": "execute_result"
    }
   ],
   "source": [
    "out.groupby([ 'std',\n",
    "'n_hidden',\n",
    "'drop',\n",
    "'batchnorm',\n",
    "'batchsize',\n",
    "'act',\n",
    "'encoding']).agg(best_valid_auc = ('best_valid_auc', 'max'),\n",
    "                 best_test_auc = ('best_test_auc', 'max'),\n",
    "                best_prime_auc= ('best_prime_auc','max')).sort_values('best_test_auc', ascending=False).head(5)"
   ]
  },
  {
   "cell_type": "markdown",
   "id": "ae35a6ea-23a9-4856-be1d-02a811bb93c5",
   "metadata": {},
   "source": [
    "# Running single fwd pass instead of double pass"
   ]
  },
  {
   "cell_type": "code",
   "execution_count": 5,
   "id": "36eff664-9d0c-4bc2-b574-a34af57405e3",
   "metadata": {},
   "outputs": [],
   "source": [
    "from src.models import NNAlign, NNAlignWrapper\n",
    "from src.datasets import NNAlignDataset, get_NNAlign_dataloader\n",
    "from src.train_eval import train_model_step, eval_model_step\n",
    "from torch.utils.data import Dataset, DataLoader\n",
    "from sklearn.model_selection import train_test_split\n",
    "from sklearn.metrics import roc_auc_score\n",
    "from torch import optim\n",
    "import itertools\n",
    "from functools import partial\n",
    "from joblib import Parallel, delayed"
   ]
  },
  {
   "cell_type": "code",
   "execution_count": 59,
   "id": "f41d5f5f-0bcb-4122-8526-7f7b08e49709",
   "metadata": {
    "collapsed": true,
    "jupyter": {
     "outputs_hidden": true
    },
    "tags": []
   },
   "outputs": [
    {
     "name": "stdout",
     "output_type": "stream",
     "text": [
      "Before training\n"
     ]
    },
    {
     "data": {
      "application/vnd.jupyter.widget-view+json": {
       "model_id": "1f2267694f094695861acd5e85fe4e44",
       "version_major": 2,
       "version_minor": 0
      },
      "text/plain": [
       "Training epochs:   0%|          | 0/500 [00:00<?, ?it/s]"
      ]
     },
     "metadata": {},
     "output_type": "display_data"
    },
    {
     "ename": "KeyboardInterrupt",
     "evalue": "",
     "output_type": "error",
     "traceback": [
      "\u001b[0;31m---------------------------------------------------------------------------\u001b[0m",
      "\u001b[0;31mKeyboardInterrupt\u001b[0m                         Traceback (most recent call last)",
      "Input \u001b[0;32mIn [59]\u001b[0m, in \u001b[0;36m<cell line: 28>\u001b[0;34m()\u001b[0m\n\u001b[1;32m     26\u001b[0m test_aucs\u001b[38;5;241m.\u001b[39mappend(metrics[\u001b[38;5;124m'\u001b[39m\u001b[38;5;124mauc\u001b[39m\u001b[38;5;124m'\u001b[39m])\n\u001b[1;32m     28\u001b[0m \u001b[38;5;28;01mfor\u001b[39;00m e \u001b[38;5;129;01min\u001b[39;00m tqdm(\u001b[38;5;28mrange\u001b[39m(\u001b[38;5;241m1\u001b[39m,n_epochs\u001b[38;5;241m+\u001b[39m\u001b[38;5;241m1\u001b[39m), desc\u001b[38;5;241m=\u001b[39m\u001b[38;5;124m'\u001b[39m\u001b[38;5;124mTraining epochs\u001b[39m\u001b[38;5;124m'\u001b[39m, leave\u001b[38;5;241m=\u001b[39m\u001b[38;5;28;01mFalse\u001b[39;00m):\n\u001b[0;32m---> 29\u001b[0m     loss, metrics \u001b[38;5;241m=\u001b[39m \u001b[43mtrain_model_step\u001b[49m\u001b[43m(\u001b[49m\u001b[43mmodel\u001b[49m\u001b[43m,\u001b[49m\u001b[43m \u001b[49m\u001b[43mcriterion\u001b[49m\u001b[43m,\u001b[49m\u001b[43m \u001b[49m\u001b[43moptimizer\u001b[49m\u001b[43m,\u001b[49m\u001b[43m \u001b[49m\u001b[43mtrain_loader\u001b[49m\u001b[43m)\u001b[49m\n\u001b[1;32m     30\u001b[0m     train_losses\u001b[38;5;241m.\u001b[39mappend(loss)\n\u001b[1;32m     31\u001b[0m     train_aucs\u001b[38;5;241m.\u001b[39mappend(metrics[\u001b[38;5;124m'\u001b[39m\u001b[38;5;124mauc\u001b[39m\u001b[38;5;124m'\u001b[39m])\n",
      "File \u001b[0;32m~/Documents/code/PyNNalign/src/train_eval.py:104\u001b[0m, in \u001b[0;36mtrain_model_step\u001b[0;34m(model, criterion, optimizer, train_loader)\u001b[0m\n\u001b[1;32m    102\u001b[0m optimizer\u001b[38;5;241m.\u001b[39mzero_grad()\n\u001b[1;32m    103\u001b[0m loss\u001b[38;5;241m.\u001b[39mbackward()\n\u001b[0;32m--> 104\u001b[0m \u001b[43moptimizer\u001b[49m\u001b[38;5;241;43m.\u001b[39;49m\u001b[43mstep\u001b[49m\u001b[43m(\u001b[49m\u001b[43m)\u001b[49m\n\u001b[1;32m    105\u001b[0m \u001b[38;5;66;03m#\u001b[39;00m\n\u001b[1;32m    106\u001b[0m \u001b[38;5;66;03m# # Here select the best scoring kmers as output, then computes metrics\u001b[39;00m\n\u001b[1;32m    107\u001b[0m \u001b[38;5;66;03m# with torch.no_grad():\u001b[39;00m\n\u001b[0;32m   (...)\u001b[0m\n\u001b[1;32m    112\u001b[0m \u001b[38;5;66;03m#     # Since all labels are the same for sub-kmers, just take an index and flatten it\u001b[39;00m\n\u001b[1;32m    113\u001b[0m \u001b[38;5;66;03m#     y_true.append(y_train[:,0].flatten())\u001b[39;00m\n\u001b[1;32m    115\u001b[0m y_true\u001b[38;5;241m.\u001b[39mappend(y_train)\n",
      "File \u001b[0;32m~/opt/anaconda3/envs/phd/lib/python3.10/site-packages/torch/optim/optimizer.py:113\u001b[0m, in \u001b[0;36mOptimizer._hook_for_profile.<locals>.profile_hook_step.<locals>.wrapper\u001b[0;34m(*args, **kwargs)\u001b[0m\n\u001b[1;32m    111\u001b[0m profile_name \u001b[38;5;241m=\u001b[39m \u001b[38;5;124m\"\u001b[39m\u001b[38;5;124mOptimizer.step#\u001b[39m\u001b[38;5;132;01m{}\u001b[39;00m\u001b[38;5;124m.step\u001b[39m\u001b[38;5;124m\"\u001b[39m\u001b[38;5;241m.\u001b[39mformat(obj\u001b[38;5;241m.\u001b[39m\u001b[38;5;18m__class__\u001b[39m\u001b[38;5;241m.\u001b[39m\u001b[38;5;18m__name__\u001b[39m)\n\u001b[1;32m    112\u001b[0m \u001b[38;5;28;01mwith\u001b[39;00m torch\u001b[38;5;241m.\u001b[39mautograd\u001b[38;5;241m.\u001b[39mprofiler\u001b[38;5;241m.\u001b[39mrecord_function(profile_name):\n\u001b[0;32m--> 113\u001b[0m     \u001b[38;5;28;01mreturn\u001b[39;00m \u001b[43mfunc\u001b[49m\u001b[43m(\u001b[49m\u001b[38;5;241;43m*\u001b[39;49m\u001b[43margs\u001b[49m\u001b[43m,\u001b[49m\u001b[43m \u001b[49m\u001b[38;5;241;43m*\u001b[39;49m\u001b[38;5;241;43m*\u001b[39;49m\u001b[43mkwargs\u001b[49m\u001b[43m)\u001b[49m\n",
      "File \u001b[0;32m~/opt/anaconda3/envs/phd/lib/python3.10/site-packages/torch/autograd/grad_mode.py:27\u001b[0m, in \u001b[0;36m_DecoratorContextManager.__call__.<locals>.decorate_context\u001b[0;34m(*args, **kwargs)\u001b[0m\n\u001b[1;32m     24\u001b[0m \u001b[38;5;129m@functools\u001b[39m\u001b[38;5;241m.\u001b[39mwraps(func)\n\u001b[1;32m     25\u001b[0m \u001b[38;5;28;01mdef\u001b[39;00m \u001b[38;5;21mdecorate_context\u001b[39m(\u001b[38;5;241m*\u001b[39margs, \u001b[38;5;241m*\u001b[39m\u001b[38;5;241m*\u001b[39mkwargs):\n\u001b[1;32m     26\u001b[0m     \u001b[38;5;28;01mwith\u001b[39;00m \u001b[38;5;28mself\u001b[39m\u001b[38;5;241m.\u001b[39mclone():\n\u001b[0;32m---> 27\u001b[0m         \u001b[38;5;28;01mreturn\u001b[39;00m \u001b[43mfunc\u001b[49m\u001b[43m(\u001b[49m\u001b[38;5;241;43m*\u001b[39;49m\u001b[43margs\u001b[49m\u001b[43m,\u001b[49m\u001b[43m \u001b[49m\u001b[38;5;241;43m*\u001b[39;49m\u001b[38;5;241;43m*\u001b[39;49m\u001b[43mkwargs\u001b[49m\u001b[43m)\u001b[49m\n",
      "File \u001b[0;32m~/opt/anaconda3/envs/phd/lib/python3.10/site-packages/torch/optim/adam.py:157\u001b[0m, in \u001b[0;36mAdam.step\u001b[0;34m(self, closure)\u001b[0m\n\u001b[1;32m    153\u001b[0m                 max_exp_avg_sqs\u001b[38;5;241m.\u001b[39mappend(state[\u001b[38;5;124m'\u001b[39m\u001b[38;5;124mmax_exp_avg_sq\u001b[39m\u001b[38;5;124m'\u001b[39m])\n\u001b[1;32m    155\u001b[0m             state_steps\u001b[38;5;241m.\u001b[39mappend(state[\u001b[38;5;124m'\u001b[39m\u001b[38;5;124mstep\u001b[39m\u001b[38;5;124m'\u001b[39m])\n\u001b[0;32m--> 157\u001b[0m     \u001b[43madam\u001b[49m\u001b[43m(\u001b[49m\u001b[43mparams_with_grad\u001b[49m\u001b[43m,\u001b[49m\n\u001b[1;32m    158\u001b[0m \u001b[43m         \u001b[49m\u001b[43mgrads\u001b[49m\u001b[43m,\u001b[49m\n\u001b[1;32m    159\u001b[0m \u001b[43m         \u001b[49m\u001b[43mexp_avgs\u001b[49m\u001b[43m,\u001b[49m\n\u001b[1;32m    160\u001b[0m \u001b[43m         \u001b[49m\u001b[43mexp_avg_sqs\u001b[49m\u001b[43m,\u001b[49m\n\u001b[1;32m    161\u001b[0m \u001b[43m         \u001b[49m\u001b[43mmax_exp_avg_sqs\u001b[49m\u001b[43m,\u001b[49m\n\u001b[1;32m    162\u001b[0m \u001b[43m         \u001b[49m\u001b[43mstate_steps\u001b[49m\u001b[43m,\u001b[49m\n\u001b[1;32m    163\u001b[0m \u001b[43m         \u001b[49m\u001b[43mamsgrad\u001b[49m\u001b[38;5;241;43m=\u001b[39;49m\u001b[43mgroup\u001b[49m\u001b[43m[\u001b[49m\u001b[38;5;124;43m'\u001b[39;49m\u001b[38;5;124;43mamsgrad\u001b[39;49m\u001b[38;5;124;43m'\u001b[39;49m\u001b[43m]\u001b[49m\u001b[43m,\u001b[49m\n\u001b[1;32m    164\u001b[0m \u001b[43m         \u001b[49m\u001b[43mbeta1\u001b[49m\u001b[38;5;241;43m=\u001b[39;49m\u001b[43mbeta1\u001b[49m\u001b[43m,\u001b[49m\n\u001b[1;32m    165\u001b[0m \u001b[43m         \u001b[49m\u001b[43mbeta2\u001b[49m\u001b[38;5;241;43m=\u001b[39;49m\u001b[43mbeta2\u001b[49m\u001b[43m,\u001b[49m\n\u001b[1;32m    166\u001b[0m \u001b[43m         \u001b[49m\u001b[43mlr\u001b[49m\u001b[38;5;241;43m=\u001b[39;49m\u001b[43mgroup\u001b[49m\u001b[43m[\u001b[49m\u001b[38;5;124;43m'\u001b[39;49m\u001b[38;5;124;43mlr\u001b[39;49m\u001b[38;5;124;43m'\u001b[39;49m\u001b[43m]\u001b[49m\u001b[43m,\u001b[49m\n\u001b[1;32m    167\u001b[0m \u001b[43m         \u001b[49m\u001b[43mweight_decay\u001b[49m\u001b[38;5;241;43m=\u001b[39;49m\u001b[43mgroup\u001b[49m\u001b[43m[\u001b[49m\u001b[38;5;124;43m'\u001b[39;49m\u001b[38;5;124;43mweight_decay\u001b[39;49m\u001b[38;5;124;43m'\u001b[39;49m\u001b[43m]\u001b[49m\u001b[43m,\u001b[49m\n\u001b[1;32m    168\u001b[0m \u001b[43m         \u001b[49m\u001b[43meps\u001b[49m\u001b[38;5;241;43m=\u001b[39;49m\u001b[43mgroup\u001b[49m\u001b[43m[\u001b[49m\u001b[38;5;124;43m'\u001b[39;49m\u001b[38;5;124;43meps\u001b[39;49m\u001b[38;5;124;43m'\u001b[39;49m\u001b[43m]\u001b[49m\u001b[43m,\u001b[49m\n\u001b[1;32m    169\u001b[0m \u001b[43m         \u001b[49m\u001b[43mmaximize\u001b[49m\u001b[38;5;241;43m=\u001b[39;49m\u001b[43mgroup\u001b[49m\u001b[43m[\u001b[49m\u001b[38;5;124;43m'\u001b[39;49m\u001b[38;5;124;43mmaximize\u001b[39;49m\u001b[38;5;124;43m'\u001b[39;49m\u001b[43m]\u001b[49m\u001b[43m,\u001b[49m\n\u001b[1;32m    170\u001b[0m \u001b[43m         \u001b[49m\u001b[43mforeach\u001b[49m\u001b[38;5;241;43m=\u001b[39;49m\u001b[43mgroup\u001b[49m\u001b[43m[\u001b[49m\u001b[38;5;124;43m'\u001b[39;49m\u001b[38;5;124;43mforeach\u001b[39;49m\u001b[38;5;124;43m'\u001b[39;49m\u001b[43m]\u001b[49m\u001b[43m,\u001b[49m\n\u001b[1;32m    171\u001b[0m \u001b[43m         \u001b[49m\u001b[43mcapturable\u001b[49m\u001b[38;5;241;43m=\u001b[39;49m\u001b[43mgroup\u001b[49m\u001b[43m[\u001b[49m\u001b[38;5;124;43m'\u001b[39;49m\u001b[38;5;124;43mcapturable\u001b[39;49m\u001b[38;5;124;43m'\u001b[39;49m\u001b[43m]\u001b[49m\u001b[43m)\u001b[49m\n\u001b[1;32m    173\u001b[0m \u001b[38;5;28;01mreturn\u001b[39;00m loss\n",
      "File \u001b[0;32m~/opt/anaconda3/envs/phd/lib/python3.10/site-packages/torch/optim/adam.py:213\u001b[0m, in \u001b[0;36madam\u001b[0;34m(params, grads, exp_avgs, exp_avg_sqs, max_exp_avg_sqs, state_steps, foreach, capturable, amsgrad, beta1, beta2, lr, weight_decay, eps, maximize)\u001b[0m\n\u001b[1;32m    210\u001b[0m \u001b[38;5;28;01melse\u001b[39;00m:\n\u001b[1;32m    211\u001b[0m     func \u001b[38;5;241m=\u001b[39m _single_tensor_adam\n\u001b[0;32m--> 213\u001b[0m \u001b[43mfunc\u001b[49m\u001b[43m(\u001b[49m\u001b[43mparams\u001b[49m\u001b[43m,\u001b[49m\n\u001b[1;32m    214\u001b[0m \u001b[43m     \u001b[49m\u001b[43mgrads\u001b[49m\u001b[43m,\u001b[49m\n\u001b[1;32m    215\u001b[0m \u001b[43m     \u001b[49m\u001b[43mexp_avgs\u001b[49m\u001b[43m,\u001b[49m\n\u001b[1;32m    216\u001b[0m \u001b[43m     \u001b[49m\u001b[43mexp_avg_sqs\u001b[49m\u001b[43m,\u001b[49m\n\u001b[1;32m    217\u001b[0m \u001b[43m     \u001b[49m\u001b[43mmax_exp_avg_sqs\u001b[49m\u001b[43m,\u001b[49m\n\u001b[1;32m    218\u001b[0m \u001b[43m     \u001b[49m\u001b[43mstate_steps\u001b[49m\u001b[43m,\u001b[49m\n\u001b[1;32m    219\u001b[0m \u001b[43m     \u001b[49m\u001b[43mamsgrad\u001b[49m\u001b[38;5;241;43m=\u001b[39;49m\u001b[43mamsgrad\u001b[49m\u001b[43m,\u001b[49m\n\u001b[1;32m    220\u001b[0m \u001b[43m     \u001b[49m\u001b[43mbeta1\u001b[49m\u001b[38;5;241;43m=\u001b[39;49m\u001b[43mbeta1\u001b[49m\u001b[43m,\u001b[49m\n\u001b[1;32m    221\u001b[0m \u001b[43m     \u001b[49m\u001b[43mbeta2\u001b[49m\u001b[38;5;241;43m=\u001b[39;49m\u001b[43mbeta2\u001b[49m\u001b[43m,\u001b[49m\n\u001b[1;32m    222\u001b[0m \u001b[43m     \u001b[49m\u001b[43mlr\u001b[49m\u001b[38;5;241;43m=\u001b[39;49m\u001b[43mlr\u001b[49m\u001b[43m,\u001b[49m\n\u001b[1;32m    223\u001b[0m \u001b[43m     \u001b[49m\u001b[43mweight_decay\u001b[49m\u001b[38;5;241;43m=\u001b[39;49m\u001b[43mweight_decay\u001b[49m\u001b[43m,\u001b[49m\n\u001b[1;32m    224\u001b[0m \u001b[43m     \u001b[49m\u001b[43meps\u001b[49m\u001b[38;5;241;43m=\u001b[39;49m\u001b[43meps\u001b[49m\u001b[43m,\u001b[49m\n\u001b[1;32m    225\u001b[0m \u001b[43m     \u001b[49m\u001b[43mmaximize\u001b[49m\u001b[38;5;241;43m=\u001b[39;49m\u001b[43mmaximize\u001b[49m\u001b[43m,\u001b[49m\n\u001b[1;32m    226\u001b[0m \u001b[43m     \u001b[49m\u001b[43mcapturable\u001b[49m\u001b[38;5;241;43m=\u001b[39;49m\u001b[43mcapturable\u001b[49m\u001b[43m)\u001b[49m\n",
      "File \u001b[0;32m~/opt/anaconda3/envs/phd/lib/python3.10/site-packages/torch/optim/adam.py:307\u001b[0m, in \u001b[0;36m_single_tensor_adam\u001b[0;34m(params, grads, exp_avgs, exp_avg_sqs, max_exp_avg_sqs, state_steps, amsgrad, beta1, beta2, lr, weight_decay, eps, maximize, capturable)\u001b[0m\n\u001b[1;32m    304\u001b[0m \u001b[38;5;28;01melse\u001b[39;00m:\n\u001b[1;32m    305\u001b[0m     denom \u001b[38;5;241m=\u001b[39m (exp_avg_sq\u001b[38;5;241m.\u001b[39msqrt() \u001b[38;5;241m/\u001b[39m bias_correction2_sqrt)\u001b[38;5;241m.\u001b[39madd_(eps)\n\u001b[0;32m--> 307\u001b[0m \u001b[43mparam\u001b[49m\u001b[38;5;241;43m.\u001b[39;49m\u001b[43maddcdiv_\u001b[49m\u001b[43m(\u001b[49m\u001b[43mexp_avg\u001b[49m\u001b[43m,\u001b[49m\u001b[43m \u001b[49m\u001b[43mdenom\u001b[49m\u001b[43m,\u001b[49m\u001b[43m \u001b[49m\u001b[43mvalue\u001b[49m\u001b[38;5;241;43m=\u001b[39;49m\u001b[38;5;241;43m-\u001b[39;49m\u001b[43mstep_size\u001b[49m\u001b[43m)\u001b[49m\n",
      "\u001b[0;31mKeyboardInterrupt\u001b[0m: "
     ]
    }
   ],
   "source": [
    "from src.models import NNAlignSinglePass\n",
    "df_train, df_test = train_test_split(cedar_aligned, test_size=1/5, random_state=13)\n",
    "train_loader, train_dataset = get_NNAlign_dataloader(train, max_len, window_size, encoding, seq_col='Peptide', target_col='agg_label', pad_scale=None, batch_size=batch_size, return_dataset=True)\n",
    "test_loader = get_NNAlign_dataloader(test, max_len, window_size, encoding, seq_col='Peptide', target_col='agg_label', pad_scale=None, batch_size=batch_size, return_dataset=False)   \n",
    "\n",
    "hp = dict(n_hidden=30, window_size=6, p_drop=0, batchnorm=True, activation=nn.ReLU(), batch_size=64, n_epochs=300, lr=1e-4, wd=1e-2)\n",
    "model = NNAlignSinglePass(hp['n_hidden'], hp['window_size'], hp['activation'], hp['batchnorm'], hp['p_drop'])\n",
    "\n",
    "\n",
    "criterion = nn.BCEWithLogitsLoss(reduction='mean')\n",
    "optimizer = optim.Adam(model.parameters(), lr = lr, weight_decay = wd)\n",
    "\n",
    "train_losses = []\n",
    "test_losses = []\n",
    "\n",
    "train_aucs = []\n",
    "test_aucs = []\n",
    "\n",
    "\n",
    "print('Before training')\n",
    "loss, metrics = eval_model_step(model, criterion, train_loader)\n",
    "train_losses.append(loss)\n",
    "train_aucs.append(metrics['auc'])\n",
    "loss, metrics = eval_model_step(model, criterion, test_loader)\n",
    "test_losses.append(loss)\n",
    "test_aucs.append(metrics['auc'])\n",
    "\n",
    "for e in tqdm(range(1,n_epochs+1), desc='Training epochs', leave=False):\n",
    "    loss, metrics = train_model_step(model, criterion, optimizer, train_loader)\n",
    "    train_losses.append(loss)\n",
    "    train_aucs.append(metrics['auc'])\n",
    "    loss, metrics = eval_model_step(model, criterion, test_loader)\n",
    "    test_losses.append(loss)\n",
    "    test_aucs.append(metrics['auc'])"
   ]
  },
  {
   "cell_type": "markdown",
   "id": "ca471b43-6635-4bc5-a939-0f4bea49029f",
   "metadata": {},
   "source": [
    "# Running comparisons with the actual NNAlign model"
   ]
  },
  {
   "cell_type": "code",
   "execution_count": 6,
   "id": "21323ed4-0cd8-44d0-abed-79974091b498",
   "metadata": {
    "tags": []
   },
   "outputs": [],
   "source": [
    "from datetime import datetime as dt\n",
    "def run(df_train, df_test, model_constructor, encoding, n_hidden, window_size, p_drop, batchnorm, activation, \n",
    "        batch_size=64, n_epochs = 500, lr = 1e-4, wd = 1e-2, id_='', outdir='../output/', seed=13, singlepass=False,):\n",
    "    start = dt.now()\n",
    "    torch.manual_seed(seed)\n",
    "    model = model_constructor(n_hidden=n_hidden, window_size=window_size, activation = activation, dropout=p_drop, singlepass=singlepass)\n",
    "    train_loader, train_dataset = get_NNAlign_dataloader(df_train, 12, window_size, encoding, seq_col='Peptide', target_col='agg_label', pad_scale=None, batch_size=batch_size, return_dataset=True)\n",
    "    test_loader = get_NNAlign_dataloader(df_test, 12, window_size, encoding, seq_col='Peptide', target_col='agg_label', pad_scale=None, batch_size=batch_size, return_dataset=False)\n",
    "                         \n",
    "    if hasattr(model, 'standardizer'):\n",
    "        model.fit_standardizer(train_dataset[:][0])\n",
    "        \n",
    "    criterion = nn.BCEWithLogitsLoss(reduction='mean')\n",
    "    optimizer = optim.Adam(model.parameters(), lr = lr, weight_decay = wd)\n",
    "    \n",
    "    train_losses = []\n",
    "    test_losses = []\n",
    "\n",
    "    train_aucs = []\n",
    "    test_aucs = []\n",
    "\n",
    "\n",
    "    print('Before training')\n",
    "    loss, metrics = eval_model_step(model, criterion, train_loader)\n",
    "    train_losses.append(loss)\n",
    "    train_aucs.append(metrics['auc'])\n",
    "    loss, metrics = eval_model_step(model, criterion, test_loader)\n",
    "    test_losses.append(loss)\n",
    "    test_aucs.append(metrics['auc'])\n",
    "    \n",
    "    \n",
    "    for e in tqdm(range(1,n_epochs+1), desc='Training epochs', leave=False):\n",
    "        if e==1:print('Start training')\n",
    "        loss, metrics = train_model_step(model, criterion, optimizer, train_loader)\n",
    "        train_losses.append(loss)\n",
    "        train_aucs.append(metrics['auc'])\n",
    "        loss, metrics = eval_model_step(model, criterion, test_loader)\n",
    "        test_losses.append(loss)\n",
    "        test_aucs.append(metrics['auc'])\n",
    "    end = dt.now()\n",
    "    elapsed = (end-start).seconds\n",
    "    \n",
    "    f,a = plt.subplots(2,1, figsize=(12,10))\n",
    "    a = a.ravel()\n",
    "    a[0].plot(train_losses, label='train_losses')\n",
    "    a[0].plot(test_losses, label='test_losses')\n",
    "    a[0].legend()\n",
    "    a[0].set_title('loss')\n",
    "    a[1].plot(train_aucs, label='train_aucs')\n",
    "    a[1].plot(test_aucs, label='test_aucs')\n",
    "    a[1].legend()\n",
    "    a[1].set_title('AUC')\n",
    "    a[1].set_xlabel('epochs')\n",
    "    f.suptitle(f'IDENTIFIER: {id_}\\nStd:{hasattr(model, \"standardizer\")}, nh:{n_hidden}, drop:{p_drop}, BN:{batchnorm},\\nBS:{batch_size}, act:{activation.__class__.__name__}, enc:{encoding}, lr:{lr:.2e}, wd:{wd:.2e}')\n",
    "    filename=f'ID_{id_}_SEED_{seed}_std_{hasattr(model, \"standardizer\")}_nh_{n_hidden}_drop_{p_drop}_bn_{batchnorm}_bs_{batch_size}_act_{activation.__class__.__name__}_enc_{encoding}_lr1em4_wd_1em2'\n",
    "    f.tight_layout()\n",
    "    f.savefig(f'../output/{outdir}{filename}.png', bbox_inches='tight', dpi=200)\n",
    "    \n",
    "    dd={'best_train_loss': np.min(train_losses),\n",
    "     'best_train_loss_idx': np.argmin(train_losses),\n",
    "     'best_test_loss': np.min(test_losses),\n",
    "     'best_test_loss_idx': np.argmin(test_losses),\n",
    "     'best_train_auc': np.max(train_aucs),\n",
    "     'best_train_auc_idx': np.argmax(train_aucs),\n",
    "     'best_test_auc': np.max(test_aucs),\n",
    "     'best_test_auc_idx': np.argmax(test_aucs),\n",
    "     'std': hasattr(model, 'standardizer'),\n",
    "     'n_hidden':n_hidden,\n",
    "     'drop':p_drop,\n",
    "     'batchnorm':batchnorm,\n",
    "     'batchsize':batch_size,\n",
    "     'act':activation.__class__.__name__,\n",
    "     'encoding':encoding,\n",
    "       'identifier':id_,\n",
    "       'seed':seed,\n",
    "       'elapsed_seconds':elapsed}\n",
    "    return pd.DataFrame(dd, index=[0])\n"
   ]
  },
  {
   "cell_type": "markdown",
   "id": "f51ee241-0cd4-47f9-9aa9-38828b668265",
   "metadata": {
    "tags": []
   },
   "source": [
    "## First, compare double fwd pass to single pass "
   ]
  },
  {
   "cell_type": "code",
   "execution_count": 7,
   "id": "d66116d4-c40b-4eea-a43a-c2d6ee62ba78",
   "metadata": {},
   "outputs": [],
   "source": [
    "def singledouble_wrapper(dataset, hp, seed):\n",
    "    torch.manual_seed(seed)\n",
    "    df_train, df_test = train_test_split(dataset, test_size=1/10, random_state=seed)\n",
    "    # double pass (normal)\n",
    "    hyperparameters['singlepass']=False\n",
    "    result_double = run(df_train, df_test.query('Peptide not in @df_train.Peptide.values'), NNAlignWrapper, 'BL50LO', outdir='../output/230522_singledouble_compare/',id_='normal_doublepass', seed=seed, **hp)\n",
    "    # Single pass (new)\n",
    "    hyperparameters['singlepass']=True\n",
    "    result_single = run(df_train, df_test.query('Peptide not in @df_train.Peptide.values'), NNAlignWrapper, 'BL50LO', outdir='../output/230522_singledouble_compare/',id_='test_singlepass', seed=seed, **hp)\n",
    "    return pd.concat([result_double, result_single])"
   ]
  },
  {
   "cell_type": "code",
   "execution_count": 17,
   "id": "76746302-db80-41c4-b13e-468868f32c4e",
   "metadata": {
    "collapsed": true,
    "jupyter": {
     "outputs_hidden": true
    },
    "tags": []
   },
   "outputs": [
    {
     "data": {
      "application/vnd.jupyter.widget-view+json": {
       "model_id": "df1f0d88542943c3b8188be27095f098",
       "version_major": 2,
       "version_minor": 0
      },
      "text/plain": [
       "seed:   0%|          | 0/100 [00:00<?, ?it/s]"
      ]
     },
     "metadata": {},
     "output_type": "display_data"
    },
    {
     "name": "stdout",
     "output_type": "stream",
     "text": [
      "Start training\n",
      "Before training\n",
      "Start training\n",
      "Before training\n",
      "Start training\n",
      "Before training\n",
      "Start training\n",
      "Before training\n",
      "Start training\n",
      "Before training\n"
     ]
    },
    {
     "name": "stderr",
     "output_type": "stream",
     "text": [
      "Training epochs:   0%|          | 0/500 [00:00<?, ?it/s].74it/s]"
     ]
    },
    {
     "name": "stdout",
     "output_type": "stream",
     "text": [
      "Start training\n",
      "Before training\n",
      "Start training\n",
      "Before training\n"
     ]
    },
    {
     "name": "stderr",
     "output_type": "stream",
     "text": [
      "Training epochs:  90%|█████████ | 452/500 [01:03<00:06,  7.26it/s]"
     ]
    },
    {
     "name": "stdout",
     "output_type": "stream",
     "text": [
      "Start training\n",
      "Before training\n"
     ]
    },
    {
     "name": "stderr",
     "output_type": "stream",
     "text": [
      "Training epochs:   0%|          | 1/500 [00:00<00:55,  8.93it/s]s]"
     ]
    },
    {
     "name": "stdout",
     "output_type": "stream",
     "text": [
      "Start training\n",
      "Before training\n",
      "Start training\n",
      "Before training\n"
     ]
    },
    {
     "name": "stderr",
     "output_type": "stream",
     "text": [
      "Training epochs:  91%|█████████ | 453/500 [01:04<00:06,  7.26it/s]"
     ]
    },
    {
     "name": "stdout",
     "output_type": "stream",
     "text": [
      "Start training\n",
      "Before training\n"
     ]
    },
    {
     "name": "stderr",
     "output_type": "stream",
     "text": [
      "Training epochs:  12%|█▏        | 59/500 [00:07<00:52,  8.33it/s] "
     ]
    },
    {
     "name": "stdout",
     "output_type": "stream",
     "text": [
      "Start training\n",
      "Before training\n"
     ]
    },
    {
     "name": "stderr",
     "output_type": "stream",
     "text": [
      "Training epochs:  13%|█▎        | 65/500 [00:07<00:52,  8.26it/s]"
     ]
    },
    {
     "name": "stdout",
     "output_type": "stream",
     "text": [
      "Start training\n",
      "Before training\n",
      "Start training\n",
      "Before training\n"
     ]
    },
    {
     "name": "stderr",
     "output_type": "stream",
     "text": [
      "Training epochs:  77%|███████▋  | 386/500 [00:52<00:15,  7.35it/s]"
     ]
    },
    {
     "name": "stdout",
     "output_type": "stream",
     "text": [
      "Start training\n",
      "Before training\n"
     ]
    },
    {
     "name": "stderr",
     "output_type": "stream",
     "text": [
      "Training epochs:   0%|          | 1/500 [00:00<01:09,  7.18it/s]s]"
     ]
    },
    {
     "name": "stdout",
     "output_type": "stream",
     "text": [
      "Start training\n",
      "Before training\n",
      "Start training\n",
      "Before training\n"
     ]
    },
    {
     "name": "stderr",
     "output_type": "stream",
     "text": [
      "Training epochs:   2%|▏         | 10/500 [00:01<01:06,  7.34it/s]]"
     ]
    },
    {
     "name": "stdout",
     "output_type": "stream",
     "text": [
      "Start training\n",
      "Before training\n"
     ]
    },
    {
     "name": "stderr",
     "output_type": "stream",
     "text": [
      "Training epochs:  24%|██▍       | 120/500 [00:15<00:45,  8.36it/s]"
     ]
    },
    {
     "name": "stdout",
     "output_type": "stream",
     "text": [
      "Start training\n",
      "Before training\n"
     ]
    },
    {
     "name": "stderr",
     "output_type": "stream",
     "text": [
      "Training epochs:  27%|██▋       | 133/500 [00:16<00:46,  7.87it/s]"
     ]
    },
    {
     "name": "stdout",
     "output_type": "stream",
     "text": [
      "Start training\n",
      "Before training\n"
     ]
    },
    {
     "name": "stderr",
     "output_type": "stream",
     "text": [
      "Training epochs:  26%|██▌       | 128/500 [00:16<00:47,  7.82it/s]"
     ]
    },
    {
     "name": "stdout",
     "output_type": "stream",
     "text": [
      "Start training\n",
      "Before training\n"
     ]
    },
    {
     "name": "stderr",
     "output_type": "stream",
     "text": [
      "Training epochs:   0%|          | 0/500 [00:00<?, ?it/s] 7.96it/s]"
     ]
    },
    {
     "name": "stdout",
     "output_type": "stream",
     "text": [
      "Start training\n",
      "Before training\n"
     ]
    },
    {
     "name": "stderr",
     "output_type": "stream",
     "text": [
      "Training epochs:  69%|██████▊   | 343/500 [00:48<00:21,  7.14it/s]"
     ]
    },
    {
     "name": "stdout",
     "output_type": "stream",
     "text": [
      "Start training\n",
      "Before training\n"
     ]
    },
    {
     "name": "stderr",
     "output_type": "stream",
     "text": [
      "Training epochs:   0%|          | 1/500 [00:00<00:55,  9.02it/s]s]"
     ]
    },
    {
     "name": "stdout",
     "output_type": "stream",
     "text": [
      "Start training\n",
      "Before training\n"
     ]
    },
    {
     "name": "stderr",
     "output_type": "stream",
     "text": [
      "Training epochs:   1%|▏         | 7/500 [00:00<00:59,  8.34it/s]]]"
     ]
    },
    {
     "name": "stdout",
     "output_type": "stream",
     "text": [
      "Start training\n",
      "Before training\n"
     ]
    },
    {
     "name": "stderr",
     "output_type": "stream",
     "text": [
      "Training epochs: 100%|█████████▉| 498/500 [01:10<00:00,  6.51it/s]"
     ]
    },
    {
     "name": "stdout",
     "output_type": "stream",
     "text": [
      "Start training\n",
      "Before training\n"
     ]
    },
    {
     "name": "stderr",
     "output_type": "stream",
     "text": [
      "Training epochs:  38%|███▊      | 188/500 [00:22<00:39,  7.88it/s]"
     ]
    },
    {
     "name": "stdout",
     "output_type": "stream",
     "text": [
      "Start training\n",
      "Before training\n"
     ]
    },
    {
     "name": "stderr",
     "output_type": "stream",
     "text": [
      "Training epochs:   1%|          | 3/500 [00:00<01:10,  7.03it/s]s]"
     ]
    },
    {
     "name": "stdout",
     "output_type": "stream",
     "text": [
      "Start training\n",
      "Before training\n"
     ]
    },
    {
     "name": "stderr",
     "output_type": "stream",
     "text": [
      "Training epochs:  98%|█████████▊| 492/500 [00:59<00:00,  8.11it/s]"
     ]
    },
    {
     "name": "stdout",
     "output_type": "stream",
     "text": [
      "Start training\n",
      "Before training\n"
     ]
    },
    {
     "name": "stderr",
     "output_type": "stream",
     "text": [
      "Training epochs:   0%|          | 1/500 [00:00<00:57,  8.64it/s]s]"
     ]
    },
    {
     "name": "stdout",
     "output_type": "stream",
     "text": [
      "Start training\n",
      "Before training\n"
     ]
    },
    {
     "name": "stderr",
     "output_type": "stream",
     "text": [
      "Training epochs:  54%|█████▍    | 272/500 [00:37<00:31,  7.18it/s]"
     ]
    },
    {
     "name": "stdout",
     "output_type": "stream",
     "text": [
      "Start training\n",
      "Before training\n"
     ]
    },
    {
     "name": "stderr",
     "output_type": "stream",
     "text": [
      "Training epochs:  57%|█████▋    | 285/500 [00:38<00:29,  7.37it/s]"
     ]
    },
    {
     "name": "stdout",
     "output_type": "stream",
     "text": [
      "Start training\n",
      "Before training\n"
     ]
    },
    {
     "name": "stderr",
     "output_type": "stream",
     "text": [
      "Training epochs:   0%|          | 1/500 [00:00<01:09,  7.17it/s]s]"
     ]
    },
    {
     "name": "stdout",
     "output_type": "stream",
     "text": [
      "Start training\n",
      "Before training\n"
     ]
    },
    {
     "name": "stderr",
     "output_type": "stream",
     "text": [
      "Training epochs:  49%|████▉     | 244/500 [00:30<00:35,  7.20it/s]"
     ]
    },
    {
     "name": "stdout",
     "output_type": "stream",
     "text": [
      "Start training\n",
      "Before training\n"
     ]
    },
    {
     "name": "stderr",
     "output_type": "stream",
     "text": [
      "Training epochs:   4%|▍         | 20/500 [00:02<01:05,  7.33it/s]]"
     ]
    },
    {
     "name": "stdout",
     "output_type": "stream",
     "text": [
      "Start training\n",
      "Before training\n"
     ]
    },
    {
     "name": "stderr",
     "output_type": "stream",
     "text": [
      "Training epochs:  99%|█████████▉| 495/500 [01:02<00:00,  8.10it/s]"
     ]
    },
    {
     "name": "stdout",
     "output_type": "stream",
     "text": [
      "Start training\n",
      "Before training\n"
     ]
    },
    {
     "name": "stderr",
     "output_type": "stream",
     "text": [
      "Training epochs:  43%|████▎     | 217/500 [00:30<00:39,  7.22it/s]"
     ]
    },
    {
     "name": "stdout",
     "output_type": "stream",
     "text": [
      "Start training\n",
      "Before training\n"
     ]
    },
    {
     "name": "stderr",
     "output_type": "stream",
     "text": [
      "Training epochs:  49%|████▊     | 243/500 [00:34<00:35,  7.18it/s]"
     ]
    },
    {
     "name": "stdout",
     "output_type": "stream",
     "text": [
      "Start training\n",
      "Before training\n"
     ]
    },
    {
     "name": "stderr",
     "output_type": "stream",
     "text": [
      "Training epochs:  45%|████▍     | 223/500 [00:31<00:40,  6.85it/s]"
     ]
    },
    {
     "name": "stdout",
     "output_type": "stream",
     "text": [
      "Start training\n",
      "Before training\n"
     ]
    },
    {
     "name": "stderr",
     "output_type": "stream",
     "text": [
      "Training epochs:  60%|██████    | 301/500 [00:36<00:24,  8.12it/s]"
     ]
    },
    {
     "name": "stdout",
     "output_type": "stream",
     "text": [
      "Start training\n",
      "Before training\n"
     ]
    },
    {
     "name": "stderr",
     "output_type": "stream",
     "text": [
      "Training epochs:  63%|██████▎   | 315/500 [00:37<00:21,  8.43it/s]"
     ]
    },
    {
     "name": "stdout",
     "output_type": "stream",
     "text": [
      "Start training\n",
      "Before training\n"
     ]
    },
    {
     "name": "stderr",
     "output_type": "stream",
     "text": [
      "Training epochs:   3%|▎         | 16/500 [00:02<01:05,  7.33it/s]]"
     ]
    },
    {
     "name": "stdout",
     "output_type": "stream",
     "text": [
      "Start training\n",
      "Before training\n"
     ]
    },
    {
     "name": "stderr",
     "output_type": "stream",
     "text": [
      "Training epochs:   0%|          | 1/500 [00:00<01:02,  7.98it/s]s]"
     ]
    },
    {
     "name": "stdout",
     "output_type": "stream",
     "text": [
      "Start training\n",
      "Before training\n"
     ]
    },
    {
     "name": "stderr",
     "output_type": "stream",
     "text": [
      "Training epochs:  34%|███▍      | 169/500 [00:22<00:45,  7.27it/s]"
     ]
    },
    {
     "name": "stdout",
     "output_type": "stream",
     "text": [
      "Start training\n",
      "Before training\n"
     ]
    },
    {
     "name": "stderr",
     "output_type": "stream",
     "text": [
      "Training epochs:   3%|▎         | 17/500 [00:02<01:00,  8.01it/s]]"
     ]
    },
    {
     "name": "stdout",
     "output_type": "stream",
     "text": [
      "Start training\n",
      "Before training\n"
     ]
    },
    {
     "name": "stderr",
     "output_type": "stream",
     "text": [
      "Training epochs:   1%|          | 4/500 [00:00<01:01,  8.08it/s]]]"
     ]
    },
    {
     "name": "stdout",
     "output_type": "stream",
     "text": [
      "Start training\n",
      "Before training\n"
     ]
    },
    {
     "name": "stderr",
     "output_type": "stream",
     "text": [
      "Training epochs:  72%|███████▏  | 359/500 [00:44<00:19,  7.17it/s]"
     ]
    },
    {
     "name": "stdout",
     "output_type": "stream",
     "text": [
      "Start training\n",
      "Before training\n"
     ]
    },
    {
     "name": "stderr",
     "output_type": "stream",
     "text": [
      "Training epochs:  77%|███████▋  | 386/500 [00:48<00:14,  8.11it/s]"
     ]
    },
    {
     "name": "stdout",
     "output_type": "stream",
     "text": [
      "Start training\n",
      "Before training\n"
     ]
    },
    {
     "name": "stderr",
     "output_type": "stream",
     "text": [
      "Training epochs:   3%|▎         | 14/500 [00:01<01:08,  7.07it/s]]"
     ]
    },
    {
     "name": "stdout",
     "output_type": "stream",
     "text": [
      "Start training\n",
      "Before training\n"
     ]
    },
    {
     "name": "stderr",
     "output_type": "stream",
     "text": [
      "Training epochs:  18%|█▊        | 92/500 [00:13<00:58,  7.01it/s]]"
     ]
    },
    {
     "name": "stdout",
     "output_type": "stream",
     "text": [
      "Start training\n",
      "Before training\n"
     ]
    },
    {
     "name": "stderr",
     "output_type": "stream",
     "text": [
      "Training epochs:  22%|██▏       | 109/500 [00:15<00:56,  6.95it/s]"
     ]
    },
    {
     "name": "stdout",
     "output_type": "stream",
     "text": [
      "Start training\n",
      "Before training\n"
     ]
    },
    {
     "name": "stderr",
     "output_type": "stream",
     "text": [
      "Training epochs:  99%|█████████▉| 497/500 [01:03<00:00,  7.28it/s]"
     ]
    },
    {
     "name": "stdout",
     "output_type": "stream",
     "text": [
      "Start training\n",
      "Before training\n"
     ]
    },
    {
     "name": "stderr",
     "output_type": "stream",
     "text": [
      "Training epochs:   2%|▏         | 11/500 [00:01<01:02,  7.79it/s]]"
     ]
    },
    {
     "name": "stdout",
     "output_type": "stream",
     "text": [
      "Start training\n",
      "Before training\n"
     ]
    },
    {
     "name": "stderr",
     "output_type": "stream",
     "text": [
      "Training epochs:  92%|█████████▏| 460/500 [00:55<00:05,  7.89it/s]"
     ]
    },
    {
     "name": "stdout",
     "output_type": "stream",
     "text": [
      "Start training\n",
      "Before training\n"
     ]
    },
    {
     "name": "stderr",
     "output_type": "stream",
     "text": [
      "Training epochs:   2%|▏         | 8/500 [00:01<01:09,  7.04it/s]s]"
     ]
    },
    {
     "name": "stdout",
     "output_type": "stream",
     "text": [
      "Start training\n",
      "Before training\n"
     ]
    },
    {
     "name": "stderr",
     "output_type": "stream",
     "text": [
      "Training epochs:  92%|█████████▏| 460/500 [00:56<00:04,  8.17it/s]"
     ]
    },
    {
     "name": "stdout",
     "output_type": "stream",
     "text": [
      "Start training\n",
      "Before training\n"
     ]
    },
    {
     "name": "stderr",
     "output_type": "stream",
     "text": [
      "Training epochs:   8%|▊         | 40/500 [00:05<01:04,  7.17it/s]]"
     ]
    },
    {
     "name": "stdout",
     "output_type": "stream",
     "text": [
      "Start training\n",
      "Before training\n"
     ]
    },
    {
     "name": "stderr",
     "output_type": "stream",
     "text": [
      "Training epochs:  98%|█████████▊| 492/500 [01:00<00:00,  8.28it/s]"
     ]
    },
    {
     "name": "stdout",
     "output_type": "stream",
     "text": [
      "Start training\n",
      "Before training\n"
     ]
    },
    {
     "name": "stderr",
     "output_type": "stream",
     "text": [
      "Training epochs:   5%|▍         | 24/500 [00:03<00:59,  8.04it/s]]"
     ]
    },
    {
     "name": "stdout",
     "output_type": "stream",
     "text": [
      "Start training\n",
      "Before training\n"
     ]
    },
    {
     "name": "stderr",
     "output_type": "stream",
     "text": [
      "Training epochs:   0%|          | 1/500 [00:00<00:56,  8.87it/s]] "
     ]
    },
    {
     "name": "stdout",
     "output_type": "stream",
     "text": [
      "Start training\n",
      "Before training\n"
     ]
    },
    {
     "name": "stderr",
     "output_type": "stream",
     "text": [
      "Training epochs:  93%|█████████▎| 467/500 [00:58<00:04,  7.65it/s]"
     ]
    },
    {
     "name": "stdout",
     "output_type": "stream",
     "text": [
      "Start training\n",
      "Before training\n"
     ]
    },
    {
     "name": "stderr",
     "output_type": "stream",
     "text": [
      "Training epochs:   2%|▏         | 9/500 [00:01<01:01,  8.05it/s]s]"
     ]
    },
    {
     "name": "stdout",
     "output_type": "stream",
     "text": [
      "Start training\n",
      "Before training\n",
      "Start training\n",
      "Before training\n"
     ]
    },
    {
     "name": "stderr",
     "output_type": "stream",
     "text": [
      "Training epochs:   2%|▏         | 8/500 [00:00<00:58,  8.36it/s]]]"
     ]
    },
    {
     "name": "stdout",
     "output_type": "stream",
     "text": [
      "Start training\n",
      "Before training\n"
     ]
    },
    {
     "name": "stderr",
     "output_type": "stream",
     "text": [
      "Training epochs:   0%|          | 0/500 [00:00<?, ?it/s]7.23it/s]]"
     ]
    },
    {
     "name": "stdout",
     "output_type": "stream",
     "text": [
      "Start training\n",
      "Before training\n"
     ]
    },
    {
     "name": "stderr",
     "output_type": "stream",
     "text": [
      "Training epochs:   0%|          | 1/500 [00:00<01:10,  7.08it/s]] "
     ]
    },
    {
     "name": "stdout",
     "output_type": "stream",
     "text": [
      "Start training\n",
      "Before training\n",
      "Start training\n",
      "Before training\n"
     ]
    },
    {
     "name": "stderr",
     "output_type": "stream",
     "text": [
      "Training epochs:  84%|████████▍ | 422/500 [00:59<00:11,  6.80it/s]"
     ]
    },
    {
     "name": "stdout",
     "output_type": "stream",
     "text": [
      "Start training\n",
      "Before training\n"
     ]
    },
    {
     "name": "stderr",
     "output_type": "stream",
     "text": [
      "Training epochs:  98%|█████████▊| 489/500 [00:59<00:01,  8.33it/s]"
     ]
    },
    {
     "name": "stdout",
     "output_type": "stream",
     "text": [
      "Start training\n",
      "Before training\n"
     ]
    },
    {
     "name": "stderr",
     "output_type": "stream",
     "text": [
      "Training epochs:   0%|          | 1/500 [00:00<01:06,  7.46it/s]]]"
     ]
    },
    {
     "name": "stdout",
     "output_type": "stream",
     "text": [
      "Start training\n",
      "Before training\n"
     ]
    },
    {
     "name": "stderr",
     "output_type": "stream",
     "text": [
      "Training epochs:   7%|▋         | 35/500 [00:04<00:57,  8.08it/s]]"
     ]
    },
    {
     "name": "stdout",
     "output_type": "stream",
     "text": [
      "Start training\n",
      "Before training\n"
     ]
    },
    {
     "name": "stderr",
     "output_type": "stream",
     "text": [
      "Training epochs:   9%|▉         | 44/500 [00:05<01:04,  7.02it/s]]"
     ]
    },
    {
     "name": "stdout",
     "output_type": "stream",
     "text": [
      "Start training\n",
      "Before training\n"
     ]
    },
    {
     "name": "stderr",
     "output_type": "stream",
     "text": [
      "Training epochs:  19%|█▉        | 97/500 [00:12<00:50,  8.05it/s]]"
     ]
    },
    {
     "name": "stdout",
     "output_type": "stream",
     "text": [
      "Start training\n",
      "Before training\n"
     ]
    },
    {
     "name": "stderr",
     "output_type": "stream",
     "text": [
      "Training epochs:  20%|██        | 101/500 [00:13<00:52,  7.53it/s]"
     ]
    },
    {
     "name": "stdout",
     "output_type": "stream",
     "text": [
      "Start training\n",
      "Before training\n"
     ]
    },
    {
     "name": "stderr",
     "output_type": "stream",
     "text": [
      "Training epochs:  74%|███████▍  | 370/500 [00:51<00:18,  7.18it/s]"
     ]
    },
    {
     "name": "stdout",
     "output_type": "stream",
     "text": [
      "Start training\n",
      "Before training\n"
     ]
    },
    {
     "name": "stderr",
     "output_type": "stream",
     "text": [
      "Training epochs:   3%|▎         | 17/500 [00:02<00:56,  8.59it/s]]"
     ]
    },
    {
     "name": "stdout",
     "output_type": "stream",
     "text": [
      "Start training\n",
      "Before training\n"
     ]
    },
    {
     "name": "stderr",
     "output_type": "stream",
     "text": [
      "Training epochs:   8%|▊         | 38/500 [00:04<00:56,  8.19it/s]]"
     ]
    },
    {
     "name": "stdout",
     "output_type": "stream",
     "text": [
      "Start training\n",
      "Before training\n"
     ]
    },
    {
     "name": "stderr",
     "output_type": "stream",
     "text": [
      "Training epochs:   0%|          | 1/500 [00:00<00:53,  9.26it/s]s]"
     ]
    },
    {
     "name": "stdout",
     "output_type": "stream",
     "text": [
      "Start training\n",
      "Before training\n"
     ]
    },
    {
     "name": "stderr",
     "output_type": "stream",
     "text": [
      "Training epochs:  99%|█████████▉| 496/500 [01:09<00:00,  7.52it/s]"
     ]
    },
    {
     "name": "stdout",
     "output_type": "stream",
     "text": [
      "Start training\n",
      "Before training\n"
     ]
    },
    {
     "name": "stderr",
     "output_type": "stream",
     "text": [
      "Training epochs:  23%|██▎       | 117/500 [00:14<00:50,  7.61it/s]"
     ]
    },
    {
     "name": "stdout",
     "output_type": "stream",
     "text": [
      "Start training\n",
      "Before training\n"
     ]
    },
    {
     "name": "stderr",
     "output_type": "stream",
     "text": [
      "Training epochs:   7%|▋         | 35/500 [00:04<01:10,  6.63it/s]]"
     ]
    },
    {
     "name": "stdout",
     "output_type": "stream",
     "text": [
      "Start training\n",
      "Before training\n"
     ]
    },
    {
     "name": "stderr",
     "output_type": "stream",
     "text": [
      "Training epochs:   0%|          | 0/500 [00:00<?, ?it/s] 7.10it/s]"
     ]
    },
    {
     "name": "stdout",
     "output_type": "stream",
     "text": [
      "Start training\n",
      "Before training\n"
     ]
    },
    {
     "name": "stderr",
     "output_type": "stream",
     "text": [
      "Training epochs:  97%|█████████▋| 484/500 [00:59<00:01,  8.06it/s]"
     ]
    },
    {
     "name": "stdout",
     "output_type": "stream",
     "text": [
      "Start training\n",
      "Before training\n"
     ]
    },
    {
     "name": "stderr",
     "output_type": "stream",
     "text": [
      "Training epochs:   0%|          | 1/500 [00:00<00:59,  8.37it/s]s]"
     ]
    },
    {
     "name": "stdout",
     "output_type": "stream",
     "text": [
      "Start training\n",
      "Before training\n"
     ]
    },
    {
     "name": "stderr",
     "output_type": "stream",
     "text": [
      "Training epochs:  13%|█▎        | 65/500 [00:08<00:53,  8.06it/s]]"
     ]
    },
    {
     "name": "stdout",
     "output_type": "stream",
     "text": [
      "Start training\n",
      "Before training\n"
     ]
    },
    {
     "name": "stderr",
     "output_type": "stream",
     "text": [
      "Training epochs:  40%|████      | 200/500 [00:25<00:37,  7.90it/s]"
     ]
    },
    {
     "name": "stdout",
     "output_type": "stream",
     "text": [
      "Start training\n",
      "Before training\n"
     ]
    },
    {
     "name": "stderr",
     "output_type": "stream",
     "text": [
      "Training epochs:  35%|███▍      | 174/500 [00:22<00:44,  7.38it/s]"
     ]
    },
    {
     "name": "stdout",
     "output_type": "stream",
     "text": [
      "Start training\n",
      "Before training\n"
     ]
    },
    {
     "name": "stderr",
     "output_type": "stream",
     "text": [
      "Training epochs:  56%|█████▌    | 279/500 [00:34<00:28,  7.75it/s]"
     ]
    },
    {
     "name": "stdout",
     "output_type": "stream",
     "text": [
      "Start training\n",
      "Before training\n"
     ]
    },
    {
     "name": "stderr",
     "output_type": "stream",
     "text": [
      "Training epochs:  87%|████████▋ | 435/500 [00:55<00:08,  7.74it/s]"
     ]
    },
    {
     "name": "stdout",
     "output_type": "stream",
     "text": [
      "Start training\n",
      "Before training\n"
     ]
    },
    {
     "name": "stderr",
     "output_type": "stream",
     "text": [
      "Training epochs:  93%|█████████▎| 466/500 [00:58<00:04,  8.02it/s]"
     ]
    },
    {
     "name": "stdout",
     "output_type": "stream",
     "text": [
      "Start training\n",
      "Before training\n"
     ]
    },
    {
     "name": "stderr",
     "output_type": "stream",
     "text": [
      "Training epochs:  98%|█████████▊| 489/500 [01:01<00:01,  7.99it/s]"
     ]
    },
    {
     "name": "stdout",
     "output_type": "stream",
     "text": [
      "Start training\n",
      "Before training\n"
     ]
    },
    {
     "name": "stderr",
     "output_type": "stream",
     "text": [
      "Training epochs:  63%|██████▎   | 316/500 [00:43<00:27,  6.78it/s]"
     ]
    },
    {
     "name": "stdout",
     "output_type": "stream",
     "text": [
      "Start training\n",
      "Before training\n"
     ]
    },
    {
     "name": "stderr",
     "output_type": "stream",
     "text": [
      "Training epochs:  99%|█████████▉| 494/500 [01:08<00:00,  7.58it/s]"
     ]
    },
    {
     "name": "stdout",
     "output_type": "stream",
     "text": [
      "Start training\n",
      "Before training\n"
     ]
    },
    {
     "name": "stderr",
     "output_type": "stream",
     "text": [
      "Training epochs:   2%|▏         | 11/500 [00:01<01:08,  7.10it/s]]"
     ]
    },
    {
     "name": "stdout",
     "output_type": "stream",
     "text": [
      "Start training\n",
      "Before training\n"
     ]
    },
    {
     "name": "stderr",
     "output_type": "stream",
     "text": [
      "Training epochs:  58%|█████▊    | 289/500 [00:35<00:25,  8.19it/s]"
     ]
    },
    {
     "name": "stdout",
     "output_type": "stream",
     "text": [
      "Start training\n",
      "Before training\n"
     ]
    },
    {
     "name": "stderr",
     "output_type": "stream",
     "text": [
      "Training epochs:  33%|███▎      | 163/500 [00:23<00:49,  6.78it/s]"
     ]
    },
    {
     "name": "stdout",
     "output_type": "stream",
     "text": [
      "Start training\n",
      "Before training\n"
     ]
    },
    {
     "name": "stderr",
     "output_type": "stream",
     "text": [
      "Training epochs:  41%|████▏     | 207/500 [00:29<00:41,  7.00it/s]"
     ]
    },
    {
     "name": "stdout",
     "output_type": "stream",
     "text": [
      "Start training\n",
      "Before training\n"
     ]
    },
    {
     "name": "stderr",
     "output_type": "stream",
     "text": [
      "Training epochs:  44%|████▍     | 220/500 [00:31<00:41,  6.80it/s]"
     ]
    },
    {
     "name": "stdout",
     "output_type": "stream",
     "text": [
      "Start training\n",
      "Before training\n"
     ]
    },
    {
     "name": "stderr",
     "output_type": "stream",
     "text": [
      "Training epochs:  16%|█▋        | 82/500 [00:10<00:51,  8.07it/s]]"
     ]
    },
    {
     "name": "stdout",
     "output_type": "stream",
     "text": [
      "Start training\n",
      "Before training\n"
     ]
    },
    {
     "name": "stderr",
     "output_type": "stream",
     "text": [
      "Training epochs:  57%|█████▋    | 287/500 [00:37<00:27,  7.86it/s]"
     ]
    },
    {
     "name": "stdout",
     "output_type": "stream",
     "text": [
      "Start training\n",
      "Before training\n"
     ]
    },
    {
     "name": "stderr",
     "output_type": "stream",
     "text": [
      "Training epochs:  71%|███████   | 353/500 [00:44<00:19,  7.67it/s]"
     ]
    },
    {
     "name": "stdout",
     "output_type": "stream",
     "text": [
      "Start training\n",
      "Before training\n"
     ]
    },
    {
     "name": "stderr",
     "output_type": "stream",
     "text": [
      "Training epochs:  85%|████████▍ | 424/500 [00:54<00:09,  7.80it/s]"
     ]
    },
    {
     "name": "stdout",
     "output_type": "stream",
     "text": [
      "Start training\n",
      "Before training\n"
     ]
    },
    {
     "name": "stderr",
     "output_type": "stream",
     "text": [
      "Training epochs:   0%|          | 1/500 [00:00<01:00,  8.23it/s]]]"
     ]
    },
    {
     "name": "stdout",
     "output_type": "stream",
     "text": [
      "Start training\n",
      "Before training\n"
     ]
    },
    {
     "name": "stderr",
     "output_type": "stream",
     "text": [
      "Training epochs:  21%|██        | 105/500 [00:15<00:54,  7.19it/s]"
     ]
    },
    {
     "name": "stdout",
     "output_type": "stream",
     "text": [
      "Start training\n",
      "Before training\n"
     ]
    },
    {
     "name": "stderr",
     "output_type": "stream",
     "text": [
      "Training epochs:   0%|          | 0/500 [00:00<?, ?it/s]8.05it/s]]"
     ]
    },
    {
     "name": "stdout",
     "output_type": "stream",
     "text": [
      "Start training\n",
      "Before training\n"
     ]
    },
    {
     "name": "stderr",
     "output_type": "stream",
     "text": [
      "Training epochs:  30%|██▉       | 149/500 [00:21<00:51,  6.87it/s]"
     ]
    },
    {
     "name": "stdout",
     "output_type": "stream",
     "text": [
      "Start training\n",
      "Before training\n"
     ]
    },
    {
     "name": "stderr",
     "output_type": "stream",
     "text": [
      "Training epochs:  90%|█████████ | 451/500 [01:03<00:07,  6.71it/s]"
     ]
    },
    {
     "name": "stdout",
     "output_type": "stream",
     "text": [
      "Start training\n",
      "Before training\n"
     ]
    },
    {
     "name": "stderr",
     "output_type": "stream",
     "text": [
      "Training epochs:  93%|█████████▎| 467/500 [01:06<00:04,  7.14it/s]"
     ]
    },
    {
     "name": "stdout",
     "output_type": "stream",
     "text": [
      "Start training\n",
      "Before training\n"
     ]
    },
    {
     "name": "stderr",
     "output_type": "stream",
     "text": [
      "Training epochs: 100%|█████████▉| 498/500 [01:01<00:00,  7.84it/s]"
     ]
    },
    {
     "name": "stdout",
     "output_type": "stream",
     "text": [
      "Start training\n",
      "Before training\n"
     ]
    },
    {
     "name": "stderr",
     "output_type": "stream",
     "text": [
      "Training epochs:   0%|          | 0/500 [00:00<?, ?it/s] 7.73it/s]"
     ]
    },
    {
     "name": "stdout",
     "output_type": "stream",
     "text": [
      "Start training\n",
      "Before training\n"
     ]
    },
    {
     "name": "stderr",
     "output_type": "stream",
     "text": [
      "Training epochs:   7%|▋         | 37/500 [00:05<01:07,  6.91it/s]]"
     ]
    },
    {
     "name": "stdout",
     "output_type": "stream",
     "text": [
      "Start training\n",
      "Before training\n"
     ]
    },
    {
     "name": "stderr",
     "output_type": "stream",
     "text": [
      "Training epochs:  13%|█▎        | 65/500 [00:08<00:56,  7.76it/s]]"
     ]
    },
    {
     "name": "stdout",
     "output_type": "stream",
     "text": [
      "Start training\n",
      "Before training\n"
     ]
    },
    {
     "name": "stderr",
     "output_type": "stream",
     "text": [
      "Training epochs:   0%|          | 0/500 [00:00<?, ?it/s] 6.93it/s]"
     ]
    },
    {
     "name": "stdout",
     "output_type": "stream",
     "text": [
      "Start training\n",
      "Before training\n"
     ]
    },
    {
     "name": "stderr",
     "output_type": "stream",
     "text": [
      "Training epochs:  93%|█████████▎| 464/500 [00:58<00:04,  8.00it/s]"
     ]
    },
    {
     "name": "stdout",
     "output_type": "stream",
     "text": [
      "Start training\n",
      "Before training\n"
     ]
    },
    {
     "name": "stderr",
     "output_type": "stream",
     "text": [
      "Training epochs:  90%|█████████ | 452/500 [01:04<00:07,  6.81it/s]"
     ]
    },
    {
     "name": "stdout",
     "output_type": "stream",
     "text": [
      "Start training\n",
      "Before training\n"
     ]
    },
    {
     "name": "stderr",
     "output_type": "stream",
     "text": [
      "Training epochs:  91%|█████████ | 453/500 [00:57<00:06,  7.77it/s]"
     ]
    },
    {
     "name": "stdout",
     "output_type": "stream",
     "text": [
      "Start training\n",
      "Before training\n"
     ]
    },
    {
     "name": "stderr",
     "output_type": "stream",
     "text": [
      "Training epochs:   4%|▍         | 19/500 [00:02<01:04,  7.50it/s]]"
     ]
    },
    {
     "name": "stdout",
     "output_type": "stream",
     "text": [
      "Start training\n",
      "Before training\n"
     ]
    },
    {
     "name": "stderr",
     "output_type": "stream",
     "text": [
      "Training epochs:   5%|▌         | 27/500 [00:03<00:58,  8.14it/s]]"
     ]
    },
    {
     "name": "stdout",
     "output_type": "stream",
     "text": [
      "Start training\n",
      "Before training\n"
     ]
    },
    {
     "name": "stderr",
     "output_type": "stream",
     "text": [
      "Training epochs:   0%|          | 0/500 [00:00<?, ?it/s]7.56it/s]]"
     ]
    },
    {
     "name": "stdout",
     "output_type": "stream",
     "text": [
      "Start training\n",
      "Before training\n"
     ]
    },
    {
     "name": "stderr",
     "output_type": "stream",
     "text": [
      "Training epochs:  21%|██        | 104/500 [00:14<00:53,  7.41it/s]"
     ]
    },
    {
     "name": "stdout",
     "output_type": "stream",
     "text": [
      "Start training\n",
      "Before training\n"
     ]
    },
    {
     "name": "stderr",
     "output_type": "stream",
     "text": [
      "Training epochs:   0%|          | 0/500 [00:00<?, ?it/s] 8.35it/s]"
     ]
    },
    {
     "name": "stdout",
     "output_type": "stream",
     "text": [
      "Start training\n",
      "Before training\n"
     ]
    },
    {
     "name": "stderr",
     "output_type": "stream",
     "text": [
      "Training epochs:  85%|████████▍ | 423/500 [00:52<00:09,  8.22it/s]"
     ]
    },
    {
     "name": "stdout",
     "output_type": "stream",
     "text": [
      "Start training\n",
      "Before training\n"
     ]
    },
    {
     "name": "stderr",
     "output_type": "stream",
     "text": [
      "Training epochs:   6%|▌         | 28/500 [00:03<00:59,  7.95it/s]]"
     ]
    },
    {
     "name": "stdout",
     "output_type": "stream",
     "text": [
      "Start training\n",
      "Before training\n"
     ]
    },
    {
     "name": "stderr",
     "output_type": "stream",
     "text": [
      "Training epochs:  15%|█▌        | 76/500 [00:09<00:50,  8.35it/s]]"
     ]
    },
    {
     "name": "stdout",
     "output_type": "stream",
     "text": [
      "Start training\n",
      "Before training\n"
     ]
    },
    {
     "name": "stderr",
     "output_type": "stream",
     "text": [
      "Training epochs:   0%|          | 1/500 [00:00<01:09,  7.22it/s]s]"
     ]
    },
    {
     "name": "stdout",
     "output_type": "stream",
     "text": [
      "Start training\n",
      "Before training\n"
     ]
    },
    {
     "name": "stderr",
     "output_type": "stream",
     "text": [
      "Training epochs:   0%|          | 1/500 [00:00<01:01,  8.09it/s]]]"
     ]
    },
    {
     "name": "stdout",
     "output_type": "stream",
     "text": [
      "Start training\n",
      "Before training\n"
     ]
    },
    {
     "name": "stderr",
     "output_type": "stream",
     "text": [
      "Training epochs:   4%|▍         | 21/500 [00:02<01:00,  7.95it/s]]"
     ]
    },
    {
     "name": "stdout",
     "output_type": "stream",
     "text": [
      "Start training\n",
      "Before training\n"
     ]
    },
    {
     "name": "stderr",
     "output_type": "stream",
     "text": [
      "Training epochs:  74%|███████▍  | 372/500 [00:53<00:18,  6.91it/s]"
     ]
    },
    {
     "name": "stdout",
     "output_type": "stream",
     "text": [
      "Start training\n",
      "Before training\n"
     ]
    },
    {
     "name": "stderr",
     "output_type": "stream",
     "text": [
      "Training epochs:  92%|█████████▏| 462/500 [00:58<00:04,  7.71it/s]"
     ]
    },
    {
     "name": "stdout",
     "output_type": "stream",
     "text": [
      "Start training\n",
      "Before training\n"
     ]
    },
    {
     "name": "stderr",
     "output_type": "stream",
     "text": [
      "Training epochs:  93%|█████████▎| 465/500 [01:06<00:05,  6.79it/s]"
     ]
    },
    {
     "name": "stdout",
     "output_type": "stream",
     "text": [
      "Start training\n",
      "Before training\n"
     ]
    },
    {
     "name": "stderr",
     "output_type": "stream",
     "text": [
      "                                                                  \r"
     ]
    },
    {
     "name": "stdout",
     "output_type": "stream",
     "text": [
      "Start training\n",
      "Before training\n"
     ]
    },
    {
     "name": "stderr",
     "output_type": "stream",
     "text": [
      "Training epochs:  10%|▉         | 49/500 [00:05<00:59,  7.59it/s]]"
     ]
    },
    {
     "name": "stdout",
     "output_type": "stream",
     "text": [
      "Start training\n",
      "Before training\n"
     ]
    },
    {
     "name": "stderr",
     "output_type": "stream",
     "text": [
      "Training epochs:   0%|          | 0/500 [00:00<?, ?it/s]7.30it/s]]"
     ]
    },
    {
     "name": "stdout",
     "output_type": "stream",
     "text": [
      "Start training\n",
      "Before training\n"
     ]
    },
    {
     "name": "stderr",
     "output_type": "stream",
     "text": [
      "Training epochs:  42%|████▏     | 211/500 [00:24<00:34,  8.38it/s]"
     ]
    },
    {
     "name": "stdout",
     "output_type": "stream",
     "text": [
      "Start training\n",
      "Before training\n"
     ]
    },
    {
     "name": "stderr",
     "output_type": "stream",
     "text": [
      "Training epochs:  61%|██████    | 305/500 [00:41<00:27,  6.96it/s]"
     ]
    },
    {
     "name": "stdout",
     "output_type": "stream",
     "text": [
      "Start training\n",
      "Before training\n"
     ]
    },
    {
     "name": "stderr",
     "output_type": "stream",
     "text": [
      "Training epochs:   6%|▌         | 29/500 [00:03<01:00,  7.84it/s]]"
     ]
    },
    {
     "name": "stdout",
     "output_type": "stream",
     "text": [
      "Start training\n",
      "Before training\n"
     ]
    },
    {
     "name": "stderr",
     "output_type": "stream",
     "text": [
      "Training epochs:  11%|█         | 54/500 [00:06<00:55,  8.01it/s]]"
     ]
    },
    {
     "name": "stdout",
     "output_type": "stream",
     "text": [
      "Start training\n",
      "Before training\n"
     ]
    },
    {
     "name": "stderr",
     "output_type": "stream",
     "text": [
      "Training epochs:   0%|          | 0/500 [00:00<?, ?it/s] 7.39it/s]"
     ]
    },
    {
     "name": "stdout",
     "output_type": "stream",
     "text": [
      "Start training\n",
      "Before training\n"
     ]
    },
    {
     "name": "stderr",
     "output_type": "stream",
     "text": [
      "Training epochs:  32%|███▏      | 161/500 [00:20<00:40,  8.42it/s]"
     ]
    },
    {
     "name": "stdout",
     "output_type": "stream",
     "text": [
      "Start training\n",
      "Before training\n"
     ]
    },
    {
     "name": "stderr",
     "output_type": "stream",
     "text": [
      "Training epochs:   6%|▌         | 30/500 [00:04<01:07,  7.01it/s]]"
     ]
    },
    {
     "name": "stdout",
     "output_type": "stream",
     "text": [
      "Start training\n",
      "Before training\n"
     ]
    },
    {
     "name": "stderr",
     "output_type": "stream",
     "text": [
      "Training epochs:  15%|█▍        | 74/500 [00:11<01:31,  4.68it/s]]"
     ]
    },
    {
     "name": "stdout",
     "output_type": "stream",
     "text": [
      "Start training\n",
      "Before training\n"
     ]
    },
    {
     "name": "stderr",
     "output_type": "stream",
     "text": [
      "Training epochs:  85%|████████▍ | 423/500 [00:55<00:09,  7.77it/s]"
     ]
    },
    {
     "name": "stdout",
     "output_type": "stream",
     "text": [
      "Start training\n",
      "Before training\n"
     ]
    },
    {
     "name": "stderr",
     "output_type": "stream",
     "text": [
      "Training epochs:  82%|████████▏ | 410/500 [00:53<00:11,  8.02it/s]"
     ]
    },
    {
     "name": "stdout",
     "output_type": "stream",
     "text": [
      "Start training\n",
      "Before training\n"
     ]
    },
    {
     "name": "stderr",
     "output_type": "stream",
     "text": [
      "Training epochs:  11%|█         | 55/500 [00:06<00:56,  7.89it/s]]"
     ]
    },
    {
     "name": "stdout",
     "output_type": "stream",
     "text": [
      "Start training\n",
      "Before training\n"
     ]
    },
    {
     "name": "stderr",
     "output_type": "stream",
     "text": [
      "Training epochs:   0%|          | 0/500 [00:00<?, ?it/s] 7.74it/s]"
     ]
    },
    {
     "name": "stdout",
     "output_type": "stream",
     "text": [
      "Start training\n",
      "Before training\n"
     ]
    },
    {
     "name": "stderr",
     "output_type": "stream",
     "text": [
      "Training epochs:  85%|████████▌ | 427/500 [01:01<00:10,  7.20it/s]"
     ]
    },
    {
     "name": "stdout",
     "output_type": "stream",
     "text": [
      "Start training\n",
      "Before training\n"
     ]
    },
    {
     "name": "stderr",
     "output_type": "stream",
     "text": [
      "Training epochs:  60%|██████    | 300/500 [00:36<00:23,  8.52it/s]"
     ]
    },
    {
     "name": "stdout",
     "output_type": "stream",
     "text": [
      "Start training\n",
      "Before training\n"
     ]
    },
    {
     "name": "stderr",
     "output_type": "stream",
     "text": [
      "Training epochs:  16%|█▋        | 82/500 [00:11<00:56,  7.34it/s]]"
     ]
    },
    {
     "name": "stdout",
     "output_type": "stream",
     "text": [
      "Start training\n",
      "Before training\n"
     ]
    },
    {
     "name": "stderr",
     "output_type": "stream",
     "text": [
      "Training epochs:  73%|███████▎  | 366/500 [00:44<00:16,  8.14it/s]"
     ]
    },
    {
     "name": "stdout",
     "output_type": "stream",
     "text": [
      "Start training\n",
      "Before training\n"
     ]
    },
    {
     "name": "stderr",
     "output_type": "stream",
     "text": [
      "Training epochs:  49%|████▉     | 246/500 [00:33<00:34,  7.38it/s]"
     ]
    },
    {
     "name": "stdout",
     "output_type": "stream",
     "text": [
      "Start training\n",
      "Before training\n"
     ]
    },
    {
     "name": "stderr",
     "output_type": "stream",
     "text": [
      "Training epochs:   0%|          | 0/500 [00:00<?, ?it/s]8.03it/s]]"
     ]
    },
    {
     "name": "stdout",
     "output_type": "stream",
     "text": [
      "Start training\n",
      "Before training\n"
     ]
    },
    {
     "name": "stderr",
     "output_type": "stream",
     "text": [
      "Training epochs:  61%|██████    | 305/500 [00:41<00:27,  7.07it/s]"
     ]
    },
    {
     "name": "stdout",
     "output_type": "stream",
     "text": [
      "Start training\n",
      "Before training\n"
     ]
    },
    {
     "name": "stderr",
     "output_type": "stream",
     "text": [
      "Training epochs:  46%|████▌     | 229/500 [00:28<00:33,  8.11it/s]"
     ]
    },
    {
     "name": "stdout",
     "output_type": "stream",
     "text": [
      "Start training\n",
      "Before training\n"
     ]
    },
    {
     "name": "stderr",
     "output_type": "stream",
     "text": [
      "Training epochs:  72%|███████▏  | 362/500 [00:44<00:17,  7.94it/s]"
     ]
    },
    {
     "name": "stdout",
     "output_type": "stream",
     "text": [
      "Start training\n",
      "Before training\n"
     ]
    },
    {
     "name": "stderr",
     "output_type": "stream",
     "text": [
      "Training epochs:  65%|██████▌   | 327/500 [00:41<00:22,  7.83it/s]"
     ]
    },
    {
     "name": "stdout",
     "output_type": "stream",
     "text": [
      "Start training\n",
      "Before training\n"
     ]
    },
    {
     "name": "stderr",
     "output_type": "stream",
     "text": [
      "Training epochs:  26%|██▌       | 130/500 [00:18<00:50,  7.30it/s]"
     ]
    },
    {
     "name": "stdout",
     "output_type": "stream",
     "text": [
      "Start training\n",
      "Before training\n"
     ]
    },
    {
     "name": "stderr",
     "output_type": "stream",
     "text": [
      "Training epochs:  22%|██▏       | 109/500 [00:15<00:55,  7.03it/s]"
     ]
    },
    {
     "name": "stdout",
     "output_type": "stream",
     "text": [
      "Start training\n",
      "Before training\n"
     ]
    },
    {
     "name": "stderr",
     "output_type": "stream",
     "text": [
      "Training epochs:  12%|█▏        | 62/500 [00:07<00:52,  8.32it/s]]"
     ]
    },
    {
     "name": "stdout",
     "output_type": "stream",
     "text": [
      "Start training\n",
      "Before training\n"
     ]
    },
    {
     "name": "stderr",
     "output_type": "stream",
     "text": [
      "Training epochs:   0%|          | 0/500 [00:00<?, ?it/s] 8.45it/s]"
     ]
    },
    {
     "name": "stdout",
     "output_type": "stream",
     "text": [
      "Start training\n",
      "Before training\n"
     ]
    },
    {
     "name": "stderr",
     "output_type": "stream",
     "text": [
      "Training epochs:  73%|███████▎  | 365/500 [00:43<00:16,  7.96it/s]"
     ]
    },
    {
     "name": "stdout",
     "output_type": "stream",
     "text": [
      "Start training\n",
      "Before training\n"
     ]
    },
    {
     "name": "stderr",
     "output_type": "stream",
     "text": [
      "Training epochs:  89%|████████▉ | 444/500 [00:53<00:06,  8.39it/s]"
     ]
    },
    {
     "name": "stdout",
     "output_type": "stream",
     "text": [
      "Start training\n",
      "Before training\n"
     ]
    },
    {
     "name": "stderr",
     "output_type": "stream",
     "text": [
      "Training epochs:  69%|██████▉   | 344/500 [00:42<00:18,  8.35it/s]"
     ]
    },
    {
     "name": "stdout",
     "output_type": "stream",
     "text": [
      "Start training\n",
      "Before training\n"
     ]
    },
    {
     "name": "stderr",
     "output_type": "stream",
     "text": [
      "Training epochs:   0%|          | 0/500 [00:00<?, ?it/s].52it/s]s]"
     ]
    },
    {
     "name": "stdout",
     "output_type": "stream",
     "text": [
      "Start training\n",
      "Before training\n"
     ]
    },
    {
     "name": "stderr",
     "output_type": "stream",
     "text": [
      "Training epochs:  88%|████████▊ | 439/500 [00:53<00:07,  8.20it/s]"
     ]
    },
    {
     "name": "stdout",
     "output_type": "stream",
     "text": [
      "Start training\n",
      "Before training\n"
     ]
    },
    {
     "name": "stderr",
     "output_type": "stream",
     "text": [
      "Training epochs:  19%|█▉        | 97/500 [00:13<00:54,  7.36it/s]]"
     ]
    },
    {
     "name": "stdout",
     "output_type": "stream",
     "text": [
      "Start training\n",
      "Before training\n"
     ]
    },
    {
     "name": "stderr",
     "output_type": "stream",
     "text": [
      "Training epochs:  31%|███       | 154/500 [00:20<00:44,  7.83it/s]"
     ]
    },
    {
     "name": "stdout",
     "output_type": "stream",
     "text": [
      "Start training\n",
      "Before training\n"
     ]
    },
    {
     "name": "stderr",
     "output_type": "stream",
     "text": [
      "Training epochs:  82%|████████▏ | 411/500 [00:55<00:11,  7.63it/s]"
     ]
    },
    {
     "name": "stdout",
     "output_type": "stream",
     "text": [
      "Start training\n",
      "Before training\n"
     ]
    },
    {
     "name": "stderr",
     "output_type": "stream",
     "text": [
      "Training epochs:  94%|█████████▎| 468/500 [01:02<00:04,  7.61it/s]"
     ]
    },
    {
     "name": "stdout",
     "output_type": "stream",
     "text": [
      "Start training\n",
      "Before training\n"
     ]
    },
    {
     "name": "stderr",
     "output_type": "stream",
     "text": [
      "Training epochs:   1%|          | 4/500 [00:00<01:11,  6.92it/s]s]"
     ]
    },
    {
     "name": "stdout",
     "output_type": "stream",
     "text": [
      "Start training\n",
      "Before training\n"
     ]
    },
    {
     "name": "stderr",
     "output_type": "stream",
     "text": [
      "Training epochs:   0%|          | 0/500 [00:00<?, ?it/s] 8.27it/s]"
     ]
    },
    {
     "name": "stdout",
     "output_type": "stream",
     "text": [
      "Start training\n",
      "Before training\n"
     ]
    },
    {
     "name": "stderr",
     "output_type": "stream",
     "text": [
      "Training epochs:   3%|▎         | 17/500 [00:01<00:56,  8.61it/s]]"
     ]
    },
    {
     "name": "stdout",
     "output_type": "stream",
     "text": [
      "Start training\n",
      "Before training\n"
     ]
    },
    {
     "name": "stderr",
     "output_type": "stream",
     "text": [
      "Training epochs:  90%|█████████ | 450/500 [00:59<00:07,  6.77it/s]"
     ]
    },
    {
     "name": "stdout",
     "output_type": "stream",
     "text": [
      "Start training\n",
      "Before training\n"
     ]
    },
    {
     "name": "stderr",
     "output_type": "stream",
     "text": [
      "Training epochs:  39%|███▉      | 196/500 [00:27<00:43,  7.06it/s]"
     ]
    },
    {
     "name": "stdout",
     "output_type": "stream",
     "text": [
      "Start training\n",
      "Before training\n"
     ]
    },
    {
     "name": "stderr",
     "output_type": "stream",
     "text": [
      "Training epochs:  93%|█████████▎| 463/500 [00:55<00:04,  8.56it/s]"
     ]
    },
    {
     "name": "stdout",
     "output_type": "stream",
     "text": [
      "Start training\n",
      "Before training\n"
     ]
    },
    {
     "name": "stderr",
     "output_type": "stream",
     "text": [
      "Training epochs:  79%|███████▉  | 397/500 [00:56<00:14,  7.07it/s]"
     ]
    },
    {
     "name": "stdout",
     "output_type": "stream",
     "text": [
      "Start training\n",
      "Before training\n"
     ]
    },
    {
     "name": "stderr",
     "output_type": "stream",
     "text": [
      "Training epochs:  95%|█████████▍| 473/500 [01:06<00:03,  6.86it/s]"
     ]
    },
    {
     "name": "stdout",
     "output_type": "stream",
     "text": [
      "Start training\n",
      "Before training\n"
     ]
    },
    {
     "name": "stderr",
     "output_type": "stream",
     "text": [
      "Training epochs:  83%|████████▎ | 416/500 [00:50<00:10,  8.00it/s]"
     ]
    },
    {
     "name": "stdout",
     "output_type": "stream",
     "text": [
      "Start training\n",
      "Before training\n"
     ]
    },
    {
     "name": "stderr",
     "output_type": "stream",
     "text": [
      "Training epochs:  22%|██▏       | 110/500 [00:13<00:48,  8.09it/s]"
     ]
    },
    {
     "name": "stdout",
     "output_type": "stream",
     "text": [
      "Start training\n",
      "Before training\n"
     ]
    },
    {
     "name": "stderr",
     "output_type": "stream",
     "text": [
      "Training epochs:   0%|          | 1/500 [00:00<01:18,  6.35it/s]]]"
     ]
    },
    {
     "name": "stdout",
     "output_type": "stream",
     "text": [
      "Start training\n",
      "Before training\n"
     ]
    },
    {
     "name": "stderr",
     "output_type": "stream",
     "text": [
      "Training epochs:  12%|█▏        | 61/500 [00:07<00:55,  7.95it/s]]"
     ]
    },
    {
     "name": "stdout",
     "output_type": "stream",
     "text": [
      "Start training\n",
      "Before training\n"
     ]
    },
    {
     "name": "stderr",
     "output_type": "stream",
     "text": [
      "Training epochs:  86%|████████▌ | 429/500 [00:59<00:09,  7.31it/s]"
     ]
    },
    {
     "name": "stdout",
     "output_type": "stream",
     "text": [
      "Start training\n",
      "Before training\n"
     ]
    },
    {
     "name": "stderr",
     "output_type": "stream",
     "text": [
      "Training epochs:  10%|█         | 52/500 [00:06<00:57,  7.78it/s]]"
     ]
    },
    {
     "name": "stdout",
     "output_type": "stream",
     "text": [
      "Start training\n",
      "Before training\n"
     ]
    },
    {
     "name": "stderr",
     "output_type": "stream",
     "text": [
      "Training epochs:  18%|█▊        | 91/500 [00:11<00:52,  7.86it/s]]"
     ]
    },
    {
     "name": "stdout",
     "output_type": "stream",
     "text": [
      "Start training\n",
      "Before training\n"
     ]
    },
    {
     "name": "stderr",
     "output_type": "stream",
     "text": [
      "Training epochs:   5%|▌         | 25/500 [00:03<01:18,  6.05it/s]]"
     ]
    },
    {
     "name": "stdout",
     "output_type": "stream",
     "text": [
      "Start training\n",
      "Before training\n"
     ]
    },
    {
     "name": "stderr",
     "output_type": "stream",
     "text": [
      "Training epochs:  18%|█▊        | 90/500 [00:10<00:46,  8.80it/s]]"
     ]
    },
    {
     "name": "stdout",
     "output_type": "stream",
     "text": [
      "Start training\n",
      "Before training\n"
     ]
    },
    {
     "name": "stderr",
     "output_type": "stream",
     "text": [
      "Training epochs:  13%|█▎        | 64/500 [00:07<00:53,  8.10it/s]]"
     ]
    },
    {
     "name": "stdout",
     "output_type": "stream",
     "text": [
      "Start training\n",
      "Before training\n"
     ]
    },
    {
     "name": "stderr",
     "output_type": "stream",
     "text": [
      "Training epochs:  19%|█▉        | 95/500 [00:11<00:49,  8.20it/s]]"
     ]
    },
    {
     "name": "stdout",
     "output_type": "stream",
     "text": [
      "Start training\n",
      "Before training\n"
     ]
    },
    {
     "name": "stderr",
     "output_type": "stream",
     "text": [
      "Training epochs:  76%|███████▌  | 381/500 [00:46<00:13,  8.85it/s]"
     ]
    },
    {
     "name": "stdout",
     "output_type": "stream",
     "text": [
      "Start training\n",
      "Before training\n"
     ]
    },
    {
     "name": "stderr",
     "output_type": "stream",
     "text": [
      "Training epochs:  74%|███████▍  | 369/500 [00:45<00:16,  7.87it/s]"
     ]
    },
    {
     "name": "stdout",
     "output_type": "stream",
     "text": [
      "Start training\n",
      "Before training\n"
     ]
    },
    {
     "name": "stderr",
     "output_type": "stream",
     "text": [
      "Training epochs:  70%|███████   | 350/500 [00:50<00:24,  6.06it/s]"
     ]
    },
    {
     "name": "stdout",
     "output_type": "stream",
     "text": [
      "Start training\n",
      "Before training\n"
     ]
    },
    {
     "name": "stderr",
     "output_type": "stream",
     "text": [
      "Training epochs:  93%|█████████▎| 465/500 [01:06<00:04,  7.12it/s]"
     ]
    },
    {
     "name": "stdout",
     "output_type": "stream",
     "text": [
      "Start training\n",
      "Before training\n"
     ]
    },
    {
     "name": "stderr",
     "output_type": "stream",
     "text": [
      "Training epochs:   0%|          | 1/500 [00:00<01:01,  8.11it/s]]]"
     ]
    },
    {
     "name": "stdout",
     "output_type": "stream",
     "text": [
      "Start training\n",
      "Before training\n"
     ]
    },
    {
     "name": "stderr",
     "output_type": "stream",
     "text": [
      "Training epochs:  20%|█▉        | 98/500 [00:12<00:54,  7.34it/s]]"
     ]
    },
    {
     "name": "stdout",
     "output_type": "stream",
     "text": [
      "Start training\n",
      "Before training\n"
     ]
    },
    {
     "name": "stderr",
     "output_type": "stream",
     "text": [
      "Training epochs:  22%|██▏       | 112/500 [00:16<00:56,  6.83it/s]"
     ]
    },
    {
     "name": "stdout",
     "output_type": "stream",
     "text": [
      "Start training\n",
      "Before training\n"
     ]
    },
    {
     "name": "stderr",
     "output_type": "stream",
     "text": [
      "Training epochs:  64%|██████▍   | 320/500 [00:41<00:23,  7.75it/s]"
     ]
    },
    {
     "name": "stdout",
     "output_type": "stream",
     "text": [
      "Start training\n",
      "Before training\n"
     ]
    },
    {
     "name": "stderr",
     "output_type": "stream",
     "text": [
      "Training epochs:   0%|          | 0/500 [00:00<?, ?it/s] 8.14it/s]"
     ]
    },
    {
     "name": "stdout",
     "output_type": "stream",
     "text": [
      "Start training\n",
      "Before training\n"
     ]
    },
    {
     "name": "stderr",
     "output_type": "stream",
     "text": [
      "Training epochs:  26%|██▌       | 131/500 [00:16<00:46,  7.87it/s]"
     ]
    },
    {
     "name": "stdout",
     "output_type": "stream",
     "text": [
      "Start training\n",
      "Before training\n"
     ]
    },
    {
     "name": "stderr",
     "output_type": "stream",
     "text": [
      "Training epochs:   0%|          | 1/500 [00:00<01:26,  5.76it/s]s]"
     ]
    },
    {
     "name": "stdout",
     "output_type": "stream",
     "text": [
      "Start training\n",
      "Before training\n"
     ]
    },
    {
     "name": "stderr",
     "output_type": "stream",
     "text": [
      "Training epochs:   9%|▉         | 46/500 [00:05<00:54,  8.40it/s]]"
     ]
    },
    {
     "name": "stdout",
     "output_type": "stream",
     "text": [
      "Start training\n",
      "Before training\n"
     ]
    },
    {
     "name": "stderr",
     "output_type": "stream",
     "text": [
      "                                                                  \r"
     ]
    },
    {
     "name": "stdout",
     "output_type": "stream",
     "text": [
      "Start training\n",
      "Before training\n"
     ]
    },
    {
     "name": "stderr",
     "output_type": "stream",
     "text": [
      "                                                                  \r"
     ]
    }
   ],
   "source": [
    "from src.models import NNAlignWrapper\n",
    "hyperparameters = dict(n_hidden=50, p_drop=0.4, batchnorm=True, window_size=6, activation=nn.ReLU(), batch_size=128, n_epochs=500, lr=1e-4, wd=1e-2)\n",
    "singledouble = partial(singledouble_wrapper, dataset=pd.read_csv('../data/other/viral.csv').rename(columns={'sequence':'Peptide'}), hp=hyperparameters)\n",
    "output = pd.concat(Parallel(n_jobs=7)(delayed(singledouble)(seed=seed) for seed in tqdm(range(100), desc='seed')))\n",
    "\n",
    "output_gb = output.groupby(['identifier']).agg(mean_test_auc = ('best_test_auc','mean'),\n",
    "                                   std_test_auc = ('best_test_auc', 'std'),\n",
    "                                    mean_train_auc = ('best_train_auc','mean'),\n",
    "                                  mean_time = ('elapsed_seconds', 'mean'))"
   ]
  },
  {
   "cell_type": "code",
   "execution_count": null,
   "id": "ebef4d44-14cb-4d3b-8aa3-c78a436761a9",
   "metadata": {},
   "outputs": [],
   "source": [
    "output_gb.to_csv('../output/230522_singledouble_compare/single_double_comparison_gb.csv')\n",
    "output.to_csv('../output/230522_singledouble_compare/single_double_comparison_all.csv')"
   ]
  },
  {
   "cell_type": "code",
   "execution_count": 26,
   "id": "586627a9-e8de-4ba2-883b-4d374210302b",
   "metadata": {},
   "outputs": [
    {
     "data": {
      "text/html": [
       "<div>\n",
       "<style scoped>\n",
       "    .dataframe tbody tr th:only-of-type {\n",
       "        vertical-align: middle;\n",
       "    }\n",
       "\n",
       "    .dataframe tbody tr th {\n",
       "        vertical-align: top;\n",
       "    }\n",
       "\n",
       "    .dataframe thead th {\n",
       "        text-align: right;\n",
       "    }\n",
       "</style>\n",
       "<table border=\"1\" class=\"dataframe\">\n",
       "  <thead>\n",
       "    <tr style=\"text-align: right;\">\n",
       "      <th></th>\n",
       "      <th>identifier</th>\n",
       "      <th>mean_test_auc</th>\n",
       "      <th>std_test_auc</th>\n",
       "      <th>mean_train_auc</th>\n",
       "      <th>mean_time</th>\n",
       "    </tr>\n",
       "  </thead>\n",
       "  <tbody>\n",
       "    <tr>\n",
       "      <th>0</th>\n",
       "      <td>normal_doublepass</td>\n",
       "      <td>0.673933</td>\n",
       "      <td>0.021110</td>\n",
       "      <td>0.753256</td>\n",
       "      <td>66.24</td>\n",
       "    </tr>\n",
       "    <tr>\n",
       "      <th>1</th>\n",
       "      <td>test_singlepass</td>\n",
       "      <td>0.672833</td>\n",
       "      <td>0.022561</td>\n",
       "      <td>0.765367</td>\n",
       "      <td>63.69</td>\n",
       "    </tr>\n",
       "  </tbody>\n",
       "</table>\n",
       "</div>"
      ],
      "text/plain": [
       "          identifier  mean_test_auc  std_test_auc  mean_train_auc  mean_time\n",
       "0  normal_doublepass       0.673933      0.021110        0.753256      66.24\n",
       "1    test_singlepass       0.672833      0.022561        0.765367      63.69"
      ]
     },
     "execution_count": 26,
     "metadata": {},
     "output_type": "execute_result"
    }
   ],
   "source": [
    "output_gb"
   ]
  },
  {
   "cell_type": "markdown",
   "id": "1b584c3b-9924-44c0-acc6-28735e425384",
   "metadata": {
    "tags": []
   },
   "source": [
    "## neoepitopes"
   ]
  },
  {
   "cell_type": "code",
   "execution_count": 8,
   "id": "b25693f5-af5b-4866-9b4e-ef88dcb694e0",
   "metadata": {},
   "outputs": [],
   "source": [
    "from sklearn.metrics import roc_auc_score"
   ]
  },
  {
   "cell_type": "code",
   "execution_count": 12,
   "id": "377d5a4a-aeda-47dd-a754-4fa7d963ef91",
   "metadata": {},
   "outputs": [],
   "source": [
    "neoepi_train, neoepi_test = train_test_split(cedar_aligned, test_size=1/5, random_state=13)\n",
    "neoepi_train.to_csv('../../nnalign_cedar/df_train_neoepi_pynncompare.txt', columns = ['Peptide', 'agg_label'], index=False, header=False, sep='\\t')\n",
    "neoepi_test.to_csv('../../nnalign_cedar/df_test_neoepi_pynncompare.txt', columns = ['Peptide','agg_label'], index=False, header=False,sep='\\t')"
   ]
  },
  {
   "cell_type": "code",
   "execution_count": 13,
   "id": "f7bb0e9c-1079-484a-ad0c-26961ba22b95",
   "metadata": {
    "collapsed": true,
    "jupyter": {
     "outputs_hidden": true
    },
    "tags": []
   },
   "outputs": [
    {
     "data": {
      "application/vnd.jupyter.widget-view+json": {
       "model_id": "95d5a7e19bac440eaf9616f3b5bdbc08",
       "version_major": 2,
       "version_minor": 0
      },
      "text/plain": [
       "seed:   0%|          | 0/30 [00:00<?, ?it/s]"
      ]
     },
     "metadata": {},
     "output_type": "display_data"
    },
    {
     "name": "stdout",
     "output_type": "stream",
     "text": [
      "Before training\n",
      "Before training\n",
      "Before training\n",
      "Before training\n",
      "Before training\n",
      "Before training\n"
     ]
    },
    {
     "name": "stderr",
     "output_type": "stream",
     "text": [
      "Training epochs:  87%|████████▋ | 435/500 [00:13<00:02, 29.39it/s]"
     ]
    },
    {
     "name": "stdout",
     "output_type": "stream",
     "text": [
      "Start training\n",
      "Before training\n",
      "Start training\n",
      "Before training\n",
      "Start training\n",
      "Before training\n"
     ]
    },
    {
     "name": "stderr",
     "output_type": "stream",
     "text": [
      "Training epochs:   1%|          | 4/500 [00:00<00:13, 36.30it/s]s]"
     ]
    },
    {
     "name": "stdout",
     "output_type": "stream",
     "text": [
      "Start training\n",
      "Before training\n",
      "Start training\n",
      "Before training\n"
     ]
    },
    {
     "name": "stderr",
     "output_type": "stream",
     "text": [
      "Training epochs:  17%|█▋        | 86/500 [00:02<00:11, 36.31it/s] "
     ]
    },
    {
     "name": "stdout",
     "output_type": "stream",
     "text": [
      "Start training\n",
      "Before training\n"
     ]
    },
    {
     "name": "stderr",
     "output_type": "stream",
     "text": [
      "Training epochs:  99%|█████████▉| 497/500 [00:13<00:00, 37.06it/s]"
     ]
    },
    {
     "name": "stdout",
     "output_type": "stream",
     "text": [
      "Start training\n",
      "Before training\n",
      "Start training\n",
      "Before training\n",
      "Start training\n",
      "Before training\n"
     ]
    },
    {
     "name": "stderr",
     "output_type": "stream",
     "text": [
      "Training epochs:   0%|          | 0/500 [00:00<?, ?it/s]8.62it/s]]"
     ]
    },
    {
     "name": "stdout",
     "output_type": "stream",
     "text": [
      "Start training\n",
      "Before training\n",
      "Start training\n",
      "Before training\n"
     ]
    },
    {
     "name": "stderr",
     "output_type": "stream",
     "text": [
      "Training epochs:  37%|███▋      | 185/500 [00:04<00:07, 40.43it/s]"
     ]
    },
    {
     "name": "stdout",
     "output_type": "stream",
     "text": [
      "Start training\n",
      "Before training\n"
     ]
    },
    {
     "name": "stderr",
     "output_type": "stream",
     "text": [
      "Training epochs:   1%|          | 5/500 [00:00<00:12, 40.09it/s]s]"
     ]
    },
    {
     "name": "stdout",
     "output_type": "stream",
     "text": [
      "Start training\n",
      "Before training\n",
      "Start training\n",
      "Before training\n"
     ]
    },
    {
     "name": "stderr",
     "output_type": "stream",
     "text": [
      "Training epochs:  60%|██████    | 300/500 [00:09<00:05, 34.22it/s]"
     ]
    },
    {
     "name": "stdout",
     "output_type": "stream",
     "text": [
      "Start training\n",
      "Before training\n"
     ]
    },
    {
     "name": "stderr",
     "output_type": "stream",
     "text": [
      "Training epochs:   0%|          | 0/500 [00:00<?, ?it/s]0.01it/s]]"
     ]
    },
    {
     "name": "stdout",
     "output_type": "stream",
     "text": [
      "Start training\n",
      "Before training\n",
      "Start training\n",
      "Before training\n"
     ]
    },
    {
     "name": "stderr",
     "output_type": "stream",
     "text": [
      "Training epochs:  50%|████▉     | 248/500 [00:06<00:06, 37.05it/s]"
     ]
    },
    {
     "name": "stdout",
     "output_type": "stream",
     "text": [
      "Start training\n",
      "Before training\n"
     ]
    },
    {
     "name": "stderr",
     "output_type": "stream",
     "text": [
      "Training epochs:  97%|█████████▋| 483/500 [00:12<00:00, 38.93it/s]"
     ]
    },
    {
     "name": "stdout",
     "output_type": "stream",
     "text": [
      "Start training\n",
      "Before training\n",
      "Start training\n",
      "Before training\n"
     ]
    },
    {
     "name": "stderr",
     "output_type": "stream",
     "text": [
      "Training epochs:   3%|▎         | 15/500 [00:00<00:11, 41.00it/s] "
     ]
    },
    {
     "name": "stdout",
     "output_type": "stream",
     "text": [
      "Start training\n",
      "Before training\n"
     ]
    },
    {
     "name": "stderr",
     "output_type": "stream",
     "text": [
      "Training epochs:   1%|          | 5/500 [00:00<00:11, 41.38it/s]]]"
     ]
    },
    {
     "name": "stdout",
     "output_type": "stream",
     "text": [
      "Start training\n",
      "Before training\n"
     ]
    },
    {
     "name": "stderr",
     "output_type": "stream",
     "text": [
      "Training epochs:   7%|▋         | 33/500 [00:00<00:13, 35.24it/s]]"
     ]
    },
    {
     "name": "stdout",
     "output_type": "stream",
     "text": [
      "Start training\n",
      "Before training\n"
     ]
    },
    {
     "name": "stderr",
     "output_type": "stream",
     "text": [
      "Training epochs:  67%|██████▋   | 333/500 [00:08<00:04, 37.63it/s]"
     ]
    },
    {
     "name": "stdout",
     "output_type": "stream",
     "text": [
      "Start training\n",
      "Before training\n"
     ]
    },
    {
     "name": "stderr",
     "output_type": "stream",
     "text": [
      "                                                                  \r"
     ]
    },
    {
     "data": {
      "text/html": [
       "<div>\n",
       "<style scoped>\n",
       "    .dataframe tbody tr th:only-of-type {\n",
       "        vertical-align: middle;\n",
       "    }\n",
       "\n",
       "    .dataframe tbody tr th {\n",
       "        vertical-align: top;\n",
       "    }\n",
       "\n",
       "    .dataframe thead th {\n",
       "        text-align: right;\n",
       "    }\n",
       "</style>\n",
       "<table border=\"1\" class=\"dataframe\">\n",
       "  <thead>\n",
       "    <tr style=\"text-align: right;\">\n",
       "      <th></th>\n",
       "      <th>mean_train_auc</th>\n",
       "      <th>mean_test_auc</th>\n",
       "      <th>mean_train_auc_idx</th>\n",
       "      <th>mean_test_auc_idx</th>\n",
       "      <th>mean_time</th>\n",
       "    </tr>\n",
       "    <tr>\n",
       "      <th>identifier</th>\n",
       "      <th></th>\n",
       "      <th></th>\n",
       "      <th></th>\n",
       "      <th></th>\n",
       "      <th></th>\n",
       "    </tr>\n",
       "  </thead>\n",
       "  <tbody>\n",
       "    <tr>\n",
       "      <th>neoepi</th>\n",
       "      <td>0.936913</td>\n",
       "      <td>0.719687</td>\n",
       "      <td>498.833333</td>\n",
       "      <td>379.633333</td>\n",
       "      <td>13.2</td>\n",
       "    </tr>\n",
       "  </tbody>\n",
       "</table>\n",
       "</div>"
      ],
      "text/plain": [
       "            mean_train_auc  mean_test_auc  mean_train_auc_idx  \\\n",
       "identifier                                                      \n",
       "neoepi            0.936913       0.719687          498.833333   \n",
       "\n",
       "            mean_test_auc_idx  mean_time  \n",
       "identifier                                \n",
       "neoepi             379.633333       13.2  "
      ]
     },
     "execution_count": 13,
     "metadata": {},
     "output_type": "execute_result"
    }
   ],
   "source": [
    "from src.models import NNAlignWrapper\n",
    "\n",
    "hyperparameters = dict(n_hidden=50, p_drop=0., batchnorm=False, window_size=6, activation=nn.ReLU(), batch_size=64, n_epochs=500, lr=1e-4, wd=1e-30, singlepass=True)\n",
    "run_wrapper = partial(run, df_train=neoepi_train, df_test=neoepi_test, model_constructor=NNAlignWrapper,encoding= 'BL50LO', id_='neoepi', outdir='230522_impl_comparisons/', **hyperparameters)\n",
    "\n",
    "output_neoepi = pd.concat(Parallel(n_jobs=6)(delayed(run_wrapper)(seed=seed) for seed in tqdm(range(30),desc='seed')))\n",
    "# result_simple = run(df_train, df_test, NNAlignWrapper, 'BL50LO', id_='neoepi', outdir='230522_impl_comparisons/', **hyperparameters)\n",
    "neoepi_gb = output_neoepi.groupby(['identifier']).agg(mean_train_auc=('best_train_auc','mean'),\n",
    "                                          mean_test_auc=('best_test_auc', 'mean'),\n",
    "                                          mean_train_auc_idx=('best_train_auc_idx', 'mean'),\n",
    "                                          mean_test_auc_idx=('best_test_auc_idx', 'mean'),\n",
    "                                          mean_time = ('elapsed_seconds','mean'))\n",
    "neoepi_gb"
   ]
  },
  {
   "cell_type": "code",
   "execution_count": 14,
   "id": "88adf9b0-f552-4596-baee-e943ff2f0da5",
   "metadata": {},
   "outputs": [
    {
     "data": {
      "text/html": [
       "<div>\n",
       "<style scoped>\n",
       "    .dataframe tbody tr th:only-of-type {\n",
       "        vertical-align: middle;\n",
       "    }\n",
       "\n",
       "    .dataframe tbody tr th {\n",
       "        vertical-align: top;\n",
       "    }\n",
       "\n",
       "    .dataframe thead th {\n",
       "        text-align: right;\n",
       "    }\n",
       "</style>\n",
       "<table border=\"1\" class=\"dataframe\">\n",
       "  <thead>\n",
       "    <tr style=\"text-align: right;\">\n",
       "      <th></th>\n",
       "      <th>mean_train_auc</th>\n",
       "      <th>mean_test_auc</th>\n",
       "      <th>mean_train_auc_idx</th>\n",
       "      <th>mean_test_auc_idx</th>\n",
       "      <th>mean_time</th>\n",
       "    </tr>\n",
       "    <tr>\n",
       "      <th>identifier</th>\n",
       "      <th></th>\n",
       "      <th></th>\n",
       "      <th></th>\n",
       "      <th></th>\n",
       "      <th></th>\n",
       "    </tr>\n",
       "  </thead>\n",
       "  <tbody>\n",
       "    <tr>\n",
       "      <th>neoepi</th>\n",
       "      <td>0.936913</td>\n",
       "      <td>0.719687</td>\n",
       "      <td>498.833333</td>\n",
       "      <td>379.633333</td>\n",
       "      <td>13.2</td>\n",
       "    </tr>\n",
       "  </tbody>\n",
       "</table>\n",
       "</div>"
      ],
      "text/plain": [
       "            mean_train_auc  mean_test_auc  mean_train_auc_idx  \\\n",
       "identifier                                                      \n",
       "neoepi            0.936913       0.719687          498.833333   \n",
       "\n",
       "            mean_test_auc_idx  mean_time  \n",
       "identifier                                \n",
       "neoepi             379.633333       13.2  "
      ]
     },
     "execution_count": 14,
     "metadata": {},
     "output_type": "execute_result"
    }
   ],
   "source": [
    "neoepi_gb"
   ]
  },
  {
   "cell_type": "code",
   "execution_count": 27,
   "id": "588b4a71-a932-4473-a407-34ba09a20308",
   "metadata": {},
   "outputs": [
    {
     "data": {
      "text/plain": [
       "0.6874202109789693"
      ]
     },
     "execution_count": 27,
     "metadata": {},
     "output_type": "execute_result"
    }
   ],
   "source": [
    "# Predictions from Webserver : \n",
    "neoepi_preds_ws = pd.read_csv('../output/230522_impl_comparisons/neoepi_compare_2683455.evalset.txt', sep='\\t')\n",
    "neoepi_preds_ws['label'] = neoepi_preds_ws.Measure.astype(int)\n",
    "roc_auc_score(neoepi_preds_ws['label'].values, neoepi_preds_ws['Prediction'].values)"
   ]
  },
  {
   "cell_type": "code",
   "execution_count": 28,
   "id": "57886bfb-0126-4b67-9816-f2b945eb87c2",
   "metadata": {},
   "outputs": [
    {
     "data": {
      "text/plain": [
       "0.6874202109789693"
      ]
     },
     "execution_count": 28,
     "metadata": {},
     "output_type": "execute_result"
    }
   ],
   "source": [
    "# Predictions from commandline : \n",
    "neoepi_preds_cl = pd.read_csv('../../nnalign_cedar/pynn_compare/output/neoepi_compare_28720/neoepi_compare_28720.evalset.txt', sep='\\t')\n",
    "neoepi_preds_cl['label'] = neoepi_preds_cl.Measure.astype(int)\n",
    "roc_auc_score(neoepi_preds_cl['label'].values, neoepi_preds_cl['Prediction'].values)"
   ]
  },
  {
   "cell_type": "markdown",
   "id": "49e68eab-99d3-4923-9815-6c0445cc156d",
   "metadata": {},
   "source": [
    "## virus"
   ]
  },
  {
   "cell_type": "code",
   "execution_count": 17,
   "id": "13c669a8-99ed-4cd7-8c68-b49e056b1c1e",
   "metadata": {},
   "outputs": [],
   "source": [
    "viral_train, viral_test = train_test_split(viral, test_size=1/10, random_state=13)\n",
    "viral_train.to_csv('../../nnalign_cedar/df_train_viral_pynncompare.txt', columns = ['Peptide', 'agg_label'], index=False, header=False, sep='\\t')\n",
    "viral_test.to_csv('../../nnalign_cedar/df_test_viral_pynncompare.txt', columns = ['Peptide','agg_label'], index=False, header=False,sep='\\t')"
   ]
  },
  {
   "cell_type": "code",
   "execution_count": 18,
   "id": "5ea18718-63e7-4da7-8fcd-789d7b47ae45",
   "metadata": {
    "collapsed": true,
    "jupyter": {
     "outputs_hidden": true
    },
    "tags": []
   },
   "outputs": [
    {
     "data": {
      "application/vnd.jupyter.widget-view+json": {
       "model_id": "9096aac5135f48be800d4fab041afd7e",
       "version_major": 2,
       "version_minor": 0
      },
      "text/plain": [
       "seed:   0%|          | 0/30 [00:00<?, ?it/s]"
      ]
     },
     "metadata": {},
     "output_type": "display_data"
    },
    {
     "name": "stdout",
     "output_type": "stream",
     "text": [
      "Start training\n",
      "Before training\n",
      "Start training\n",
      "Before training\n",
      "Start training\n",
      "Before training\n",
      "Start training\n",
      "Before training\n",
      "Start training\n",
      "Before training\n",
      "Start training\n",
      "Before training\n"
     ]
    },
    {
     "name": "stderr",
     "output_type": "stream",
     "text": [
      "Training epochs:   4%|▍         | 21/500 [00:03<01:08,  7.02it/s]"
     ]
    },
    {
     "name": "stdout",
     "output_type": "stream",
     "text": [
      "Before training\n"
     ]
    },
    {
     "name": "stderr",
     "output_type": "stream",
     "text": [
      "Training epochs:  98%|█████████▊| 488/500 [01:07<00:01,  7.60it/s]"
     ]
    },
    {
     "name": "stdout",
     "output_type": "stream",
     "text": [
      "Start training\n",
      "Before training\n"
     ]
    },
    {
     "name": "stderr",
     "output_type": "stream",
     "text": [
      "Training epochs:   4%|▍         | 19/500 [00:02<01:05,  7.29it/s]]"
     ]
    },
    {
     "name": "stdout",
     "output_type": "stream",
     "text": [
      "Start training\n",
      "Before training\n",
      "Start training\n",
      "Before training\n"
     ]
    },
    {
     "name": "stderr",
     "output_type": "stream",
     "text": [
      "Training epochs:   4%|▍         | 22/500 [00:03<01:05,  7.35it/s]]"
     ]
    },
    {
     "name": "stdout",
     "output_type": "stream",
     "text": [
      "Start training\n",
      "Before training\n"
     ]
    },
    {
     "name": "stderr",
     "output_type": "stream",
     "text": [
      "Training epochs:   1%|          | 6/500 [00:00<01:04,  7.65it/s]s]"
     ]
    },
    {
     "name": "stdout",
     "output_type": "stream",
     "text": [
      "Start training\n",
      "Before training\n"
     ]
    },
    {
     "name": "stderr",
     "output_type": "stream",
     "text": [
      "Training epochs:   2%|▏         | 8/500 [00:01<01:02,  7.90it/s]]]"
     ]
    },
    {
     "name": "stdout",
     "output_type": "stream",
     "text": [
      "Start training\n",
      "Before training\n"
     ]
    },
    {
     "name": "stderr",
     "output_type": "stream",
     "text": [
      "Training epochs:   0%|          | 1/500 [00:00<01:06,  7.52it/s]]]"
     ]
    },
    {
     "name": "stdout",
     "output_type": "stream",
     "text": [
      "Start training\n",
      "Before training\n"
     ]
    },
    {
     "name": "stderr",
     "output_type": "stream",
     "text": [
      "Training epochs:  95%|█████████▌| 477/500 [01:01<00:03,  7.23it/s]"
     ]
    },
    {
     "name": "stdout",
     "output_type": "stream",
     "text": [
      "Start training\n",
      "Before training\n"
     ]
    },
    {
     "name": "stderr",
     "output_type": "stream",
     "text": [
      "Training epochs:  73%|███████▎  | 364/500 [00:54<00:21,  6.30it/s]"
     ]
    },
    {
     "name": "stdout",
     "output_type": "stream",
     "text": [
      "Start training\n",
      "Before training\n"
     ]
    },
    {
     "name": "stderr",
     "output_type": "stream",
     "text": [
      "Training epochs: 100%|█████████▉| 499/500 [01:04<00:00,  7.67it/s]"
     ]
    },
    {
     "name": "stdout",
     "output_type": "stream",
     "text": [
      "Start training\n",
      "Before training\n"
     ]
    },
    {
     "name": "stderr",
     "output_type": "stream",
     "text": [
      "Training epochs:   1%|          | 5/500 [00:00<01:03,  7.77it/s]] "
     ]
    },
    {
     "name": "stdout",
     "output_type": "stream",
     "text": [
      "Start training\n",
      "Before training\n",
      "Start training\n",
      "Before training\n"
     ]
    },
    {
     "name": "stderr",
     "output_type": "stream",
     "text": [
      "Training epochs:   2%|▏         | 11/500 [00:01<01:15,  6.48it/s]]"
     ]
    },
    {
     "name": "stdout",
     "output_type": "stream",
     "text": [
      "Start training\n",
      "Before training\n"
     ]
    },
    {
     "name": "stderr",
     "output_type": "stream",
     "text": [
      "Training epochs:  34%|███▍      | 169/500 [00:25<00:55,  6.02it/s]"
     ]
    },
    {
     "name": "stdout",
     "output_type": "stream",
     "text": [
      "Start training\n",
      "Before training\n"
     ]
    },
    {
     "name": "stderr",
     "output_type": "stream",
     "text": [
      "Training epochs:  95%|█████████▌| 477/500 [01:07<00:03,  6.56it/s]"
     ]
    },
    {
     "name": "stdout",
     "output_type": "stream",
     "text": [
      "Start training\n",
      "Before training\n"
     ]
    },
    {
     "name": "stderr",
     "output_type": "stream",
     "text": [
      "Training epochs:  55%|█████▌    | 277/500 [00:46<00:34,  6.44it/s]"
     ]
    },
    {
     "name": "stdout",
     "output_type": "stream",
     "text": [
      "Start training\n",
      "Before training\n"
     ]
    },
    {
     "name": "stderr",
     "output_type": "stream",
     "text": [
      "Training epochs:   1%|▏         | 7/500 [00:00<01:10,  6.97it/s]s]"
     ]
    },
    {
     "name": "stdout",
     "output_type": "stream",
     "text": [
      "Start training\n",
      "Before training\n",
      "Start training\n",
      "Before training\n"
     ]
    },
    {
     "name": "stderr",
     "output_type": "stream",
     "text": [
      "Training epochs:   1%|▏         | 7/500 [00:00<01:06,  7.39it/s]]]"
     ]
    },
    {
     "name": "stdout",
     "output_type": "stream",
     "text": [
      "Start training\n",
      "Before training\n"
     ]
    },
    {
     "name": "stderr",
     "output_type": "stream",
     "text": [
      "Training epochs:   2%|▏         | 12/500 [00:01<01:05,  7.42it/s]]"
     ]
    },
    {
     "name": "stdout",
     "output_type": "stream",
     "text": [
      "Start training\n",
      "Before training\n"
     ]
    },
    {
     "name": "stderr",
     "output_type": "stream",
     "text": [
      "Training epochs:   0%|          | 1/500 [00:00<01:13,  6.81it/s]s]"
     ]
    },
    {
     "name": "stdout",
     "output_type": "stream",
     "text": [
      "Start training\n",
      "Before training\n"
     ]
    },
    {
     "name": "stderr",
     "output_type": "stream",
     "text": [
      "Training epochs:  97%|█████████▋| 486/500 [01:07<00:01,  7.07it/s]"
     ]
    },
    {
     "name": "stdout",
     "output_type": "stream",
     "text": [
      "Start training\n",
      "Before training\n"
     ]
    },
    {
     "name": "stderr",
     "output_type": "stream",
     "text": [
      "Training epochs:  97%|█████████▋| 484/500 [01:09<00:02,  6.96it/s]"
     ]
    },
    {
     "name": "stdout",
     "output_type": "stream",
     "text": [
      "Start training\n",
      "Before training\n"
     ]
    },
    {
     "name": "stderr",
     "output_type": "stream",
     "text": [
      "                                                                  \r"
     ]
    }
   ],
   "source": [
    "from src.models import NNAlignWrapper\n",
    "\n",
    "hyperparameters = dict(n_hidden=50, p_drop=0., batchnorm=False, window_size=6, activation=nn.ReLU(), batch_size=64, n_epochs=500, lr=1e-4, wd=0, singlepass=True)\n",
    "run_wrapper = partial(run, df_train=viral_train, df_test=viral_test, model_constructor=NNAlignWrapper,encoding= 'BL50LO', id_='neoepi', outdir='230522_impl_comparisons/', **hyperparameters)\n",
    "\n",
    "output_viral = Parallel(n_jobs=7)(delayed(run_wrapper)(seed=seed) for seed in tqdm(range(30),desc='seed'))"
   ]
  },
  {
   "cell_type": "code",
   "execution_count": 19,
   "id": "f6197b46-8b7c-4c9b-afef-9eec837d91b1",
   "metadata": {},
   "outputs": [
    {
     "data": {
      "text/html": [
       "<div>\n",
       "<style scoped>\n",
       "    .dataframe tbody tr th:only-of-type {\n",
       "        vertical-align: middle;\n",
       "    }\n",
       "\n",
       "    .dataframe tbody tr th {\n",
       "        vertical-align: top;\n",
       "    }\n",
       "\n",
       "    .dataframe thead th {\n",
       "        text-align: right;\n",
       "    }\n",
       "</style>\n",
       "<table border=\"1\" class=\"dataframe\">\n",
       "  <thead>\n",
       "    <tr style=\"text-align: right;\">\n",
       "      <th></th>\n",
       "      <th>mean_train_auc</th>\n",
       "      <th>mean_test_auc</th>\n",
       "      <th>mean_train_auc_idx</th>\n",
       "      <th>mean_test_auc_idx</th>\n",
       "      <th>mean_time</th>\n",
       "    </tr>\n",
       "    <tr>\n",
       "      <th>identifier</th>\n",
       "      <th></th>\n",
       "      <th></th>\n",
       "      <th></th>\n",
       "      <th></th>\n",
       "      <th></th>\n",
       "    </tr>\n",
       "  </thead>\n",
       "  <tbody>\n",
       "    <tr>\n",
       "      <th>neoepi</th>\n",
       "      <td>0.916443</td>\n",
       "      <td>0.815427</td>\n",
       "      <td>499.0</td>\n",
       "      <td>488.6</td>\n",
       "      <td>68.666667</td>\n",
       "    </tr>\n",
       "  </tbody>\n",
       "</table>\n",
       "</div>"
      ],
      "text/plain": [
       "            mean_train_auc  mean_test_auc  mean_train_auc_idx  \\\n",
       "identifier                                                      \n",
       "neoepi            0.916443       0.815427               499.0   \n",
       "\n",
       "            mean_test_auc_idx  mean_time  \n",
       "identifier                                \n",
       "neoepi                  488.6  68.666667  "
      ]
     },
     "execution_count": 19,
     "metadata": {},
     "output_type": "execute_result"
    }
   ],
   "source": [
    "viral_gb = pd.concat(output_viral).groupby(['identifier']).agg(mean_train_auc=('best_train_auc','mean'),\n",
    "                                                    mean_test_auc=('best_test_auc', 'mean'),\n",
    "                                                    mean_train_auc_idx=('best_train_auc_idx', 'mean'),\n",
    "                                                    mean_test_auc_idx=('best_test_auc_idx', 'mean'),\n",
    "                                                    mean_time = ('elapsed_seconds','mean'))\n",
    "viral_gb"
   ]
  },
  {
   "cell_type": "code",
   "execution_count": 29,
   "id": "90335002-91a8-406b-bd01-50e0e0589b19",
   "metadata": {},
   "outputs": [
    {
     "data": {
      "text/plain": [
       "0.7885790692920897"
      ]
     },
     "execution_count": 29,
     "metadata": {},
     "output_type": "execute_result"
    }
   ],
   "source": [
    "from sklearn.metrics import roc_auc_score\n",
    "# Predictions from Webserver : \n",
    "viral_preds_ws = pd.read_csv('../output/230522_impl_comparisons/Viral_compare_2750517.evalset.txt', sep='\\t')\n",
    "viral_preds_ws['label'] = viral_preds_ws.Measure.astype(int)\n",
    "roc_auc_score(viral_preds_ws['label'].values, viral_preds_ws['Prediction'].values)"
   ]
  },
  {
   "cell_type": "code",
   "execution_count": 30,
   "id": "83e571a6-aba7-431a-bd24-21c75ba4dba3",
   "metadata": {},
   "outputs": [
    {
     "data": {
      "text/plain": [
       "0.7885790692920897"
      ]
     },
     "execution_count": 30,
     "metadata": {},
     "output_type": "execute_result"
    }
   ],
   "source": [
    "# Predictions from commandline : \n",
    "viral_preds_cl = pd.read_csv('../../nnalign_cedar/pynn_compare/output/viral_compare_30030/viral_compare_30030.evalset.txt', sep='\\t')\n",
    "viral_preds_cl['label'] = viral_preds_cl.Measure.astype(int)\n",
    "roc_auc_score(viral_preds_cl['label'].values, viral_preds_cl['Prediction'].values)"
   ]
  },
  {
   "cell_type": "code",
   "execution_count": 31,
   "id": "9f662a70-5f87-4407-85cf-794c775eddc8",
   "metadata": {},
   "outputs": [],
   "source": [
    "viral_gb.to_csv('../output/230522_impl_comparisons/viral_gb_nodrop_nobatchnorm_nowd.csv', index=False)\n",
    "neoepi_gb.to_csv('../output/230522_impl_comparisons/neoepi_gb_nodrop_nobatchnorm_nowd.csv', index=False)"
   ]
  },
  {
   "cell_type": "code",
   "execution_count": 33,
   "id": "3dda77b5-386b-4382-8b2e-8b043f221b49",
   "metadata": {},
   "outputs": [
    {
     "data": {
      "text/plain": [
       "0.7356873500171409"
      ]
     },
     "execution_count": 33,
     "metadata": {},
     "output_type": "execute_result"
    }
   ],
   "source": [
    "anchor = 595+176\n",
    "nonanch = 1702+444\n",
    "sum_ = anchor+nonanch\n",
    "\n",
    "nonanch/sum_"
   ]
  },
  {
   "cell_type": "code",
   "execution_count": null,
   "id": "64876ec1-dfa2-4583-abdc-aa197c0a2c0a",
   "metadata": {},
   "outputs": [],
   "source": []
  }
 ],
 "metadata": {
  "kernelspec": {
   "display_name": "Python [conda env:phd] *",
   "language": "python",
   "name": "conda-env-phd-py"
  },
  "language_info": {
   "codemirror_mode": {
    "name": "ipython",
    "version": 3
   },
   "file_extension": ".py",
   "mimetype": "text/x-python",
   "name": "python",
   "nbconvert_exporter": "python",
   "pygments_lexer": "ipython3",
   "version": "3.10.8"
  }
 },
 "nbformat": 4,
 "nbformat_minor": 5
}
