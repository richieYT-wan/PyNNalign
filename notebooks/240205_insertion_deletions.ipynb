{
 "cells": [
  {
   "cell_type": "code",
   "execution_count": 1,
   "id": "dee196b6-9d4c-4581-8c4d-49d39f386831",
   "metadata": {},
   "outputs": [
    {
     "data": {
      "image/png": "[encoded data removed]",
      "text/plain": [
       "<Figure size 1x1 with 1 Axes>"
      ]
     },
     "metadata": {},
     "output_type": "display_data"
    }
   ],
   "source": [
    "%load_ext autoreload\n",
    "%autoreload 2\n",
    "import pandas as pd\n",
    "import numpy as np\n",
    "import sklearn\n",
    "import matplotlib.pyplot as plt\n",
    "import matplotlib as mpl\n",
    "import seaborn as sns\n",
    "f,a = plt.subplots(1,1,figsize=(1e-2, 1e-2))\n",
    "mpl.rcParams['figure.dpi'] = 180\n",
    "sns.set_style('darkgrid')\n",
    "import os,sys\n",
    "module_path = os.path.abspath(os.path.join('..'))\n",
    "if module_path not in sys.path:\n",
    "    sys.path.append(module_path)\n",
    "import warnings\n",
    "warnings.filterwarnings(\"ignore\")\n",
    "import torch\n",
    "from torch import nn\n",
    "import torch.nn.functional as F\n",
    "import glob\n",
    "# Here you import other functions and classes\n",
    "from src.utils import mkdirs, convert_path, pkl_dump, pkl_load, display_side, add_median_labels, get_palette\n",
    "from src.data_processing import encode_batch, AA_KEYS, BL62_VALUES, BL62FREQ_VALUES, HLAS, BL50, BL50_VALUES\n",
    "from src.models import NNAlignEFSinglePass\n",
    "from src.datasets import NNAlignDatasetEFSinglePass"
   ]
  },
  {
   "cell_type": "code",
   "execution_count": 2,
   "id": "a3f8cc00-3d23-44c9-89f9-dec0d0767b56",
   "metadata": {},
   "outputs": [
    {
     "data": {
      "text/html": [
       "<div>\n",
       "<style scoped>\n",
       "    .dataframe tbody tr th:only-of-type {\n",
       "        vertical-align: middle;\n",
       "    }\n",
       "\n",
       "    .dataframe tbody tr th {\n",
       "        vertical-align: top;\n",
       "    }\n",
       "\n",
       "    .dataframe thead th {\n",
       "        text-align: right;\n",
       "    }\n",
       "</style>\n",
       "<table border=\"1\" class=\"dataframe\">\n",
       "  <thead>\n",
       "    <tr style=\"text-align: right;\">\n",
       "      <th></th>\n",
       "      <th>sequence</th>\n",
       "      <th>target</th>\n",
       "      <th>HLA</th>\n",
       "      <th>pseudoseq</th>\n",
       "      <th>partition</th>\n",
       "    </tr>\n",
       "  </thead>\n",
       "  <tbody>\n",
       "    <tr>\n",
       "      <th>0</th>\n",
       "      <td>ELLKHQRMHTGHL</td>\n",
       "      <td>0.0</td>\n",
       "      <td>HLA-A01:01</td>\n",
       "      <td>DRQELLGHLPFD</td>\n",
       "      <td>0</td>\n",
       "    </tr>\n",
       "    <tr>\n",
       "      <th>1</th>\n",
       "      <td>KKDINNIVKTL</td>\n",
       "      <td>0.0</td>\n",
       "      <td>HLA-B15:01</td>\n",
       "      <td>DIRKKDKTLHEW</td>\n",
       "      <td>0</td>\n",
       "    </tr>\n",
       "    <tr>\n",
       "      <th>2</th>\n",
       "      <td>QVNGEAGSYEM</td>\n",
       "      <td>0.0</td>\n",
       "      <td>H-2-Dq</td>\n",
       "      <td>RKSQVNYEMTNQ</td>\n",
       "      <td>0</td>\n",
       "    </tr>\n",
       "    <tr>\n",
       "      <th>3</th>\n",
       "      <td>DVGELVGLGDVM</td>\n",
       "      <td>0.0</td>\n",
       "      <td>H-2-Kb</td>\n",
       "      <td>CAVDVGDVMDAL</td>\n",
       "      <td>0</td>\n",
       "    </tr>\n",
       "    <tr>\n",
       "      <th>4</th>\n",
       "      <td>RENPVVPIGCL</td>\n",
       "      <td>0.0</td>\n",
       "      <td>HLA-B51:01</td>\n",
       "      <td>RKTRENGCLATA</td>\n",
       "      <td>0</td>\n",
       "    </tr>\n",
       "  </tbody>\n",
       "</table>\n",
       "</div>"
      ],
      "text/plain": [
       "        sequence  target         HLA     pseudoseq  partition\n",
       "0  ELLKHQRMHTGHL     0.0  HLA-A01:01  DRQELLGHLPFD          0\n",
       "1    KKDINNIVKTL     0.0  HLA-B15:01  DIRKKDKTLHEW          0\n",
       "2    QVNGEAGSYEM     0.0      H-2-Dq  RKSQVNYEMTNQ          0\n",
       "3   DVGELVGLGDVM     0.0      H-2-Kb  CAVDVGDVMDAL          0\n",
       "4    RENPVVPIGCL     0.0  HLA-B51:01  RKTRENGCLATA          0"
      ]
     },
     "execution_count": 2,
     "metadata": {},
     "output_type": "execute_result"
    }
   ],
   "source": [
    "# Note : I always name my notebooks with the day's date, with YYMMDD_descriptor.ipynb, and data / output the same way\n",
    "\n",
    "\n",
    "# Here, a sample data just so that you can try playing around with the functions (that will have different columns from what you might have at the end)\n",
    "df = pd.read_csv('../data/mhc1_el_sub10k/mhc1_el_subsampled.csv')\n",
    "df.head()"
   ]
  },
  {
   "cell_type": "code",
   "execution_count": 3,
   "id": "f24252db-b35d-401a-9341-d7457bcc354a",
   "metadata": {},
   "outputs": [],
   "source": [
    "# Here, you can define the length of each sequence\n",
    "df['len'] = df['sequence'].apply(len)\n",
    "max_len = 9\n",
    "window_size = 9"
   ]
  },
  {
   "cell_type": "code",
   "execution_count": 4,
   "id": "4caaadf2-6120-4a19-bbe1-42a65c802f8d",
   "metadata": {
    "scrolled": true
   },
   "outputs": [
    {
     "data": {
      "text/plain": [
       "tensor([[[ 0., -3.,  0., -1., -3., -2., -3.,  8., -2., -4., -4., -2., -3., -4.,\n",
       "          -2.,  0., -2., -3., -3., -4.],\n",
       "         [-1., -4., -3., -4., -2., -3., -4., -4., -4.,  5.,  2., -3.,  2.,  0.,\n",
       "          -3., -3., -1., -3., -1.,  4.],\n",
       "         [-2., -3., -4., -4., -2., -2., -3., -4., -3.,  2.,  5., -3.,  3.,  1.,\n",
       "          -4., -3., -1., -2., -1.,  1.],\n",
       "         [ 0., -3.,  0., -1., -3., -2., -3.,  8., -2., -4., -4., -2., -3., -4.,\n",
       "          -2.,  0., -2., -3., -3., -4.],\n",
       "         [-3., -3., -4., -5., -2., -4., -3., -4., -1.,  0.,  1., -4.,  0.,  8.,\n",
       "          -4., -3., -2.,  1.,  4., -1.],\n",
       "         [ 0.,  0.,  0.,  0.,  0.,  0.,  0.,  0.,  0.,  0.,  0.,  0.,  0.,  0.,\n",
       "           0.,  0.,  0.,  0.,  0.,  0.],\n",
       "         [-3., -3., -4., -5., -2., -4., -3., -4., -1.,  0.,  1., -4.,  0.,  8.,\n",
       "          -4., -3., -2.,  1.,  4., -1.],\n",
       "         [ 0., -1.,  0., -1., -1., -1., -1., -2., -2., -1., -1., -1., -1., -2.,\n",
       "          -1.,  2.,  5., -3., -2.,  0.],\n",
       "         [-2., -3., -4., -4., -2., -2., -3., -4., -3.,  2.,  5., -3.,  3.,  1.,\n",
       "          -4., -3., -1., -2., -1.,  1.]]])"
      ]
     },
     "execution_count": 4,
     "metadata": {},
     "output_type": "execute_result"
    }
   ],
   "source": [
    "# Here, we can use \"-\" as the insert, with put 0s (though it is not the most correct technically)\n",
    "encode_batch(['GILGF-FTL'], max_len=9, encoding='BL50LO', pad_scale=-20)"
   ]
  },
  {
   "cell_type": "code",
   "execution_count": 36,
   "id": "db64f9c9-8400-4a4e-89fe-c417a5a781c7",
   "metadata": {},
   "outputs": [
    {
     "name": "stdout",
     "output_type": "stream",
     "text": [
      "['-GILGFVTL', 'G-ILGFVTL', 'GI-LGFVTL', 'GIL-GFVTL', 'GILG-FVTL', 'GILGF-VTL', 'GILGFV-TL', 'GILGFVT-L', 'GILGFVTL-', '---------']\n",
      "['GILGFVTLI', '---------', '---------', '---------', '---------', '---------', '---------', '---------', '---------', '---------']\n",
      "['ILGFVTLIG', 'GLGFVTLIG', 'GIGFVTLIG', 'GILFVTLIG', 'GILGVTLIG', 'GILGFTLIG', 'GILGFVLIG', 'GILGFVTIG', 'GILGFVTLG', 'GILGFVTLI']\n",
      "['LGFVTLIGF', 'GGFVTLIGF', 'GIFVTLIGF', 'GILVTLIGF', 'GILGTLIGF', 'GILGFLIGF', 'GILGFVIGF', 'GILGFVTGF', 'GILGFVTLF', 'GILGFVTLI']\n",
      "['GFVTLIGFT', 'GFVTLIGFT', 'GIVTLIGFT', 'GILTLIGFT', 'GILGLIGFT', 'GILGFIGFT', 'GILGFVGFT', 'GILGFVTFT', 'GILGFVTLT', 'GILGFVTLI']\n",
      "torch.Size([5, 10, 12, 20])\n"
     ]
    }
   ],
   "source": [
    "from src.data_processing import encode_batch, encode\n",
    "\n",
    "def do_insertion_deletion(sequence, max_len=13, encoding='BL50LO', pad_scale=-20, window_size=9):\n",
    "    length = len(sequence)\n",
    "    indel_windows = []\n",
    "\n",
    "    # Insertion for sequences shorter than the window size\n",
    "    if length < window_size:\n",
    "        for i in range(window_size):\n",
    "            indel_windows.append(sequence[:i] + '-' + sequence[i:])\n",
    "        indel_windows.append('-'*9)    \n",
    "    # Replicate sequence for sequences equal to the window size\n",
    "    elif length == window_size:\n",
    "        indel_windows.append(sequence)\n",
    "        while len(indel_windows) < (window_size + 1):  \n",
    "            indel_windows.append('-'*9) \n",
    "    # Deletion for sequences longer than the window size\n",
    "    else:\n",
    "        del_len = length - window_size\n",
    "        for i in range(length - del_len + 1):\n",
    "            indel_windows.append(sequence[:i] + sequence[i+del_len:])\n",
    "            \n",
    "    # Encoding the sequences\n",
    "    encoded_sequences = encode_batch(indel_windows, max_len=max_len, encoding=encoding, pad_scale=pad_scale)\n",
    "    print(indel_windows)\n",
    "    return encoded_sequences\n",
    "    \n",
    "def batch_insertion_deletion(sequences, max_len=13, encoding='BL50LO', pad_scale=-20, window_size=9):\n",
    "    # Process each sequence individually with do_insertion_deletion\n",
    "    processed_sequences = [do_insertion_deletion(seq, max_len=max_len, encoding=encoding, pad_scale=pad_scale, window_size=window_size) for seq in sequences]\n",
    "    \n",
    "    # Stack the processed sequences along a new dimension to maintain the N x 9 x 13 x 20 structure\n",
    "    # Ensure each do_insertion_deletion call returns a tensor of shape 9 x 13 x 20\n",
    "    indel_windows_batch = torch.stack(processed_sequences)\n",
    "    return indel_windows_batch\n",
    "    \n",
    "# Example usage:\n",
    "sequences = ['GILGFVTL', 'GILGFVTLI', 'GILGFVTLIG', 'GILGFVTLIGF', 'GILGFVTLIGFT']\n",
    "results = batch_insertion_deletion(sequences, max_len = 12)\n",
    "\n",
    "print(results.shape)\n",
    "\n",
    "\n",
    "\n",
    "\n",
    "\n",
    "\n"
   ]
  },
  {
   "cell_type": "code",
   "execution_count": 37,
   "id": "2d0035da-bc5a-4f23-88c5-c27b03a755aa",
   "metadata": {},
   "outputs": [
    {
     "data": {
      "text/plain": [
       "tensor([[  0.,  -3.,   0.,  -1.,  -3.,  -2.,  -3.,   8.,  -2.,  -4.,  -4.,  -2.,\n",
       "          -3.,  -4.,  -2.,   0.,  -2.,  -3.,  -3.,  -4.],\n",
       "        [ -1.,  -4.,  -3.,  -4.,  -2.,  -3.,  -4.,  -4.,  -4.,   5.,   2.,  -3.,\n",
       "           2.,   0.,  -3.,  -3.,  -1.,  -3.,  -1.,   4.],\n",
       "        [ -2.,  -3.,  -4.,  -4.,  -2.,  -2.,  -3.,  -4.,  -3.,   2.,   5.,  -3.,\n",
       "           3.,   1.,  -4.,  -3.,  -1.,  -2.,  -1.,   1.],\n",
       "        [  0.,  -3.,   0.,  -1.,  -3.,  -2.,  -3.,   8.,  -2.,  -4.,  -4.,  -2.,\n",
       "          -3.,  -4.,  -2.,   0.,  -2.,  -3.,  -3.,  -4.],\n",
       "        [ -3.,  -3.,  -4.,  -5.,  -2.,  -4.,  -3.,  -4.,  -1.,   0.,   1.,  -4.,\n",
       "           0.,   8.,  -4.,  -3.,  -2.,   1.,   4.,  -1.],\n",
       "        [  0.,  -3.,  -3.,  -4.,  -1.,  -3.,  -3.,  -4.,  -4.,   4.,   1.,  -3.,\n",
       "           1.,  -1.,  -3.,  -2.,   0.,  -3.,  -1.,   5.],\n",
       "        [  0.,  -1.,   0.,  -1.,  -1.,  -1.,  -1.,  -2.,  -2.,  -1.,  -1.,  -1.,\n",
       "          -1.,  -2.,  -1.,   2.,   5.,  -3.,  -2.,   0.],\n",
       "        [ -2.,  -3.,  -4.,  -4.,  -2.,  -2.,  -3.,  -4.,  -3.,   2.,   5.,  -3.,\n",
       "           3.,   1.,  -4.,  -3.,  -1.,  -2.,  -1.,   1.],\n",
       "        [ -1.,  -4.,  -3.,  -4.,  -2.,  -3.,  -4.,  -4.,  -4.,   5.,   2.,  -3.,\n",
       "           2.,   0.,  -3.,  -3.,  -1.,  -3.,  -1.,   4.],\n",
       "        [-20., -20., -20., -20., -20., -20., -20., -20., -20., -20., -20., -20.,\n",
       "         -20., -20., -20., -20., -20., -20., -20., -20.],\n",
       "        [-20., -20., -20., -20., -20., -20., -20., -20., -20., -20., -20., -20.,\n",
       "         -20., -20., -20., -20., -20., -20., -20., -20.],\n",
       "        [-20., -20., -20., -20., -20., -20., -20., -20., -20., -20., -20., -20.,\n",
       "         -20., -20., -20., -20., -20., -20., -20., -20.]])"
      ]
     },
     "execution_count": 37,
     "metadata": {},
     "output_type": "execute_result"
    }
   ],
   "source": [
    "results[2][9]\n",
    "\n",
    "\n"
   ]
  },
  {
   "cell_type": "code",
   "execution_count": null,
   "id": "cf45ef7f-bf60-4d94-a037-91e11eaf6619",
   "metadata": {},
   "outputs": [],
   "source": []
  }
 ],
 "metadata": {
  "kernelspec": {
   "display_name": "Python 3 (ipykernel)",
   "language": "python",
   "name": "python3"
  },
  "language_info": {
   "codemirror_mode": {
    "name": "ipython",
    "version": 3
   },
   "file_extension": ".py",
   "mimetype": "text/x-python",
   "name": "python",
   "nbconvert_exporter": "python",
   "pygments_lexer": "ipython3",
   "version": "3.10.8"
  }
 },
 "nbformat": 4,
 "nbformat_minor": 5
}
