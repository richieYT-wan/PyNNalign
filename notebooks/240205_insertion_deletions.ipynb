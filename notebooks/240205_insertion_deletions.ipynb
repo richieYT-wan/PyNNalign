{
 "cells": [
  {
   "cell_type": "code",
   "execution_count": 32,
   "id": "dee196b6-9d4c-4581-8c4d-49d39f386831",
   "metadata": {},
   "outputs": [
    {
     "name": "stdout",
     "output_type": "stream",
     "text": [
      "The autoreload extension is already loaded. To reload it, use:\n",
      "  %reload_ext autoreload\n"
     ]
    },
    {
     "data": {
      "image/png": "[encoded data removed]",
      "text/plain": [
       "<Figure size 1.8x1.8 with 1 Axes>"
      ]
     },
     "metadata": {},
     "output_type": "display_data"
    }
   ],
   "source": [
    "%load_ext autoreload\n",
    "%autoreload 2\n",
    "import pandas as pd\n",
    "import numpy as np\n",
    "import sklearn\n",
    "import matplotlib.pyplot as plt\n",
    "import matplotlib as mpl\n",
    "import seaborn as sns\n",
    "f,a = plt.subplots(1,1,figsize=(1e-2, 1e-2))\n",
    "mpl.rcParams['figure.dpi'] = 180\n",
    "sns.set_style('darkgrid')\n",
    "import os,sys\n",
    "module_path = os.path.abspath(os.path.join('..'))\n",
    "if module_path not in sys.path:\n",
    "    sys.path.append(module_path)\n",
    "import warnings\n",
    "warnings.filterwarnings(\"ignore\")\n",
    "import torch\n",
    "from torch import nn\n",
    "import torch.nn.functional as F\n",
    "import glob\n",
    "# Here you import other functions and classes\n",
    "from src.utils import mkdirs, convert_path, pkl_dump, pkl_load, display_side, add_median_labels, get_palette\n",
    "from src.data_processing import encode_batch, AA_KEYS, BL62_VALUES, BL62FREQ_VALUES, HLAS, BL50, BL50_VALUES\n",
    "from src.models import NNAlignEFSinglePass\n",
    "from src.datasets import NNAlignDatasetEFSinglePass"
   ]
  },
  {
   "cell_type": "code",
   "execution_count": 21,
   "id": "a3f8cc00-3d23-44c9-89f9-dec0d0767b56",
   "metadata": {},
   "outputs": [
    {
     "data": {
      "text/html": [
       "<div>\n",
       "<style scoped>\n",
       "    .dataframe tbody tr th:only-of-type {\n",
       "        vertical-align: middle;\n",
       "    }\n",
       "\n",
       "    .dataframe tbody tr th {\n",
       "        vertical-align: top;\n",
       "    }\n",
       "\n",
       "    .dataframe thead th {\n",
       "        text-align: right;\n",
       "    }\n",
       "</style>\n",
       "<table border=\"1\" class=\"dataframe\">\n",
       "  <thead>\n",
       "    <tr style=\"text-align: right;\">\n",
       "      <th></th>\n",
       "      <th>sequence</th>\n",
       "      <th>target</th>\n",
       "      <th>HLA</th>\n",
       "      <th>pseudoseq</th>\n",
       "      <th>partition</th>\n",
       "    </tr>\n",
       "  </thead>\n",
       "  <tbody>\n",
       "    <tr>\n",
       "      <th>0</th>\n",
       "      <td>ELLKHQRMHTGHL</td>\n",
       "      <td>0.0</td>\n",
       "      <td>HLA-A01:01</td>\n",
       "      <td>DRQELLGHLPFD</td>\n",
       "      <td>0</td>\n",
       "    </tr>\n",
       "    <tr>\n",
       "      <th>1</th>\n",
       "      <td>KKDINNIVKTL</td>\n",
       "      <td>0.0</td>\n",
       "      <td>HLA-B15:01</td>\n",
       "      <td>DIRKKDKTLHEW</td>\n",
       "      <td>0</td>\n",
       "    </tr>\n",
       "    <tr>\n",
       "      <th>2</th>\n",
       "      <td>QVNGEAGSYEM</td>\n",
       "      <td>0.0</td>\n",
       "      <td>H-2-Dq</td>\n",
       "      <td>RKSQVNYEMTNQ</td>\n",
       "      <td>0</td>\n",
       "    </tr>\n",
       "    <tr>\n",
       "      <th>3</th>\n",
       "      <td>DVGELVGLGDVM</td>\n",
       "      <td>0.0</td>\n",
       "      <td>H-2-Kb</td>\n",
       "      <td>CAVDVGDVMDAL</td>\n",
       "      <td>0</td>\n",
       "    </tr>\n",
       "    <tr>\n",
       "      <th>4</th>\n",
       "      <td>RENPVVPIGCL</td>\n",
       "      <td>0.0</td>\n",
       "      <td>HLA-B51:01</td>\n",
       "      <td>RKTRENGCLATA</td>\n",
       "      <td>0</td>\n",
       "    </tr>\n",
       "  </tbody>\n",
       "</table>\n",
       "</div>"
      ],
      "text/plain": [
       "        sequence  target         HLA     pseudoseq  partition\n",
       "0  ELLKHQRMHTGHL     0.0  HLA-A01:01  DRQELLGHLPFD          0\n",
       "1    KKDINNIVKTL     0.0  HLA-B15:01  DIRKKDKTLHEW          0\n",
       "2    QVNGEAGSYEM     0.0      H-2-Dq  RKSQVNYEMTNQ          0\n",
       "3   DVGELVGLGDVM     0.0      H-2-Kb  CAVDVGDVMDAL          0\n",
       "4    RENPVVPIGCL     0.0  HLA-B51:01  RKTRENGCLATA          0"
      ]
     },
     "execution_count": 21,
     "metadata": {},
     "output_type": "execute_result"
    }
   ],
   "source": [
    "# Note : I always name my notebooks with the day's date, with YYMMDD_descriptor.ipynb, and data / output the same way\n",
    "\n",
    "\n",
    "# Here, a sample data just so that you can try playing around with the functions (that will have different columns from what you might have at the end)\n",
    "df = pd.read_csv('../data/mhc1_el_sub10k/mhc1_el_subsampled.csv')\n",
    "df.head()"
   ]
  },
  {
   "cell_type": "code",
   "execution_count": 33,
   "id": "f24252db-b35d-401a-9341-d7457bcc354a",
   "metadata": {},
   "outputs": [],
   "source": [
    "# Here, you can define the length of each sequence\n",
    "df['len'] = df['sequence'].apply(len)\n",
    "max_len = 13\n",
    "window_size = 9"
   ]
  },
  {
   "cell_type": "code",
   "execution_count": 42,
   "id": "4caaadf2-6120-4a19-bbe1-42a65c802f8d",
   "metadata": {
    "scrolled": true
   },
   "outputs": [
    {
     "data": {
      "text/plain": [
       "tensor([[[  0.,  -3.,   0.,  -1.,  -3.,  -2.,  -3.,   8.,  -2.,  -4.,  -4.,\n",
       "           -2.,  -3.,  -4.,  -2.,   0.,  -2.,  -3.,  -3.,  -4.],\n",
       "         [ -1.,  -4.,  -3.,  -4.,  -2.,  -3.,  -4.,  -4.,  -4.,   5.,   2.,\n",
       "           -3.,   2.,   0.,  -3.,  -3.,  -1.,  -3.,  -1.,   4.],\n",
       "         [ -2.,  -3.,  -4.,  -4.,  -2.,  -2.,  -3.,  -4.,  -3.,   2.,   5.,\n",
       "           -3.,   3.,   1.,  -4.,  -3.,  -1.,  -2.,  -1.,   1.],\n",
       "         [  0.,  -3.,   0.,  -1.,  -3.,  -2.,  -3.,   8.,  -2.,  -4.,  -4.,\n",
       "           -2.,  -3.,  -4.,  -2.,   0.,  -2.,  -3.,  -3.,  -4.],\n",
       "         [ -3.,  -3.,  -4.,  -5.,  -2.,  -4.,  -3.,  -4.,  -1.,   0.,   1.,\n",
       "           -4.,   0.,   8.,  -4.,  -3.,  -2.,   1.,   4.,  -1.],\n",
       "         [  0.,   0.,   0.,   0.,   0.,   0.,   0.,   0.,   0.,   0.,   0.,\n",
       "            0.,   0.,   0.,   0.,   0.,   0.,   0.,   0.,   0.],\n",
       "         [ -3.,  -3.,  -4.,  -5.,  -2.,  -4.,  -3.,  -4.,  -1.,   0.,   1.,\n",
       "           -4.,   0.,   8.,  -4.,  -3.,  -2.,   1.,   4.,  -1.],\n",
       "         [  0.,  -1.,   0.,  -1.,  -1.,  -1.,  -1.,  -2.,  -2.,  -1.,  -1.,\n",
       "           -1.,  -1.,  -2.,  -1.,   2.,   5.,  -3.,  -2.,   0.],\n",
       "         [ -2.,  -3.,  -4.,  -4.,  -2.,  -2.,  -3.,  -4.,  -3.,   2.,   5.,\n",
       "           -3.,   3.,   1.,  -4.,  -3.,  -1.,  -2.,  -1.,   1.],\n",
       "         [-20., -20., -20., -20., -20., -20., -20., -20., -20., -20., -20.,\n",
       "          -20., -20., -20., -20., -20., -20., -20., -20., -20.],\n",
       "         [-20., -20., -20., -20., -20., -20., -20., -20., -20., -20., -20.,\n",
       "          -20., -20., -20., -20., -20., -20., -20., -20., -20.],\n",
       "         [-20., -20., -20., -20., -20., -20., -20., -20., -20., -20., -20.,\n",
       "          -20., -20., -20., -20., -20., -20., -20., -20., -20.],\n",
       "         [-20., -20., -20., -20., -20., -20., -20., -20., -20., -20., -20.,\n",
       "          -20., -20., -20., -20., -20., -20., -20., -20., -20.]]])"
      ]
     },
     "execution_count": 42,
     "metadata": {},
     "output_type": "execute_result"
    }
   ],
   "source": [
    "# Here, we can use \"-\" as the insert, with put 0s (though it is not the most correct technically)\n",
    "encode_batch(['GILGF-FTL'], max_len=13, encoding='BL50LO', pad_scale=-20)"
   ]
  },
  {
   "cell_type": "code",
   "execution_count": null,
   "id": "34560919-3433-4ebd-bd59-af7c8d5ed191",
   "metadata": {},
   "outputs": [],
   "source": [
    "from src.data_processing import encode_batch, encode\n",
    "\n",
    "# This is for a SINGLE sequence, where you create the windows\n",
    "def do_insertion_deletion(sequence, max_len, encoding='BL50LO', pad_scale=None, window_size=9):\n",
    "    length = len(sequence)\n",
    "\n",
    "    # Either you do something with expanding the matrix, like here\n",
    "    # ???\n",
    "    encoded_matrix = encode(sequence, max_len, encoding, window_size)\n",
    "\n",
    "    # Or you expand the sequence (string)\n",
    "    # ex : for a single sequence 'GILGFVTL', if you do insertions, you would have\n",
    "    # Of course you won't explicitly write the X here, but use a function or something else\n",
    "    # expanded_sequences = ['-GILGFVTL', 'G-ILGFVTL', 'GI-LGFVTL', ...]\n",
    "    \n",
    "    \n",
    "    # Insertion\n",
    "    if length < window_size:\n",
    "        indel_windows = ...\n",
    "\n",
    "    # Do nothing. Return an expanded empty window\n",
    "    if length == window_size:\n",
    "        indel_windows = ...\n",
    "\n",
    "    # Deletion\n",
    "    if length > window_size:\n",
    "        del_len = length - window_size\n",
    "        # remove `del_len` amino acids at each window\n",
    "        indel_windows = ...\n",
    "\n",
    "    return indel_windows\n",
    "\n",
    "\n",
    "# then you do the above function and do this for a \"batch\" (which is the entire dataset)\n",
    "\n",
    "def batch_insertion_deletion(sequences, max_len, encoding='BL50LO', pad_scale=None, window_size=9):\n",
    "\n",
    "    indel_windows_batch = [do_insertion_deletion(seq) for seq in sequences]\n",
    "    # here you will need to figure out whether to use torch.cat, torch.stack, or something else and along which dimension\n",
    "    return torch.XXX(indel_windows_batch)\n",
    "    "
   ]
  }
 ],
 "metadata": {
  "kernelspec": {
   "display_name": "Python [conda env:pynn] *",
   "language": "python",
   "name": "conda-env-pynn-py"
  },
  "language_info": {
   "codemirror_mode": {
    "name": "ipython",
    "version": 3
   },
   "file_extension": ".py",
   "mimetype": "text/x-python",
   "name": "python",
   "nbconvert_exporter": "python",
   "pygments_lexer": "ipython3",
   "version": "3.11.5"
  }
 },
 "nbformat": 4,
 "nbformat_minor": 5
}
